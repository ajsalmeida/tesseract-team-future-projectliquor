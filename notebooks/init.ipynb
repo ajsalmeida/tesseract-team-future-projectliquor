{
 "cells": [
  {
   "cell_type": "markdown",
   "id": "8f95747b",
   "metadata": {},
   "source": [
    "## Classificação de variáveis"
   ]
  },
  {
   "cell_type": "markdown",
   "id": "81e5b50b",
   "metadata": {},
   "source": [
    "### Importando as bibliotecas "
   ]
  },
  {
   "cell_type": "code",
   "execution_count": 1,
   "id": "f49bcc28",
   "metadata": {},
   "outputs": [],
   "source": [
    "import re\n",
    "import unicodedata\n",
    "import pandas as pd\n",
    "import numpy as np\n",
    "import warnings\n",
    "import matplotlib.pyplot as plt\n",
    "import seaborn as sns\n",
    "from random import randint\n",
    "\n",
    "warnings.filterwarnings(\"ignore\")"
   ]
  },
  {
   "cell_type": "code",
   "execution_count": 2,
   "id": "46ccc604",
   "metadata": {},
   "outputs": [
    {
     "data": {
      "text/html": [
       "<div>\n",
       "<style scoped>\n",
       "    .dataframe tbody tr th:only-of-type {\n",
       "        vertical-align: middle;\n",
       "    }\n",
       "\n",
       "    .dataframe tbody tr th {\n",
       "        vertical-align: top;\n",
       "    }\n",
       "\n",
       "    .dataframe thead th {\n",
       "        text-align: right;\n",
       "    }\n",
       "</style>\n",
       "<table border=\"1\" class=\"dataframe\">\n",
       "  <thead>\n",
       "    <tr style=\"text-align: right;\">\n",
       "      <th></th>\n",
       "      <th>Invoice/Item Number</th>\n",
       "      <th>Date</th>\n",
       "      <th>Store Number</th>\n",
       "      <th>Store Name</th>\n",
       "      <th>Address</th>\n",
       "      <th>City</th>\n",
       "      <th>Zip Code</th>\n",
       "      <th>Store Location</th>\n",
       "      <th>County Number</th>\n",
       "      <th>County</th>\n",
       "      <th>...</th>\n",
       "      <th>Item Number</th>\n",
       "      <th>Item Description</th>\n",
       "      <th>Pack</th>\n",
       "      <th>Bottle Volume (ml)</th>\n",
       "      <th>State Bottle Cost</th>\n",
       "      <th>State Bottle Retail</th>\n",
       "      <th>Bottles Sold</th>\n",
       "      <th>Sale (Dollars)</th>\n",
       "      <th>Volume Sold (Liters)</th>\n",
       "      <th>Volume Sold (Gallons)</th>\n",
       "    </tr>\n",
       "  </thead>\n",
       "  <tbody>\n",
       "    <tr>\n",
       "      <th>0</th>\n",
       "      <td>S29198800001</td>\n",
       "      <td>11/20/2015</td>\n",
       "      <td>2191</td>\n",
       "      <td>Keokuk Spirits</td>\n",
       "      <td>1013 MAIN</td>\n",
       "      <td>KEOKUK</td>\n",
       "      <td>52632</td>\n",
       "      <td>1013 MAIN\\nKEOKUK 52632\\n(40.39978, -91.387531)</td>\n",
       "      <td>56</td>\n",
       "      <td>Lee</td>\n",
       "      <td>...</td>\n",
       "      <td>297</td>\n",
       "      <td>Templeton Rye w/Flask</td>\n",
       "      <td>6</td>\n",
       "      <td>750</td>\n",
       "      <td>$18.09</td>\n",
       "      <td>$27.14</td>\n",
       "      <td>6</td>\n",
       "      <td>$162.84</td>\n",
       "      <td>4.5</td>\n",
       "      <td>1.19</td>\n",
       "    </tr>\n",
       "  </tbody>\n",
       "</table>\n",
       "<p>1 rows × 24 columns</p>\n",
       "</div>"
      ],
      "text/plain": [
       "  Invoice/Item Number        Date  Store Number      Store Name    Address  \\\n",
       "0        S29198800001  11/20/2015          2191  Keokuk Spirits  1013 MAIN   \n",
       "\n",
       "     City  Zip Code                                   Store Location  \\\n",
       "0  KEOKUK     52632  1013 MAIN\\nKEOKUK 52632\\n(40.39978, -91.387531)   \n",
       "\n",
       "   County Number County  ...  Item Number       Item Description  Pack  \\\n",
       "0             56    Lee  ...          297  Templeton Rye w/Flask     6   \n",
       "\n",
       "  Bottle Volume (ml)  State Bottle Cost State Bottle Retail  Bottles Sold  \\\n",
       "0                750             $18.09              $27.14             6   \n",
       "\n",
       "   Sale (Dollars) Volume Sold (Liters) Volume Sold (Gallons)  \n",
       "0         $162.84                  4.5                  1.19  \n",
       "\n",
       "[1 rows x 24 columns]"
      ]
     },
     "execution_count": 2,
     "metadata": {},
     "output_type": "execute_result"
    }
   ],
   "source": [
    "df_firstn = pd.read_csv(\"../data/raw/Iowa_Liquor_Sales.csv\", nrows=1)\n",
    "df_firstn"
   ]
  },
  {
   "cell_type": "markdown",
   "id": "e6b84f80",
   "metadata": {},
   "source": [
    "## Análise exploratória dataset Iowa_Liquor_Sales"
   ]
  },
  {
   "cell_type": "code",
   "execution_count": 3,
   "id": "120659b3",
   "metadata": {},
   "outputs": [],
   "source": [
    "pd.set_option('display.max_rows', None)\n",
    "pd.set_option('display.max_columns', None)\n",
    "pd.set_option('display.width', None)\n",
    "pd.set_option('display.max_colwidth', None)\n"
   ]
  },
  {
   "cell_type": "markdown",
   "id": "c9a0894a",
   "metadata": {},
   "source": [
    "## Escolha das colunas do dataset para a análise exploratória"
   ]
  },
  {
   "cell_type": "code",
   "execution_count": 4,
   "id": "6cb255d2",
   "metadata": {},
   "outputs": [],
   "source": [
    "req_cols=['Date','City','County','Item Description','State Bottle Cost','State Bottle Retail','Volume Sold (Liters)']"
   ]
  },
  {
   "cell_type": "markdown",
   "id": "c3a65728",
   "metadata": {},
   "source": [
    "### Criação do dataframe df contendo as colunas selecionadas previamente através da lista req_cols. Isso diminui bastante o dataset e possibilita a sua análise"
   ]
  },
  {
   "cell_type": "code",
   "execution_count": 5,
   "id": "6afecd8c",
   "metadata": {},
   "outputs": [],
   "source": [
    "df = pd.read_csv(\"../data/raw/Iowa_Liquor_Sales.csv\", usecols=req_cols)"
   ]
  },
  {
   "cell_type": "code",
   "execution_count": 6,
   "id": "c8901347",
   "metadata": {},
   "outputs": [
    {
     "data": {
      "text/plain": [
       "True"
      ]
     },
     "execution_count": 6,
     "metadata": {},
     "output_type": "execute_result"
    }
   ],
   "source": [
    "df['City'].isnull().values.any()"
   ]
  },
  {
   "cell_type": "code",
   "execution_count": 7,
   "id": "e0e8e229",
   "metadata": {},
   "outputs": [
    {
     "data": {
      "text/plain": [
       "True"
      ]
     },
     "execution_count": 7,
     "metadata": {},
     "output_type": "execute_result"
    }
   ],
   "source": [
    "df['County'].isnull().values.any()"
   ]
  },
  {
   "cell_type": "code",
   "execution_count": 8,
   "id": "5abf4ec3",
   "metadata": {},
   "outputs": [
    {
     "data": {
      "text/plain": [
       "False"
      ]
     },
     "execution_count": 8,
     "metadata": {},
     "output_type": "execute_result"
    }
   ],
   "source": [
    "df['Item Description'].isnull().values.any()"
   ]
  },
  {
   "cell_type": "code",
   "execution_count": 9,
   "id": "aebdbebd",
   "metadata": {},
   "outputs": [
    {
     "data": {
      "text/plain": [
       "True"
      ]
     },
     "execution_count": 9,
     "metadata": {},
     "output_type": "execute_result"
    }
   ],
   "source": [
    "df['State Bottle Cost'].isnull().values.any()"
   ]
  },
  {
   "cell_type": "code",
   "execution_count": 10,
   "id": "3fdded0b",
   "metadata": {},
   "outputs": [
    {
     "data": {
      "text/plain": [
       "True"
      ]
     },
     "execution_count": 10,
     "metadata": {},
     "output_type": "execute_result"
    }
   ],
   "source": [
    "df['State Bottle Retail'].isnull().values.any()"
   ]
  },
  {
   "cell_type": "code",
   "execution_count": 11,
   "id": "ba0873f6",
   "metadata": {},
   "outputs": [
    {
     "data": {
      "text/plain": [
       "False"
      ]
     },
     "execution_count": 11,
     "metadata": {},
     "output_type": "execute_result"
    }
   ],
   "source": [
    "df['Volume Sold (Liters)'].isnull().values.any()"
   ]
  },
  {
   "cell_type": "markdown",
   "id": "faf2c352",
   "metadata": {},
   "source": [
    "### Eliminamos os valores NaN da tabela para diminuir o tamanho do dataset"
   ]
  },
  {
   "cell_type": "code",
   "execution_count": 12,
   "id": "93cb9f54",
   "metadata": {},
   "outputs": [],
   "source": [
    "df=df.dropna()"
   ]
  },
  {
   "cell_type": "markdown",
   "id": "e80a5e8b",
   "metadata": {},
   "source": [
    "### Para ter uma ideia inicial dos dados os quais dispomos, iremos utilizar o head e logo em seguida o tail com as 20 primeiras e 20 últimas linhas do dataset:"
   ]
  },
  {
   "cell_type": "code",
   "execution_count": 13,
   "id": "19181909",
   "metadata": {},
   "outputs": [
    {
     "data": {
      "text/html": [
       "<div>\n",
       "<style scoped>\n",
       "    .dataframe tbody tr th:only-of-type {\n",
       "        vertical-align: middle;\n",
       "    }\n",
       "\n",
       "    .dataframe tbody tr th {\n",
       "        vertical-align: top;\n",
       "    }\n",
       "\n",
       "    .dataframe thead th {\n",
       "        text-align: right;\n",
       "    }\n",
       "</style>\n",
       "<table border=\"1\" class=\"dataframe\">\n",
       "  <thead>\n",
       "    <tr style=\"text-align: right;\">\n",
       "      <th></th>\n",
       "      <th>Date</th>\n",
       "      <th>City</th>\n",
       "      <th>County</th>\n",
       "      <th>Item Description</th>\n",
       "      <th>State Bottle Cost</th>\n",
       "      <th>State Bottle Retail</th>\n",
       "      <th>Volume Sold (Liters)</th>\n",
       "    </tr>\n",
       "  </thead>\n",
       "  <tbody>\n",
       "    <tr>\n",
       "      <th>0</th>\n",
       "      <td>11/20/2015</td>\n",
       "      <td>KEOKUK</td>\n",
       "      <td>Lee</td>\n",
       "      <td>Templeton Rye w/Flask</td>\n",
       "      <td>$18.09</td>\n",
       "      <td>$27.14</td>\n",
       "      <td>4.50</td>\n",
       "    </tr>\n",
       "    <tr>\n",
       "      <th>1</th>\n",
       "      <td>11/21/2015</td>\n",
       "      <td>CLARINDA</td>\n",
       "      <td>Page</td>\n",
       "      <td>Templeton Rye w/Flask</td>\n",
       "      <td>$18.09</td>\n",
       "      <td>$27.14</td>\n",
       "      <td>9.00</td>\n",
       "    </tr>\n",
       "    <tr>\n",
       "      <th>2</th>\n",
       "      <td>11/16/2015</td>\n",
       "      <td>FORT MADISON</td>\n",
       "      <td>Lee</td>\n",
       "      <td>Disaronno Amaretto Cavalli Mignon 3-50ml Pack</td>\n",
       "      <td>$6.40</td>\n",
       "      <td>$9.60</td>\n",
       "      <td>0.30</td>\n",
       "    </tr>\n",
       "    <tr>\n",
       "      <th>3</th>\n",
       "      <td>11/04/2015</td>\n",
       "      <td>IOWA CITY</td>\n",
       "      <td>Johnson</td>\n",
       "      <td>Knob Creek w/ Crystal Decanter</td>\n",
       "      <td>$35.55</td>\n",
       "      <td>$53.34</td>\n",
       "      <td>5.25</td>\n",
       "    </tr>\n",
       "    <tr>\n",
       "      <th>4</th>\n",
       "      <td>11/17/2015</td>\n",
       "      <td>TOLEDO</td>\n",
       "      <td>Tama</td>\n",
       "      <td>Disaronno Amaretto Cavalli Mignon 3-50ml Pack</td>\n",
       "      <td>$6.40</td>\n",
       "      <td>$9.60</td>\n",
       "      <td>0.30</td>\n",
       "    </tr>\n",
       "  </tbody>\n",
       "</table>\n",
       "</div>"
      ],
      "text/plain": [
       "         Date          City   County  \\\n",
       "0  11/20/2015        KEOKUK      Lee   \n",
       "1  11/21/2015      CLARINDA     Page   \n",
       "2  11/16/2015  FORT MADISON      Lee   \n",
       "3  11/04/2015     IOWA CITY  Johnson   \n",
       "4  11/17/2015        TOLEDO     Tama   \n",
       "\n",
       "                                Item Description State Bottle Cost  \\\n",
       "0                          Templeton Rye w/Flask            $18.09   \n",
       "1                          Templeton Rye w/Flask            $18.09   \n",
       "2  Disaronno Amaretto Cavalli Mignon 3-50ml Pack             $6.40   \n",
       "3                 Knob Creek w/ Crystal Decanter            $35.55   \n",
       "4  Disaronno Amaretto Cavalli Mignon 3-50ml Pack             $6.40   \n",
       "\n",
       "  State Bottle Retail  Volume Sold (Liters)  \n",
       "0              $27.14                  4.50  \n",
       "1              $27.14                  9.00  \n",
       "2               $9.60                  0.30  \n",
       "3              $53.34                  5.25  \n",
       "4               $9.60                  0.30  "
      ]
     },
     "execution_count": 13,
     "metadata": {},
     "output_type": "execute_result"
    }
   ],
   "source": [
    "df.head()"
   ]
  },
  {
   "cell_type": "code",
   "execution_count": 14,
   "id": "4d18a4ad",
   "metadata": {
    "scrolled": true
   },
   "outputs": [
    {
     "data": {
      "text/html": [
       "<div>\n",
       "<style scoped>\n",
       "    .dataframe tbody tr th:only-of-type {\n",
       "        vertical-align: middle;\n",
       "    }\n",
       "\n",
       "    .dataframe tbody tr th {\n",
       "        vertical-align: top;\n",
       "    }\n",
       "\n",
       "    .dataframe thead th {\n",
       "        text-align: right;\n",
       "    }\n",
       "</style>\n",
       "<table border=\"1\" class=\"dataframe\">\n",
       "  <thead>\n",
       "    <tr style=\"text-align: right;\">\n",
       "      <th></th>\n",
       "      <th>Date</th>\n",
       "      <th>City</th>\n",
       "      <th>County</th>\n",
       "      <th>Item Description</th>\n",
       "      <th>State Bottle Cost</th>\n",
       "      <th>State Bottle Retail</th>\n",
       "      <th>Volume Sold (Liters)</th>\n",
       "    </tr>\n",
       "  </thead>\n",
       "  <tbody>\n",
       "    <tr>\n",
       "      <th>12591072</th>\n",
       "      <td>10/31/2017</td>\n",
       "      <td>Sheldon</td>\n",
       "      <td>OBRIEN</td>\n",
       "      <td>FrappaChata Iced Coffee Blend</td>\n",
       "      <td>$8.00</td>\n",
       "      <td>$12.00</td>\n",
       "      <td>2.4</td>\n",
       "    </tr>\n",
       "    <tr>\n",
       "      <th>12591073</th>\n",
       "      <td>10/31/2017</td>\n",
       "      <td>Sheldon</td>\n",
       "      <td>OBRIEN</td>\n",
       "      <td>Old Forester Statesman</td>\n",
       "      <td>$27.48</td>\n",
       "      <td>$41.22</td>\n",
       "      <td>1.5</td>\n",
       "    </tr>\n",
       "    <tr>\n",
       "      <th>12591074</th>\n",
       "      <td>10/31/2017</td>\n",
       "      <td>Sheldon</td>\n",
       "      <td>OBRIEN</td>\n",
       "      <td>Old Forester 1897 Whisky Row Series</td>\n",
       "      <td>$24.98</td>\n",
       "      <td>$37.47</td>\n",
       "      <td>1.5</td>\n",
       "    </tr>\n",
       "    <tr>\n",
       "      <th>12591075</th>\n",
       "      <td>10/31/2017</td>\n",
       "      <td>Sheldon</td>\n",
       "      <td>OBRIEN</td>\n",
       "      <td>Old Forester 1870 Whisky Row Series</td>\n",
       "      <td>$22.49</td>\n",
       "      <td>$33.74</td>\n",
       "      <td>1.5</td>\n",
       "    </tr>\n",
       "    <tr>\n",
       "      <th>12591076</th>\n",
       "      <td>10/31/2017</td>\n",
       "      <td>Sheldon</td>\n",
       "      <td>OBRIEN</td>\n",
       "      <td>Sugarlands Shine Peanut Butter &amp; Jelly Moonshine</td>\n",
       "      <td>$13.00</td>\n",
       "      <td>$19.50</td>\n",
       "      <td>1.5</td>\n",
       "    </tr>\n",
       "  </tbody>\n",
       "</table>\n",
       "</div>"
      ],
      "text/plain": [
       "                Date     City  County  \\\n",
       "12591072  10/31/2017  Sheldon  OBRIEN   \n",
       "12591073  10/31/2017  Sheldon  OBRIEN   \n",
       "12591074  10/31/2017  Sheldon  OBRIEN   \n",
       "12591075  10/31/2017  Sheldon  OBRIEN   \n",
       "12591076  10/31/2017  Sheldon  OBRIEN   \n",
       "\n",
       "                                          Item Description State Bottle Cost  \\\n",
       "12591072                     FrappaChata Iced Coffee Blend             $8.00   \n",
       "12591073                            Old Forester Statesman            $27.48   \n",
       "12591074               Old Forester 1897 Whisky Row Series            $24.98   \n",
       "12591075               Old Forester 1870 Whisky Row Series            $22.49   \n",
       "12591076  Sugarlands Shine Peanut Butter & Jelly Moonshine            $13.00   \n",
       "\n",
       "         State Bottle Retail  Volume Sold (Liters)  \n",
       "12591072              $12.00                   2.4  \n",
       "12591073              $41.22                   1.5  \n",
       "12591074              $37.47                   1.5  \n",
       "12591075              $33.74                   1.5  \n",
       "12591076              $19.50                   1.5  "
      ]
     },
     "execution_count": 14,
     "metadata": {},
     "output_type": "execute_result"
    }
   ],
   "source": [
    "df.tail()"
   ]
  },
  {
   "cell_type": "markdown",
   "id": "8fa22125",
   "metadata": {},
   "source": [
    "### Parece que precisaremos realizar algum tipo de transformação nesses dados. Pode-se perceber que às vezes o nome da cidade ou condado aparece com nome maiúsculo e às vezes minusculo. por via das dúvidas iremos fazer isso com a descrição do item também. Isso influencia de alguma forma nossa análise."
   ]
  },
  {
   "cell_type": "code",
   "execution_count": 15,
   "id": "51f6a13a",
   "metadata": {},
   "outputs": [],
   "source": [
    "df['City'] = df['City'].str.upper()\n",
    "df['County'] = df['County'].str.upper()\n",
    "df['Item Description'] = df['Item Description'].str.upper()"
   ]
  },
  {
   "cell_type": "code",
   "execution_count": 16,
   "id": "3dc69119",
   "metadata": {},
   "outputs": [
    {
     "data": {
      "text/html": [
       "<div>\n",
       "<style scoped>\n",
       "    .dataframe tbody tr th:only-of-type {\n",
       "        vertical-align: middle;\n",
       "    }\n",
       "\n",
       "    .dataframe tbody tr th {\n",
       "        vertical-align: top;\n",
       "    }\n",
       "\n",
       "    .dataframe thead th {\n",
       "        text-align: right;\n",
       "    }\n",
       "</style>\n",
       "<table border=\"1\" class=\"dataframe\">\n",
       "  <thead>\n",
       "    <tr style=\"text-align: right;\">\n",
       "      <th></th>\n",
       "      <th>Date</th>\n",
       "      <th>City</th>\n",
       "      <th>County</th>\n",
       "      <th>Item Description</th>\n",
       "      <th>State Bottle Cost</th>\n",
       "      <th>State Bottle Retail</th>\n",
       "      <th>Volume Sold (Liters)</th>\n",
       "    </tr>\n",
       "  </thead>\n",
       "  <tbody>\n",
       "    <tr>\n",
       "      <th>12591076</th>\n",
       "      <td>10/31/2017</td>\n",
       "      <td>SHELDON</td>\n",
       "      <td>OBRIEN</td>\n",
       "      <td>SUGARLANDS SHINE PEANUT BUTTER &amp; JELLY MOONSHINE</td>\n",
       "      <td>$13.00</td>\n",
       "      <td>$19.50</td>\n",
       "      <td>1.5</td>\n",
       "    </tr>\n",
       "  </tbody>\n",
       "</table>\n",
       "</div>"
      ],
      "text/plain": [
       "                Date     City  County  \\\n",
       "12591076  10/31/2017  SHELDON  OBRIEN   \n",
       "\n",
       "                                          Item Description State Bottle Cost  \\\n",
       "12591076  SUGARLANDS SHINE PEANUT BUTTER & JELLY MOONSHINE            $13.00   \n",
       "\n",
       "         State Bottle Retail  Volume Sold (Liters)  \n",
       "12591076              $19.50                   1.5  "
      ]
     },
     "execution_count": 16,
     "metadata": {},
     "output_type": "execute_result"
    }
   ],
   "source": [
    "df.tail(1)"
   ]
  },
  {
   "cell_type": "markdown",
   "id": "24954920",
   "metadata": {},
   "source": [
    "### Vamos retirar os cifrões do preço de custo e do preço de venda para facilitar futuras operações com esses números :"
   ]
  },
  {
   "cell_type": "code",
   "execution_count": 17,
   "id": "df1438b4",
   "metadata": {},
   "outputs": [
    {
     "ename": "KeyboardInterrupt",
     "evalue": "",
     "output_type": "error",
     "traceback": [
      "\u001b[0;31m---------------------------------------------------------------------------\u001b[0m",
      "\u001b[0;31mKeyboardInterrupt\u001b[0m                         Traceback (most recent call last)",
      "\u001b[0;32m/tmp/ipykernel_8212/210799749.py\u001b[0m in \u001b[0;36m<module>\u001b[0;34m\u001b[0m\n\u001b[0;32m----> 1\u001b[0;31m \u001b[0mdf\u001b[0m\u001b[0;34m[\u001b[0m\u001b[0;34m'State Bottle Cost'\u001b[0m\u001b[0;34m]\u001b[0m \u001b[0;34m=\u001b[0m \u001b[0mdf\u001b[0m\u001b[0;34m[\u001b[0m\u001b[0;34m'State Bottle Cost'\u001b[0m\u001b[0;34m]\u001b[0m\u001b[0;34m.\u001b[0m\u001b[0mreplace\u001b[0m\u001b[0;34m(\u001b[0m\u001b[0;34m{\u001b[0m\u001b[0;34m'\\$'\u001b[0m\u001b[0;34m:\u001b[0m\u001b[0;34m''\u001b[0m\u001b[0;34m}\u001b[0m\u001b[0;34m,\u001b[0m \u001b[0mregex\u001b[0m \u001b[0;34m=\u001b[0m \u001b[0;32mTrue\u001b[0m\u001b[0;34m)\u001b[0m\u001b[0;34m\u001b[0m\u001b[0;34m\u001b[0m\u001b[0m\n\u001b[0m\u001b[1;32m      2\u001b[0m \u001b[0mdf\u001b[0m\u001b[0;34m[\u001b[0m\u001b[0;34m'State Bottle Retail'\u001b[0m\u001b[0;34m]\u001b[0m \u001b[0;34m=\u001b[0m \u001b[0mdf\u001b[0m\u001b[0;34m[\u001b[0m\u001b[0;34m'State Bottle Retail'\u001b[0m\u001b[0;34m]\u001b[0m\u001b[0;34m.\u001b[0m\u001b[0mreplace\u001b[0m\u001b[0;34m(\u001b[0m\u001b[0;34m{\u001b[0m\u001b[0;34m'\\$'\u001b[0m\u001b[0;34m:\u001b[0m\u001b[0;34m''\u001b[0m\u001b[0;34m}\u001b[0m\u001b[0;34m,\u001b[0m \u001b[0mregex\u001b[0m \u001b[0;34m=\u001b[0m \u001b[0;32mTrue\u001b[0m\u001b[0;34m)\u001b[0m\u001b[0;34m\u001b[0m\u001b[0;34m\u001b[0m\u001b[0m\n",
      "\u001b[0;32m~/.cache/pypoetry/virtualenvs/iowalicor-e8HhPf_A-py3.8/lib/python3.8/site-packages/pandas/core/series.py\u001b[0m in \u001b[0;36mreplace\u001b[0;34m(self, to_replace, value, inplace, limit, regex, method)\u001b[0m\n\u001b[1;32m   4866\u001b[0m         \u001b[0mmethod\u001b[0m\u001b[0;34m=\u001b[0m\u001b[0;34m\"pad\"\u001b[0m\u001b[0;34m,\u001b[0m\u001b[0;34m\u001b[0m\u001b[0;34m\u001b[0m\u001b[0m\n\u001b[1;32m   4867\u001b[0m     ):\n\u001b[0;32m-> 4868\u001b[0;31m         return super().replace(\n\u001b[0m\u001b[1;32m   4869\u001b[0m             \u001b[0mto_replace\u001b[0m\u001b[0;34m=\u001b[0m\u001b[0mto_replace\u001b[0m\u001b[0;34m,\u001b[0m\u001b[0;34m\u001b[0m\u001b[0;34m\u001b[0m\u001b[0m\n\u001b[1;32m   4870\u001b[0m             \u001b[0mvalue\u001b[0m\u001b[0;34m=\u001b[0m\u001b[0mvalue\u001b[0m\u001b[0;34m,\u001b[0m\u001b[0;34m\u001b[0m\u001b[0;34m\u001b[0m\u001b[0m\n",
      "\u001b[0;32m~/.cache/pypoetry/virtualenvs/iowalicor-e8HhPf_A-py3.8/lib/python3.8/site-packages/pandas/core/generic.py\u001b[0m in \u001b[0;36mreplace\u001b[0;34m(self, to_replace, value, inplace, limit, regex, method)\u001b[0m\n\u001b[1;32m   6523\u001b[0m                 \u001b[0mto_replace\u001b[0m\u001b[0;34m,\u001b[0m \u001b[0mvalue\u001b[0m \u001b[0;34m=\u001b[0m \u001b[0mkeys\u001b[0m\u001b[0;34m,\u001b[0m \u001b[0mvalues\u001b[0m\u001b[0;34m\u001b[0m\u001b[0;34m\u001b[0m\u001b[0m\n\u001b[1;32m   6524\u001b[0m \u001b[0;34m\u001b[0m\u001b[0m\n\u001b[0;32m-> 6525\u001b[0;31m             return self.replace(\n\u001b[0m\u001b[1;32m   6526\u001b[0m                 \u001b[0mto_replace\u001b[0m\u001b[0;34m,\u001b[0m \u001b[0mvalue\u001b[0m\u001b[0;34m,\u001b[0m \u001b[0minplace\u001b[0m\u001b[0;34m=\u001b[0m\u001b[0minplace\u001b[0m\u001b[0;34m,\u001b[0m \u001b[0mlimit\u001b[0m\u001b[0;34m=\u001b[0m\u001b[0mlimit\u001b[0m\u001b[0;34m,\u001b[0m \u001b[0mregex\u001b[0m\u001b[0;34m=\u001b[0m\u001b[0mregex\u001b[0m\u001b[0;34m\u001b[0m\u001b[0;34m\u001b[0m\u001b[0m\n\u001b[1;32m   6527\u001b[0m             )\n",
      "\u001b[0;32m~/.cache/pypoetry/virtualenvs/iowalicor-e8HhPf_A-py3.8/lib/python3.8/site-packages/pandas/core/series.py\u001b[0m in \u001b[0;36mreplace\u001b[0;34m(self, to_replace, value, inplace, limit, regex, method)\u001b[0m\n\u001b[1;32m   4866\u001b[0m         \u001b[0mmethod\u001b[0m\u001b[0;34m=\u001b[0m\u001b[0;34m\"pad\"\u001b[0m\u001b[0;34m,\u001b[0m\u001b[0;34m\u001b[0m\u001b[0;34m\u001b[0m\u001b[0m\n\u001b[1;32m   4867\u001b[0m     ):\n\u001b[0;32m-> 4868\u001b[0;31m         return super().replace(\n\u001b[0m\u001b[1;32m   4869\u001b[0m             \u001b[0mto_replace\u001b[0m\u001b[0;34m=\u001b[0m\u001b[0mto_replace\u001b[0m\u001b[0;34m,\u001b[0m\u001b[0;34m\u001b[0m\u001b[0;34m\u001b[0m\u001b[0m\n\u001b[1;32m   4870\u001b[0m             \u001b[0mvalue\u001b[0m\u001b[0;34m=\u001b[0m\u001b[0mvalue\u001b[0m\u001b[0;34m,\u001b[0m\u001b[0;34m\u001b[0m\u001b[0;34m\u001b[0m\u001b[0m\n",
      "\u001b[0;32m~/.cache/pypoetry/virtualenvs/iowalicor-e8HhPf_A-py3.8/lib/python3.8/site-packages/pandas/core/generic.py\u001b[0m in \u001b[0;36mreplace\u001b[0;34m(self, to_replace, value, inplace, limit, regex, method)\u001b[0m\n\u001b[1;32m   6572\u001b[0m                         \u001b[0;34mf\"Expecting {len(to_replace)} got {len(value)} \"\u001b[0m\u001b[0;34m\u001b[0m\u001b[0;34m\u001b[0m\u001b[0m\n\u001b[1;32m   6573\u001b[0m                     )\n\u001b[0;32m-> 6574\u001b[0;31m                 new_data = self._mgr.replace_list(\n\u001b[0m\u001b[1;32m   6575\u001b[0m                     \u001b[0msrc_list\u001b[0m\u001b[0;34m=\u001b[0m\u001b[0mto_replace\u001b[0m\u001b[0;34m,\u001b[0m\u001b[0;34m\u001b[0m\u001b[0;34m\u001b[0m\u001b[0m\n\u001b[1;32m   6576\u001b[0m                     \u001b[0mdest_list\u001b[0m\u001b[0;34m=\u001b[0m\u001b[0mvalue\u001b[0m\u001b[0;34m,\u001b[0m\u001b[0;34m\u001b[0m\u001b[0;34m\u001b[0m\u001b[0m\n",
      "\u001b[0;32m~/.cache/pypoetry/virtualenvs/iowalicor-e8HhPf_A-py3.8/lib/python3.8/site-packages/pandas/core/internals/managers.py\u001b[0m in \u001b[0;36mreplace_list\u001b[0;34m(self, src_list, dest_list, inplace, regex)\u001b[0m\n\u001b[1;32m    449\u001b[0m         \u001b[0minplace\u001b[0m \u001b[0;34m=\u001b[0m \u001b[0mvalidate_bool_kwarg\u001b[0m\u001b[0;34m(\u001b[0m\u001b[0minplace\u001b[0m\u001b[0;34m,\u001b[0m \u001b[0;34m\"inplace\"\u001b[0m\u001b[0;34m)\u001b[0m\u001b[0;34m\u001b[0m\u001b[0;34m\u001b[0m\u001b[0m\n\u001b[1;32m    450\u001b[0m \u001b[0;34m\u001b[0m\u001b[0m\n\u001b[0;32m--> 451\u001b[0;31m         bm = self.apply(\n\u001b[0m\u001b[1;32m    452\u001b[0m             \u001b[0;34m\"_replace_list\"\u001b[0m\u001b[0;34m,\u001b[0m\u001b[0;34m\u001b[0m\u001b[0;34m\u001b[0m\u001b[0m\n\u001b[1;32m    453\u001b[0m             \u001b[0msrc_list\u001b[0m\u001b[0;34m=\u001b[0m\u001b[0msrc_list\u001b[0m\u001b[0;34m,\u001b[0m\u001b[0;34m\u001b[0m\u001b[0;34m\u001b[0m\u001b[0m\n",
      "\u001b[0;32m~/.cache/pypoetry/virtualenvs/iowalicor-e8HhPf_A-py3.8/lib/python3.8/site-packages/pandas/core/internals/managers.py\u001b[0m in \u001b[0;36mapply\u001b[0;34m(self, f, align_keys, ignore_failures, **kwargs)\u001b[0m\n\u001b[1;32m    325\u001b[0m                     \u001b[0mapplied\u001b[0m \u001b[0;34m=\u001b[0m \u001b[0mb\u001b[0m\u001b[0;34m.\u001b[0m\u001b[0mapply\u001b[0m\u001b[0;34m(\u001b[0m\u001b[0mf\u001b[0m\u001b[0;34m,\u001b[0m \u001b[0;34m**\u001b[0m\u001b[0mkwargs\u001b[0m\u001b[0;34m)\u001b[0m\u001b[0;34m\u001b[0m\u001b[0;34m\u001b[0m\u001b[0m\n\u001b[1;32m    326\u001b[0m                 \u001b[0;32melse\u001b[0m\u001b[0;34m:\u001b[0m\u001b[0;34m\u001b[0m\u001b[0;34m\u001b[0m\u001b[0m\n\u001b[0;32m--> 327\u001b[0;31m                     \u001b[0mapplied\u001b[0m \u001b[0;34m=\u001b[0m \u001b[0mgetattr\u001b[0m\u001b[0;34m(\u001b[0m\u001b[0mb\u001b[0m\u001b[0;34m,\u001b[0m \u001b[0mf\u001b[0m\u001b[0;34m)\u001b[0m\u001b[0;34m(\u001b[0m\u001b[0;34m**\u001b[0m\u001b[0mkwargs\u001b[0m\u001b[0;34m)\u001b[0m\u001b[0;34m\u001b[0m\u001b[0;34m\u001b[0m\u001b[0m\n\u001b[0m\u001b[1;32m    328\u001b[0m             \u001b[0;32mexcept\u001b[0m \u001b[0;34m(\u001b[0m\u001b[0mTypeError\u001b[0m\u001b[0;34m,\u001b[0m \u001b[0mNotImplementedError\u001b[0m\u001b[0;34m)\u001b[0m\u001b[0;34m:\u001b[0m\u001b[0;34m\u001b[0m\u001b[0;34m\u001b[0m\u001b[0m\n\u001b[1;32m    329\u001b[0m                 \u001b[0;32mif\u001b[0m \u001b[0;32mnot\u001b[0m \u001b[0mignore_failures\u001b[0m\u001b[0;34m:\u001b[0m\u001b[0;34m\u001b[0m\u001b[0;34m\u001b[0m\u001b[0m\n",
      "\u001b[0;32m~/.cache/pypoetry/virtualenvs/iowalicor-e8HhPf_A-py3.8/lib/python3.8/site-packages/pandas/core/internals/blocks.py\u001b[0m in \u001b[0;36m_replace_list\u001b[0;34m(self, src_list, dest_list, inplace, regex)\u001b[0m\n\u001b[1;32m    824\u001b[0m                     \u001b[0mm\u001b[0m \u001b[0;34m=\u001b[0m \u001b[0mmib\u001b[0m\u001b[0;34m[\u001b[0m\u001b[0mblk_num\u001b[0m \u001b[0;34m:\u001b[0m \u001b[0mblk_num\u001b[0m \u001b[0;34m+\u001b[0m \u001b[0;36m1\u001b[0m\u001b[0;34m]\u001b[0m\u001b[0;34m\u001b[0m\u001b[0;34m\u001b[0m\u001b[0m\n\u001b[1;32m    825\u001b[0m \u001b[0;34m\u001b[0m\u001b[0m\n\u001b[0;32m--> 826\u001b[0;31m                 result = blk._replace_coerce(\n\u001b[0m\u001b[1;32m    827\u001b[0m                     \u001b[0mto_replace\u001b[0m\u001b[0;34m=\u001b[0m\u001b[0msrc\u001b[0m\u001b[0;34m,\u001b[0m\u001b[0;34m\u001b[0m\u001b[0;34m\u001b[0m\u001b[0m\n\u001b[1;32m    828\u001b[0m                     \u001b[0mvalue\u001b[0m\u001b[0;34m=\u001b[0m\u001b[0mdest\u001b[0m\u001b[0;34m,\u001b[0m\u001b[0;34m\u001b[0m\u001b[0;34m\u001b[0m\u001b[0m\n",
      "\u001b[0;32m~/.cache/pypoetry/virtualenvs/iowalicor-e8HhPf_A-py3.8/lib/python3.8/site-packages/pandas/core/internals/blocks.py\u001b[0m in \u001b[0;36m_replace_coerce\u001b[0;34m(self, to_replace, value, mask, inplace, regex)\u001b[0m\n\u001b[1;32m    879\u001b[0m                 \u001b[0mregex\u001b[0m \u001b[0;34m=\u001b[0m \u001b[0mshould_use_regex\u001b[0m\u001b[0;34m(\u001b[0m\u001b[0mregex\u001b[0m\u001b[0;34m,\u001b[0m \u001b[0mto_replace\u001b[0m\u001b[0;34m)\u001b[0m\u001b[0;34m\u001b[0m\u001b[0;34m\u001b[0m\u001b[0m\n\u001b[1;32m    880\u001b[0m                 \u001b[0;32mif\u001b[0m \u001b[0mregex\u001b[0m\u001b[0;34m:\u001b[0m\u001b[0;34m\u001b[0m\u001b[0;34m\u001b[0m\u001b[0m\n\u001b[0;32m--> 881\u001b[0;31m                     return self._replace_regex(\n\u001b[0m\u001b[1;32m    882\u001b[0m                         \u001b[0mto_replace\u001b[0m\u001b[0;34m,\u001b[0m\u001b[0;34m\u001b[0m\u001b[0;34m\u001b[0m\u001b[0m\n\u001b[1;32m    883\u001b[0m                         \u001b[0mvalue\u001b[0m\u001b[0;34m,\u001b[0m\u001b[0;34m\u001b[0m\u001b[0;34m\u001b[0m\u001b[0m\n",
      "\u001b[0;32m~/.cache/pypoetry/virtualenvs/iowalicor-e8HhPf_A-py3.8/lib/python3.8/site-packages/pandas/core/internals/blocks.py\u001b[0m in \u001b[0;36m_replace_regex\u001b[0;34m(self, to_replace, value, inplace, convert, mask)\u001b[0m\n\u001b[1;32m    757\u001b[0m \u001b[0;34m\u001b[0m\u001b[0m\n\u001b[1;32m    758\u001b[0m         \u001b[0mnew_values\u001b[0m \u001b[0;34m=\u001b[0m \u001b[0mself\u001b[0m\u001b[0;34m.\u001b[0m\u001b[0mvalues\u001b[0m \u001b[0;32mif\u001b[0m \u001b[0minplace\u001b[0m \u001b[0;32melse\u001b[0m \u001b[0mself\u001b[0m\u001b[0;34m.\u001b[0m\u001b[0mvalues\u001b[0m\u001b[0;34m.\u001b[0m\u001b[0mcopy\u001b[0m\u001b[0;34m(\u001b[0m\u001b[0;34m)\u001b[0m\u001b[0;34m\u001b[0m\u001b[0;34m\u001b[0m\u001b[0m\n\u001b[0;32m--> 759\u001b[0;31m         \u001b[0mreplace_regex\u001b[0m\u001b[0;34m(\u001b[0m\u001b[0mnew_values\u001b[0m\u001b[0;34m,\u001b[0m \u001b[0mrx\u001b[0m\u001b[0;34m,\u001b[0m \u001b[0mvalue\u001b[0m\u001b[0;34m,\u001b[0m \u001b[0mmask\u001b[0m\u001b[0;34m)\u001b[0m\u001b[0;34m\u001b[0m\u001b[0;34m\u001b[0m\u001b[0m\n\u001b[0m\u001b[1;32m    760\u001b[0m \u001b[0;34m\u001b[0m\u001b[0m\n\u001b[1;32m    761\u001b[0m         \u001b[0mblock\u001b[0m \u001b[0;34m=\u001b[0m \u001b[0mself\u001b[0m\u001b[0;34m.\u001b[0m\u001b[0mmake_block\u001b[0m\u001b[0;34m(\u001b[0m\u001b[0mnew_values\u001b[0m\u001b[0;34m)\u001b[0m\u001b[0;34m\u001b[0m\u001b[0;34m\u001b[0m\u001b[0m\n",
      "\u001b[0;32m~/.cache/pypoetry/virtualenvs/iowalicor-e8HhPf_A-py3.8/lib/python3.8/site-packages/pandas/core/array_algos/replace.py\u001b[0m in \u001b[0;36mreplace_regex\u001b[0;34m(values, rx, value, mask)\u001b[0m\n\u001b[1;32m    155\u001b[0m         \u001b[0mvalues\u001b[0m\u001b[0;34m[\u001b[0m\u001b[0;34m:\u001b[0m\u001b[0;34m]\u001b[0m \u001b[0;34m=\u001b[0m \u001b[0mf\u001b[0m\u001b[0;34m(\u001b[0m\u001b[0mvalues\u001b[0m\u001b[0;34m)\u001b[0m\u001b[0;34m\u001b[0m\u001b[0;34m\u001b[0m\u001b[0m\n\u001b[1;32m    156\u001b[0m     \u001b[0;32melse\u001b[0m\u001b[0;34m:\u001b[0m\u001b[0;34m\u001b[0m\u001b[0;34m\u001b[0m\u001b[0m\n\u001b[0;32m--> 157\u001b[0;31m         \u001b[0mvalues\u001b[0m\u001b[0;34m[\u001b[0m\u001b[0mmask\u001b[0m\u001b[0;34m]\u001b[0m \u001b[0;34m=\u001b[0m \u001b[0mf\u001b[0m\u001b[0;34m(\u001b[0m\u001b[0mvalues\u001b[0m\u001b[0;34m[\u001b[0m\u001b[0mmask\u001b[0m\u001b[0;34m]\u001b[0m\u001b[0;34m)\u001b[0m\u001b[0;34m\u001b[0m\u001b[0;34m\u001b[0m\u001b[0m\n\u001b[0m",
      "\u001b[0;32m~/.cache/pypoetry/virtualenvs/iowalicor-e8HhPf_A-py3.8/lib/python3.8/site-packages/numpy/lib/function_base.py\u001b[0m in \u001b[0;36m__call__\u001b[0;34m(self, *args, **kwargs)\u001b[0m\n\u001b[1;32m   2161\u001b[0m             \u001b[0mvargs\u001b[0m\u001b[0;34m.\u001b[0m\u001b[0mextend\u001b[0m\u001b[0;34m(\u001b[0m\u001b[0;34m[\u001b[0m\u001b[0mkwargs\u001b[0m\u001b[0;34m[\u001b[0m\u001b[0m_n\u001b[0m\u001b[0;34m]\u001b[0m \u001b[0;32mfor\u001b[0m \u001b[0m_n\u001b[0m \u001b[0;32min\u001b[0m \u001b[0mnames\u001b[0m\u001b[0;34m]\u001b[0m\u001b[0;34m)\u001b[0m\u001b[0;34m\u001b[0m\u001b[0;34m\u001b[0m\u001b[0m\n\u001b[1;32m   2162\u001b[0m \u001b[0;34m\u001b[0m\u001b[0m\n\u001b[0;32m-> 2163\u001b[0;31m         \u001b[0;32mreturn\u001b[0m \u001b[0mself\u001b[0m\u001b[0;34m.\u001b[0m\u001b[0m_vectorize_call\u001b[0m\u001b[0;34m(\u001b[0m\u001b[0mfunc\u001b[0m\u001b[0;34m=\u001b[0m\u001b[0mfunc\u001b[0m\u001b[0;34m,\u001b[0m \u001b[0margs\u001b[0m\u001b[0;34m=\u001b[0m\u001b[0mvargs\u001b[0m\u001b[0;34m)\u001b[0m\u001b[0;34m\u001b[0m\u001b[0;34m\u001b[0m\u001b[0m\n\u001b[0m\u001b[1;32m   2164\u001b[0m \u001b[0;34m\u001b[0m\u001b[0m\n\u001b[1;32m   2165\u001b[0m     \u001b[0;32mdef\u001b[0m \u001b[0m_get_ufunc_and_otypes\u001b[0m\u001b[0;34m(\u001b[0m\u001b[0mself\u001b[0m\u001b[0;34m,\u001b[0m \u001b[0mfunc\u001b[0m\u001b[0;34m,\u001b[0m \u001b[0margs\u001b[0m\u001b[0;34m)\u001b[0m\u001b[0;34m:\u001b[0m\u001b[0;34m\u001b[0m\u001b[0;34m\u001b[0m\u001b[0m\n",
      "\u001b[0;32m~/.cache/pypoetry/virtualenvs/iowalicor-e8HhPf_A-py3.8/lib/python3.8/site-packages/numpy/lib/function_base.py\u001b[0m in \u001b[0;36m_vectorize_call\u001b[0;34m(self, func, args)\u001b[0m\n\u001b[1;32m   2244\u001b[0m             \u001b[0minputs\u001b[0m \u001b[0;34m=\u001b[0m \u001b[0;34m[\u001b[0m\u001b[0masanyarray\u001b[0m\u001b[0;34m(\u001b[0m\u001b[0ma\u001b[0m\u001b[0;34m,\u001b[0m \u001b[0mdtype\u001b[0m\u001b[0;34m=\u001b[0m\u001b[0mobject\u001b[0m\u001b[0;34m)\u001b[0m \u001b[0;32mfor\u001b[0m \u001b[0ma\u001b[0m \u001b[0;32min\u001b[0m \u001b[0margs\u001b[0m\u001b[0;34m]\u001b[0m\u001b[0;34m\u001b[0m\u001b[0;34m\u001b[0m\u001b[0m\n\u001b[1;32m   2245\u001b[0m \u001b[0;34m\u001b[0m\u001b[0m\n\u001b[0;32m-> 2246\u001b[0;31m             \u001b[0moutputs\u001b[0m \u001b[0;34m=\u001b[0m \u001b[0mufunc\u001b[0m\u001b[0;34m(\u001b[0m\u001b[0;34m*\u001b[0m\u001b[0minputs\u001b[0m\u001b[0;34m)\u001b[0m\u001b[0;34m\u001b[0m\u001b[0;34m\u001b[0m\u001b[0m\n\u001b[0m\u001b[1;32m   2247\u001b[0m \u001b[0;34m\u001b[0m\u001b[0m\n\u001b[1;32m   2248\u001b[0m             \u001b[0;32mif\u001b[0m \u001b[0mufunc\u001b[0m\u001b[0;34m.\u001b[0m\u001b[0mnout\u001b[0m \u001b[0;34m==\u001b[0m \u001b[0;36m1\u001b[0m\u001b[0;34m:\u001b[0m\u001b[0;34m\u001b[0m\u001b[0;34m\u001b[0m\u001b[0m\n",
      "\u001b[0;32m~/.cache/pypoetry/virtualenvs/iowalicor-e8HhPf_A-py3.8/lib/python3.8/site-packages/pandas/core/array_algos/replace.py\u001b[0m in \u001b[0;36mre_replacer\u001b[0;34m(s)\u001b[0m\n\u001b[1;32m    146\u001b[0m         \u001b[0;32mdef\u001b[0m \u001b[0mre_replacer\u001b[0m\u001b[0;34m(\u001b[0m\u001b[0ms\u001b[0m\u001b[0;34m)\u001b[0m\u001b[0;34m:\u001b[0m\u001b[0;34m\u001b[0m\u001b[0;34m\u001b[0m\u001b[0m\n\u001b[1;32m    147\u001b[0m             \u001b[0;32mif\u001b[0m \u001b[0mis_re\u001b[0m\u001b[0;34m(\u001b[0m\u001b[0mrx\u001b[0m\u001b[0;34m)\u001b[0m \u001b[0;32mand\u001b[0m \u001b[0misinstance\u001b[0m\u001b[0;34m(\u001b[0m\u001b[0ms\u001b[0m\u001b[0;34m,\u001b[0m \u001b[0mstr\u001b[0m\u001b[0;34m)\u001b[0m\u001b[0;34m:\u001b[0m\u001b[0;34m\u001b[0m\u001b[0;34m\u001b[0m\u001b[0m\n\u001b[0;32m--> 148\u001b[0;31m                 \u001b[0;32mreturn\u001b[0m \u001b[0mrx\u001b[0m\u001b[0;34m.\u001b[0m\u001b[0msub\u001b[0m\u001b[0;34m(\u001b[0m\u001b[0mvalue\u001b[0m\u001b[0;34m,\u001b[0m \u001b[0ms\u001b[0m\u001b[0;34m)\u001b[0m\u001b[0;34m\u001b[0m\u001b[0;34m\u001b[0m\u001b[0m\n\u001b[0m\u001b[1;32m    149\u001b[0m             \u001b[0;32melse\u001b[0m\u001b[0;34m:\u001b[0m\u001b[0;34m\u001b[0m\u001b[0;34m\u001b[0m\u001b[0m\n\u001b[1;32m    150\u001b[0m                 \u001b[0;32mreturn\u001b[0m \u001b[0ms\u001b[0m\u001b[0;34m\u001b[0m\u001b[0;34m\u001b[0m\u001b[0m\n",
      "\u001b[0;31mKeyboardInterrupt\u001b[0m: "
     ]
    }
   ],
   "source": [
    "df['State Bottle Cost'] = df['State Bottle Cost'].replace({'\\$':''}, regex = True)\n",
    "df['State Bottle Retail'] = df['State Bottle Retail'].replace({'\\$':''}, regex = True)"
   ]
  },
  {
   "cell_type": "markdown",
   "id": "1bc245ac",
   "metadata": {},
   "source": [
    "### Temos também um problema com o condado de O'BRIEN, pois algumas vezes ele aparece com ou sem a aspa simples"
   ]
  },
  {
   "cell_type": "code",
   "execution_count": null,
   "id": "f39fb437",
   "metadata": {
    "scrolled": true
   },
   "outputs": [
    {
     "data": {
      "text/html": [
       "<div>\n",
       "<style scoped>\n",
       "    .dataframe tbody tr th:only-of-type {\n",
       "        vertical-align: middle;\n",
       "    }\n",
       "\n",
       "    .dataframe tbody tr th {\n",
       "        vertical-align: top;\n",
       "    }\n",
       "\n",
       "    .dataframe thead th {\n",
       "        text-align: right;\n",
       "    }\n",
       "</style>\n",
       "<table border=\"1\" class=\"dataframe\">\n",
       "  <thead>\n",
       "    <tr style=\"text-align: right;\">\n",
       "      <th></th>\n",
       "      <th>Date</th>\n",
       "      <th>City</th>\n",
       "      <th>County</th>\n",
       "      <th>Item Description</th>\n",
       "      <th>State Bottle Cost</th>\n",
       "      <th>State Bottle Retail</th>\n",
       "      <th>Volume Sold (Liters)</th>\n",
       "    </tr>\n",
       "  </thead>\n",
       "  <tbody>\n",
       "    <tr>\n",
       "      <th>0</th>\n",
       "      <td>11/20/2015</td>\n",
       "      <td>KEOKUK</td>\n",
       "      <td>LEE</td>\n",
       "      <td>TEMPLETON RYE W/FLASK</td>\n",
       "      <td>18.09</td>\n",
       "      <td>27.14</td>\n",
       "      <td>4.50</td>\n",
       "    </tr>\n",
       "    <tr>\n",
       "      <th>1</th>\n",
       "      <td>11/21/2015</td>\n",
       "      <td>CLARINDA</td>\n",
       "      <td>PAGE</td>\n",
       "      <td>TEMPLETON RYE W/FLASK</td>\n",
       "      <td>18.09</td>\n",
       "      <td>27.14</td>\n",
       "      <td>9.00</td>\n",
       "    </tr>\n",
       "    <tr>\n",
       "      <th>2</th>\n",
       "      <td>11/16/2015</td>\n",
       "      <td>FORT MADISON</td>\n",
       "      <td>LEE</td>\n",
       "      <td>DISARONNO AMARETTO CAVALLI MIGNON 3-50ML PACK</td>\n",
       "      <td>6.40</td>\n",
       "      <td>9.60</td>\n",
       "      <td>0.30</td>\n",
       "    </tr>\n",
       "    <tr>\n",
       "      <th>3</th>\n",
       "      <td>11/04/2015</td>\n",
       "      <td>IOWA CITY</td>\n",
       "      <td>JOHNSON</td>\n",
       "      <td>KNOB CREEK W/ CRYSTAL DECANTER</td>\n",
       "      <td>35.55</td>\n",
       "      <td>53.34</td>\n",
       "      <td>5.25</td>\n",
       "    </tr>\n",
       "    <tr>\n",
       "      <th>4</th>\n",
       "      <td>11/17/2015</td>\n",
       "      <td>TOLEDO</td>\n",
       "      <td>TAMA</td>\n",
       "      <td>DISARONNO AMARETTO CAVALLI MIGNON 3-50ML PACK</td>\n",
       "      <td>6.40</td>\n",
       "      <td>9.60</td>\n",
       "      <td>0.30</td>\n",
       "    </tr>\n",
       "  </tbody>\n",
       "</table>\n",
       "</div>"
      ],
      "text/plain": [
       "         Date          City   County  \\\n",
       "0  11/20/2015        KEOKUK      LEE   \n",
       "1  11/21/2015      CLARINDA     PAGE   \n",
       "2  11/16/2015  FORT MADISON      LEE   \n",
       "3  11/04/2015     IOWA CITY  JOHNSON   \n",
       "4  11/17/2015        TOLEDO     TAMA   \n",
       "\n",
       "                                Item Description State Bottle Cost  \\\n",
       "0                          TEMPLETON RYE W/FLASK             18.09   \n",
       "1                          TEMPLETON RYE W/FLASK             18.09   \n",
       "2  DISARONNO AMARETTO CAVALLI MIGNON 3-50ML PACK              6.40   \n",
       "3                 KNOB CREEK W/ CRYSTAL DECANTER             35.55   \n",
       "4  DISARONNO AMARETTO CAVALLI MIGNON 3-50ML PACK              6.40   \n",
       "\n",
       "  State Bottle Retail  Volume Sold (Liters)  \n",
       "0               27.14                  4.50  \n",
       "1               27.14                  9.00  \n",
       "2                9.60                  0.30  \n",
       "3               53.34                  5.25  \n",
       "4                9.60                  0.30  "
      ]
     },
     "execution_count": 18,
     "metadata": {},
     "output_type": "execute_result"
    }
   ],
   "source": [
    "df.head()"
   ]
  },
  {
   "cell_type": "code",
   "execution_count": null,
   "id": "349b1c70",
   "metadata": {
    "scrolled": true
   },
   "outputs": [
    {
     "ename": "Error",
     "evalue": "Session cannot generate requests",
     "output_type": "error",
     "traceback": [
      "Error: Session cannot generate requests",
      "at w.executeCodeCell (/home/aizen/.vscode-server/extensions/ms-toolsai.jupyter-2021.9.1101343141/out/client/extension.js:52:301180)",
      "at w.execute (/home/aizen/.vscode-server/extensions/ms-toolsai.jupyter-2021.9.1101343141/out/client/extension.js:52:300551)",
      "at w.start (/home/aizen/.vscode-server/extensions/ms-toolsai.jupyter-2021.9.1101343141/out/client/extension.js:52:296215)",
      "at runMicrotasks (<anonymous>)",
      "at processTicksAndRejections (internal/process/task_queues.js:93:5)",
      "at async t.CellExecutionQueue.executeQueuedCells (/home/aizen/.vscode-server/extensions/ms-toolsai.jupyter-2021.9.1101343141/out/client/extension.js:52:310950)",
      "at async t.CellExecutionQueue.start (/home/aizen/.vscode-server/extensions/ms-toolsai.jupyter-2021.9.1101343141/out/client/extension.js:52:310490)"
     ]
    }
   ],
   "source": [
    "df.tail()"
   ]
  },
  {
   "cell_type": "markdown",
   "id": "c6212d65",
   "metadata": {},
   "source": [
    "### Em qual condado se vendeu mais?"
   ]
  },
  {
   "cell_type": "code",
   "execution_count": null,
   "id": "e303bdc4",
   "metadata": {
    "scrolled": true
   },
   "outputs": [
    {
     "ename": "Error",
     "evalue": "Session cannot generate requests",
     "output_type": "error",
     "traceback": [
      "Error: Session cannot generate requests",
      "at w.executeCodeCell (/home/aizen/.vscode-server/extensions/ms-toolsai.jupyter-2021.9.1101343141/out/client/extension.js:52:301180)",
      "at w.execute (/home/aizen/.vscode-server/extensions/ms-toolsai.jupyter-2021.9.1101343141/out/client/extension.js:52:300551)",
      "at w.start (/home/aizen/.vscode-server/extensions/ms-toolsai.jupyter-2021.9.1101343141/out/client/extension.js:52:296215)",
      "at runMicrotasks (<anonymous>)",
      "at processTicksAndRejections (internal/process/task_queues.js:93:5)",
      "at async t.CellExecutionQueue.executeQueuedCells (/home/aizen/.vscode-server/extensions/ms-toolsai.jupyter-2021.9.1101343141/out/client/extension.js:52:310950)",
      "at async t.CellExecutionQueue.start (/home/aizen/.vscode-server/extensions/ms-toolsai.jupyter-2021.9.1101343141/out/client/extension.js:52:310490)"
     ]
    }
   ],
   "source": [
    "county_sales = df['County'].value_counts().nlargest(20)\n",
    "# county_sales.plot(kind=\"barh\")\n",
    "plt.figure(figsize=(10,8))\n",
    "sns.barplot(\n",
    "    data=df,\n",
    "    x=df[\"County\"],\n",
    "    y=df[\"County\"].value_counts().nlargest(20)\n",
    ")\n",
    "county_sales"
   ]
  },
  {
   "cell_type": "markdown",
   "id": "1bc245ac",
   "metadata": {},
   "source": [
    "### Sabendo que o condado de POLK foi o que vendeu mais, quais cidades do condado de POLK venderam mais?"
   ]
  },
  {
   "cell_type": "markdown",
   "id": "5ec04870",
   "metadata": {},
   "source": [
    "#### Filtrando as cidades do condado de POLK"
   ]
  },
  {
   "cell_type": "code",
   "execution_count": null,
   "id": "89e484a9",
   "metadata": {},
   "outputs": [
    {
     "data": {
      "text/html": [
       "<div>\n",
       "<style scoped>\n",
       "    .dataframe tbody tr th:only-of-type {\n",
       "        vertical-align: middle;\n",
       "    }\n",
       "\n",
       "    .dataframe tbody tr th {\n",
       "        vertical-align: top;\n",
       "    }\n",
       "\n",
       "    .dataframe thead th {\n",
       "        text-align: right;\n",
       "    }\n",
       "</style>\n",
       "<table border=\"1\" class=\"dataframe\">\n",
       "  <thead>\n",
       "    <tr style=\"text-align: right;\">\n",
       "      <th></th>\n",
       "      <th>Date</th>\n",
       "      <th>City</th>\n",
       "      <th>County</th>\n",
       "      <th>Item Description</th>\n",
       "      <th>State Bottle Cost</th>\n",
       "      <th>State Bottle Retail</th>\n",
       "      <th>Volume Sold (Liters)</th>\n",
       "    </tr>\n",
       "  </thead>\n",
       "  <tbody>\n",
       "    <tr>\n",
       "      <th>11</th>\n",
       "      <td>2015-11-05</td>\n",
       "      <td>DES MOINES</td>\n",
       "      <td>POLK</td>\n",
       "      <td>KNOB CREEK W/ CRYSTAL DECANTER</td>\n",
       "      <td>35.55</td>\n",
       "      <td>53.34</td>\n",
       "      <td>3.50</td>\n",
       "    </tr>\n",
       "    <tr>\n",
       "      <th>22</th>\n",
       "      <td>2015-11-04</td>\n",
       "      <td>ALTOONA</td>\n",
       "      <td>POLK</td>\n",
       "      <td>KNOB CREEK W/ CRYSTAL DECANTER</td>\n",
       "      <td>35.55</td>\n",
       "      <td>53.34</td>\n",
       "      <td>5.25</td>\n",
       "    </tr>\n",
       "    <tr>\n",
       "      <th>27</th>\n",
       "      <td>2015-11-10</td>\n",
       "      <td>ANKENY</td>\n",
       "      <td>POLK</td>\n",
       "      <td>KNOB CREEK W/ CRYSTAL DECANTER</td>\n",
       "      <td>35.55</td>\n",
       "      <td>53.34</td>\n",
       "      <td>5.25</td>\n",
       "    </tr>\n",
       "    <tr>\n",
       "      <th>31</th>\n",
       "      <td>2015-11-17</td>\n",
       "      <td>ANKENY</td>\n",
       "      <td>POLK</td>\n",
       "      <td>DISARONNO AMARETTO CAVALLI MIGNON 3-50ML PACK</td>\n",
       "      <td>6.40</td>\n",
       "      <td>9.60</td>\n",
       "      <td>3.00</td>\n",
       "    </tr>\n",
       "    <tr>\n",
       "      <th>42</th>\n",
       "      <td>2015-11-19</td>\n",
       "      <td>DES MOINES</td>\n",
       "      <td>POLK</td>\n",
       "      <td>LAPHROAIG W/ WHISKEY STONES</td>\n",
       "      <td>19.58</td>\n",
       "      <td>29.37</td>\n",
       "      <td>27.00</td>\n",
       "    </tr>\n",
       "  </tbody>\n",
       "</table>\n",
       "</div>"
      ],
      "text/plain": [
       "         Date        City County  \\\n",
       "11 2015-11-05  DES MOINES   POLK   \n",
       "22 2015-11-04     ALTOONA   POLK   \n",
       "27 2015-11-10      ANKENY   POLK   \n",
       "31 2015-11-17      ANKENY   POLK   \n",
       "42 2015-11-19  DES MOINES   POLK   \n",
       "\n",
       "                                 Item Description State Bottle Cost  \\\n",
       "11                 KNOB CREEK W/ CRYSTAL DECANTER             35.55   \n",
       "22                 KNOB CREEK W/ CRYSTAL DECANTER             35.55   \n",
       "27                 KNOB CREEK W/ CRYSTAL DECANTER             35.55   \n",
       "31  DISARONNO AMARETTO CAVALLI MIGNON 3-50ML PACK              6.40   \n",
       "42                    LAPHROAIG W/ WHISKEY STONES             19.58   \n",
       "\n",
       "   State Bottle Retail  Volume Sold (Liters)  \n",
       "11               53.34                  3.50  \n",
       "22               53.34                  5.25  \n",
       "27               53.34                  5.25  \n",
       "31                9.60                  3.00  \n",
       "42               29.37                 27.00  "
      ]
     },
     "execution_count": 121,
     "metadata": {},
     "output_type": "execute_result"
    }
   ],
   "source": [
    "polk = df[df['County']=='POLK']\n",
    "polk.head()"
   ]
  },
  {
   "cell_type": "markdown",
   "id": "6172d692",
   "metadata": {},
   "source": [
    "#### Quais cidades há no condado de POLK?"
   ]
  },
  {
   "cell_type": "code",
   "execution_count": null,
   "id": "ed254456",
   "metadata": {},
   "outputs": [
    {
     "data": {
      "text/plain": [
       "array(['DES MOINES', 'ALTOONA', 'ANKENY', 'WEST DES MOINES',\n",
       "       'PLEASANT HILL', 'GRIMES', 'JOHNSTON', 'URBANDALE', 'CLIVE',\n",
       "       'WINDSOR HEIGHTS', 'BONDURANT', 'POLK CITY', 'CAMBRIDGE',\n",
       "       'MITCHELLVILLE', 'RUNNELLS', 'SWISHER'], dtype=object)"
      ]
     },
     "execution_count": 95,
     "metadata": {},
     "output_type": "execute_result"
    }
   ],
   "source": [
    "polk['City'].unique()"
   ]
  },
  {
   "cell_type": "markdown",
   "id": "1b6f9639",
   "metadata": {},
   "source": [
    "#### Em quais cidade do condado de POLK se vendeu mais bebida?"
   ]
  },
  {
   "cell_type": "code",
   "execution_count": null,
   "id": "bdb9cc6b",
   "metadata": {},
   "outputs": [
    {
     "data": {
      "text/plain": [
       "<AxesSubplot:>"
      ]
     },
     "execution_count": 102,
     "metadata": {},
     "output_type": "execute_result"
    },
    {
     "data": {
      "image/png": "[encoded data removed]",
      "text/plain": [
       "<Figure size 432x288 with 1 Axes>"
      ]
     },
     "metadata": {
      "needs_background": "light"
     },
     "output_type": "display_data"
    }
   ],
   "source": [
    "polk['City'].value_counts().plot(kind=\"barh\")"
   ]
  },
  {
   "cell_type": "markdown",
   "id": "81d448c2",
   "metadata": {},
   "source": [
    "#### Quais cidades no estado do IOWA venderam mais bebida?"
   ]
  },
  {
   "cell_type": "code",
   "execution_count": null,
   "id": "e0b283bf",
   "metadata": {
    "scrolled": true
   },
   "outputs": [
    {
     "data": {
      "text/plain": [
       "<AxesSubplot:>"
      ]
     },
     "execution_count": 24,
     "metadata": {},
     "output_type": "execute_result"
    },
    {
     "data": {
      "image/png": "[encoded data removed]",
      "text/plain": [
       "<Figure size 432x288 with 1 Axes>"
      ]
     },
     "metadata": {
      "needs_background": "light"
     },
     "output_type": "display_data"
    }
   ],
   "source": [
    "city_sales = df['City'].value_counts().nlargest(20)\n",
    "city_sales.plot(kind=\"barh\")"
   ]
  },
  {
   "cell_type": "markdown",
   "id": "0c94835c",
   "metadata": {},
   "source": [
    "#### Transformando o os dados da coluna Date em formato datetime"
   ]
  },
  {
   "cell_type": "code",
   "execution_count": null,
   "id": "b9b199e5",
   "metadata": {},
   "outputs": [],
   "source": [
    "df['Date'] = pd.to_datetime(df['Date'])"
   ]
  },
  {
   "cell_type": "code",
   "execution_count": null,
   "id": "f9519daa",
   "metadata": {},
   "outputs": [
    {
     "data": {
      "text/html": [
       "<div>\n",
       "<style scoped>\n",
       "    .dataframe tbody tr th:only-of-type {\n",
       "        vertical-align: middle;\n",
       "    }\n",
       "\n",
       "    .dataframe tbody tr th {\n",
       "        vertical-align: top;\n",
       "    }\n",
       "\n",
       "    .dataframe thead th {\n",
       "        text-align: right;\n",
       "    }\n",
       "</style>\n",
       "<table border=\"1\" class=\"dataframe\">\n",
       "  <thead>\n",
       "    <tr style=\"text-align: right;\">\n",
       "      <th></th>\n",
       "      <th>Date</th>\n",
       "      <th>City</th>\n",
       "      <th>County</th>\n",
       "      <th>Item Description</th>\n",
       "      <th>State Bottle Cost</th>\n",
       "      <th>State Bottle Retail</th>\n",
       "      <th>Volume Sold (Liters)</th>\n",
       "    </tr>\n",
       "  </thead>\n",
       "  <tbody>\n",
       "    <tr>\n",
       "      <th>12591072</th>\n",
       "      <td>2017-10-31</td>\n",
       "      <td>SHELDON</td>\n",
       "      <td>OBRIEN</td>\n",
       "      <td>FRAPPACHATA ICED COFFEE BLEND</td>\n",
       "      <td>8.00</td>\n",
       "      <td>12.00</td>\n",
       "      <td>2.4</td>\n",
       "    </tr>\n",
       "    <tr>\n",
       "      <th>12591073</th>\n",
       "      <td>2017-10-31</td>\n",
       "      <td>SHELDON</td>\n",
       "      <td>OBRIEN</td>\n",
       "      <td>OLD FORESTER STATESMAN</td>\n",
       "      <td>27.48</td>\n",
       "      <td>41.22</td>\n",
       "      <td>1.5</td>\n",
       "    </tr>\n",
       "    <tr>\n",
       "      <th>12591074</th>\n",
       "      <td>2017-10-31</td>\n",
       "      <td>SHELDON</td>\n",
       "      <td>OBRIEN</td>\n",
       "      <td>OLD FORESTER 1897 WHISKY ROW SERIES</td>\n",
       "      <td>24.98</td>\n",
       "      <td>37.47</td>\n",
       "      <td>1.5</td>\n",
       "    </tr>\n",
       "    <tr>\n",
       "      <th>12591075</th>\n",
       "      <td>2017-10-31</td>\n",
       "      <td>SHELDON</td>\n",
       "      <td>OBRIEN</td>\n",
       "      <td>OLD FORESTER 1870 WHISKY ROW SERIES</td>\n",
       "      <td>22.49</td>\n",
       "      <td>33.74</td>\n",
       "      <td>1.5</td>\n",
       "    </tr>\n",
       "    <tr>\n",
       "      <th>12591076</th>\n",
       "      <td>2017-10-31</td>\n",
       "      <td>SHELDON</td>\n",
       "      <td>OBRIEN</td>\n",
       "      <td>SUGARLANDS SHINE PEANUT BUTTER &amp; JELLY MOONSHINE</td>\n",
       "      <td>13.00</td>\n",
       "      <td>19.50</td>\n",
       "      <td>1.5</td>\n",
       "    </tr>\n",
       "  </tbody>\n",
       "</table>\n",
       "</div>"
      ],
      "text/plain": [
       "               Date     City  County  \\\n",
       "12591072 2017-10-31  SHELDON  OBRIEN   \n",
       "12591073 2017-10-31  SHELDON  OBRIEN   \n",
       "12591074 2017-10-31  SHELDON  OBRIEN   \n",
       "12591075 2017-10-31  SHELDON  OBRIEN   \n",
       "12591076 2017-10-31  SHELDON  OBRIEN   \n",
       "\n",
       "                                          Item Description State Bottle Cost  \\\n",
       "12591072                     FRAPPACHATA ICED COFFEE BLEND              8.00   \n",
       "12591073                            OLD FORESTER STATESMAN             27.48   \n",
       "12591074               OLD FORESTER 1897 WHISKY ROW SERIES             24.98   \n",
       "12591075               OLD FORESTER 1870 WHISKY ROW SERIES             22.49   \n",
       "12591076  SUGARLANDS SHINE PEANUT BUTTER & JELLY MOONSHINE             13.00   \n",
       "\n",
       "         State Bottle Retail  Volume Sold (Liters)  \n",
       "12591072               12.00                   2.4  \n",
       "12591073               41.22                   1.5  \n",
       "12591074               37.47                   1.5  \n",
       "12591075               33.74                   1.5  \n",
       "12591076               19.50                   1.5  "
      ]
     },
     "execution_count": 123,
     "metadata": {},
     "output_type": "execute_result"
    }
   ],
   "source": [
    "df.tail()"
   ]
  },
  {
   "cell_type": "markdown",
   "id": "299f58cd",
   "metadata": {},
   "source": [
    "#### Filtrando os dados por ano"
   ]
  },
  {
   "cell_type": "code",
   "execution_count": null,
   "id": "33b9aeb3",
   "metadata": {
    "collapsed": true
   },
   "outputs": [
    {
     "data": {
      "text/html": [
       "<div>\n",
       "<style scoped>\n",
       "    .dataframe tbody tr th:only-of-type {\n",
       "        vertical-align: middle;\n",
       "    }\n",
       "\n",
       "    .dataframe tbody tr th {\n",
       "        vertical-align: top;\n",
       "    }\n",
       "\n",
       "    .dataframe thead th {\n",
       "        text-align: right;\n",
       "    }\n",
       "</style>\n",
       "<table border=\"1\" class=\"dataframe\">\n",
       "  <thead>\n",
       "    <tr style=\"text-align: right;\">\n",
       "      <th></th>\n",
       "      <th>Date</th>\n",
       "      <th>City</th>\n",
       "      <th>County</th>\n",
       "      <th>Item Description</th>\n",
       "      <th>State Bottle Cost</th>\n",
       "      <th>State Bottle Retail</th>\n",
       "      <th>Volume Sold (Liters)</th>\n",
       "    </tr>\n",
       "  </thead>\n",
       "  <tbody>\n",
       "    <tr>\n",
       "      <th>102</th>\n",
       "      <td>2012-11-06</td>\n",
       "      <td>GUTHRIE CENTER</td>\n",
       "      <td>GUTHRIE</td>\n",
       "      <td>CRUZAN MANGO RUM</td>\n",
       "      <td>6.82</td>\n",
       "      <td>10.24</td>\n",
       "      <td>2.25</td>\n",
       "    </tr>\n",
       "    <tr>\n",
       "      <th>103</th>\n",
       "      <td>2012-04-03</td>\n",
       "      <td>ANAMOSA</td>\n",
       "      <td>JONES</td>\n",
       "      <td>ARROW PEPPERMINT SCHNAPPS</td>\n",
       "      <td>7.04</td>\n",
       "      <td>10.56</td>\n",
       "      <td>5.25</td>\n",
       "    </tr>\n",
       "    <tr>\n",
       "      <th>106</th>\n",
       "      <td>2012-11-13</td>\n",
       "      <td>AMES</td>\n",
       "      <td>STORY</td>\n",
       "      <td>KINKY LIQUEUR</td>\n",
       "      <td>10.00</td>\n",
       "      <td>15.00</td>\n",
       "      <td>9.00</td>\n",
       "    </tr>\n",
       "    <tr>\n",
       "      <th>110</th>\n",
       "      <td>2012-07-31</td>\n",
       "      <td>SPIRIT LAKE</td>\n",
       "      <td>DICKINSON</td>\n",
       "      <td>BACARDI SUPERIOR RUM PET</td>\n",
       "      <td>7.53</td>\n",
       "      <td>11.30</td>\n",
       "      <td>9.00</td>\n",
       "    </tr>\n",
       "    <tr>\n",
       "      <th>113</th>\n",
       "      <td>2012-10-16</td>\n",
       "      <td>RED OAK</td>\n",
       "      <td>MONTGOMERY</td>\n",
       "      <td>UV BLUE (RASPBERRY) VODKA</td>\n",
       "      <td>6.25</td>\n",
       "      <td>9.49</td>\n",
       "      <td>9.00</td>\n",
       "    </tr>\n",
       "  </tbody>\n",
       "</table>\n",
       "</div>"
      ],
      "text/plain": [
       "          Date            City      County           Item Description  \\\n",
       "102 2012-11-06  GUTHRIE CENTER     GUTHRIE           CRUZAN MANGO RUM   \n",
       "103 2012-04-03         ANAMOSA       JONES  ARROW PEPPERMINT SCHNAPPS   \n",
       "106 2012-11-13            AMES       STORY              KINKY LIQUEUR   \n",
       "110 2012-07-31     SPIRIT LAKE   DICKINSON   BACARDI SUPERIOR RUM PET   \n",
       "113 2012-10-16         RED OAK  MONTGOMERY  UV BLUE (RASPBERRY) VODKA   \n",
       "\n",
       "    State Bottle Cost State Bottle Retail  Volume Sold (Liters)  \n",
       "102              6.82               10.24                  2.25  \n",
       "103              7.04               10.56                  5.25  \n",
       "106             10.00               15.00                  9.00  \n",
       "110              7.53               11.30                  9.00  \n",
       "113              6.25                9.49                  9.00  "
      ]
     },
     "execution_count": 40,
     "metadata": {},
     "output_type": "execute_result"
    }
   ],
   "source": [
    "year_2012 = df[df['Date'].dt.year == 2012]\n",
    "year_2012.head()"
   ]
  },
  {
   "cell_type": "code",
   "execution_count": null,
   "id": "c14358ef",
   "metadata": {
    "collapsed": true
   },
   "outputs": [
    {
     "data": {
      "text/html": [
       "<div>\n",
       "<style scoped>\n",
       "    .dataframe tbody tr th:only-of-type {\n",
       "        vertical-align: middle;\n",
       "    }\n",
       "\n",
       "    .dataframe tbody tr th {\n",
       "        vertical-align: top;\n",
       "    }\n",
       "\n",
       "    .dataframe thead th {\n",
       "        text-align: right;\n",
       "    }\n",
       "</style>\n",
       "<table border=\"1\" class=\"dataframe\">\n",
       "  <thead>\n",
       "    <tr style=\"text-align: right;\">\n",
       "      <th></th>\n",
       "      <th>Date</th>\n",
       "      <th>City</th>\n",
       "      <th>County</th>\n",
       "      <th>Item Description</th>\n",
       "      <th>State Bottle Cost</th>\n",
       "      <th>State Bottle Retail</th>\n",
       "      <th>Volume Sold (Liters)</th>\n",
       "    </tr>\n",
       "  </thead>\n",
       "  <tbody>\n",
       "    <tr>\n",
       "      <th>100</th>\n",
       "      <td>2013-02-20</td>\n",
       "      <td>BURLINGTON</td>\n",
       "      <td>DES MOINES</td>\n",
       "      <td>ABSENTE</td>\n",
       "      <td>21.67</td>\n",
       "      <td>32.50</td>\n",
       "      <td>3.0</td>\n",
       "    </tr>\n",
       "    <tr>\n",
       "      <th>104</th>\n",
       "      <td>2013-07-08</td>\n",
       "      <td>FORT MADISON</td>\n",
       "      <td>LEE</td>\n",
       "      <td>UV BLUE (RASPBERRY) VODKA</td>\n",
       "      <td>7.50</td>\n",
       "      <td>11.25</td>\n",
       "      <td>12.0</td>\n",
       "    </tr>\n",
       "    <tr>\n",
       "      <th>107</th>\n",
       "      <td>2013-05-21</td>\n",
       "      <td>WATERLOO</td>\n",
       "      <td>BLACK HAWK</td>\n",
       "      <td>PATRON SILVER TEQUILA</td>\n",
       "      <td>8.50</td>\n",
       "      <td>12.75</td>\n",
       "      <td>0.8</td>\n",
       "    </tr>\n",
       "    <tr>\n",
       "      <th>109</th>\n",
       "      <td>2013-11-26</td>\n",
       "      <td>CHARITON</td>\n",
       "      <td>LUCAS</td>\n",
       "      <td>SWEET REVENGE</td>\n",
       "      <td>10.98</td>\n",
       "      <td>16.47</td>\n",
       "      <td>4.5</td>\n",
       "    </tr>\n",
       "    <tr>\n",
       "      <th>114</th>\n",
       "      <td>2013-04-17</td>\n",
       "      <td>OSKALOOSA</td>\n",
       "      <td>MAHASKA</td>\n",
       "      <td>PENDLETON CANADIAN WHISKY</td>\n",
       "      <td>12.10</td>\n",
       "      <td>18.65</td>\n",
       "      <td>1.5</td>\n",
       "    </tr>\n",
       "  </tbody>\n",
       "</table>\n",
       "</div>"
      ],
      "text/plain": [
       "          Date          City      County           Item Description  \\\n",
       "100 2013-02-20    BURLINGTON  DES MOINES                    ABSENTE   \n",
       "104 2013-07-08  FORT MADISON         LEE  UV BLUE (RASPBERRY) VODKA   \n",
       "107 2013-05-21      WATERLOO  BLACK HAWK      PATRON SILVER TEQUILA   \n",
       "109 2013-11-26      CHARITON       LUCAS              SWEET REVENGE   \n",
       "114 2013-04-17     OSKALOOSA     MAHASKA  PENDLETON CANADIAN WHISKY   \n",
       "\n",
       "    State Bottle Cost State Bottle Retail  Volume Sold (Liters)  \n",
       "100             21.67               32.50                   3.0  \n",
       "104              7.50               11.25                  12.0  \n",
       "107              8.50               12.75                   0.8  \n",
       "109             10.98               16.47                   4.5  \n",
       "114             12.10               18.65                   1.5  "
      ]
     },
     "execution_count": 68,
     "metadata": {},
     "output_type": "execute_result"
    }
   ],
   "source": [
    "year_2013 = df[df['Date'].dt.year == 2013]\n",
    "year_2013.head()"
   ]
  },
  {
   "cell_type": "code",
   "execution_count": null,
   "id": "ceb75125",
   "metadata": {
    "collapsed": true
   },
   "outputs": [
    {
     "data": {
      "text/html": [
       "<div>\n",
       "<style scoped>\n",
       "    .dataframe tbody tr th:only-of-type {\n",
       "        vertical-align: middle;\n",
       "    }\n",
       "\n",
       "    .dataframe tbody tr th {\n",
       "        vertical-align: top;\n",
       "    }\n",
       "\n",
       "    .dataframe thead th {\n",
       "        text-align: right;\n",
       "    }\n",
       "</style>\n",
       "<table border=\"1\" class=\"dataframe\">\n",
       "  <thead>\n",
       "    <tr style=\"text-align: right;\">\n",
       "      <th></th>\n",
       "      <th>Date</th>\n",
       "      <th>City</th>\n",
       "      <th>County</th>\n",
       "      <th>Item Description</th>\n",
       "      <th>State Bottle Cost</th>\n",
       "      <th>State Bottle Retail</th>\n",
       "      <th>Volume Sold (Liters)</th>\n",
       "    </tr>\n",
       "  </thead>\n",
       "  <tbody>\n",
       "    <tr>\n",
       "      <th>108</th>\n",
       "      <td>2014-02-26</td>\n",
       "      <td>DAVENPORT</td>\n",
       "      <td>SCOTT</td>\n",
       "      <td>BUSHMILLS IRISH WHISKEY</td>\n",
       "      <td>13.00</td>\n",
       "      <td>19.50</td>\n",
       "      <td>3.0</td>\n",
       "    </tr>\n",
       "    <tr>\n",
       "      <th>112</th>\n",
       "      <td>2014-04-07</td>\n",
       "      <td>BETTENDORF</td>\n",
       "      <td>SCOTT</td>\n",
       "      <td>GORDON'S GIN LONDON DRY - PET</td>\n",
       "      <td>11.00</td>\n",
       "      <td>16.49</td>\n",
       "      <td>10.5</td>\n",
       "    </tr>\n",
       "    <tr>\n",
       "      <th>122</th>\n",
       "      <td>2014-06-12</td>\n",
       "      <td>ALTOONA</td>\n",
       "      <td>POLK</td>\n",
       "      <td>BARTON VODKA</td>\n",
       "      <td>6.92</td>\n",
       "      <td>10.38</td>\n",
       "      <td>10.5</td>\n",
       "    </tr>\n",
       "    <tr>\n",
       "      <th>123</th>\n",
       "      <td>2014-05-23</td>\n",
       "      <td>MASON CITY</td>\n",
       "      <td>CERRO GORDO</td>\n",
       "      <td>GLENLIVET 12 YR MALT SCOTCH</td>\n",
       "      <td>22.07</td>\n",
       "      <td>33.11</td>\n",
       "      <td>1.5</td>\n",
       "    </tr>\n",
       "    <tr>\n",
       "      <th>126</th>\n",
       "      <td>2014-04-02</td>\n",
       "      <td>DUBUQUE</td>\n",
       "      <td>DUBUQUE</td>\n",
       "      <td>KESSLER BLEND WHISKEY</td>\n",
       "      <td>5.51</td>\n",
       "      <td>8.26</td>\n",
       "      <td>9.0</td>\n",
       "    </tr>\n",
       "  </tbody>\n",
       "</table>\n",
       "</div>"
      ],
      "text/plain": [
       "          Date        City       County               Item Description  \\\n",
       "108 2014-02-26   DAVENPORT        SCOTT        BUSHMILLS IRISH WHISKEY   \n",
       "112 2014-04-07  BETTENDORF        SCOTT  GORDON'S GIN LONDON DRY - PET   \n",
       "122 2014-06-12     ALTOONA         POLK                   BARTON VODKA   \n",
       "123 2014-05-23  MASON CITY  CERRO GORDO    GLENLIVET 12 YR MALT SCOTCH   \n",
       "126 2014-04-02     DUBUQUE      DUBUQUE          KESSLER BLEND WHISKEY   \n",
       "\n",
       "    State Bottle Cost State Bottle Retail  Volume Sold (Liters)  \n",
       "108             13.00               19.50                   3.0  \n",
       "112             11.00               16.49                  10.5  \n",
       "122              6.92               10.38                  10.5  \n",
       "123             22.07               33.11                   1.5  \n",
       "126              5.51                8.26                   9.0  "
      ]
     },
     "execution_count": 73,
     "metadata": {},
     "output_type": "execute_result"
    }
   ],
   "source": [
    "year_2014 = df[df['Date'].dt.year == 2014]\n",
    "year_2014.head()"
   ]
  },
  {
   "cell_type": "code",
   "execution_count": null,
   "id": "06524cfa",
   "metadata": {
    "collapsed": true
   },
   "outputs": [
    {
     "data": {
      "text/html": [
       "<div>\n",
       "<style scoped>\n",
       "    .dataframe tbody tr th:only-of-type {\n",
       "        vertical-align: middle;\n",
       "    }\n",
       "\n",
       "    .dataframe tbody tr th {\n",
       "        vertical-align: top;\n",
       "    }\n",
       "\n",
       "    .dataframe thead th {\n",
       "        text-align: right;\n",
       "    }\n",
       "</style>\n",
       "<table border=\"1\" class=\"dataframe\">\n",
       "  <thead>\n",
       "    <tr style=\"text-align: right;\">\n",
       "      <th></th>\n",
       "      <th>Date</th>\n",
       "      <th>City</th>\n",
       "      <th>County</th>\n",
       "      <th>Item Description</th>\n",
       "      <th>State Bottle Cost</th>\n",
       "      <th>State Bottle Retail</th>\n",
       "      <th>Volume Sold (Liters)</th>\n",
       "    </tr>\n",
       "  </thead>\n",
       "  <tbody>\n",
       "    <tr>\n",
       "      <th>0</th>\n",
       "      <td>2015-11-20</td>\n",
       "      <td>KEOKUK</td>\n",
       "      <td>LEE</td>\n",
       "      <td>TEMPLETON RYE W/FLASK</td>\n",
       "      <td>18.09</td>\n",
       "      <td>27.14</td>\n",
       "      <td>4.50</td>\n",
       "    </tr>\n",
       "    <tr>\n",
       "      <th>1</th>\n",
       "      <td>2015-11-21</td>\n",
       "      <td>CLARINDA</td>\n",
       "      <td>PAGE</td>\n",
       "      <td>TEMPLETON RYE W/FLASK</td>\n",
       "      <td>18.09</td>\n",
       "      <td>27.14</td>\n",
       "      <td>9.00</td>\n",
       "    </tr>\n",
       "    <tr>\n",
       "      <th>2</th>\n",
       "      <td>2015-11-16</td>\n",
       "      <td>FORT MADISON</td>\n",
       "      <td>LEE</td>\n",
       "      <td>DISARONNO AMARETTO CAVALLI MIGNON 3-50ML PACK</td>\n",
       "      <td>6.40</td>\n",
       "      <td>9.60</td>\n",
       "      <td>0.30</td>\n",
       "    </tr>\n",
       "    <tr>\n",
       "      <th>3</th>\n",
       "      <td>2015-11-04</td>\n",
       "      <td>IOWA CITY</td>\n",
       "      <td>JOHNSON</td>\n",
       "      <td>KNOB CREEK W/ CRYSTAL DECANTER</td>\n",
       "      <td>35.55</td>\n",
       "      <td>53.34</td>\n",
       "      <td>5.25</td>\n",
       "    </tr>\n",
       "    <tr>\n",
       "      <th>4</th>\n",
       "      <td>2015-11-17</td>\n",
       "      <td>TOLEDO</td>\n",
       "      <td>TAMA</td>\n",
       "      <td>DISARONNO AMARETTO CAVALLI MIGNON 3-50ML PACK</td>\n",
       "      <td>6.40</td>\n",
       "      <td>9.60</td>\n",
       "      <td>0.30</td>\n",
       "    </tr>\n",
       "  </tbody>\n",
       "</table>\n",
       "</div>"
      ],
      "text/plain": [
       "        Date          City   County  \\\n",
       "0 2015-11-20        KEOKUK      LEE   \n",
       "1 2015-11-21      CLARINDA     PAGE   \n",
       "2 2015-11-16  FORT MADISON      LEE   \n",
       "3 2015-11-04     IOWA CITY  JOHNSON   \n",
       "4 2015-11-17        TOLEDO     TAMA   \n",
       "\n",
       "                                Item Description State Bottle Cost  \\\n",
       "0                          TEMPLETON RYE W/FLASK             18.09   \n",
       "1                          TEMPLETON RYE W/FLASK             18.09   \n",
       "2  DISARONNO AMARETTO CAVALLI MIGNON 3-50ML PACK              6.40   \n",
       "3                 KNOB CREEK W/ CRYSTAL DECANTER             35.55   \n",
       "4  DISARONNO AMARETTO CAVALLI MIGNON 3-50ML PACK              6.40   \n",
       "\n",
       "  State Bottle Retail  Volume Sold (Liters)  \n",
       "0               27.14                  4.50  \n",
       "1               27.14                  9.00  \n",
       "2                9.60                  0.30  \n",
       "3               53.34                  5.25  \n",
       "4                9.60                  0.30  "
      ]
     },
     "execution_count": 75,
     "metadata": {},
     "output_type": "execute_result"
    }
   ],
   "source": [
    "year_2015 = df[df['Date'].dt.year == 2015]\n",
    "year_2015.head()"
   ]
  },
  {
   "cell_type": "code",
   "execution_count": null,
   "id": "a290ab04",
   "metadata": {
    "collapsed": true
   },
   "outputs": [
    {
     "data": {
      "text/html": [
       "<div>\n",
       "<style scoped>\n",
       "    .dataframe tbody tr th:only-of-type {\n",
       "        vertical-align: middle;\n",
       "    }\n",
       "\n",
       "    .dataframe tbody tr th {\n",
       "        vertical-align: top;\n",
       "    }\n",
       "\n",
       "    .dataframe thead th {\n",
       "        text-align: right;\n",
       "    }\n",
       "</style>\n",
       "<table border=\"1\" class=\"dataframe\">\n",
       "  <thead>\n",
       "    <tr style=\"text-align: right;\">\n",
       "      <th></th>\n",
       "      <th>Date</th>\n",
       "      <th>City</th>\n",
       "      <th>County</th>\n",
       "      <th>Item Description</th>\n",
       "      <th>State Bottle Cost</th>\n",
       "      <th>State Bottle Retail</th>\n",
       "      <th>Volume Sold (Liters)</th>\n",
       "    </tr>\n",
       "  </thead>\n",
       "  <tbody>\n",
       "    <tr>\n",
       "      <th>8427861</th>\n",
       "      <td>2016-01-26</td>\n",
       "      <td>SHELDON</td>\n",
       "      <td>O'BRIEN</td>\n",
       "      <td>SHEEP DIP</td>\n",
       "      <td>21.50</td>\n",
       "      <td>32.25</td>\n",
       "      <td>0.75</td>\n",
       "    </tr>\n",
       "    <tr>\n",
       "      <th>8428102</th>\n",
       "      <td>2016-01-12</td>\n",
       "      <td>CEDAR RAPIDS</td>\n",
       "      <td>LINN</td>\n",
       "      <td>LAPHROAIG W/ WHISKEY STONES</td>\n",
       "      <td>19.58</td>\n",
       "      <td>29.37</td>\n",
       "      <td>1.50</td>\n",
       "    </tr>\n",
       "    <tr>\n",
       "      <th>8428103</th>\n",
       "      <td>2016-01-13</td>\n",
       "      <td>IOWA CITY</td>\n",
       "      <td>JOHNSON</td>\n",
       "      <td>LAPHROAIG W/ WHISKEY STONES</td>\n",
       "      <td>19.58</td>\n",
       "      <td>29.37</td>\n",
       "      <td>9.00</td>\n",
       "    </tr>\n",
       "    <tr>\n",
       "      <th>8428104</th>\n",
       "      <td>2016-01-13</td>\n",
       "      <td>CORALVILLE</td>\n",
       "      <td>JOHNSON</td>\n",
       "      <td>LAPHROAIG W/ WHISKEY STONES</td>\n",
       "      <td>19.58</td>\n",
       "      <td>29.37</td>\n",
       "      <td>2.25</td>\n",
       "    </tr>\n",
       "    <tr>\n",
       "      <th>8428105</th>\n",
       "      <td>2016-01-14</td>\n",
       "      <td>CEDAR FALLS</td>\n",
       "      <td>BLACK HAWK</td>\n",
       "      <td>LAPHROAIG W/ WHISKEY STONES</td>\n",
       "      <td>19.58</td>\n",
       "      <td>29.37</td>\n",
       "      <td>0.75</td>\n",
       "    </tr>\n",
       "  </tbody>\n",
       "</table>\n",
       "</div>"
      ],
      "text/plain": [
       "              Date          City      County             Item Description  \\\n",
       "8427861 2016-01-26       SHELDON     O'BRIEN                    SHEEP DIP   \n",
       "8428102 2016-01-12  CEDAR RAPIDS        LINN  LAPHROAIG W/ WHISKEY STONES   \n",
       "8428103 2016-01-13     IOWA CITY     JOHNSON  LAPHROAIG W/ WHISKEY STONES   \n",
       "8428104 2016-01-13    CORALVILLE     JOHNSON  LAPHROAIG W/ WHISKEY STONES   \n",
       "8428105 2016-01-14   CEDAR FALLS  BLACK HAWK  LAPHROAIG W/ WHISKEY STONES   \n",
       "\n",
       "        State Bottle Cost State Bottle Retail  Volume Sold (Liters)  \n",
       "8427861             21.50               32.25                  0.75  \n",
       "8428102             19.58               29.37                  1.50  \n",
       "8428103             19.58               29.37                  9.00  \n",
       "8428104             19.58               29.37                  2.25  \n",
       "8428105             19.58               29.37                  0.75  "
      ]
     },
     "execution_count": 76,
     "metadata": {},
     "output_type": "execute_result"
    }
   ],
   "source": [
    "year_2016 = df[df['Date'].dt.year == 2016]\n",
    "year_2016.head()"
   ]
  },
  {
   "cell_type": "code",
   "execution_count": null,
   "id": "6e2ec086",
   "metadata": {
    "collapsed": true
   },
   "outputs": [
    {
     "data": {
      "text/html": [
       "<div>\n",
       "<style scoped>\n",
       "    .dataframe tbody tr th:only-of-type {\n",
       "        vertical-align: middle;\n",
       "    }\n",
       "\n",
       "    .dataframe tbody tr th {\n",
       "        vertical-align: top;\n",
       "    }\n",
       "\n",
       "    .dataframe thead th {\n",
       "        text-align: right;\n",
       "    }\n",
       "</style>\n",
       "<table border=\"1\" class=\"dataframe\">\n",
       "  <thead>\n",
       "    <tr style=\"text-align: right;\">\n",
       "      <th></th>\n",
       "      <th>Date</th>\n",
       "      <th>City</th>\n",
       "      <th>County</th>\n",
       "      <th>Item Description</th>\n",
       "      <th>State Bottle Cost</th>\n",
       "      <th>State Bottle Retail</th>\n",
       "      <th>Volume Sold (Liters)</th>\n",
       "    </tr>\n",
       "  </thead>\n",
       "  <tbody>\n",
       "    <tr>\n",
       "      <th>10708015</th>\n",
       "      <td>2017-01-03</td>\n",
       "      <td>COUNCIL BLUFFS</td>\n",
       "      <td>POTTAWATTA</td>\n",
       "      <td>HOUSE OF STUART</td>\n",
       "      <td>10.52</td>\n",
       "      <td>15.78</td>\n",
       "      <td>5.25</td>\n",
       "    </tr>\n",
       "    <tr>\n",
       "      <th>10708016</th>\n",
       "      <td>2017-01-03</td>\n",
       "      <td>COUNCIL BLUFFS</td>\n",
       "      <td>POTTAWATTA</td>\n",
       "      <td>BOMBAY DRY GIN</td>\n",
       "      <td>10.50</td>\n",
       "      <td>15.75</td>\n",
       "      <td>0.75</td>\n",
       "    </tr>\n",
       "    <tr>\n",
       "      <th>10708017</th>\n",
       "      <td>2017-01-03</td>\n",
       "      <td>COUNCIL BLUFFS</td>\n",
       "      <td>POTTAWATTA</td>\n",
       "      <td>HPNOTIQ</td>\n",
       "      <td>9.83</td>\n",
       "      <td>14.75</td>\n",
       "      <td>0.75</td>\n",
       "    </tr>\n",
       "    <tr>\n",
       "      <th>10708018</th>\n",
       "      <td>2017-01-03</td>\n",
       "      <td>COUNCIL BLUFFS</td>\n",
       "      <td>POTTAWATTA</td>\n",
       "      <td>BAILEY'S ORIGINAL IRISH CREAM</td>\n",
       "      <td>16.50</td>\n",
       "      <td>24.75</td>\n",
       "      <td>2.00</td>\n",
       "    </tr>\n",
       "    <tr>\n",
       "      <th>10708019</th>\n",
       "      <td>2017-01-03</td>\n",
       "      <td>COUNCIL BLUFFS</td>\n",
       "      <td>POTTAWATTA</td>\n",
       "      <td>CANADIAN CLUB WHISKY</td>\n",
       "      <td>9.71</td>\n",
       "      <td>14.57</td>\n",
       "      <td>1.00</td>\n",
       "    </tr>\n",
       "  </tbody>\n",
       "</table>\n",
       "</div>"
      ],
      "text/plain": [
       "               Date            City      County  \\\n",
       "10708015 2017-01-03  COUNCIL BLUFFS  POTTAWATTA   \n",
       "10708016 2017-01-03  COUNCIL BLUFFS  POTTAWATTA   \n",
       "10708017 2017-01-03  COUNCIL BLUFFS  POTTAWATTA   \n",
       "10708018 2017-01-03  COUNCIL BLUFFS  POTTAWATTA   \n",
       "10708019 2017-01-03  COUNCIL BLUFFS  POTTAWATTA   \n",
       "\n",
       "                       Item Description State Bottle Cost State Bottle Retail  \\\n",
       "10708015                HOUSE OF STUART             10.52               15.78   \n",
       "10708016                 BOMBAY DRY GIN             10.50               15.75   \n",
       "10708017                        HPNOTIQ              9.83               14.75   \n",
       "10708018  BAILEY'S ORIGINAL IRISH CREAM             16.50               24.75   \n",
       "10708019           CANADIAN CLUB WHISKY              9.71               14.57   \n",
       "\n",
       "          Volume Sold (Liters)  \n",
       "10708015                  5.25  \n",
       "10708016                  0.75  \n",
       "10708017                  0.75  \n",
       "10708018                  2.00  \n",
       "10708019                  1.00  "
      ]
     },
     "execution_count": 77,
     "metadata": {},
     "output_type": "execute_result"
    }
   ],
   "source": [
    "year_2017 = df[df['Date'].dt.year == 2017]\n",
    "year_2017.head()"
   ]
  },
  {
   "cell_type": "code",
   "execution_count": null,
   "id": "43deee2c",
   "metadata": {},
   "outputs": [
    {
     "data": {
      "text/plain": [
       "[2078450, 2061103, 2096742, 2183364, 2210543, 1881687]"
      ]
     },
     "execution_count": 111,
     "metadata": {},
     "output_type": "execute_result"
    }
   ],
   "source": [
    "year = [2012,2013,2014,2015,2016,2017]\n",
    "qtt = []\n",
    "qtt.append(len(year_2012.index))\n",
    "qtt.append(len(year_2013.index))\n",
    "qtt.append(len(year_2014.index))\n",
    "qtt.append(len(year_2015.index))\n",
    "qtt.append(len(year_2016.index))\n",
    "qtt.append(len(year_2017.index))\n",
    "qtt"
   ]
  },
  {
   "cell_type": "code",
   "execution_count": null,
   "id": "f26e407f",
   "metadata": {},
   "outputs": [
    {
     "data": {
      "text/plain": [
       "[<matplotlib.lines.Line2D at 0x229a77f9e20>]"
      ]
     },
     "execution_count": 116,
     "metadata": {},
     "output_type": "execute_result"
    },
    {
     "data": {
      "image/png": "[encoded data removed]",
      "text/plain": [
       "<Figure size 432x288 with 1 Axes>"
      ]
     },
     "metadata": {
      "needs_background": "light"
     },
     "output_type": "display_data"
    }
   ],
   "source": [
    "plt.plot(year, qtt)"
   ]
  },
  {
   "cell_type": "code",
   "execution_count": null,
   "id": "ef9bd36e",
   "metadata": {},
   "outputs": [
    {
     "data": {
      "text/plain": [
       "[2078450, 2061103, 2096742, 2183364, 2210543]"
      ]
     },
     "execution_count": 117,
     "metadata": {},
     "output_type": "execute_result"
    }
   ],
   "source": [
    "year = [2012,2013,2014,2015,2016]\n",
    "qtt = []\n",
    "qtt.append(len(year_2012.index))\n",
    "qtt.append(len(year_2013.index))\n",
    "qtt.append(len(year_2014.index))\n",
    "qtt.append(len(year_2015.index))\n",
    "qtt.append(len(year_2016.index))\n",
    "qtt"
   ]
  },
  {
   "cell_type": "code",
   "execution_count": null,
   "id": "f7db2f8f",
   "metadata": {},
   "outputs": [
    {
     "data": {
      "text/plain": [
       "[<matplotlib.lines.Line2D at 0x229a7855be0>]"
      ]
     },
     "execution_count": 118,
     "metadata": {},
     "output_type": "execute_result"
    },
    {
     "data": {
      "image/png": "[encoded data removed]",
      "text/plain": [
       "<Figure size 432x288 with 1 Axes>"
      ]
     },
     "metadata": {
      "needs_background": "light"
     },
     "output_type": "display_data"
    }
   ],
   "source": [
    "plt.plot(year, qtt)"
   ]
  },
  {
   "cell_type": "code",
   "execution_count": null,
   "id": "b21b8cd1",
   "metadata": {},
   "outputs": [],
   "source": [
    "volume_per_month_2012 = year_2012['Date']"
   ]
  },
  {
   "cell_type": "code",
   "execution_count": null,
   "id": "a2ead538",
   "metadata": {},
   "outputs": [],
   "source": [
    "volume_per_month_2013 = year_2013['Date']"
   ]
  },
  {
   "cell_type": "code",
   "execution_count": null,
   "id": "7dcd20ee",
   "metadata": {},
   "outputs": [],
   "source": [
    "volume_per_month_2014 = year_2014['Date']"
   ]
  },
  {
   "cell_type": "code",
   "execution_count": null,
   "id": "383fc86c",
   "metadata": {},
   "outputs": [],
   "source": [
    "volume_per_month_2015 = year_2015['Date']"
   ]
  },
  {
   "cell_type": "code",
   "execution_count": null,
   "id": "8f0a6dbf",
   "metadata": {},
   "outputs": [],
   "source": [
    "volume_per_month_2016 = year_2016['Date']"
   ]
  },
  {
   "cell_type": "code",
   "execution_count": null,
   "id": "4a37fd93",
   "metadata": {},
   "outputs": [],
   "source": [
    "volume_per_month_2017 = year_2017['Date']"
   ]
  },
  {
   "cell_type": "code",
   "execution_count": null,
   "id": "1a2c6248",
   "metadata": {},
   "outputs": [
    {
     "data": {
      "image/png": "[encoded data removed]",
      "text/plain": [
       "<Figure size 432x288 with 1 Axes>"
      ]
     },
     "metadata": {
      "needs_background": "light"
     },
     "output_type": "display_data"
    }
   ],
   "source": [
    "volume_per_month_2012.groupby(volume_per_month_2012.dt.month).count().plot.line()"
   ]
  },
  {
   "cell_type": "code",
   "execution_count": null,
   "id": "2616ef96",
   "metadata": {},
   "outputs": [
    {
     "data": {
      "image/png": "[encoded data removed]",
      "text/plain": [
       "<Figure size 432x288 with 1 Axes>"
      ]
     },
     "metadata": {
      "needs_background": "light"
     },
     "output_type": "display_data"
    }
   ],
   "source": [
    "volume_per_month_2013.groupby(volume_per_month_2013.dt.month).count().plot.line()"
   ]
  },
  {
   "cell_type": "code",
   "execution_count": null,
   "id": "29ac0f4e",
   "metadata": {},
   "outputs": [
    {
     "data": {
      "text/plain": [
       "<AxesSubplot:xlabel='Date'>"
      ]
     },
     "execution_count": 89,
     "metadata": {},
     "output_type": "execute_result"
    },
    {
     "data": {
      "image/png": "[encoded data removed]",
      "text/plain": [
       "<Figure size 432x288 with 1 Axes>"
      ]
     },
     "metadata": {
      "needs_background": "light"
     },
     "output_type": "display_data"
    }
   ],
   "source": [
    "volume_per_month_2014.groupby(volume_per_month_2014.dt.month).count().plot.line()"
   ]
  },
  {
   "cell_type": "code",
   "execution_count": null,
   "id": "6c5c2928",
   "metadata": {},
   "outputs": [
    {
     "data": {
      "text/plain": [
       "<AxesSubplot:xlabel='Date'>"
      ]
     },
     "execution_count": 90,
     "metadata": {},
     "output_type": "execute_result"
    },
    {
     "data": {
      "image/png": "[encoded data removed]",
      "text/plain": [
       "<Figure size 432x288 with 1 Axes>"
      ]
     },
     "metadata": {
      "needs_background": "light"
     },
     "output_type": "display_data"
    }
   ],
   "source": [
    "volume_per_month_2015.groupby(volume_per_month_2015.dt.month).count().plot.line()"
   ]
  },
  {
   "cell_type": "code",
   "execution_count": null,
   "id": "241578ca",
   "metadata": {},
   "outputs": [
    {
     "data": {
      "text/plain": [
       "<AxesSubplot:xlabel='Date'>"
      ]
     },
     "execution_count": 92,
     "metadata": {},
     "output_type": "execute_result"
    },
    {
     "data": {
      "image/png": "[encoded data removed]",
      "text/plain": [
       "<Figure size 432x288 with 1 Axes>"
      ]
     },
     "metadata": {
      "needs_background": "light"
     },
     "output_type": "display_data"
    }
   ],
   "source": [
    "volume_per_month_2016.groupby(volume_per_month_2016.dt.month).count().plot.line()"
   ]
  },
  {
   "cell_type": "code",
   "execution_count": null,
   "id": "c4cf1193",
   "metadata": {},
   "outputs": [
    {
     "data": {
      "text/plain": [
       "<AxesSubplot:xlabel='Date'>"
      ]
     },
     "execution_count": 91,
     "metadata": {},
     "output_type": "execute_result"
    },
    {
     "data": {
      "image/png": "[encoded data removed]",
      "text/plain": [
       "<Figure size 432x288 with 1 Axes>"
      ]
     },
     "metadata": {
      "needs_background": "light"
     },
     "output_type": "display_data"
    }
   ],
   "source": [
    "volume_per_month_2017.groupby(volume_per_month_2017.dt.month).count().plot.line()"
   ]
  }
 ],
 "metadata": {
  "interpreter": {
   "hash": "5f15e1cb9d6d612925d6246ed59693829277a4bc8e4e565041aad7c1eb71fee3"
  },
  "kernelspec": {
   "display_name": "Python 3.8.10 64-bit ('iowalicor-e8HhPf_A-py3.8': poetry)",
   "name": "python3"
  },
  "language_info": {
   "codemirror_mode": {
    "name": "ipython",
    "version": 3
   },
   "file_extension": ".py",
   "mimetype": "text/x-python",
   "name": "python",
   "nbconvert_exporter": "python",
   "pygments_lexer": "ipython3",
   "version": "3.8.10"
  }
 },
 "nbformat": 4,
 "nbformat_minor": 5
}
