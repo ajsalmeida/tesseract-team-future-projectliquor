{
 "cells": [
  {
   "cell_type": "markdown",
   "metadata": {},
   "source": [
    "## Classificação de variáveis"
   ]
  },
  {
   "cell_type": "markdown",
   "metadata": {},
   "source": [
    "### Importando as bibliotecas "
   ]
  },
  {
   "cell_type": "code",
   "execution_count": 2,
   "metadata": {},
   "outputs": [],
   "source": [
    "import pandas as pd\n",
    "import numpy as np\n",
    "import warnings\n",
    "import matplotlib.pyplot as plt\n",
    "from slugify import slugify"
   ]
  },
  {
   "cell_type": "code",
   "execution_count": 3,
   "metadata": {},
   "outputs": [
    {
     "data": {
      "text/html": [
       "<div>\n",
       "<style scoped>\n",
       "    .dataframe tbody tr th:only-of-type {\n",
       "        vertical-align: middle;\n",
       "    }\n",
       "\n",
       "    .dataframe tbody tr th {\n",
       "        vertical-align: top;\n",
       "    }\n",
       "\n",
       "    .dataframe thead th {\n",
       "        text-align: right;\n",
       "    }\n",
       "</style>\n",
       "<table border=\"1\" class=\"dataframe\">\n",
       "  <thead>\n",
       "    <tr style=\"text-align: right;\">\n",
       "      <th></th>\n",
       "      <th>Invoice/Item Number</th>\n",
       "      <th>Date</th>\n",
       "      <th>Store Number</th>\n",
       "      <th>Store Name</th>\n",
       "      <th>Address</th>\n",
       "      <th>City</th>\n",
       "      <th>Zip Code</th>\n",
       "      <th>Store Location</th>\n",
       "      <th>County Number</th>\n",
       "      <th>County</th>\n",
       "      <th>...</th>\n",
       "      <th>Item Number</th>\n",
       "      <th>Item Description</th>\n",
       "      <th>Pack</th>\n",
       "      <th>Bottle Volume (ml)</th>\n",
       "      <th>State Bottle Cost</th>\n",
       "      <th>State Bottle Retail</th>\n",
       "      <th>Bottles Sold</th>\n",
       "      <th>Sale (Dollars)</th>\n",
       "      <th>Volume Sold (Liters)</th>\n",
       "      <th>Volume Sold (Gallons)</th>\n",
       "    </tr>\n",
       "  </thead>\n",
       "  <tbody>\n",
       "    <tr>\n",
       "      <th>0</th>\n",
       "      <td>S29198800001</td>\n",
       "      <td>11/20/2015</td>\n",
       "      <td>2191</td>\n",
       "      <td>Keokuk Spirits</td>\n",
       "      <td>1013 MAIN</td>\n",
       "      <td>KEOKUK</td>\n",
       "      <td>52632</td>\n",
       "      <td>1013 MAIN\\nKEOKUK 52632\\n(40.39978, -91.387531)</td>\n",
       "      <td>56</td>\n",
       "      <td>Lee</td>\n",
       "      <td>...</td>\n",
       "      <td>297</td>\n",
       "      <td>Templeton Rye w/Flask</td>\n",
       "      <td>6</td>\n",
       "      <td>750</td>\n",
       "      <td>$18.09</td>\n",
       "      <td>$27.14</td>\n",
       "      <td>6</td>\n",
       "      <td>$162.84</td>\n",
       "      <td>4.5</td>\n",
       "      <td>1.19</td>\n",
       "    </tr>\n",
       "  </tbody>\n",
       "</table>\n",
       "<p>1 rows × 24 columns</p>\n",
       "</div>"
      ],
      "text/plain": [
       "  Invoice/Item Number        Date  Store Number      Store Name    Address  \\\n",
       "0        S29198800001  11/20/2015          2191  Keokuk Spirits  1013 MAIN   \n",
       "\n",
       "     City  Zip Code                                   Store Location  \\\n",
       "0  KEOKUK     52632  1013 MAIN\\nKEOKUK 52632\\n(40.39978, -91.387531)   \n",
       "\n",
       "   County Number County  ...  Item Number       Item Description  Pack  \\\n",
       "0             56    Lee  ...          297  Templeton Rye w/Flask     6   \n",
       "\n",
       "  Bottle Volume (ml)  State Bottle Cost State Bottle Retail  Bottles Sold  \\\n",
       "0                750             $18.09              $27.14             6   \n",
       "\n",
       "   Sale (Dollars) Volume Sold (Liters) Volume Sold (Gallons)  \n",
       "0         $162.84                  4.5                  1.19  \n",
       "\n",
       "[1 rows x 24 columns]"
      ]
     },
     "execution_count": 3,
     "metadata": {},
     "output_type": "execute_result"
    }
   ],
   "source": [
    "df_firstn = pd.read_csv(\"../data/raw/Iowa_Liquor_Sales.csv\", nrows=1)\n",
    "df_firstn"
   ]
  },
  {
   "cell_type": "markdown",
   "metadata": {},
   "source": [
    "## Análise exploratória dataset Iowa_Liquor_Sales"
   ]
  },
  {
   "cell_type": "markdown",
   "metadata": {},
   "source": [
    "### Escolha das colunas do dataset para a análise exploratória"
   ]
  },
  {
   "cell_type": "code",
   "execution_count": 6,
   "metadata": {},
   "outputs": [],
   "source": [
    "req_cols=['Date','City','County','Item Description','State Bottle Cost','State Bottle Retail','Volume Sold (Liters)']"
   ]
  },
  {
   "cell_type": "markdown",
   "metadata": {},
   "source": [
    "### Criação do dataframe df contendo as colunas selecionadas previamente através da lista req_cols. Isso diminui bastante o dataset e possibilita a sua análise"
   ]
  },
  {
   "cell_type": "code",
   "execution_count": 5,
   "metadata": {},
   "outputs": [],
   "source": [
    "df = pd.read_csv(\"../data/raw/Iowa_Liquor_Sales.csv\", usecols=req_cols)"
   ]
  },
  {
   "cell_type": "code",
   "execution_count": 7,
   "metadata": {},
   "outputs": [
    {
     "data": {
      "text/plain": [
       "Index(['date', 'city', 'county', 'item_description', 'state_bottle_cost',\n",
       "       'state_bottle_retail', 'volume_sold_liters'],\n",
       "      dtype='object')"
      ]
     },
     "execution_count": 7,
     "metadata": {},
     "output_type": "execute_result"
    }
   ],
   "source": [
    "df.columns = [slugify(col, lowercase=True, separator='_') for col in df.columns]\n",
    "df.columns"
   ]
  },
  {
   "cell_type": "code",
   "execution_count": 8,
   "metadata": {},
   "outputs": [],
   "source": [
    "#df['city'] = slugify(str(df['city']))"
   ]
  },
  {
   "cell_type": "markdown",
   "metadata": {},
   "source": [
    "### Eliminamos os valores NaN da tabela para diminuir o tamanho do dataset"
   ]
  },
  {
   "cell_type": "code",
   "execution_count": 9,
   "metadata": {},
   "outputs": [
    {
     "data": {
      "text/plain": [
       "True"
      ]
     },
     "execution_count": 9,
     "metadata": {},
     "output_type": "execute_result"
    }
   ],
   "source": [
    "df.isnull().values.any()"
   ]
  },
  {
   "cell_type": "code",
   "execution_count": 10,
   "metadata": {},
   "outputs": [],
   "source": [
    "for x in df.columns:\n",
    "    df[x] = df[x].fillna(0)"
   ]
  },
  {
   "cell_type": "code",
   "execution_count": 11,
   "metadata": {},
   "outputs": [
    {
     "data": {
      "text/plain": [
       "False"
      ]
     },
     "execution_count": 11,
     "metadata": {},
     "output_type": "execute_result"
    }
   ],
   "source": [
    "df.isnull().values.any()"
   ]
  },
  {
   "cell_type": "markdown",
   "metadata": {},
   "source": [
    "### Padronizando os nomes de condados, cidades e descrição de itens"
   ]
  },
  {
   "cell_type": "code",
   "execution_count": 12,
   "metadata": {},
   "outputs": [],
   "source": [
    "df['county'] = df['county'].str.upper()"
   ]
  },
  {
   "cell_type": "code",
   "execution_count": 13,
   "metadata": {},
   "outputs": [],
   "source": [
    "df['city'] = df['city'].str.upper()"
   ]
  },
  {
   "cell_type": "code",
   "execution_count": 14,
   "metadata": {},
   "outputs": [],
   "source": [
    "df['item_description'] = df['item_description'].str.upper()"
   ]
  },
  {
   "cell_type": "markdown",
   "metadata": {},
   "source": [
    "#### Verificando quantidade de cidades e condados:"
   ]
  },
  {
   "cell_type": "code",
   "execution_count": 15,
   "metadata": {},
   "outputs": [],
   "source": [
    "cities = df['city'].unique()"
   ]
  },
  {
   "cell_type": "code",
   "execution_count": 16,
   "metadata": {},
   "outputs": [
    {
     "data": {
      "text/plain": [
       "array(['KEOKUK', 'CLARINDA', 'FORT MADISON', 'IOWA CITY', 'TOLEDO',\n",
       "       'HOLSTEIN', 'WATERLOO', 'MUSCATINE', 'DUNLAP', 'SHELDON',\n",
       "       'DES MOINES', 'ATLANTIC', 'CLINTON', 'DUBUQUE', 'CEDAR FALLS',\n",
       "       'DENISON', 'ONAWA', 'WAUKEE', 'LE CLAIRE', 'PELLA', 'ALTOONA',\n",
       "       'MOUNT PLEASANT', 'OSKALOOSA', 'BANCROFT', 'HARLAN', 'ANKENY',\n",
       "       'IOWA FALLS', 'WAVERLY', 'CEDAR RAPIDS', 'SIOUX CITY', 'NEWTON',\n",
       "       'MARSHALLTOWN', 'SHENANDOAH', 'MOUNT AYR', 'COUNCIL BLUFFS',\n",
       "       'WASHINGTON', 'DAVENPORT', 'KNOXVILLE', 'FORT DODGE',\n",
       "       'INDEPENDENCE', 'MISSOURI VALLEY', 'CRESCO', 'WEST DES MOINES',\n",
       "       'ESTHERVILLE', 'COON RAPIDS', 'AMES', 'PLEASANT HILL',\n",
       "       'MASON CITY', 'RED OAK', 'SPENCER', 'BURLINGTON', 'GUTHRIE CENTER',\n",
       "       'ANAMOSA', 'CHARITON', 'SPIRIT LAKE', 'BETTENDORF', 'MILFORD',\n",
       "       'DECORAH', 'GRIMES', 'PARKERSBURG', 'NEVADA', 'EAGLE GROVE',\n",
       "       'LECLAIRE', 'CLEAR LAKE', 'ARNOLDS PARK', 'WILTON', 'JOHNSTON',\n",
       "       'TIPTON', 'NORTH LIBERTY', 'MAPLETON', 'SIBLEY', 'LAKE MILLS',\n",
       "       'PALO', 'CONRAD', 'WAPELLO', 'TRIPOLI', 'LE MARS', 'MT VERNON',\n",
       "       'SIOUX CENTER', 'ALGONA', 'EMMETSBURG', 'BELLEVUE', 'WEST POINT',\n",
       "       'STORM LAKE', 'CHARLES CITY', 'MARENGO', 'NORA SPRINGS',\n",
       "       'DAKOTA CITY', 'MOUNT VERNON', 'MONTICELLO', 'COLFAX', 'CRESTON',\n",
       "       'IDA GROVE', 'MONONA', 'HUMBOLDT', 'NORWALK', 'SUMNER',\n",
       "       'EVANSDALE', 'JEFFERSON', 'GUTTENBERG', 'GOWRIE', 'URBANDALE',\n",
       "       'SWISHER', 'OTTUMWA', 'GRAND MOUND', 'WEST LIBERTY', 'OTTUWMA',\n",
       "       'NORTH ENGLISH', 'CORALVILLE', 'LARCHWOOD', 'FOREST CITY', 'CLIVE',\n",
       "       'SAC CITY', 'MAQUOKETA', 'WINTERSET', 'DYERSVILLE',\n",
       "       'WINDSOR HEIGHTS', 'ORANGE CITY', 'GRAETTINGER', 'CLARKSVILLE',\n",
       "       'BEDFORD', 'WEST BURLINGTON', 'CAMANCHE', 'ROCKWELL CITY', 'BRITT',\n",
       "       'DURANT', 'CARROLL', 'SOLON', 'MARION', 'ALLISON', 'MANCHESTER',\n",
       "       'PANORA', 'OELWEIN', 'NASHUA', 'FAIRFIELD', 'SHELLSBURG',\n",
       "       'INDIANOLA', 'BROOKLYN', 'SCRANTON', 'CHEROKEE', 'VINTON',\n",
       "       'HAMPTON', 'FORT ATKINSON', 'NEW HAMPTON', 'EDDYVILLE',\n",
       "       'CENTRAL CITY', 'TRAER', 'OSCEOLA', 'WEBSTER CITY', 'DENVER',\n",
       "       'ELLSWORTH', 'WESLEY', 'ROCKWELL', 'ELKADER', 'PLEASANTVILLE',\n",
       "       'CASCADE', 'SIGOURNEY', 'PRINCETON', 'AUDUBON', 'DYSART', 'PERRY',\n",
       "       'SIOUX RAPIDS', 'ELDRIDGE', 'MEDIAPOLIS', 'COLUMBUS JUNCTION',\n",
       "       'STORY CITY', 'WELLMAN', 'HAWARDEN', 'BOONE', 'ARLINGTON',\n",
       "       'WAUKON', 'LEMARS', 'ADEL', 'TREYNOR', 'CARTER LAKE', 'ELDORA',\n",
       "       'GRINNELL', 'MARCUS', 'LANSING', 'AVOCA', 'ALTA', 'CLARION',\n",
       "       'DAYTON', 'OSAGE', 'STATE CENTER', 'CARLISLE', 'SWEA CITY',\n",
       "       'BELLE PLAINE', 'WEST BRANCH', 'ACKLEY', 'ALDEN', 'GARNER',\n",
       "       'BLUE GRASS', 'STRATFORD', 'BLOOMFIELD', 'MONTEZUMA', 'WHEATLAND',\n",
       "       'ANTHON', 'BUFFALO CENTER', 'CENTERVILLE', 'GEORGE', 'BONDURANT',\n",
       "       'GREENE', 'WEST UNION', 'TIFFIN', 'CORYDON', 'POSTVILLE',\n",
       "       'STRAWBERRY POINT', 'GLENWOOD', 'SERGEANT BLUFF', 'NORTHWOOD',\n",
       "       'KEOTA', 'HIAWATHA', 'LAKE VIEW', 'POLK CITY', 'POCAHONTAS',\n",
       "       'GRUNDY CENTER', 'SUTHERLAND', 'WOODBINE', 'HARTLEY',\n",
       "       'LA PORTE CITY', 'LOGAN', 'OAKLAND', 'DE SOTO', 'BELMOND', 'AKRON',\n",
       "       'WILLIAMSBURG', 'REMSEN', 'ROCK RAPIDS', 'WINTHROP', 'JESUP',\n",
       "       'DEWITT', 'ALBIA', 'PAULLINA', 'GUTTENBURG', 'WEST BEND', 'FLOYD',\n",
       "       'RUTHVEN', 'STUART', 'FARLEY', 'MADRID', 'OSSIAN', 'AURELIA',\n",
       "       'ROCK VALLEY', 'RIVERSIDE', 'PRAIRIE CITY', 'MELCHER-DALLAS',\n",
       "       'ELMA', 'AFTON', 'NEW VIRGINIA', 'PRIMGHAR', 'REINBECK', 'ADAIR',\n",
       "       'GLADBROOK', 'MURRAY', 'MT PLEASANT', 'FAIRBANK', 'SLOAN',\n",
       "       'WELLSBURG', 'ELY', 'HAMBURG', 'LE GRAND', 'LAKE CITY', 'KINGSLEY',\n",
       "       'LOVILIA', 'MANSON', 'INWOOD', 'SULLY', 'CORNING', 'HOLY CROSS',\n",
       "       'SCHLESWIG', 'MANNING', 'HUBBARD', 'ST ANSGAR', 'LISBON', 'LAMONI',\n",
       "       'MONROE', 'LEON', 'SCHALLER', 'ZWINGLE', 'ARMSTRONG', 'LATIMER',\n",
       "       \"ARNOLD'S PARK\", 'KEOSAUQUA', 'GRISWOLD', 'NEW SHARON', 'NEOLA',\n",
       "       'CENTER POINT', 'VAN METER', 'DUMONT', 'MARTENSDALE',\n",
       "       'GRAND JUNCTION', 'MORAVIA', 'ANITA', 'RAYMOND', 'LENOX',\n",
       "       'EDGEWOOD', 'HUDSON', 'PEOSTA', 'HUXLEY', 'CAMBRIDGE', 'SLATER',\n",
       "       'FAYETTE', 'FONTANELLE', 'HARPERS FERRY', 'OTHO', 'MINDEN',\n",
       "       'ALTON', 'WALNUT', 'SANBORN', 'EARLY', 'FREDERICKSBURG', 'BAXTER',\n",
       "       'ST LUCAS', 'KELLOG', 'EARLHAM', 'COLESBURG', 'OGDEN', 'IRETON',\n",
       "       'BALDWIN', 'PRESTON', 'GLIDDEN', 'DELAWARE', 'MCGREGOR', 'URBANA',\n",
       "       'CRESCENT', 'LAKE PARK', 'ELDON', 'GRANGER', 'FARMINGTON',\n",
       "       'PACIFIC JUNCTION', 'BEVINGTON', 'JEWELL', 'WHITTEMORE', 'LAURENS',\n",
       "       'GREENFIELD', 'LAWLER', 'EXIRA', 'GARNAVILLO', 'MECHANICSVILLE',\n",
       "       'LOST NATION', 'GILMORE CITY', 'MAXWELL', 'FONDA', 'FAIRFAX',\n",
       "       'MALVERN', 'ROLFE', 'HAZLETON', 'VILLISCA', 'HOSPERS', 'KELLOGG',\n",
       "       'ST CHARLES', 'DONNELLSON', 'GOLDFIELD', 'STANWOOD', 'CHESTER',\n",
       "       'FT. ATKINSON', 'WOODWARD', 'CASEY', 'MERRILL', 'EVERLY',\n",
       "       'OKOBOJI', 'SPRINGVILLE', 'CUMMING', 'BUFFALO', 'SHEFFIELD',\n",
       "       'POMEROY', 'WALKER', 'COLO', 'MONTROSE', 'ROBINS', 'DELHI',\n",
       "       'MELBOURNE', 'RICEVILLE', 'DANVILLE', 'ALTA VISTA', 'CORWITH',\n",
       "       'WALFORD', 'BUSSEY', 'WALL LAKE', 'DELMAR', 'DOWS', 'HUMESTON',\n",
       "       'WASHBURN', 'VICTOR', 'MANLY', 'ALVORD', 'LOHRVILLE', 'SEYMOUR',\n",
       "       'TABOR', 'RUNNELLS', 'GILBERTVILLE', 'MITCHELLVILLE', 'ATKINS',\n",
       "       'ALBERT CITY', 'STANTON', 'SHELBY', 'OTUMWA', 'ALBURNETT', nan,\n",
       "       'TEMPLETON', 'WASHTA', 'GRAND MOUNDS', 'VAN HORNE', 'CLEARLAKE',\n",
       "       'ALBION', 'OXFORD', 'TRURO', 'GARWIN', 'TAMA', 'AMANA', 'EARLING',\n",
       "       'DOON', 'SHUEYVILLE', 'KANAWHA', 'MARQUETTE', 'WINFIELD'],\n",
       "      dtype=object)"
      ]
     },
     "execution_count": 16,
     "metadata": {},
     "output_type": "execute_result"
    }
   ],
   "source": [
    "cities"
   ]
  },
  {
   "cell_type": "code",
   "execution_count": 17,
   "metadata": {},
   "outputs": [
    {
     "data": {
      "text/plain": [
       "417"
      ]
     },
     "execution_count": 17,
     "metadata": {},
     "output_type": "execute_result"
    }
   ],
   "source": [
    "len(cities)"
   ]
  },
  {
   "cell_type": "code",
   "execution_count": 18,
   "metadata": {},
   "outputs": [],
   "source": [
    "county = df['county'].unique()"
   ]
  },
  {
   "cell_type": "code",
   "execution_count": 19,
   "metadata": {},
   "outputs": [
    {
     "data": {
      "text/plain": [
       "array(['LEE', 'PAGE', 'JOHNSON', 'TAMA', 'IDA', 'BLACK HAWK', 'MUSCATINE',\n",
       "       'HARRISON', \"O'BRIEN\", 'POLK', 'CASS', 'CLINTON', 'DUBUQUE',\n",
       "       'CRAWFORD', 'MONONA', 'DALLAS', 'SCOTT', 'MARION', 'HENRY',\n",
       "       'BUCHANAN', 'KOSSUTH', 'SHELBY', 'HARDIN', 'BREMER', 'LINN',\n",
       "       'WOODBURY', 'JASPER', 'MARSHALL', 'RINGGOLD', 'POTTAWATTAMIE',\n",
       "       'WASHINGTON', 'WEBSTER', 'HOWARD', 'EMMET', 'CARROLL', 'STORY',\n",
       "       'CERRO GORDO', 'MONTGOMERY', 'CLAY', 'DES MOINES', 'GUTHRIE',\n",
       "       'JONES', 'LUCAS', 'DICKINSON', 'MAHASKA', 'WINNESHIEK', 'BUTLER',\n",
       "       'WRIGHT', 'CEDAR', 'IOWA', 'OSCEOLA', 'WINNEBAGO', 'GRUNDY',\n",
       "       'LOUISA', 'PLYMOUTH', 'SIOUX', 'PALO ALTO', 'JACKSON',\n",
       "       'BUENA VISTA', 'FLOYD', 'HUMBOLDT', 'UNION', 'CLAYTON', 'WARREN',\n",
       "       'GREENE', 'WAPELLO', 'LYON', 'SAC', 'MADISON', 'TAYLOR', 'CALHOUN',\n",
       "       'HANCOCK', 'DELAWARE', 'FAYETTE', 'CHICKASAW', 'JEFFERSON',\n",
       "       'BENTON', 'POWESHIEK', 'CHEROKEE', 'FRANKLIN', 'CLARKE',\n",
       "       'HAMILTON', 'KEOKUK', 'AUDUBON', nan, 'BOONE', 'ALLAMAKEE',\n",
       "       'MITCHELL', 'DAVIS', 'APPANOOSE', 'WAYNE', 'MILLS', 'WORTH',\n",
       "       'POCAHONTAS', 'MONROE', 'ADAIR', 'FREMONT', 'ADAMS', 'DECATUR',\n",
       "       'VAN BUREN', 'OBRIEN', 'POTTAWATTA', 'BUENA VIST', 'CERRO GORD'],\n",
       "      dtype=object)"
      ]
     },
     "execution_count": 19,
     "metadata": {},
     "output_type": "execute_result"
    }
   ],
   "source": [
    "county"
   ]
  },
  {
   "cell_type": "code",
   "execution_count": 20,
   "metadata": {},
   "outputs": [
    {
     "data": {
      "text/plain": [
       "104"
      ]
     },
     "execution_count": 20,
     "metadata": {},
     "output_type": "execute_result"
    }
   ],
   "source": [
    "len(county)"
   ]
  },
  {
   "cell_type": "code",
   "execution_count": 21,
   "metadata": {},
   "outputs": [],
   "source": [
    "description = df['item_description'].unique()"
   ]
  },
  {
   "cell_type": "code",
   "execution_count": 22,
   "metadata": {},
   "outputs": [
    {
     "data": {
      "text/plain": [
       "5819"
      ]
     },
     "execution_count": 22,
     "metadata": {},
     "output_type": "execute_result"
    }
   ],
   "source": [
    "len(description)"
   ]
  },
  {
   "cell_type": "markdown",
   "metadata": {},
   "source": [
    "### Parece que precisaremos realizar algum tipo de transformação nesses dados. Pode-se perceber que às vezes o nome da cidade ou condado aparece com nome maiúsculo e às vezes minusculo. por via das dúvidas iremos fazer isso com a descrição do item também. Isso influencia de alguma forma nossa análise."
   ]
  },
  {
   "cell_type": "markdown",
   "metadata": {},
   "source": [
    "### Temos também um problema com os condados de O'BRIEN e CERRO GORDO, pois algumas vezes ele aparece com ou sem a aspa simples"
   ]
  },
  {
   "cell_type": "markdown",
   "metadata": {},
   "source": [
    "### Qual condado \"OBRIEN\" tem mais entradas? OBRIEN ou O'BRIEN?:"
   ]
  },
  {
   "cell_type": "code",
   "execution_count": 23,
   "metadata": {},
   "outputs": [
    {
     "data": {
      "text/plain": [
       "(12591077,)"
      ]
     },
     "execution_count": 23,
     "metadata": {},
     "output_type": "execute_result"
    }
   ],
   "source": [
    "df['county'].shape"
   ]
  },
  {
   "cell_type": "code",
   "execution_count": 24,
   "metadata": {},
   "outputs": [
    {
     "data": {
      "text/plain": [
       "(19819, 7)"
      ]
     },
     "execution_count": 24,
     "metadata": {},
     "output_type": "execute_result"
    }
   ],
   "source": [
    "test1 = df[df['county']==\"OBRIEN\"]\n",
    "test1.shape"
   ]
  },
  {
   "cell_type": "code",
   "execution_count": 25,
   "metadata": {},
   "outputs": [
    {
     "data": {
      "text/html": [
       "<div>\n",
       "<style scoped>\n",
       "    .dataframe tbody tr th:only-of-type {\n",
       "        vertical-align: middle;\n",
       "    }\n",
       "\n",
       "    .dataframe tbody tr th {\n",
       "        vertical-align: top;\n",
       "    }\n",
       "\n",
       "    .dataframe thead th {\n",
       "        text-align: right;\n",
       "    }\n",
       "</style>\n",
       "<table border=\"1\" class=\"dataframe\">\n",
       "  <thead>\n",
       "    <tr style=\"text-align: right;\">\n",
       "      <th></th>\n",
       "      <th>date</th>\n",
       "      <th>city</th>\n",
       "      <th>county</th>\n",
       "      <th>item_description</th>\n",
       "      <th>state_bottle_cost</th>\n",
       "      <th>state_bottle_retail</th>\n",
       "      <th>volume_sold_liters</th>\n",
       "    </tr>\n",
       "  </thead>\n",
       "  <tbody>\n",
       "    <tr>\n",
       "      <th>9712544</th>\n",
       "      <td>08/29/2016</td>\n",
       "      <td>SANBORN</td>\n",
       "      <td>OBRIEN</td>\n",
       "      <td>CAPTAIN MORGAN SPICED RUM</td>\n",
       "      <td>$11.75</td>\n",
       "      <td>$17.63</td>\n",
       "      <td>6.00</td>\n",
       "    </tr>\n",
       "    <tr>\n",
       "      <th>9712824</th>\n",
       "      <td>08/29/2016</td>\n",
       "      <td>PAULLINA</td>\n",
       "      <td>OBRIEN</td>\n",
       "      <td>BLACK VELVET</td>\n",
       "      <td>$5.23</td>\n",
       "      <td>$7.85</td>\n",
       "      <td>0.75</td>\n",
       "    </tr>\n",
       "    <tr>\n",
       "      <th>9712825</th>\n",
       "      <td>08/29/2016</td>\n",
       "      <td>PAULLINA</td>\n",
       "      <td>OBRIEN</td>\n",
       "      <td>BLACK VELVET</td>\n",
       "      <td>$9.70</td>\n",
       "      <td>$14.93</td>\n",
       "      <td>3.50</td>\n",
       "    </tr>\n",
       "    <tr>\n",
       "      <th>9712826</th>\n",
       "      <td>08/29/2016</td>\n",
       "      <td>PAULLINA</td>\n",
       "      <td>OBRIEN</td>\n",
       "      <td>SEAGRAMS 7 CROWN BL WHISKEY</td>\n",
       "      <td>$3.50</td>\n",
       "      <td>$5.25</td>\n",
       "      <td>1.12</td>\n",
       "    </tr>\n",
       "    <tr>\n",
       "      <th>9712827</th>\n",
       "      <td>08/29/2016</td>\n",
       "      <td>PAULLINA</td>\n",
       "      <td>OBRIEN</td>\n",
       "      <td>ABSOLUT SWEDISH VODKA 80 PRF</td>\n",
       "      <td>$11.49</td>\n",
       "      <td>$17.24</td>\n",
       "      <td>2.25</td>\n",
       "    </tr>\n",
       "    <tr>\n",
       "      <th>...</th>\n",
       "      <td>...</td>\n",
       "      <td>...</td>\n",
       "      <td>...</td>\n",
       "      <td>...</td>\n",
       "      <td>...</td>\n",
       "      <td>...</td>\n",
       "      <td>...</td>\n",
       "    </tr>\n",
       "    <tr>\n",
       "      <th>12591072</th>\n",
       "      <td>10/31/2017</td>\n",
       "      <td>SHELDON</td>\n",
       "      <td>OBRIEN</td>\n",
       "      <td>FRAPPACHATA ICED COFFEE BLEND</td>\n",
       "      <td>$8.00</td>\n",
       "      <td>$12.00</td>\n",
       "      <td>2.40</td>\n",
       "    </tr>\n",
       "    <tr>\n",
       "      <th>12591073</th>\n",
       "      <td>10/31/2017</td>\n",
       "      <td>SHELDON</td>\n",
       "      <td>OBRIEN</td>\n",
       "      <td>OLD FORESTER STATESMAN</td>\n",
       "      <td>$27.48</td>\n",
       "      <td>$41.22</td>\n",
       "      <td>1.50</td>\n",
       "    </tr>\n",
       "    <tr>\n",
       "      <th>12591074</th>\n",
       "      <td>10/31/2017</td>\n",
       "      <td>SHELDON</td>\n",
       "      <td>OBRIEN</td>\n",
       "      <td>OLD FORESTER 1897 WHISKY ROW SERIES</td>\n",
       "      <td>$24.98</td>\n",
       "      <td>$37.47</td>\n",
       "      <td>1.50</td>\n",
       "    </tr>\n",
       "    <tr>\n",
       "      <th>12591075</th>\n",
       "      <td>10/31/2017</td>\n",
       "      <td>SHELDON</td>\n",
       "      <td>OBRIEN</td>\n",
       "      <td>OLD FORESTER 1870 WHISKY ROW SERIES</td>\n",
       "      <td>$22.49</td>\n",
       "      <td>$33.74</td>\n",
       "      <td>1.50</td>\n",
       "    </tr>\n",
       "    <tr>\n",
       "      <th>12591076</th>\n",
       "      <td>10/31/2017</td>\n",
       "      <td>SHELDON</td>\n",
       "      <td>OBRIEN</td>\n",
       "      <td>SUGARLANDS SHINE PEANUT BUTTER &amp; JELLY MOONSHINE</td>\n",
       "      <td>$13.00</td>\n",
       "      <td>$19.50</td>\n",
       "      <td>1.50</td>\n",
       "    </tr>\n",
       "  </tbody>\n",
       "</table>\n",
       "<p>19819 rows × 7 columns</p>\n",
       "</div>"
      ],
      "text/plain": [
       "                date      city  county  \\\n",
       "9712544   08/29/2016   SANBORN  OBRIEN   \n",
       "9712824   08/29/2016  PAULLINA  OBRIEN   \n",
       "9712825   08/29/2016  PAULLINA  OBRIEN   \n",
       "9712826   08/29/2016  PAULLINA  OBRIEN   \n",
       "9712827   08/29/2016  PAULLINA  OBRIEN   \n",
       "...              ...       ...     ...   \n",
       "12591072  10/31/2017   SHELDON  OBRIEN   \n",
       "12591073  10/31/2017   SHELDON  OBRIEN   \n",
       "12591074  10/31/2017   SHELDON  OBRIEN   \n",
       "12591075  10/31/2017   SHELDON  OBRIEN   \n",
       "12591076  10/31/2017   SHELDON  OBRIEN   \n",
       "\n",
       "                                          item_description state_bottle_cost  \\\n",
       "9712544                          CAPTAIN MORGAN SPICED RUM            $11.75   \n",
       "9712824                                       BLACK VELVET             $5.23   \n",
       "9712825                                       BLACK VELVET             $9.70   \n",
       "9712826                        SEAGRAMS 7 CROWN BL WHISKEY             $3.50   \n",
       "9712827                       ABSOLUT SWEDISH VODKA 80 PRF            $11.49   \n",
       "...                                                    ...               ...   \n",
       "12591072                     FRAPPACHATA ICED COFFEE BLEND             $8.00   \n",
       "12591073                            OLD FORESTER STATESMAN            $27.48   \n",
       "12591074               OLD FORESTER 1897 WHISKY ROW SERIES            $24.98   \n",
       "12591075               OLD FORESTER 1870 WHISKY ROW SERIES            $22.49   \n",
       "12591076  SUGARLANDS SHINE PEANUT BUTTER & JELLY MOONSHINE            $13.00   \n",
       "\n",
       "         state_bottle_retail  volume_sold_liters  \n",
       "9712544               $17.63                6.00  \n",
       "9712824                $7.85                0.75  \n",
       "9712825               $14.93                3.50  \n",
       "9712826                $5.25                1.12  \n",
       "9712827               $17.24                2.25  \n",
       "...                      ...                 ...  \n",
       "12591072              $12.00                2.40  \n",
       "12591073              $41.22                1.50  \n",
       "12591074              $37.47                1.50  \n",
       "12591075              $33.74                1.50  \n",
       "12591076              $19.50                1.50  \n",
       "\n",
       "[19819 rows x 7 columns]"
      ]
     },
     "execution_count": 25,
     "metadata": {},
     "output_type": "execute_result"
    }
   ],
   "source": [
    "test1"
   ]
  },
  {
   "cell_type": "code",
   "execution_count": 26,
   "metadata": {},
   "outputs": [
    {
     "data": {
      "text/plain": [
       "(63224, 7)"
      ]
     },
     "execution_count": 26,
     "metadata": {},
     "output_type": "execute_result"
    }
   ],
   "source": [
    "test2 = df[df['county']==\"O'BRIEN\"]\n",
    "test2.shape"
   ]
  },
  {
   "cell_type": "code",
   "execution_count": 27,
   "metadata": {},
   "outputs": [
    {
     "data": {
      "text/html": [
       "<div>\n",
       "<style scoped>\n",
       "    .dataframe tbody tr th:only-of-type {\n",
       "        vertical-align: middle;\n",
       "    }\n",
       "\n",
       "    .dataframe tbody tr th {\n",
       "        vertical-align: top;\n",
       "    }\n",
       "\n",
       "    .dataframe thead th {\n",
       "        text-align: right;\n",
       "    }\n",
       "</style>\n",
       "<table border=\"1\" class=\"dataframe\">\n",
       "  <thead>\n",
       "    <tr style=\"text-align: right;\">\n",
       "      <th></th>\n",
       "      <th>date</th>\n",
       "      <th>city</th>\n",
       "      <th>county</th>\n",
       "      <th>item_description</th>\n",
       "      <th>state_bottle_cost</th>\n",
       "      <th>state_bottle_retail</th>\n",
       "      <th>volume_sold_liters</th>\n",
       "    </tr>\n",
       "  </thead>\n",
       "  <tbody>\n",
       "    <tr>\n",
       "      <th>10</th>\n",
       "      <td>11/17/2015</td>\n",
       "      <td>SHELDON</td>\n",
       "      <td>O'BRIEN</td>\n",
       "      <td>DISARONNO AMARETTO CAVALLI MIGNON 3-50ML PACK</td>\n",
       "      <td>$6.40</td>\n",
       "      <td>$9.60</td>\n",
       "      <td>3.00</td>\n",
       "    </tr>\n",
       "    <tr>\n",
       "      <th>46</th>\n",
       "      <td>11/10/2015</td>\n",
       "      <td>SHELDON</td>\n",
       "      <td>O'BRIEN</td>\n",
       "      <td>KNOB CREEK W/ CRYSTAL DECANTER</td>\n",
       "      <td>$35.55</td>\n",
       "      <td>$53.34</td>\n",
       "      <td>5.25</td>\n",
       "    </tr>\n",
       "    <tr>\n",
       "      <th>94</th>\n",
       "      <td>11/21/2015</td>\n",
       "      <td>SHELDON</td>\n",
       "      <td>O'BRIEN</td>\n",
       "      <td>TEMPLETON RYE W/FLASK</td>\n",
       "      <td>$18.09</td>\n",
       "      <td>$27.14</td>\n",
       "      <td>4.50</td>\n",
       "    </tr>\n",
       "    <tr>\n",
       "      <th>359</th>\n",
       "      <td>02/08/2012</td>\n",
       "      <td>SHELDON</td>\n",
       "      <td>O'BRIEN</td>\n",
       "      <td>CROWN ROYAL SPECIAL RESERVE</td>\n",
       "      <td>$24.30</td>\n",
       "      <td>$36.44</td>\n",
       "      <td>2.25</td>\n",
       "    </tr>\n",
       "    <tr>\n",
       "      <th>607</th>\n",
       "      <td>06/30/2014</td>\n",
       "      <td>SHELDON</td>\n",
       "      <td>O'BRIEN</td>\n",
       "      <td>FIREBALL CINNAMON WHISKY</td>\n",
       "      <td>$5.33</td>\n",
       "      <td>$8.00</td>\n",
       "      <td>1.50</td>\n",
       "    </tr>\n",
       "    <tr>\n",
       "      <th>...</th>\n",
       "      <td>...</td>\n",
       "      <td>...</td>\n",
       "      <td>...</td>\n",
       "      <td>...</td>\n",
       "      <td>...</td>\n",
       "      <td>...</td>\n",
       "      <td>...</td>\n",
       "    </tr>\n",
       "    <tr>\n",
       "      <th>9879034</th>\n",
       "      <td>08/22/2016</td>\n",
       "      <td>HARTLEY</td>\n",
       "      <td>O'BRIEN</td>\n",
       "      <td>SOUTHERN COMFORT</td>\n",
       "      <td>$12.97</td>\n",
       "      <td>$19.46</td>\n",
       "      <td>2.00</td>\n",
       "    </tr>\n",
       "    <tr>\n",
       "      <th>9881228</th>\n",
       "      <td>08/22/2016</td>\n",
       "      <td>SHELDON</td>\n",
       "      <td>O'BRIEN</td>\n",
       "      <td>WOODFORD RESERVE BOURBON</td>\n",
       "      <td>$21.99</td>\n",
       "      <td>$32.99</td>\n",
       "      <td>0.75</td>\n",
       "    </tr>\n",
       "    <tr>\n",
       "      <th>9881229</th>\n",
       "      <td>08/22/2016</td>\n",
       "      <td>SHELDON</td>\n",
       "      <td>O'BRIEN</td>\n",
       "      <td>PARAMOUNT BLACKBERRY BRANDY</td>\n",
       "      <td>$11.29</td>\n",
       "      <td>$16.94</td>\n",
       "      <td>10.50</td>\n",
       "    </tr>\n",
       "    <tr>\n",
       "      <th>9881230</th>\n",
       "      <td>08/22/2016</td>\n",
       "      <td>SHELDON</td>\n",
       "      <td>O'BRIEN</td>\n",
       "      <td>ABSOLUT SWEDISH VODKA 80 PRF</td>\n",
       "      <td>$19.99</td>\n",
       "      <td>$29.99</td>\n",
       "      <td>1.75</td>\n",
       "    </tr>\n",
       "    <tr>\n",
       "      <th>9881231</th>\n",
       "      <td>08/22/2016</td>\n",
       "      <td>SHELDON</td>\n",
       "      <td>O'BRIEN</td>\n",
       "      <td>CRYSTAL HEAD VODKA W/ CRYSTAL STOPPER</td>\n",
       "      <td>$23.32</td>\n",
       "      <td>$34.98</td>\n",
       "      <td>0.75</td>\n",
       "    </tr>\n",
       "  </tbody>\n",
       "</table>\n",
       "<p>63224 rows × 7 columns</p>\n",
       "</div>"
      ],
      "text/plain": [
       "               date     city   county  \\\n",
       "10       11/17/2015  SHELDON  O'BRIEN   \n",
       "46       11/10/2015  SHELDON  O'BRIEN   \n",
       "94       11/21/2015  SHELDON  O'BRIEN   \n",
       "359      02/08/2012  SHELDON  O'BRIEN   \n",
       "607      06/30/2014  SHELDON  O'BRIEN   \n",
       "...             ...      ...      ...   \n",
       "9879034  08/22/2016  HARTLEY  O'BRIEN   \n",
       "9881228  08/22/2016  SHELDON  O'BRIEN   \n",
       "9881229  08/22/2016  SHELDON  O'BRIEN   \n",
       "9881230  08/22/2016  SHELDON  O'BRIEN   \n",
       "9881231  08/22/2016  SHELDON  O'BRIEN   \n",
       "\n",
       "                                      item_description state_bottle_cost  \\\n",
       "10       DISARONNO AMARETTO CAVALLI MIGNON 3-50ML PACK             $6.40   \n",
       "46                      KNOB CREEK W/ CRYSTAL DECANTER            $35.55   \n",
       "94                               TEMPLETON RYE W/FLASK            $18.09   \n",
       "359                        CROWN ROYAL SPECIAL RESERVE            $24.30   \n",
       "607                           FIREBALL CINNAMON WHISKY             $5.33   \n",
       "...                                                ...               ...   \n",
       "9879034                               SOUTHERN COMFORT            $12.97   \n",
       "9881228                       WOODFORD RESERVE BOURBON            $21.99   \n",
       "9881229                    PARAMOUNT BLACKBERRY BRANDY            $11.29   \n",
       "9881230                   ABSOLUT SWEDISH VODKA 80 PRF            $19.99   \n",
       "9881231          CRYSTAL HEAD VODKA W/ CRYSTAL STOPPER            $23.32   \n",
       "\n",
       "        state_bottle_retail  volume_sold_liters  \n",
       "10                    $9.60                3.00  \n",
       "46                   $53.34                5.25  \n",
       "94                   $27.14                4.50  \n",
       "359                  $36.44                2.25  \n",
       "607                   $8.00                1.50  \n",
       "...                     ...                 ...  \n",
       "9879034              $19.46                2.00  \n",
       "9881228              $32.99                0.75  \n",
       "9881229              $16.94               10.50  \n",
       "9881230              $29.99                1.75  \n",
       "9881231              $34.98                0.75  \n",
       "\n",
       "[63224 rows x 7 columns]"
      ]
     },
     "execution_count": 27,
     "metadata": {},
     "output_type": "execute_result"
    }
   ],
   "source": [
    "test2"
   ]
  },
  {
   "cell_type": "code",
   "execution_count": 28,
   "metadata": {},
   "outputs": [],
   "source": [
    "df[df['county']==\"OBRIEN\"]=\"O'BRIEN\""
   ]
  },
  {
   "cell_type": "code",
   "execution_count": 1,
   "metadata": {},
   "outputs": [
    {
     "ename": "NameError",
     "evalue": "name 'df' is not defined",
     "output_type": "error",
     "traceback": [
      "\u001b[0;31m---------------------------------------------------------------------------\u001b[0m",
      "\u001b[0;31mNameError\u001b[0m                                 Traceback (most recent call last)",
      "\u001b[0;32m<ipython-input-1-99832cdce1c8>\u001b[0m in \u001b[0;36m<module>\u001b[0;34m\u001b[0m\n\u001b[0;32m----> 1\u001b[0;31m \u001b[0mtest3\u001b[0m \u001b[0;34m=\u001b[0m \u001b[0mdf\u001b[0m\u001b[0;34m[\u001b[0m\u001b[0mdf\u001b[0m\u001b[0;34m[\u001b[0m\u001b[0;34m'county'\u001b[0m\u001b[0;34m]\u001b[0m\u001b[0;34m==\u001b[0m\u001b[0;34m\"OBRIEN\"\u001b[0m\u001b[0;34m]\u001b[0m\u001b[0;34m\u001b[0m\u001b[0;34m\u001b[0m\u001b[0m\n\u001b[0m\u001b[1;32m      2\u001b[0m \u001b[0mtest3\u001b[0m\u001b[0;34m\u001b[0m\u001b[0;34m\u001b[0m\u001b[0m\n",
      "\u001b[0;31mNameError\u001b[0m: name 'df' is not defined"
     ]
    }
   ],
   "source": [
    "test3 = df[df['county']==\"OBRIEN\"]\n",
    "test3"
   ]
  },
  {
   "cell_type": "code",
   "execution_count": 18,
   "metadata": {},
   "outputs": [
    {
     "data": {
      "text/plain": [
       "(12511889,)"
      ]
     },
     "execution_count": 18,
     "metadata": {},
     "output_type": "execute_result"
    }
   ],
   "source": [
    "df['county'].shape"
   ]
  },
  {
   "cell_type": "code",
   "execution_count": 19,
   "metadata": {},
   "outputs": [
    {
     "data": {
      "text/html": [
       "<div>\n",
       "<style scoped>\n",
       "    .dataframe tbody tr th:only-of-type {\n",
       "        vertical-align: middle;\n",
       "    }\n",
       "\n",
       "    .dataframe tbody tr th {\n",
       "        vertical-align: top;\n",
       "    }\n",
       "\n",
       "    .dataframe thead th {\n",
       "        text-align: right;\n",
       "    }\n",
       "</style>\n",
       "<table border=\"1\" class=\"dataframe\">\n",
       "  <thead>\n",
       "    <tr style=\"text-align: right;\">\n",
       "      <th></th>\n",
       "      <th>date</th>\n",
       "      <th>city</th>\n",
       "      <th>county</th>\n",
       "      <th>item_description</th>\n",
       "      <th>state_bottle_cost</th>\n",
       "      <th>state_bottle_retail</th>\n",
       "      <th>volume_sold_liters</th>\n",
       "    </tr>\n",
       "  </thead>\n",
       "  <tbody>\n",
       "    <tr>\n",
       "      <th>12591076</th>\n",
       "      <td>O'BRIEN</td>\n",
       "      <td>O'BRIEN</td>\n",
       "      <td>O'BRIEN</td>\n",
       "      <td>O'BRIEN</td>\n",
       "      <td>O'BRIEN</td>\n",
       "      <td>O'BRIEN</td>\n",
       "      <td>O'BRIEN</td>\n",
       "    </tr>\n",
       "  </tbody>\n",
       "</table>\n",
       "</div>"
      ],
      "text/plain": [
       "             date     city   county item_description state_bottle_cost  \\\n",
       "12591076  O'BRIEN  O'BRIEN  O'BRIEN          O'BRIEN           O'BRIEN   \n",
       "\n",
       "         state_bottle_retail volume_sold_liters  \n",
       "12591076             O'BRIEN            O'BRIEN  "
      ]
     },
     "execution_count": 19,
     "metadata": {},
     "output_type": "execute_result"
    }
   ],
   "source": [
    "df.tail(1)"
   ]
  },
  {
   "cell_type": "code",
   "execution_count": 57,
   "metadata": {},
   "outputs": [],
   "source": [
    "cg = df[df['county']==\"CERRO GORD\"]"
   ]
  },
  {
   "cell_type": "code",
   "execution_count": 58,
   "metadata": {},
   "outputs": [
    {
     "data": {
      "text/html": [
       "<div>\n",
       "<style scoped>\n",
       "    .dataframe tbody tr th:only-of-type {\n",
       "        vertical-align: middle;\n",
       "    }\n",
       "\n",
       "    .dataframe tbody tr th {\n",
       "        vertical-align: top;\n",
       "    }\n",
       "\n",
       "    .dataframe thead th {\n",
       "        text-align: right;\n",
       "    }\n",
       "</style>\n",
       "<table border=\"1\" class=\"dataframe\">\n",
       "  <thead>\n",
       "    <tr style=\"text-align: right;\">\n",
       "      <th></th>\n",
       "      <th>date</th>\n",
       "      <th>city</th>\n",
       "      <th>county</th>\n",
       "      <th>item_description</th>\n",
       "      <th>state_bottle_cost</th>\n",
       "      <th>state_bottle_retail</th>\n",
       "      <th>volume_sold_liters</th>\n",
       "    </tr>\n",
       "  </thead>\n",
       "  <tbody>\n",
       "    <tr>\n",
       "      <th>9914648</th>\n",
       "      <td>09/01/2016</td>\n",
       "      <td>CLEAR LAKE</td>\n",
       "      <td>CERRO GORD</td>\n",
       "      <td>TITOS VODKA</td>\n",
       "      <td>$9.64</td>\n",
       "      <td>$14.46</td>\n",
       "      <td>0.75</td>\n",
       "    </tr>\n",
       "    <tr>\n",
       "      <th>9914649</th>\n",
       "      <td>09/01/2016</td>\n",
       "      <td>CLEAR LAKE</td>\n",
       "      <td>CERRO GORD</td>\n",
       "      <td>GREY GOOSE VODKA</td>\n",
       "      <td>$18.49</td>\n",
       "      <td>$27.74</td>\n",
       "      <td>3.00</td>\n",
       "    </tr>\n",
       "    <tr>\n",
       "      <th>9914650</th>\n",
       "      <td>09/01/2016</td>\n",
       "      <td>CLEAR LAKE</td>\n",
       "      <td>CERRO GORD</td>\n",
       "      <td>SMIRNOFF VODKA 8...</td>\n",
       "      <td>$8.25</td>\n",
       "      <td>$12.38</td>\n",
       "      <td>0.75</td>\n",
       "    </tr>\n",
       "    <tr>\n",
       "      <th>9914651</th>\n",
       "      <td>09/01/2016</td>\n",
       "      <td>CLEAR LAKE</td>\n",
       "      <td>CERRO GORD</td>\n",
       "      <td>NEW AMSTERDAM PEACH</td>\n",
       "      <td>$6.90</td>\n",
       "      <td>$10.35</td>\n",
       "      <td>0.75</td>\n",
       "    </tr>\n",
       "    <tr>\n",
       "      <th>9914652</th>\n",
       "      <td>09/01/2016</td>\n",
       "      <td>CLEAR LAKE</td>\n",
       "      <td>CERRO GORD</td>\n",
       "      <td>NEW AMSTERDAM VODKA</td>\n",
       "      <td>$13.32</td>\n",
       "      <td>$19.98</td>\n",
       "      <td>1.75</td>\n",
       "    </tr>\n",
       "    <tr>\n",
       "      <th>...</th>\n",
       "      <td>...</td>\n",
       "      <td>...</td>\n",
       "      <td>...</td>\n",
       "      <td>...</td>\n",
       "      <td>...</td>\n",
       "      <td>...</td>\n",
       "      <td>...</td>\n",
       "    </tr>\n",
       "    <tr>\n",
       "      <th>12561465</th>\n",
       "      <td>10/26/2017</td>\n",
       "      <td>MASON CITY</td>\n",
       "      <td>CERRO GORD</td>\n",
       "      <td>JAGERMEISTER LIQ...</td>\n",
       "      <td>$6.52</td>\n",
       "      <td>$9.78</td>\n",
       "      <td>1.12</td>\n",
       "    </tr>\n",
       "    <tr>\n",
       "      <th>12561466</th>\n",
       "      <td>10/26/2017</td>\n",
       "      <td>MASON CITY</td>\n",
       "      <td>CERRO GORD</td>\n",
       "      <td>CROWN ROYAL REGA...</td>\n",
       "      <td>$8.00</td>\n",
       "      <td>$12.00</td>\n",
       "      <td>1.12</td>\n",
       "    </tr>\n",
       "    <tr>\n",
       "      <th>12561467</th>\n",
       "      <td>10/26/2017</td>\n",
       "      <td>MASON CITY</td>\n",
       "      <td>CERRO GORD</td>\n",
       "      <td>CROWN ROYAL CANA...</td>\n",
       "      <td>$8.00</td>\n",
       "      <td>$12.00</td>\n",
       "      <td>0.75</td>\n",
       "    </tr>\n",
       "    <tr>\n",
       "      <th>12561468</th>\n",
       "      <td>10/26/2017</td>\n",
       "      <td>MASON CITY</td>\n",
       "      <td>CERRO GORD</td>\n",
       "      <td>PAUL MASSON GRAN...</td>\n",
       "      <td>$3.22</td>\n",
       "      <td>$4.83</td>\n",
       "      <td>2.25</td>\n",
       "    </tr>\n",
       "    <tr>\n",
       "      <th>12561469</th>\n",
       "      <td>10/26/2017</td>\n",
       "      <td>MASON CITY</td>\n",
       "      <td>CERRO GORD</td>\n",
       "      <td>NEW AMSTERDAM VODKA</td>\n",
       "      <td>$3.50</td>\n",
       "      <td>$5.25</td>\n",
       "      <td>4.50</td>\n",
       "    </tr>\n",
       "  </tbody>\n",
       "</table>\n",
       "<p>60717 rows × 7 columns</p>\n",
       "</div>"
      ],
      "text/plain": [
       "                date  \\\n",
       "9914648   09/01/2016   \n",
       "9914649   09/01/2016   \n",
       "9914650   09/01/2016   \n",
       "9914651   09/01/2016   \n",
       "9914652   09/01/2016   \n",
       "...              ...   \n",
       "12561465  10/26/2017   \n",
       "12561466  10/26/2017   \n",
       "12561467  10/26/2017   \n",
       "12561468  10/26/2017   \n",
       "12561469  10/26/2017   \n",
       "\n",
       "                city  \\\n",
       "9914648   CLEAR LAKE   \n",
       "9914649   CLEAR LAKE   \n",
       "9914650   CLEAR LAKE   \n",
       "9914651   CLEAR LAKE   \n",
       "9914652   CLEAR LAKE   \n",
       "...              ...   \n",
       "12561465  MASON CITY   \n",
       "12561466  MASON CITY   \n",
       "12561467  MASON CITY   \n",
       "12561468  MASON CITY   \n",
       "12561469  MASON CITY   \n",
       "\n",
       "              county  \\\n",
       "9914648   CERRO GORD   \n",
       "9914649   CERRO GORD   \n",
       "9914650   CERRO GORD   \n",
       "9914651   CERRO GORD   \n",
       "9914652   CERRO GORD   \n",
       "...              ...   \n",
       "12561465  CERRO GORD   \n",
       "12561466  CERRO GORD   \n",
       "12561467  CERRO GORD   \n",
       "12561468  CERRO GORD   \n",
       "12561469  CERRO GORD   \n",
       "\n",
       "             item_description  \\\n",
       "9914648           TITOS VODKA   \n",
       "9914649      GREY GOOSE VODKA   \n",
       "9914650   SMIRNOFF VODKA 8...   \n",
       "9914651   NEW AMSTERDAM PEACH   \n",
       "9914652   NEW AMSTERDAM VODKA   \n",
       "...                       ...   \n",
       "12561465  JAGERMEISTER LIQ...   \n",
       "12561466  CROWN ROYAL REGA...   \n",
       "12561467  CROWN ROYAL CANA...   \n",
       "12561468  PAUL MASSON GRAN...   \n",
       "12561469  NEW AMSTERDAM VODKA   \n",
       "\n",
       "         state_bottle_cost  \\\n",
       "9914648              $9.64   \n",
       "9914649             $18.49   \n",
       "9914650              $8.25   \n",
       "9914651              $6.90   \n",
       "9914652             $13.32   \n",
       "...                    ...   \n",
       "12561465             $6.52   \n",
       "12561466             $8.00   \n",
       "12561467             $8.00   \n",
       "12561468             $3.22   \n",
       "12561469             $3.50   \n",
       "\n",
       "         state_bottle_retail  \\\n",
       "9914648               $14.46   \n",
       "9914649               $27.74   \n",
       "9914650               $12.38   \n",
       "9914651               $10.35   \n",
       "9914652               $19.98   \n",
       "...                      ...   \n",
       "12561465               $9.78   \n",
       "12561466              $12.00   \n",
       "12561467              $12.00   \n",
       "12561468               $4.83   \n",
       "12561469               $5.25   \n",
       "\n",
       "          volume_sold_liters  \n",
       "9914648                 0.75  \n",
       "9914649                 3.00  \n",
       "9914650                 0.75  \n",
       "9914651                 0.75  \n",
       "9914652                 1.75  \n",
       "...                      ...  \n",
       "12561465                1.12  \n",
       "12561466                1.12  \n",
       "12561467                0.75  \n",
       "12561468                2.25  \n",
       "12561469                4.50  \n",
       "\n",
       "[60717 rows x 7 columns]"
      ]
     },
     "execution_count": 58,
     "metadata": {},
     "output_type": "execute_result"
    }
   ],
   "source": [
    "cg"
   ]
  },
  {
   "cell_type": "code",
   "execution_count": 59,
   "metadata": {},
   "outputs": [],
   "source": [
    "df[df['county']==\"CERRO GORD\"]=\"CERRO GORDO\""
   ]
  },
  {
   "cell_type": "code",
   "execution_count": 1,
   "metadata": {},
   "outputs": [
    {
     "ename": "NameError",
     "evalue": "name 'df' is not defined",
     "output_type": "error",
     "traceback": [
      "\u001b[0;31m---------------------------------------------------------------------------\u001b[0m",
      "\u001b[0;31mNameError\u001b[0m                                 Traceback (most recent call last)",
      "\u001b[0;32m<ipython-input-1-97d34e0bf5fe>\u001b[0m in \u001b[0;36m<module>\u001b[0;34m\u001b[0m\n\u001b[0;32m----> 1\u001b[0;31m \u001b[0mcg2\u001b[0m \u001b[0;34m=\u001b[0m \u001b[0mdf\u001b[0m\u001b[0;34m[\u001b[0m\u001b[0mdf\u001b[0m\u001b[0;34m[\u001b[0m\u001b[0;34m'county'\u001b[0m\u001b[0;34m]\u001b[0m\u001b[0;34m==\u001b[0m\u001b[0;34m\"CERRO GORD\"\u001b[0m\u001b[0;34m]\u001b[0m\u001b[0;34m\u001b[0m\u001b[0;34m\u001b[0m\u001b[0m\n\u001b[0m\u001b[1;32m      2\u001b[0m \u001b[0mcg2\u001b[0m\u001b[0;34m\u001b[0m\u001b[0;34m\u001b[0m\u001b[0m\n",
      "\u001b[0;31mNameError\u001b[0m: name 'df' is not defined"
     ]
    }
   ],
   "source": [
    "cg2 = df[df['county']==\"CERRO GORD\"]\n",
    "cg2"
   ]
  },
  {
   "cell_type": "markdown",
   "metadata": {},
   "source": [
    "### Vamos retirar os cifrões do preço de custo e do preço de venda para facilitar futuras operações com esses números :"
   ]
  },
  {
   "cell_type": "code",
   "execution_count": 2,
   "metadata": {},
   "outputs": [
    {
     "ename": "NameError",
     "evalue": "name 'df' is not defined",
     "output_type": "error",
     "traceback": [
      "\u001b[0;31m---------------------------------------------------------------------------\u001b[0m",
      "\u001b[0;31mNameError\u001b[0m                                 Traceback (most recent call last)",
      "\u001b[0;32m<ipython-input-2-b6b3b31da0a0>\u001b[0m in \u001b[0;36m<module>\u001b[0;34m\u001b[0m\n\u001b[0;32m----> 1\u001b[0;31m \u001b[0mdf\u001b[0m\u001b[0;34m[\u001b[0m\u001b[0;34m'state_bottle_cost'\u001b[0m\u001b[0;34m]\u001b[0m \u001b[0;34m=\u001b[0m \u001b[0mdf\u001b[0m\u001b[0;34m[\u001b[0m\u001b[0;34m'state_bottle_cost'\u001b[0m\u001b[0;34m]\u001b[0m\u001b[0;34m.\u001b[0m\u001b[0mreplace\u001b[0m\u001b[0;34m(\u001b[0m\u001b[0;34m{\u001b[0m\u001b[0;34m'\\$'\u001b[0m\u001b[0;34m:\u001b[0m\u001b[0;34m''\u001b[0m\u001b[0;34m}\u001b[0m\u001b[0;34m,\u001b[0m \u001b[0mregex\u001b[0m \u001b[0;34m=\u001b[0m \u001b[0;32mTrue\u001b[0m\u001b[0;34m)\u001b[0m\u001b[0;34m\u001b[0m\u001b[0;34m\u001b[0m\u001b[0m\n\u001b[0m",
      "\u001b[0;31mNameError\u001b[0m: name 'df' is not defined"
     ]
    }
   ],
   "source": [
    "df['state_bottle_cost'] = df['state_bottle_cost'].replace({'\\$':''}, regex = True)"
   ]
  },
  {
   "cell_type": "code",
   "execution_count": 21,
   "metadata": {},
   "outputs": [],
   "source": [
    "df['state_bottle_retail'] = df['state_bottle_retail'].replace({'\\$':''}, regex = True)"
   ]
  },
  {
   "cell_type": "markdown",
   "metadata": {},
   "source": [
    "## Explorando o dataset:"
   ]
  },
  {
   "cell_type": "markdown",
   "metadata": {},
   "source": [
    "#### Verificando formato dos dados:"
   ]
  },
  {
   "cell_type": "code",
   "execution_count": 27,
   "metadata": {},
   "outputs": [
    {
     "name": "stdout",
     "output_type": "stream",
     "text": [
      "<class 'pandas.core.frame.DataFrame'>\n",
      "RangeIndex: 12591077 entries, 0 to 12591076\n",
      "Data columns (total 7 columns):\n",
      " #   Column               Dtype  \n",
      "---  ------               -----  \n",
      " 0   date                 object \n",
      " 1   city                 object \n",
      " 2   county               object \n",
      " 3   item_description     object \n",
      " 4   state_bottle_cost    object \n",
      " 5   state_bottle_retail  object \n",
      " 6   volume_sold_liters   float64\n",
      "dtypes: float64(1), object(6)\n",
      "memory usage: 672.4+ MB\n"
     ]
    }
   ],
   "source": [
    "df.info()"
   ]
  },
  {
   "cell_type": "markdown",
   "metadata": {},
   "source": [
    "#### Usando float16 para economizar memoria(float16 = máximo 32767):"
   ]
  },
  {
   "cell_type": "code",
   "execution_count": 59,
   "metadata": {},
   "outputs": [
    {
     "data": {
      "text/plain": [
       "15000.0"
      ]
     },
     "execution_count": 59,
     "metadata": {},
     "output_type": "execute_result"
    }
   ],
   "source": [
    "df['volume_sold_liters'].max()"
   ]
  },
  {
   "cell_type": "code",
   "execution_count": 60,
   "metadata": {},
   "outputs": [
    {
     "data": {
      "text/plain": [
       "0.0"
      ]
     },
     "execution_count": 60,
     "metadata": {},
     "output_type": "execute_result"
    }
   ],
   "source": [
    "df['volume_sold_liters'].min()"
   ]
  },
  {
   "cell_type": "code",
   "execution_count": 57,
   "metadata": {},
   "outputs": [],
   "source": [
    "df['volume_sold_liters'] = np.float16(df['volume_sold_liters'])"
   ]
  },
  {
   "cell_type": "markdown",
   "metadata": {},
   "source": [
    "#### Transformando o os dados da coluna Date em formato datetime"
   ]
  },
  {
   "cell_type": "code",
   "execution_count": 49,
   "metadata": {},
   "outputs": [],
   "source": [
    "df['date'] = pd.to_datetime(df['date'])"
   ]
  },
  {
   "cell_type": "code",
   "execution_count": 58,
   "metadata": {},
   "outputs": [
    {
     "name": "stdout",
     "output_type": "stream",
     "text": [
      "<class 'pandas.core.frame.DataFrame'>\n",
      "RangeIndex: 12591077 entries, 0 to 12591076\n",
      "Data columns (total 7 columns):\n",
      " #   Column               Dtype         \n",
      "---  ------               -----         \n",
      " 0   date                 datetime64[ns]\n",
      " 1   city                 object        \n",
      " 2   county               object        \n",
      " 3   item_description     object        \n",
      " 4   state_bottle_cost    object        \n",
      " 5   state_bottle_retail  object        \n",
      " 6   volume_sold_liters   float16       \n",
      "dtypes: datetime64[ns](1), float16(1), object(5)\n",
      "memory usage: 600.4+ MB\n"
     ]
    }
   ],
   "source": [
    "df.info()"
   ]
  },
  {
   "cell_type": "code",
   "execution_count": 61,
   "metadata": {
    "scrolled": true
   },
   "outputs": [
    {
     "data": {
      "text/html": [
       "<div>\n",
       "<style scoped>\n",
       "    .dataframe tbody tr th:only-of-type {\n",
       "        vertical-align: middle;\n",
       "    }\n",
       "\n",
       "    .dataframe tbody tr th {\n",
       "        vertical-align: top;\n",
       "    }\n",
       "\n",
       "    .dataframe thead th {\n",
       "        text-align: right;\n",
       "    }\n",
       "</style>\n",
       "<table border=\"1\" class=\"dataframe\">\n",
       "  <thead>\n",
       "    <tr style=\"text-align: right;\">\n",
       "      <th></th>\n",
       "      <th>date</th>\n",
       "      <th>city</th>\n",
       "      <th>county</th>\n",
       "      <th>item_description</th>\n",
       "      <th>state_bottle_cost</th>\n",
       "      <th>state_bottle_retail</th>\n",
       "      <th>volume_sold_liters</th>\n",
       "    </tr>\n",
       "  </thead>\n",
       "  <tbody>\n",
       "    <tr>\n",
       "      <th>12591076</th>\n",
       "      <td>2017-10-31</td>\n",
       "      <td>&lt;pandas.core.strings.StringMethods object at 0x7faf85090650&gt;</td>\n",
       "      <td>OBRIEN</td>\n",
       "      <td>Sugarlands Shine Peanut Butter &amp; Jelly Moonshine</td>\n",
       "      <td>$13.00</td>\n",
       "      <td>$19.50</td>\n",
       "      <td>1.5</td>\n",
       "    </tr>\n",
       "  </tbody>\n",
       "</table>\n",
       "</div>"
      ],
      "text/plain": [
       "               date  \\\n",
       "12591076 2017-10-31   \n",
       "\n",
       "                                                                  city  \\\n",
       "12591076  <pandas.core.strings.StringMethods object at 0x7faf85090650>   \n",
       "\n",
       "          county                                  item_description  \\\n",
       "12591076  OBRIEN  Sugarlands Shine Peanut Butter & Jelly Moonshine   \n",
       "\n",
       "         state_bottle_cost state_bottle_retail  volume_sold_liters  \n",
       "12591076            $13.00              $19.50                 1.5  "
      ]
     },
     "execution_count": 61,
     "metadata": {},
     "output_type": "execute_result"
    }
   ],
   "source": [
    "df.tail(1)"
   ]
  },
  {
   "cell_type": "code",
   "execution_count": 72,
   "metadata": {
    "scrolled": true
   },
   "outputs": [
    {
     "data": {
      "text/html": [
       "<div>\n",
       "<style scoped>\n",
       "    .dataframe tbody tr th:only-of-type {\n",
       "        vertical-align: middle;\n",
       "    }\n",
       "\n",
       "    .dataframe tbody tr th {\n",
       "        vertical-align: top;\n",
       "    }\n",
       "\n",
       "    .dataframe thead th {\n",
       "        text-align: right;\n",
       "    }\n",
       "</style>\n",
       "<table border=\"1\" class=\"dataframe\">\n",
       "  <thead>\n",
       "    <tr style=\"text-align: right;\">\n",
       "      <th></th>\n",
       "      <th>date</th>\n",
       "      <th>city</th>\n",
       "      <th>county</th>\n",
       "      <th>item_description</th>\n",
       "      <th>state_bottle_cost</th>\n",
       "      <th>state_bottle_retail</th>\n",
       "      <th>volume_sold_liters</th>\n",
       "    </tr>\n",
       "  </thead>\n",
       "  <tbody>\n",
       "    <tr>\n",
       "      <th>0</th>\n",
       "      <td>2015-11-20</td>\n",
       "      <td>&lt;pandas.core.strings.StringMethods object at 0x7faf85090650&gt;</td>\n",
       "      <td>Lee</td>\n",
       "      <td>Templeton Rye w/Flask</td>\n",
       "      <td>$18.09</td>\n",
       "      <td>$27.14</td>\n",
       "      <td>4.5</td>\n",
       "    </tr>\n",
       "  </tbody>\n",
       "</table>\n",
       "</div>"
      ],
      "text/plain": [
       "        date                                                          city  \\\n",
       "0 2015-11-20  <pandas.core.strings.StringMethods object at 0x7faf85090650>   \n",
       "\n",
       "  county       item_description state_bottle_cost state_bottle_retail  \\\n",
       "0    Lee  Templeton Rye w/Flask            $18.09              $27.14   \n",
       "\n",
       "   volume_sold_liters  \n",
       "0                 4.5  "
      ]
     },
     "execution_count": 72,
     "metadata": {},
     "output_type": "execute_result"
    }
   ],
   "source": [
    "df.head(1)"
   ]
  },
  {
   "cell_type": "code",
   "execution_count": 71,
   "metadata": {
    "scrolled": true
   },
   "outputs": [
    {
     "data": {
      "text/html": [
       "<div>\n",
       "<style scoped>\n",
       "    .dataframe tbody tr th:only-of-type {\n",
       "        vertical-align: middle;\n",
       "    }\n",
       "\n",
       "    .dataframe tbody tr th {\n",
       "        vertical-align: top;\n",
       "    }\n",
       "\n",
       "    .dataframe thead th {\n",
       "        text-align: right;\n",
       "    }\n",
       "</style>\n",
       "<table border=\"1\" class=\"dataframe\">\n",
       "  <thead>\n",
       "    <tr style=\"text-align: right;\">\n",
       "      <th></th>\n",
       "      <th>date</th>\n",
       "      <th>city</th>\n",
       "      <th>county</th>\n",
       "      <th>item_description</th>\n",
       "      <th>state_bottle_cost</th>\n",
       "      <th>state_bottle_retail</th>\n",
       "      <th>volume_sold_liters</th>\n",
       "    </tr>\n",
       "  </thead>\n",
       "  <tbody>\n",
       "    <tr>\n",
       "      <th>12591076</th>\n",
       "      <td>2017-10-31</td>\n",
       "      <td>&lt;pandas.core.strings.StringMethods object at 0x7faf85090650&gt;</td>\n",
       "      <td>OBRIEN</td>\n",
       "      <td>Sugarlands Shine Peanut Butter &amp; Jelly Moonshine</td>\n",
       "      <td>$13.00</td>\n",
       "      <td>$19.50</td>\n",
       "      <td>1.5</td>\n",
       "    </tr>\n",
       "  </tbody>\n",
       "</table>\n",
       "</div>"
      ],
      "text/plain": [
       "               date  \\\n",
       "12591076 2017-10-31   \n",
       "\n",
       "                                                                  city  \\\n",
       "12591076  <pandas.core.strings.StringMethods object at 0x7faf85090650>   \n",
       "\n",
       "          county                                  item_description  \\\n",
       "12591076  OBRIEN  Sugarlands Shine Peanut Butter & Jelly Moonshine   \n",
       "\n",
       "         state_bottle_cost state_bottle_retail  volume_sold_liters  \n",
       "12591076            $13.00              $19.50                 1.5  "
      ]
     },
     "execution_count": 71,
     "metadata": {},
     "output_type": "execute_result"
    }
   ],
   "source": [
    "df.tail(1)"
   ]
  },
  {
   "cell_type": "markdown",
   "metadata": {},
   "source": [
    "### Em qual condado se vendeu mais?"
   ]
  },
  {
   "cell_type": "code",
   "execution_count": 28,
   "metadata": {
    "scrolled": true
   },
   "outputs": [
    {
     "data": {
      "text/plain": [
       "<matplotlib.axes._subplots.AxesSubplot at 0x7f44eff35350>"
      ]
     },
     "execution_count": 28,
     "metadata": {},
     "output_type": "execute_result"
    },
    {
     "data": {
      "image/png": "[encoded data removed]",
      "text/plain": [
       "<Figure size 432x288 with 1 Axes>"
      ]
     },
     "metadata": {
      "needs_background": "light"
     },
     "output_type": "display_data"
    }
   ],
   "source": [
    "county_sales = df['county'].value_counts().nlargest(20)\n",
    "county_sales.plot(kind=\"barh\")"
   ]
  },
  {
   "cell_type": "markdown",
   "metadata": {},
   "source": [
    "### Sabendo que o condado de POLK foi o que vendeu mais, quais cidades do condado de POLK venderam mais?"
   ]
  },
  {
   "cell_type": "markdown",
   "metadata": {},
   "source": [
    "#### Filtrando as cidades do condado de POLK"
   ]
  },
  {
   "cell_type": "code",
   "execution_count": null,
   "metadata": {},
   "outputs": [],
   "source": [
    "polk = df[df['County']=='POLK']\n",
    "polk.head()"
   ]
  },
  {
   "cell_type": "markdown",
   "metadata": {},
   "source": [
    "#### Quais cidades há no condado de POLK?"
   ]
  },
  {
   "cell_type": "code",
   "execution_count": null,
   "metadata": {},
   "outputs": [],
   "source": [
    "polk['City'].unique()"
   ]
  },
  {
   "cell_type": "markdown",
   "metadata": {},
   "source": [
    "#### Em quais cidade do condado de POLK se vendeu mais bebida?"
   ]
  },
  {
   "cell_type": "code",
   "execution_count": null,
   "metadata": {},
   "outputs": [],
   "source": [
    "polk['City'].value_counts().plot(kind=\"barh\")"
   ]
  },
  {
   "cell_type": "markdown",
   "metadata": {},
   "source": [
    "#### Quais cidades no estado do IOWA venderam mais bebida?"
   ]
  },
  {
   "cell_type": "code",
   "execution_count": null,
   "metadata": {
    "scrolled": true
   },
   "outputs": [],
   "source": [
    "city_sales = df['City'].value_counts().nlargest(20)\n",
    "city_sales.plot(kind=\"barh\")"
   ]
  },
  {
   "cell_type": "markdown",
   "metadata": {},
   "source": [
    "#### Filtrando os dados por ano"
   ]
  },
  {
   "cell_type": "code",
   "execution_count": null,
   "metadata": {},
   "outputs": [],
   "source": [
    "year_2012 = df[df['Date'].dt.year == 2012]\n",
    "year_2012.head()"
   ]
  },
  {
   "cell_type": "code",
   "execution_count": null,
   "metadata": {},
   "outputs": [],
   "source": [
    "year_2013 = df[df['Date'].dt.year == 2013]\n",
    "year_2013.head()"
   ]
  },
  {
   "cell_type": "code",
   "execution_count": null,
   "metadata": {},
   "outputs": [],
   "source": [
    "year_2014 = df[df['Date'].dt.year == 2014]\n",
    "year_2014.head()"
   ]
  },
  {
   "cell_type": "code",
   "execution_count": null,
   "metadata": {},
   "outputs": [],
   "source": [
    "year_2015 = df[df['Date'].dt.year == 2015]\n",
    "year_2015.head()"
   ]
  },
  {
   "cell_type": "code",
   "execution_count": null,
   "metadata": {},
   "outputs": [],
   "source": [
    "year_2016 = df[df['Date'].dt.year == 2016]\n",
    "year_2016.head()"
   ]
  },
  {
   "cell_type": "code",
   "execution_count": null,
   "metadata": {},
   "outputs": [],
   "source": [
    "year_2017 = df[df['Date'].dt.year == 2017]\n",
    "year_2017.head()"
   ]
  },
  {
   "cell_type": "code",
   "execution_count": null,
   "metadata": {},
   "outputs": [],
   "source": [
    "year = [2012,2013,2014,2015,2016,2017]\n",
    "qtt = []\n",
    "qtt.append(len(year_2012.index))\n",
    "qtt.append(len(year_2013.index))\n",
    "qtt.append(len(year_2014.index))\n",
    "qtt.append(len(year_2015.index))\n",
    "qtt.append(len(year_2016.index))\n",
    "qtt.append(len(year_2017.index))\n",
    "qtt"
   ]
  },
  {
   "cell_type": "code",
   "execution_count": null,
   "metadata": {},
   "outputs": [],
   "source": [
    "plt.grid(True)\n",
    "plt.plot(year, qtt)"
   ]
  },
  {
   "cell_type": "code",
   "execution_count": null,
   "metadata": {},
   "outputs": [],
   "source": [
    "year = [2012,2013,2014,2015,2016]\n",
    "qtt = []\n",
    "qtt.append(len(year_2012.index))\n",
    "qtt.append(len(year_2013.index))\n",
    "qtt.append(len(year_2014.index))\n",
    "qtt.append(len(year_2015.index))\n",
    "qtt.append(len(year_2016.index))\n",
    "qtt"
   ]
  },
  {
   "cell_type": "code",
   "execution_count": null,
   "metadata": {},
   "outputs": [],
   "source": [
    "plt.plot(year, qtt)"
   ]
  },
  {
   "cell_type": "code",
   "execution_count": null,
   "metadata": {},
   "outputs": [],
   "source": [
    "volume_per_month_2012 = year_2012['Date']"
   ]
  },
  {
   "cell_type": "code",
   "execution_count": null,
   "metadata": {},
   "outputs": [],
   "source": [
    "volume_per_month_2013 = year_2013['Date']"
   ]
  },
  {
   "cell_type": "code",
   "execution_count": null,
   "metadata": {},
   "outputs": [],
   "source": [
    "volume_per_month_2014 = year_2014['Date']"
   ]
  },
  {
   "cell_type": "code",
   "execution_count": null,
   "metadata": {},
   "outputs": [],
   "source": [
    "volume_per_month_2015 = year_2015['Date']"
   ]
  },
  {
   "cell_type": "code",
   "execution_count": null,
   "metadata": {},
   "outputs": [],
   "source": [
    "volume_per_month_2016 = year_2016['Date']"
   ]
  },
  {
   "cell_type": "code",
   "execution_count": null,
   "metadata": {},
   "outputs": [],
   "source": [
    "volume_per_month_2017 = year_2017['Date']"
   ]
  },
  {
   "cell_type": "code",
   "execution_count": null,
   "metadata": {},
   "outputs": [],
   "source": [
    "volume_per_month_2012.groupby(volume_per_month_2012.dt.month).count().plot.line()"
   ]
  },
  {
   "cell_type": "code",
   "execution_count": null,
   "metadata": {},
   "outputs": [],
   "source": [
    "volume_per_month_2013.groupby(volume_per_month_2013.dt.month).count().plot.line()"
   ]
  },
  {
   "cell_type": "code",
   "execution_count": null,
   "metadata": {},
   "outputs": [],
   "source": [
    "volume_per_month_2014.groupby(volume_per_month_2014.dt.month).count().plot.line()"
   ]
  },
  {
   "cell_type": "code",
   "execution_count": null,
   "metadata": {},
   "outputs": [],
   "source": [
    "volume_per_month_2015.groupby(volume_per_month_2015.dt.month).count().plot.line()"
   ]
  },
  {
   "cell_type": "code",
   "execution_count": null,
   "metadata": {},
   "outputs": [],
   "source": [
    "volume_per_month_2016.groupby(volume_per_month_2016.dt.month).count().plot.line()"
   ]
  },
  {
   "cell_type": "code",
   "execution_count": null,
   "metadata": {},
   "outputs": [],
   "source": [
    "volume_per_month_2017.groupby(volume_per_month_2017.dt.month).count().plot.line()"
   ]
  }
 ],
 "metadata": {
  "interpreter": {
   "hash": "5f15e1cb9d6d612925d6246ed59693829277a4bc8e4e565041aad7c1eb71fee3"
  },
  "kernelspec": {
   "display_name": "Python 3",
   "language": "python",
   "name": "python3"
  },
  "language_info": {
   "codemirror_mode": {
    "name": "ipython",
    "version": 3
   },
   "file_extension": ".py",
   "mimetype": "text/x-python",
   "name": "python",
   "nbconvert_exporter": "python",
   "pygments_lexer": "ipython3",
   "version": "3.7.6"
  }
 },
 "nbformat": 4,
 "nbformat_minor": 5
}
