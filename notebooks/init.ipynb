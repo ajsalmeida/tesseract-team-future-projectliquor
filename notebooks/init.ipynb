{
 "cells": [
  {
   "cell_type": "markdown",
   "metadata": {},
   "source": [
    "## Classificação de variáveis"
   ]
  },
  {
   "cell_type": "markdown",
   "metadata": {},
   "source": [
    "### Importando as bibliotecas "
   ]
  },
  {
   "cell_type": "code",
   "execution_count": 1,
   "metadata": {},
   "outputs": [],
   "source": [
    "import pandas as pd\n",
    "import numpy as np\n",
    "import matplotlib.pyplot as plt\n",
    "from slugify import slugify\n",
    "from sklearn.model_selection import train_test_split\n",
    "import Levenshtein\n",
    "#from iowalicor.data.preprocessing import slugify\n",
    "#from application.app.folder.file import func_name\n",
    "pd.set_option('display.max_rows', 500)"
   ]
  },
  {
   "cell_type": "code",
   "execution_count": 2,
   "metadata": {},
   "outputs": [
    {
     "data": {
      "text/html": [
       "<div>\n",
       "<style scoped>\n",
       "    .dataframe tbody tr th:only-of-type {\n",
       "        vertical-align: middle;\n",
       "    }\n",
       "\n",
       "    .dataframe tbody tr th {\n",
       "        vertical-align: top;\n",
       "    }\n",
       "\n",
       "    .dataframe thead th {\n",
       "        text-align: right;\n",
       "    }\n",
       "</style>\n",
       "<table border=\"1\" class=\"dataframe\">\n",
       "  <thead>\n",
       "    <tr style=\"text-align: right;\">\n",
       "      <th></th>\n",
       "      <th>Unnamed: 0</th>\n",
       "      <th>Invoice/Item Number</th>\n",
       "      <th>Date</th>\n",
       "      <th>Store Number</th>\n",
       "      <th>Store Name</th>\n",
       "      <th>Address</th>\n",
       "      <th>City</th>\n",
       "      <th>Zip Code</th>\n",
       "      <th>Store Location</th>\n",
       "      <th>County Number</th>\n",
       "      <th>...</th>\n",
       "      <th>Item Number</th>\n",
       "      <th>Item Description</th>\n",
       "      <th>Pack</th>\n",
       "      <th>Bottle Volume (ml)</th>\n",
       "      <th>State Bottle Cost</th>\n",
       "      <th>State Bottle Retail</th>\n",
       "      <th>Bottles Sold</th>\n",
       "      <th>Sale (Dollars)</th>\n",
       "      <th>Volume Sold (Liters)</th>\n",
       "      <th>Volume Sold (Gallons)</th>\n",
       "    </tr>\n",
       "  </thead>\n",
       "  <tbody>\n",
       "    <tr>\n",
       "      <th>0</th>\n",
       "      <td>2364808</td>\n",
       "      <td>S10798700028</td>\n",
       "      <td>02/26/2013</td>\n",
       "      <td>4347</td>\n",
       "      <td>Jeff's Market / Blue Grass</td>\n",
       "      <td>102 W MAYNE</td>\n",
       "      <td>BLUE GRASS</td>\n",
       "      <td>52726</td>\n",
       "      <td>102 W MAYNE\\nBLUE GRASS 52726\\n(41.509114, -90...</td>\n",
       "      <td>82.0</td>\n",
       "      <td>...</td>\n",
       "      <td>22155</td>\n",
       "      <td>Wild Turkey 101 Round</td>\n",
       "      <td>12</td>\n",
       "      <td>375</td>\n",
       "      <td>$6.00</td>\n",
       "      <td>$8.99</td>\n",
       "      <td>1</td>\n",
       "      <td>$8.99</td>\n",
       "      <td>0.38</td>\n",
       "      <td>0.10</td>\n",
       "    </tr>\n",
       "    <tr>\n",
       "      <th>1</th>\n",
       "      <td>12139684</td>\n",
       "      <td>INV-06802100005</td>\n",
       "      <td>08/22/2017</td>\n",
       "      <td>3651</td>\n",
       "      <td>Wal-Mart 1491 / Indianola</td>\n",
       "      <td>1500 North Jefferson</td>\n",
       "      <td>Indianola</td>\n",
       "      <td>50125</td>\n",
       "      <td>1500 North Jefferson\\nIndianola 50125\\n</td>\n",
       "      <td>91.0</td>\n",
       "      <td>...</td>\n",
       "      <td>11298</td>\n",
       "      <td>Crown Royal Canadian Whisky</td>\n",
       "      <td>6</td>\n",
       "      <td>1750</td>\n",
       "      <td>$31.99</td>\n",
       "      <td>$47.99</td>\n",
       "      <td>1</td>\n",
       "      <td>$287.94</td>\n",
       "      <td>1.75</td>\n",
       "      <td>0.46</td>\n",
       "    </tr>\n",
       "    <tr>\n",
       "      <th>2</th>\n",
       "      <td>31671</td>\n",
       "      <td>S14182900098</td>\n",
       "      <td>08/28/2013</td>\n",
       "      <td>2576</td>\n",
       "      <td>Hy-Vee Wine and Spirits / Storm Lake</td>\n",
       "      <td>1250 N LAKE ST</td>\n",
       "      <td>STORM LAKE</td>\n",
       "      <td>50588</td>\n",
       "      <td>1250 N LAKE ST\\nSTORM LAKE 50588\\n(42.653594, ...</td>\n",
       "      <td>11.0</td>\n",
       "      <td>...</td>\n",
       "      <td>86688</td>\n",
       "      <td>Firefly Strawberry Moonshine</td>\n",
       "      <td>12</td>\n",
       "      <td>750</td>\n",
       "      <td>$9.88</td>\n",
       "      <td>$14.82</td>\n",
       "      <td>2</td>\n",
       "      <td>$29.64</td>\n",
       "      <td>1.50</td>\n",
       "      <td>0.40</td>\n",
       "    </tr>\n",
       "    <tr>\n",
       "      <th>3</th>\n",
       "      <td>1100266</td>\n",
       "      <td>S11292900026</td>\n",
       "      <td>03/26/2013</td>\n",
       "      <td>3756</td>\n",
       "      <td>Main Street Liquors / Manning</td>\n",
       "      <td>316 MAIN ST</td>\n",
       "      <td>MANNING</td>\n",
       "      <td>51455</td>\n",
       "      <td>316 MAIN ST\\nMANNING 51455\\n(41.908573, -95.06...</td>\n",
       "      <td>14.0</td>\n",
       "      <td>...</td>\n",
       "      <td>69947</td>\n",
       "      <td>Rumple Minze Peppermint Schnapps Liqueur</td>\n",
       "      <td>12</td>\n",
       "      <td>1000</td>\n",
       "      <td>$15.15</td>\n",
       "      <td>$22.72</td>\n",
       "      <td>1</td>\n",
       "      <td>$22.72</td>\n",
       "      <td>1.00</td>\n",
       "      <td>0.26</td>\n",
       "    </tr>\n",
       "    <tr>\n",
       "      <th>4</th>\n",
       "      <td>12120532</td>\n",
       "      <td>INV-06737700004</td>\n",
       "      <td>08/17/2017</td>\n",
       "      <td>4997</td>\n",
       "      <td>Downtown Pantry</td>\n",
       "      <td>218, 6th Ave #101</td>\n",
       "      <td>Des Moines</td>\n",
       "      <td>50309</td>\n",
       "      <td>218, 6th Ave #101\\nDes Moines 50309\\n(41.58568...</td>\n",
       "      <td>77.0</td>\n",
       "      <td>...</td>\n",
       "      <td>89191</td>\n",
       "      <td>Jose Cuervo Especial Reposado Tequila Mini</td>\n",
       "      <td>12</td>\n",
       "      <td>500</td>\n",
       "      <td>$11.50</td>\n",
       "      <td>$17.25</td>\n",
       "      <td>1</td>\n",
       "      <td>$17.25</td>\n",
       "      <td>0.50</td>\n",
       "      <td>0.13</td>\n",
       "    </tr>\n",
       "    <tr>\n",
       "      <th>5</th>\n",
       "      <td>11670503</td>\n",
       "      <td>INV-05415200028</td>\n",
       "      <td>06/08/2017</td>\n",
       "      <td>2595</td>\n",
       "      <td>Hy-Vee Wine and Spirits / Denison</td>\n",
       "      <td>1620  4th Ave, South</td>\n",
       "      <td>Denison</td>\n",
       "      <td>51442</td>\n",
       "      <td>1620 4th Ave, South\\nDenison 51442\\n(42.012395...</td>\n",
       "      <td>24.0</td>\n",
       "      <td>...</td>\n",
       "      <td>10828</td>\n",
       "      <td>Crown Royal Northern Harvest Rye</td>\n",
       "      <td>12</td>\n",
       "      <td>750</td>\n",
       "      <td>$17.50</td>\n",
       "      <td>$26.25</td>\n",
       "      <td>2</td>\n",
       "      <td>$26.25</td>\n",
       "      <td>1.50</td>\n",
       "      <td>0.39</td>\n",
       "    </tr>\n",
       "    <tr>\n",
       "      <th>6</th>\n",
       "      <td>4543410</td>\n",
       "      <td>S11437200032</td>\n",
       "      <td>04/03/2013</td>\n",
       "      <td>3712</td>\n",
       "      <td>Monte Spirits</td>\n",
       "      <td>109 N 4TH ST</td>\n",
       "      <td>MONTEZUMA</td>\n",
       "      <td>50171</td>\n",
       "      <td>109 N 4TH ST\\nMONTEZUMA 50171\\n(41.585429, -92...</td>\n",
       "      <td>79.0</td>\n",
       "      <td>...</td>\n",
       "      <td>77776</td>\n",
       "      <td>Wild Turkey American Honey</td>\n",
       "      <td>12</td>\n",
       "      <td>750</td>\n",
       "      <td>$10.50</td>\n",
       "      <td>$15.75</td>\n",
       "      <td>2</td>\n",
       "      <td>$31.50</td>\n",
       "      <td>1.50</td>\n",
       "      <td>0.40</td>\n",
       "    </tr>\n",
       "    <tr>\n",
       "      <th>7</th>\n",
       "      <td>8212094</td>\n",
       "      <td>S29576500047</td>\n",
       "      <td>12/10/2015</td>\n",
       "      <td>2671</td>\n",
       "      <td>Hy-Vee  /  Jefferson</td>\n",
       "      <td>106, W WASHINGTON ST</td>\n",
       "      <td>JEFFERSON</td>\n",
       "      <td>50129</td>\n",
       "      <td>106, W WASHINGTON ST\\nJEFFERSON 50129\\n(42.017...</td>\n",
       "      <td>37.0</td>\n",
       "      <td>...</td>\n",
       "      <td>10807</td>\n",
       "      <td>Crown Royal Regal Apple</td>\n",
       "      <td>12</td>\n",
       "      <td>750</td>\n",
       "      <td>$15.00</td>\n",
       "      <td>$22.50</td>\n",
       "      <td>60</td>\n",
       "      <td>$1350.00</td>\n",
       "      <td>45.00</td>\n",
       "      <td>11.89</td>\n",
       "    </tr>\n",
       "    <tr>\n",
       "      <th>8</th>\n",
       "      <td>1665619</td>\n",
       "      <td>S20509100146</td>\n",
       "      <td>08/06/2014</td>\n",
       "      <td>3495</td>\n",
       "      <td>Great Pastimes</td>\n",
       "      <td>228 N MAIN ST</td>\n",
       "      <td>MONTICELLO</td>\n",
       "      <td>52310</td>\n",
       "      <td>228 N MAIN ST\\nMONTICELLO 52310\\n(42.240132, -...</td>\n",
       "      <td>53.0</td>\n",
       "      <td>...</td>\n",
       "      <td>89194</td>\n",
       "      <td>Jose Cuervo Especial Reposado Flask</td>\n",
       "      <td>24</td>\n",
       "      <td>375</td>\n",
       "      <td>$5.50</td>\n",
       "      <td>$8.25</td>\n",
       "      <td>3</td>\n",
       "      <td>$24.75</td>\n",
       "      <td>1.12</td>\n",
       "      <td>0.30</td>\n",
       "    </tr>\n",
       "    <tr>\n",
       "      <th>9</th>\n",
       "      <td>1800759</td>\n",
       "      <td>S10087900002</td>\n",
       "      <td>01/16/2013</td>\n",
       "      <td>2535</td>\n",
       "      <td>Hy-Vee Food Store #1 / WDM</td>\n",
       "      <td>1700 VALLEY WEST DR</td>\n",
       "      <td>WEST DES MOINES</td>\n",
       "      <td>50265</td>\n",
       "      <td>1700 VALLEY WEST DR\\nWEST DES MOINES 50265\\n</td>\n",
       "      <td>77.0</td>\n",
       "      <td>...</td>\n",
       "      <td>27290</td>\n",
       "      <td>Iowa Shine</td>\n",
       "      <td>12</td>\n",
       "      <td>375</td>\n",
       "      <td>$10.08</td>\n",
       "      <td>$15.13</td>\n",
       "      <td>12</td>\n",
       "      <td>$181.56</td>\n",
       "      <td>4.50</td>\n",
       "      <td>1.19</td>\n",
       "    </tr>\n",
       "  </tbody>\n",
       "</table>\n",
       "<p>10 rows × 25 columns</p>\n",
       "</div>"
      ],
      "text/plain": [
       "   Unnamed: 0 Invoice/Item Number        Date  Store Number  \\\n",
       "0     2364808        S10798700028  02/26/2013          4347   \n",
       "1    12139684     INV-06802100005  08/22/2017          3651   \n",
       "2       31671        S14182900098  08/28/2013          2576   \n",
       "3     1100266        S11292900026  03/26/2013          3756   \n",
       "4    12120532     INV-06737700004  08/17/2017          4997   \n",
       "5    11670503     INV-05415200028  06/08/2017          2595   \n",
       "6     4543410        S11437200032  04/03/2013          3712   \n",
       "7     8212094        S29576500047  12/10/2015          2671   \n",
       "8     1665619        S20509100146  08/06/2014          3495   \n",
       "9     1800759        S10087900002  01/16/2013          2535   \n",
       "\n",
       "                             Store Name               Address  \\\n",
       "0            Jeff's Market / Blue Grass           102 W MAYNE   \n",
       "1             Wal-Mart 1491 / Indianola  1500 North Jefferson   \n",
       "2  Hy-Vee Wine and Spirits / Storm Lake        1250 N LAKE ST   \n",
       "3         Main Street Liquors / Manning           316 MAIN ST   \n",
       "4                       Downtown Pantry     218, 6th Ave #101   \n",
       "5     Hy-Vee Wine and Spirits / Denison  1620  4th Ave, South   \n",
       "6                         Monte Spirits          109 N 4TH ST   \n",
       "7                  Hy-Vee  /  Jefferson  106, W WASHINGTON ST   \n",
       "8                        Great Pastimes         228 N MAIN ST   \n",
       "9            Hy-Vee Food Store #1 / WDM   1700 VALLEY WEST DR   \n",
       "\n",
       "              City  Zip Code  \\\n",
       "0       BLUE GRASS     52726   \n",
       "1        Indianola     50125   \n",
       "2       STORM LAKE     50588   \n",
       "3          MANNING     51455   \n",
       "4       Des Moines     50309   \n",
       "5          Denison     51442   \n",
       "6        MONTEZUMA     50171   \n",
       "7        JEFFERSON     50129   \n",
       "8       MONTICELLO     52310   \n",
       "9  WEST DES MOINES     50265   \n",
       "\n",
       "                                      Store Location  County Number  ...  \\\n",
       "0  102 W MAYNE\\nBLUE GRASS 52726\\n(41.509114, -90...           82.0  ...   \n",
       "1            1500 North Jefferson\\nIndianola 50125\\n           91.0  ...   \n",
       "2  1250 N LAKE ST\\nSTORM LAKE 50588\\n(42.653594, ...           11.0  ...   \n",
       "3  316 MAIN ST\\nMANNING 51455\\n(41.908573, -95.06...           14.0  ...   \n",
       "4  218, 6th Ave #101\\nDes Moines 50309\\n(41.58568...           77.0  ...   \n",
       "5  1620 4th Ave, South\\nDenison 51442\\n(42.012395...           24.0  ...   \n",
       "6  109 N 4TH ST\\nMONTEZUMA 50171\\n(41.585429, -92...           79.0  ...   \n",
       "7  106, W WASHINGTON ST\\nJEFFERSON 50129\\n(42.017...           37.0  ...   \n",
       "8  228 N MAIN ST\\nMONTICELLO 52310\\n(42.240132, -...           53.0  ...   \n",
       "9       1700 VALLEY WEST DR\\nWEST DES MOINES 50265\\n           77.0  ...   \n",
       "\n",
       "  Item Number                            Item Description Pack  \\\n",
       "0       22155                       Wild Turkey 101 Round   12   \n",
       "1       11298                 Crown Royal Canadian Whisky    6   \n",
       "2       86688                Firefly Strawberry Moonshine   12   \n",
       "3       69947    Rumple Minze Peppermint Schnapps Liqueur   12   \n",
       "4       89191  Jose Cuervo Especial Reposado Tequila Mini   12   \n",
       "5       10828            Crown Royal Northern Harvest Rye   12   \n",
       "6       77776                  Wild Turkey American Honey   12   \n",
       "7       10807                     Crown Royal Regal Apple   12   \n",
       "8       89194         Jose Cuervo Especial Reposado Flask   24   \n",
       "9       27290                                  Iowa Shine   12   \n",
       "\n",
       "   Bottle Volume (ml) State Bottle Cost  State Bottle Retail Bottles Sold  \\\n",
       "0                 375             $6.00                $8.99            1   \n",
       "1                1750            $31.99               $47.99            1   \n",
       "2                 750             $9.88               $14.82            2   \n",
       "3                1000            $15.15               $22.72            1   \n",
       "4                 500            $11.50               $17.25            1   \n",
       "5                 750            $17.50               $26.25            2   \n",
       "6                 750            $10.50               $15.75            2   \n",
       "7                 750            $15.00               $22.50           60   \n",
       "8                 375             $5.50                $8.25            3   \n",
       "9                 375            $10.08               $15.13           12   \n",
       "\n",
       "   Sale (Dollars)  Volume Sold (Liters) Volume Sold (Gallons)  \n",
       "0           $8.99                  0.38                  0.10  \n",
       "1         $287.94                  1.75                  0.46  \n",
       "2          $29.64                  1.50                  0.40  \n",
       "3          $22.72                  1.00                  0.26  \n",
       "4          $17.25                  0.50                  0.13  \n",
       "5          $26.25                  1.50                  0.39  \n",
       "6          $31.50                  1.50                  0.40  \n",
       "7        $1350.00                 45.00                 11.89  \n",
       "8          $24.75                  1.12                  0.30  \n",
       "9         $181.56                  4.50                  1.19  \n",
       "\n",
       "[10 rows x 25 columns]"
      ]
     },
     "execution_count": 2,
     "metadata": {},
     "output_type": "execute_result"
    }
   ],
   "source": [
    "df_firstn = pd.read_csv(\"../data/raw/iowa_liquor_train_test_split_sample.csv\", nrows=10)\n",
    "df_firstn"
   ]
  },
  {
   "cell_type": "markdown",
   "metadata": {},
   "source": [
    "## Análise exploratória dataset Iowa_Liquor_Sales"
   ]
  },
  {
   "cell_type": "code",
   "execution_count": 3,
   "metadata": {},
   "outputs": [],
   "source": [
    "#req_cols=['Date','City','County','Item Description','State Bottle Cost','State Bottle Retail','Volume Sold (Liters)']"
   ]
  },
  {
   "cell_type": "markdown",
   "metadata": {},
   "source": [
    "### Leitura do dataset gerado pelo train_test_split e atribuindo a uma variável"
   ]
  },
  {
   "cell_type": "code",
   "execution_count": 4,
   "metadata": {},
   "outputs": [],
   "source": [
    "#dataset = pd.read_csv(\"../data/raw/Iowa_Liquor_Sales.csv\", usecols=req_cols)\n",
    "df = pd.read_csv(\"../data/raw/iowa_liquor_train_test_split_sample.csv\",dtype={\n",
    "    'Invoice/Item Number': str,\n",
    "    'Date':str,\n",
    "    'Store Number': float,\n",
    "    'Store Name': str,\n",
    "    'Address': str,\n",
    "    'City': str,\n",
    "    'Zip Code': str,\n",
    "    'Store Location': str,\n",
    "    'County Number': float,\n",
    "    'County': str,\n",
    "    'Category': float,\n",
    "    'Category Name': str,\n",
    "    'Vendor Number': float,\n",
    "    'Vendor Name': str,\n",
    "    'Item Number': float,\n",
    "    'Item Description': str,\n",
    "    'Pack': float,\n",
    "    'Bottle Volume (ml)': int,\n",
    "    'State Bottle Cost': str,\n",
    "    'State Bottle Retail': str,\n",
    "    'Bottles Sold': int,\n",
    "    'Sale (Dollars)': str,\n",
    "    'Volume Sold (Liters)': float,\n",
    "    'Volume Sold (Gallons)': float\n",
    "})"
   ]
  },
  {
   "cell_type": "code",
   "execution_count": 5,
   "metadata": {},
   "outputs": [
    {
     "data": {
      "text/html": [
       "<div>\n",
       "<style scoped>\n",
       "    .dataframe tbody tr th:only-of-type {\n",
       "        vertical-align: middle;\n",
       "    }\n",
       "\n",
       "    .dataframe tbody tr th {\n",
       "        vertical-align: top;\n",
       "    }\n",
       "\n",
       "    .dataframe thead th {\n",
       "        text-align: right;\n",
       "    }\n",
       "</style>\n",
       "<table border=\"1\" class=\"dataframe\">\n",
       "  <thead>\n",
       "    <tr style=\"text-align: right;\">\n",
       "      <th></th>\n",
       "      <th>Unnamed: 0</th>\n",
       "      <th>Invoice/Item Number</th>\n",
       "      <th>Date</th>\n",
       "      <th>Store Number</th>\n",
       "      <th>Store Name</th>\n",
       "      <th>Address</th>\n",
       "      <th>City</th>\n",
       "      <th>Zip Code</th>\n",
       "      <th>Store Location</th>\n",
       "      <th>County Number</th>\n",
       "      <th>...</th>\n",
       "      <th>Item Number</th>\n",
       "      <th>Item Description</th>\n",
       "      <th>Pack</th>\n",
       "      <th>Bottle Volume (ml)</th>\n",
       "      <th>State Bottle Cost</th>\n",
       "      <th>State Bottle Retail</th>\n",
       "      <th>Bottles Sold</th>\n",
       "      <th>Sale (Dollars)</th>\n",
       "      <th>Volume Sold (Liters)</th>\n",
       "      <th>Volume Sold (Gallons)</th>\n",
       "    </tr>\n",
       "  </thead>\n",
       "  <tbody>\n",
       "    <tr>\n",
       "      <th>0</th>\n",
       "      <td>2364808</td>\n",
       "      <td>S10798700028</td>\n",
       "      <td>02/26/2013</td>\n",
       "      <td>4347.0</td>\n",
       "      <td>Jeff's Market / Blue Grass</td>\n",
       "      <td>102 W MAYNE</td>\n",
       "      <td>BLUE GRASS</td>\n",
       "      <td>52726</td>\n",
       "      <td>102 W MAYNE\\nBLUE GRASS 52726\\n(41.509114, -90...</td>\n",
       "      <td>82.0</td>\n",
       "      <td>...</td>\n",
       "      <td>22155.0</td>\n",
       "      <td>Wild Turkey 101 Round</td>\n",
       "      <td>12.0</td>\n",
       "      <td>375</td>\n",
       "      <td>$6.00</td>\n",
       "      <td>$8.99</td>\n",
       "      <td>1</td>\n",
       "      <td>$8.99</td>\n",
       "      <td>0.38</td>\n",
       "      <td>0.10</td>\n",
       "    </tr>\n",
       "    <tr>\n",
       "      <th>1</th>\n",
       "      <td>12139684</td>\n",
       "      <td>INV-06802100005</td>\n",
       "      <td>08/22/2017</td>\n",
       "      <td>3651.0</td>\n",
       "      <td>Wal-Mart 1491 / Indianola</td>\n",
       "      <td>1500 North Jefferson</td>\n",
       "      <td>Indianola</td>\n",
       "      <td>50125</td>\n",
       "      <td>1500 North Jefferson\\nIndianola 50125\\n</td>\n",
       "      <td>91.0</td>\n",
       "      <td>...</td>\n",
       "      <td>11298.0</td>\n",
       "      <td>Crown Royal Canadian Whisky</td>\n",
       "      <td>6.0</td>\n",
       "      <td>1750</td>\n",
       "      <td>$31.99</td>\n",
       "      <td>$47.99</td>\n",
       "      <td>1</td>\n",
       "      <td>$287.94</td>\n",
       "      <td>1.75</td>\n",
       "      <td>0.46</td>\n",
       "    </tr>\n",
       "  </tbody>\n",
       "</table>\n",
       "<p>2 rows × 25 columns</p>\n",
       "</div>"
      ],
      "text/plain": [
       "   Unnamed: 0 Invoice/Item Number        Date  Store Number  \\\n",
       "0     2364808        S10798700028  02/26/2013        4347.0   \n",
       "1    12139684     INV-06802100005  08/22/2017        3651.0   \n",
       "\n",
       "                   Store Name               Address        City Zip Code  \\\n",
       "0  Jeff's Market / Blue Grass           102 W MAYNE  BLUE GRASS    52726   \n",
       "1   Wal-Mart 1491 / Indianola  1500 North Jefferson   Indianola    50125   \n",
       "\n",
       "                                      Store Location  County Number  ...  \\\n",
       "0  102 W MAYNE\\nBLUE GRASS 52726\\n(41.509114, -90...           82.0  ...   \n",
       "1            1500 North Jefferson\\nIndianola 50125\\n           91.0  ...   \n",
       "\n",
       "  Item Number             Item Description  Pack  Bottle Volume (ml)  \\\n",
       "0     22155.0        Wild Turkey 101 Round  12.0                 375   \n",
       "1     11298.0  Crown Royal Canadian Whisky   6.0                1750   \n",
       "\n",
       "  State Bottle Cost  State Bottle Retail Bottles Sold  Sale (Dollars)  \\\n",
       "0             $6.00                $8.99            1           $8.99   \n",
       "1            $31.99               $47.99            1         $287.94   \n",
       "\n",
       "   Volume Sold (Liters) Volume Sold (Gallons)  \n",
       "0                  0.38                  0.10  \n",
       "1                  1.75                  0.46  \n",
       "\n",
       "[2 rows x 25 columns]"
      ]
     },
     "execution_count": 5,
     "metadata": {},
     "output_type": "execute_result"
    }
   ],
   "source": [
    "df.head(2)"
   ]
  },
  {
   "cell_type": "markdown",
   "metadata": {},
   "source": [
    "### Utilização o train_test_split para dividir o dataset em dados"
   ]
  },
  {
   "cell_type": "code",
   "execution_count": 6,
   "metadata": {},
   "outputs": [],
   "source": [
    "#X = dataset\n",
    "#y = dataset"
   ]
  },
  {
   "cell_type": "code",
   "execution_count": 7,
   "metadata": {},
   "outputs": [],
   "source": [
    "#X_train, X_test, y_train, y_test = train_test_split(X, y,test_size=0.2)"
   ]
  },
  {
   "cell_type": "code",
   "execution_count": 8,
   "metadata": {},
   "outputs": [],
   "source": [
    "#df = pd.DataFrame(X_test)\n",
    "#df.head()"
   ]
  },
  {
   "cell_type": "code",
   "execution_count": 9,
   "metadata": {},
   "outputs": [],
   "source": [
    "#df.to_csv('iowa_liquor_train_test_split_sample.csv')"
   ]
  },
  {
   "cell_type": "code",
   "execution_count": 10,
   "metadata": {},
   "outputs": [
    {
     "name": "stdout",
     "output_type": "stream",
     "text": [
      "<class 'pandas.core.frame.DataFrame'>\n",
      "RangeIndex: 2518216 entries, 0 to 2518215\n",
      "Data columns (total 25 columns):\n",
      " #   Column                 Dtype  \n",
      "---  ------                 -----  \n",
      " 0   Unnamed: 0             int64  \n",
      " 1   Invoice/Item Number    object \n",
      " 2   Date                   object \n",
      " 3   Store Number           float64\n",
      " 4   Store Name             object \n",
      " 5   Address                object \n",
      " 6   City                   object \n",
      " 7   Zip Code               object \n",
      " 8   Store Location         object \n",
      " 9   County Number          float64\n",
      " 10  County                 object \n",
      " 11  Category               float64\n",
      " 12  Category Name          object \n",
      " 13  Vendor Number          float64\n",
      " 14  Vendor Name            object \n",
      " 15  Item Number            float64\n",
      " 16  Item Description       object \n",
      " 17  Pack                   float64\n",
      " 18  Bottle Volume (ml)     int64  \n",
      " 19  State Bottle Cost      object \n",
      " 20  State Bottle Retail    object \n",
      " 21  Bottles Sold           int64  \n",
      " 22  Sale (Dollars)         object \n",
      " 23  Volume Sold (Liters)   float64\n",
      " 24  Volume Sold (Gallons)  float64\n",
      "dtypes: float64(8), int64(3), object(14)\n",
      "memory usage: 480.3+ MB\n"
     ]
    }
   ],
   "source": [
    "df.info()"
   ]
  },
  {
   "cell_type": "markdown",
   "metadata": {},
   "source": [
    "### Limpeza os dados e facilitação da análise"
   ]
  },
  {
   "cell_type": "code",
   "execution_count": 11,
   "metadata": {},
   "outputs": [
    {
     "data": {
      "text/plain": [
       "Index(['unnamed_0', 'invoice_item_number', 'date', 'store_number',\n",
       "       'store_name', 'address', 'city', 'zip_code', 'store_location',\n",
       "       'county_number', 'county', 'category', 'category_name', 'vendor_number',\n",
       "       'vendor_name', 'item_number', 'item_description', 'pack',\n",
       "       'bottle_volume_ml', 'state_bottle_cost', 'state_bottle_retail',\n",
       "       'bottles_sold', 'sale_dollars', 'volume_sold_liters',\n",
       "       'volume_sold_gallons'],\n",
       "      dtype='object')"
      ]
     },
     "execution_count": 11,
     "metadata": {},
     "output_type": "execute_result"
    }
   ],
   "source": [
    "df.columns = [slugify(col, lowercase=True, separator='_') for col in df.columns]\n",
    "df.columns"
   ]
  },
  {
   "cell_type": "code",
   "execution_count": 12,
   "metadata": {},
   "outputs": [],
   "source": [
    "#df['city'] = slugify(str(df['city']))"
   ]
  },
  {
   "cell_type": "markdown",
   "metadata": {},
   "source": [
    "### Escolha das colunas a utilizar"
   ]
  },
  {
   "cell_type": "code",
   "execution_count": 13,
   "metadata": {},
   "outputs": [],
   "source": [
    "df = df.drop('unnamed_0', 1)\n",
    "df = df.drop('invoice_item_number', 1)\n",
    "df = df.drop('volume_sold_gallons', 1)"
   ]
  },
  {
   "cell_type": "code",
   "execution_count": 14,
   "metadata": {},
   "outputs": [
    {
     "data": {
      "text/plain": [
       "Index(['date', 'store_number', 'store_name', 'address', 'city', 'zip_code',\n",
       "       'store_location', 'county_number', 'county', 'category',\n",
       "       'category_name', 'vendor_number', 'vendor_name', 'item_number',\n",
       "       'item_description', 'pack', 'bottle_volume_ml', 'state_bottle_cost',\n",
       "       'state_bottle_retail', 'bottles_sold', 'sale_dollars',\n",
       "       'volume_sold_liters'],\n",
       "      dtype='object')"
      ]
     },
     "execution_count": 14,
     "metadata": {},
     "output_type": "execute_result"
    }
   ],
   "source": [
    "df.columns"
   ]
  },
  {
   "cell_type": "code",
   "execution_count": 15,
   "metadata": {},
   "outputs": [
    {
     "name": "stdout",
     "output_type": "stream",
     "text": [
      "<class 'pandas.core.frame.DataFrame'>\n",
      "RangeIndex: 2518216 entries, 0 to 2518215\n",
      "Data columns (total 22 columns):\n",
      " #   Column               Dtype  \n",
      "---  ------               -----  \n",
      " 0   date                 object \n",
      " 1   store_number         float64\n",
      " 2   store_name           object \n",
      " 3   address              object \n",
      " 4   city                 object \n",
      " 5   zip_code             object \n",
      " 6   store_location       object \n",
      " 7   county_number        float64\n",
      " 8   county               object \n",
      " 9   category             float64\n",
      " 10  category_name        object \n",
      " 11  vendor_number        float64\n",
      " 12  vendor_name          object \n",
      " 13  item_number          float64\n",
      " 14  item_description     object \n",
      " 15  pack                 float64\n",
      " 16  bottle_volume_ml     int64  \n",
      " 17  state_bottle_cost    object \n",
      " 18  state_bottle_retail  object \n",
      " 19  bottles_sold         int64  \n",
      " 20  sale_dollars         object \n",
      " 21  volume_sold_liters   float64\n",
      "dtypes: float64(7), int64(2), object(13)\n",
      "memory usage: 422.7+ MB\n"
     ]
    }
   ],
   "source": [
    "df.info()"
   ]
  },
  {
   "cell_type": "markdown",
   "metadata": {},
   "source": [
    "### Substituição dos valores NaN da tabela"
   ]
  },
  {
   "cell_type": "code",
   "execution_count": 16,
   "metadata": {},
   "outputs": [
    {
     "data": {
      "text/plain": [
       "True"
      ]
     },
     "execution_count": 16,
     "metadata": {},
     "output_type": "execute_result"
    }
   ],
   "source": [
    "df.isnull().values.any()"
   ]
  },
  {
   "cell_type": "code",
   "execution_count": 17,
   "metadata": {},
   "outputs": [],
   "source": [
    "for x in df.columns:\n",
    "    df[x] = df[x].fillna('no_data')"
   ]
  },
  {
   "cell_type": "code",
   "execution_count": 18,
   "metadata": {},
   "outputs": [],
   "source": [
    "df[df['city'] == 'nan'] = 'no_city'"
   ]
  },
  {
   "cell_type": "code",
   "execution_count": 19,
   "metadata": {},
   "outputs": [],
   "source": [
    "df[df['county'] == 'nan'] = 'no_county'"
   ]
  },
  {
   "cell_type": "code",
   "execution_count": 20,
   "metadata": {},
   "outputs": [],
   "source": [
    "df[df['item_description'] == 'nan'] = 'no_item_description'"
   ]
  },
  {
   "cell_type": "code",
   "execution_count": 21,
   "metadata": {},
   "outputs": [
    {
     "data": {
      "text/plain": [
       "False"
      ]
     },
     "execution_count": 21,
     "metadata": {},
     "output_type": "execute_result"
    }
   ],
   "source": [
    "df.isnull().values.any()"
   ]
  },
  {
   "cell_type": "markdown",
   "metadata": {},
   "source": [
    "### Aplicão do slugify  nas colunas com string:"
   ]
  },
  {
   "cell_type": "code",
   "execution_count": 22,
   "metadata": {},
   "outputs": [],
   "source": [
    "df['store_name']=df['store_name'].apply(slugify)"
   ]
  },
  {
   "cell_type": "code",
   "execution_count": 23,
   "metadata": {},
   "outputs": [],
   "source": [
    "df['address']=df['address'].apply(slugify)"
   ]
  },
  {
   "cell_type": "code",
   "execution_count": 24,
   "metadata": {},
   "outputs": [],
   "source": [
    "df['city']=df['city'].apply(slugify)"
   ]
  },
  {
   "cell_type": "code",
   "execution_count": 25,
   "metadata": {},
   "outputs": [],
   "source": [
    "df['store_location']=df['store_location'].apply(slugify)"
   ]
  },
  {
   "cell_type": "code",
   "execution_count": 26,
   "metadata": {},
   "outputs": [],
   "source": [
    "df['county']=df['county'].apply(slugify)"
   ]
  },
  {
   "cell_type": "code",
   "execution_count": 27,
   "metadata": {},
   "outputs": [],
   "source": [
    "df['category_name']=df['category_name'].apply(slugify)"
   ]
  },
  {
   "cell_type": "code",
   "execution_count": 28,
   "metadata": {},
   "outputs": [],
   "source": [
    "df['vendor_name']=df['vendor_name'].apply(slugify)"
   ]
  },
  {
   "cell_type": "code",
   "execution_count": 29,
   "metadata": {},
   "outputs": [],
   "source": [
    "df['item_description']=df['item_description'].apply(slugify)"
   ]
  },
  {
   "cell_type": "code",
   "execution_count": 30,
   "metadata": {},
   "outputs": [
    {
     "data": {
      "text/html": [
       "<div>\n",
       "<style scoped>\n",
       "    .dataframe tbody tr th:only-of-type {\n",
       "        vertical-align: middle;\n",
       "    }\n",
       "\n",
       "    .dataframe tbody tr th {\n",
       "        vertical-align: top;\n",
       "    }\n",
       "\n",
       "    .dataframe thead th {\n",
       "        text-align: right;\n",
       "    }\n",
       "</style>\n",
       "<table border=\"1\" class=\"dataframe\">\n",
       "  <thead>\n",
       "    <tr style=\"text-align: right;\">\n",
       "      <th></th>\n",
       "      <th>date</th>\n",
       "      <th>store_number</th>\n",
       "      <th>store_name</th>\n",
       "      <th>address</th>\n",
       "      <th>city</th>\n",
       "      <th>zip_code</th>\n",
       "      <th>store_location</th>\n",
       "      <th>county_number</th>\n",
       "      <th>county</th>\n",
       "      <th>category</th>\n",
       "      <th>...</th>\n",
       "      <th>vendor_name</th>\n",
       "      <th>item_number</th>\n",
       "      <th>item_description</th>\n",
       "      <th>pack</th>\n",
       "      <th>bottle_volume_ml</th>\n",
       "      <th>state_bottle_cost</th>\n",
       "      <th>state_bottle_retail</th>\n",
       "      <th>bottles_sold</th>\n",
       "      <th>sale_dollars</th>\n",
       "      <th>volume_sold_liters</th>\n",
       "    </tr>\n",
       "  </thead>\n",
       "  <tbody>\n",
       "    <tr>\n",
       "      <th>0</th>\n",
       "      <td>02/26/2013</td>\n",
       "      <td>4347</td>\n",
       "      <td>jeff-s-market-blue-grass</td>\n",
       "      <td>102-w-mayne</td>\n",
       "      <td>blue-grass</td>\n",
       "      <td>52726</td>\n",
       "      <td>102-w-mayne-blue-grass-52726-41-509114-90-765769</td>\n",
       "      <td>82</td>\n",
       "      <td>scott</td>\n",
       "      <td>1.0112e+06</td>\n",
       "      <td>...</td>\n",
       "      <td>campari-skyy</td>\n",
       "      <td>22155</td>\n",
       "      <td>wild-turkey-101-round</td>\n",
       "      <td>12</td>\n",
       "      <td>375</td>\n",
       "      <td>$6.00</td>\n",
       "      <td>$8.99</td>\n",
       "      <td>1</td>\n",
       "      <td>$8.99</td>\n",
       "      <td>0.38</td>\n",
       "    </tr>\n",
       "    <tr>\n",
       "      <th>1</th>\n",
       "      <td>08/22/2017</td>\n",
       "      <td>3651</td>\n",
       "      <td>wal-mart-1491-indianola</td>\n",
       "      <td>1500-north-jefferson</td>\n",
       "      <td>indianola</td>\n",
       "      <td>50125</td>\n",
       "      <td>1500-north-jefferson-indianola-50125</td>\n",
       "      <td>91</td>\n",
       "      <td>warren</td>\n",
       "      <td>1.0121e+06</td>\n",
       "      <td>...</td>\n",
       "      <td>diageo-americas</td>\n",
       "      <td>11298</td>\n",
       "      <td>crown-royal-canadian-whisky</td>\n",
       "      <td>6</td>\n",
       "      <td>1750</td>\n",
       "      <td>$31.99</td>\n",
       "      <td>$47.99</td>\n",
       "      <td>1</td>\n",
       "      <td>$287.94</td>\n",
       "      <td>1.75</td>\n",
       "    </tr>\n",
       "    <tr>\n",
       "      <th>2</th>\n",
       "      <td>08/28/2013</td>\n",
       "      <td>2576</td>\n",
       "      <td>hy-vee-wine-and-spirits-storm-lake</td>\n",
       "      <td>1250-n-lake-st</td>\n",
       "      <td>storm-lake</td>\n",
       "      <td>50588</td>\n",
       "      <td>1250-n-lake-st-storm-lake-50588-42-653594-95-2...</td>\n",
       "      <td>11</td>\n",
       "      <td>buena-vista</td>\n",
       "      <td>1.0817e+06</td>\n",
       "      <td>...</td>\n",
       "      <td>sazerac-co-inc</td>\n",
       "      <td>86688</td>\n",
       "      <td>firefly-strawberry-moonshine</td>\n",
       "      <td>12</td>\n",
       "      <td>750</td>\n",
       "      <td>$9.88</td>\n",
       "      <td>$14.82</td>\n",
       "      <td>2</td>\n",
       "      <td>$29.64</td>\n",
       "      <td>1.5</td>\n",
       "    </tr>\n",
       "    <tr>\n",
       "      <th>3</th>\n",
       "      <td>03/26/2013</td>\n",
       "      <td>3756</td>\n",
       "      <td>main-street-liquors-manning</td>\n",
       "      <td>316-main-st</td>\n",
       "      <td>manning</td>\n",
       "      <td>51455</td>\n",
       "      <td>316-main-st-manning-51455-41-908573-95-065122</td>\n",
       "      <td>14</td>\n",
       "      <td>carroll</td>\n",
       "      <td>1.08139e+06</td>\n",
       "      <td>...</td>\n",
       "      <td>diageo-americas</td>\n",
       "      <td>69947</td>\n",
       "      <td>rumple-minze-peppermint-schnapps-liqueur</td>\n",
       "      <td>12</td>\n",
       "      <td>1000</td>\n",
       "      <td>$15.15</td>\n",
       "      <td>$22.72</td>\n",
       "      <td>1</td>\n",
       "      <td>$22.72</td>\n",
       "      <td>1</td>\n",
       "    </tr>\n",
       "    <tr>\n",
       "      <th>4</th>\n",
       "      <td>08/17/2017</td>\n",
       "      <td>4997</td>\n",
       "      <td>downtown-pantry</td>\n",
       "      <td>218-6th-ave-101</td>\n",
       "      <td>des-moines</td>\n",
       "      <td>50309</td>\n",
       "      <td>218-6th-ave-101-des-moines-50309-41-585684-93-...</td>\n",
       "      <td>77</td>\n",
       "      <td>polk</td>\n",
       "      <td>1.0221e+06</td>\n",
       "      <td>...</td>\n",
       "      <td>proximo</td>\n",
       "      <td>89191</td>\n",
       "      <td>jose-cuervo-especial-reposado-tequila-mini</td>\n",
       "      <td>12</td>\n",
       "      <td>500</td>\n",
       "      <td>$11.50</td>\n",
       "      <td>$17.25</td>\n",
       "      <td>1</td>\n",
       "      <td>$17.25</td>\n",
       "      <td>0.5</td>\n",
       "    </tr>\n",
       "  </tbody>\n",
       "</table>\n",
       "<p>5 rows × 22 columns</p>\n",
       "</div>"
      ],
      "text/plain": [
       "         date store_number                          store_name  \\\n",
       "0  02/26/2013         4347            jeff-s-market-blue-grass   \n",
       "1  08/22/2017         3651             wal-mart-1491-indianola   \n",
       "2  08/28/2013         2576  hy-vee-wine-and-spirits-storm-lake   \n",
       "3  03/26/2013         3756         main-street-liquors-manning   \n",
       "4  08/17/2017         4997                     downtown-pantry   \n",
       "\n",
       "                address        city zip_code  \\\n",
       "0           102-w-mayne  blue-grass    52726   \n",
       "1  1500-north-jefferson   indianola    50125   \n",
       "2        1250-n-lake-st  storm-lake    50588   \n",
       "3           316-main-st     manning    51455   \n",
       "4       218-6th-ave-101  des-moines    50309   \n",
       "\n",
       "                                      store_location county_number  \\\n",
       "0   102-w-mayne-blue-grass-52726-41-509114-90-765769            82   \n",
       "1               1500-north-jefferson-indianola-50125            91   \n",
       "2  1250-n-lake-st-storm-lake-50588-42-653594-95-2...            11   \n",
       "3      316-main-st-manning-51455-41-908573-95-065122            14   \n",
       "4  218-6th-ave-101-des-moines-50309-41-585684-93-...            77   \n",
       "\n",
       "        county     category  ...      vendor_name item_number  \\\n",
       "0        scott   1.0112e+06  ...     campari-skyy       22155   \n",
       "1       warren   1.0121e+06  ...  diageo-americas       11298   \n",
       "2  buena-vista   1.0817e+06  ...   sazerac-co-inc       86688   \n",
       "3      carroll  1.08139e+06  ...  diageo-americas       69947   \n",
       "4         polk   1.0221e+06  ...          proximo       89191   \n",
       "\n",
       "                             item_description pack bottle_volume_ml  \\\n",
       "0                       wild-turkey-101-round   12              375   \n",
       "1                 crown-royal-canadian-whisky    6             1750   \n",
       "2                firefly-strawberry-moonshine   12              750   \n",
       "3    rumple-minze-peppermint-schnapps-liqueur   12             1000   \n",
       "4  jose-cuervo-especial-reposado-tequila-mini   12              500   \n",
       "\n",
       "  state_bottle_cost state_bottle_retail bottles_sold sale_dollars  \\\n",
       "0             $6.00               $8.99            1        $8.99   \n",
       "1            $31.99              $47.99            1      $287.94   \n",
       "2             $9.88              $14.82            2       $29.64   \n",
       "3            $15.15              $22.72            1       $22.72   \n",
       "4            $11.50              $17.25            1       $17.25   \n",
       "\n",
       "  volume_sold_liters  \n",
       "0               0.38  \n",
       "1               1.75  \n",
       "2                1.5  \n",
       "3                  1  \n",
       "4                0.5  \n",
       "\n",
       "[5 rows x 22 columns]"
      ]
     },
     "execution_count": 30,
     "metadata": {},
     "output_type": "execute_result"
    }
   ],
   "source": [
    "df.head()"
   ]
  },
  {
   "cell_type": "code",
   "execution_count": 31,
   "metadata": {},
   "outputs": [],
   "source": [
    "#remover valores duplicados\n",
    "#def distance(s1,s2):\n",
    "    #if Levenshtein.distance(s1,s2) != 0:\n",
    "        #return s1"
   ]
  },
  {
   "cell_type": "code",
   "execution_count": 32,
   "metadata": {},
   "outputs": [],
   "source": [
    "#cities_slg"
   ]
  },
  {
   "cell_type": "code",
   "execution_count": 33,
   "metadata": {},
   "outputs": [],
   "source": [
    "#counties = df['county'].unique().astype(str)"
   ]
  },
  {
   "cell_type": "code",
   "execution_count": 34,
   "metadata": {},
   "outputs": [],
   "source": [
    "df['state_bottle_cost'] = df['state_bottle_cost'].replace({'\\$':''}, regex = True)"
   ]
  },
  {
   "cell_type": "code",
   "execution_count": 35,
   "metadata": {},
   "outputs": [],
   "source": [
    "df['state_bottle_retail'] = df['state_bottle_retail'].replace({'\\$':''}, regex = True)"
   ]
  },
  {
   "cell_type": "code",
   "execution_count": 36,
   "metadata": {},
   "outputs": [],
   "source": [
    "df['sale_dollars'] = df['sale_dollars'].replace({'\\$':''}, regex = True)"
   ]
  },
  {
   "cell_type": "code",
   "execution_count": 37,
   "metadata": {},
   "outputs": [],
   "source": [
    "df['date'] = pd.to_datetime(df['date'])"
   ]
  },
  {
   "cell_type": "code",
   "execution_count": 39,
   "metadata": {},
   "outputs": [
    {
     "data": {
      "text/html": [
       "<div>\n",
       "<style scoped>\n",
       "    .dataframe tbody tr th:only-of-type {\n",
       "        vertical-align: middle;\n",
       "    }\n",
       "\n",
       "    .dataframe tbody tr th {\n",
       "        vertical-align: top;\n",
       "    }\n",
       "\n",
       "    .dataframe thead th {\n",
       "        text-align: right;\n",
       "    }\n",
       "</style>\n",
       "<table border=\"1\" class=\"dataframe\">\n",
       "  <thead>\n",
       "    <tr style=\"text-align: right;\">\n",
       "      <th></th>\n",
       "      <th>date</th>\n",
       "      <th>store_number</th>\n",
       "      <th>store_name</th>\n",
       "      <th>address</th>\n",
       "      <th>city</th>\n",
       "      <th>zip_code</th>\n",
       "      <th>store_location</th>\n",
       "      <th>county_number</th>\n",
       "      <th>county</th>\n",
       "      <th>category</th>\n",
       "      <th>...</th>\n",
       "      <th>vendor_name</th>\n",
       "      <th>item_number</th>\n",
       "      <th>item_description</th>\n",
       "      <th>pack</th>\n",
       "      <th>bottle_volume_ml</th>\n",
       "      <th>state_bottle_cost</th>\n",
       "      <th>state_bottle_retail</th>\n",
       "      <th>bottles_sold</th>\n",
       "      <th>sale_dollars</th>\n",
       "      <th>volume_sold_liters</th>\n",
       "    </tr>\n",
       "  </thead>\n",
       "  <tbody>\n",
       "    <tr>\n",
       "      <th>0</th>\n",
       "      <td>2013-02-26</td>\n",
       "      <td>4347</td>\n",
       "      <td>jeff-s-market-blue-grass</td>\n",
       "      <td>102-w-mayne</td>\n",
       "      <td>blue-grass</td>\n",
       "      <td>52726</td>\n",
       "      <td>102-w-mayne-blue-grass-52726-41-509114-90-765769</td>\n",
       "      <td>82</td>\n",
       "      <td>scott</td>\n",
       "      <td>1.0112e+06</td>\n",
       "      <td>...</td>\n",
       "      <td>campari-skyy</td>\n",
       "      <td>22155</td>\n",
       "      <td>wild-turkey-101-round</td>\n",
       "      <td>12</td>\n",
       "      <td>375</td>\n",
       "      <td>6.00</td>\n",
       "      <td>8.99</td>\n",
       "      <td>1</td>\n",
       "      <td>8.99</td>\n",
       "      <td>0.38</td>\n",
       "    </tr>\n",
       "    <tr>\n",
       "      <th>1</th>\n",
       "      <td>2017-08-22</td>\n",
       "      <td>3651</td>\n",
       "      <td>wal-mart-1491-indianola</td>\n",
       "      <td>1500-north-jefferson</td>\n",
       "      <td>indianola</td>\n",
       "      <td>50125</td>\n",
       "      <td>1500-north-jefferson-indianola-50125</td>\n",
       "      <td>91</td>\n",
       "      <td>warren</td>\n",
       "      <td>1.0121e+06</td>\n",
       "      <td>...</td>\n",
       "      <td>diageo-americas</td>\n",
       "      <td>11298</td>\n",
       "      <td>crown-royal-canadian-whisky</td>\n",
       "      <td>6</td>\n",
       "      <td>1750</td>\n",
       "      <td>31.99</td>\n",
       "      <td>47.99</td>\n",
       "      <td>1</td>\n",
       "      <td>287.94</td>\n",
       "      <td>1.75</td>\n",
       "    </tr>\n",
       "    <tr>\n",
       "      <th>2</th>\n",
       "      <td>2013-08-28</td>\n",
       "      <td>2576</td>\n",
       "      <td>hy-vee-wine-and-spirits-storm-lake</td>\n",
       "      <td>1250-n-lake-st</td>\n",
       "      <td>storm-lake</td>\n",
       "      <td>50588</td>\n",
       "      <td>1250-n-lake-st-storm-lake-50588-42-653594-95-2...</td>\n",
       "      <td>11</td>\n",
       "      <td>buena-vista</td>\n",
       "      <td>1.0817e+06</td>\n",
       "      <td>...</td>\n",
       "      <td>sazerac-co-inc</td>\n",
       "      <td>86688</td>\n",
       "      <td>firefly-strawberry-moonshine</td>\n",
       "      <td>12</td>\n",
       "      <td>750</td>\n",
       "      <td>9.88</td>\n",
       "      <td>14.82</td>\n",
       "      <td>2</td>\n",
       "      <td>29.64</td>\n",
       "      <td>1.5</td>\n",
       "    </tr>\n",
       "    <tr>\n",
       "      <th>3</th>\n",
       "      <td>2013-03-26</td>\n",
       "      <td>3756</td>\n",
       "      <td>main-street-liquors-manning</td>\n",
       "      <td>316-main-st</td>\n",
       "      <td>manning</td>\n",
       "      <td>51455</td>\n",
       "      <td>316-main-st-manning-51455-41-908573-95-065122</td>\n",
       "      <td>14</td>\n",
       "      <td>carroll</td>\n",
       "      <td>1.08139e+06</td>\n",
       "      <td>...</td>\n",
       "      <td>diageo-americas</td>\n",
       "      <td>69947</td>\n",
       "      <td>rumple-minze-peppermint-schnapps-liqueur</td>\n",
       "      <td>12</td>\n",
       "      <td>1000</td>\n",
       "      <td>15.15</td>\n",
       "      <td>22.72</td>\n",
       "      <td>1</td>\n",
       "      <td>22.72</td>\n",
       "      <td>1</td>\n",
       "    </tr>\n",
       "    <tr>\n",
       "      <th>4</th>\n",
       "      <td>2017-08-17</td>\n",
       "      <td>4997</td>\n",
       "      <td>downtown-pantry</td>\n",
       "      <td>218-6th-ave-101</td>\n",
       "      <td>des-moines</td>\n",
       "      <td>50309</td>\n",
       "      <td>218-6th-ave-101-des-moines-50309-41-585684-93-...</td>\n",
       "      <td>77</td>\n",
       "      <td>polk</td>\n",
       "      <td>1.0221e+06</td>\n",
       "      <td>...</td>\n",
       "      <td>proximo</td>\n",
       "      <td>89191</td>\n",
       "      <td>jose-cuervo-especial-reposado-tequila-mini</td>\n",
       "      <td>12</td>\n",
       "      <td>500</td>\n",
       "      <td>11.50</td>\n",
       "      <td>17.25</td>\n",
       "      <td>1</td>\n",
       "      <td>17.25</td>\n",
       "      <td>0.5</td>\n",
       "    </tr>\n",
       "  </tbody>\n",
       "</table>\n",
       "<p>5 rows × 22 columns</p>\n",
       "</div>"
      ],
      "text/plain": [
       "        date store_number                          store_name  \\\n",
       "0 2013-02-26         4347            jeff-s-market-blue-grass   \n",
       "1 2017-08-22         3651             wal-mart-1491-indianola   \n",
       "2 2013-08-28         2576  hy-vee-wine-and-spirits-storm-lake   \n",
       "3 2013-03-26         3756         main-street-liquors-manning   \n",
       "4 2017-08-17         4997                     downtown-pantry   \n",
       "\n",
       "                address        city zip_code  \\\n",
       "0           102-w-mayne  blue-grass    52726   \n",
       "1  1500-north-jefferson   indianola    50125   \n",
       "2        1250-n-lake-st  storm-lake    50588   \n",
       "3           316-main-st     manning    51455   \n",
       "4       218-6th-ave-101  des-moines    50309   \n",
       "\n",
       "                                      store_location county_number  \\\n",
       "0   102-w-mayne-blue-grass-52726-41-509114-90-765769            82   \n",
       "1               1500-north-jefferson-indianola-50125            91   \n",
       "2  1250-n-lake-st-storm-lake-50588-42-653594-95-2...            11   \n",
       "3      316-main-st-manning-51455-41-908573-95-065122            14   \n",
       "4  218-6th-ave-101-des-moines-50309-41-585684-93-...            77   \n",
       "\n",
       "        county     category  ...      vendor_name item_number  \\\n",
       "0        scott   1.0112e+06  ...     campari-skyy       22155   \n",
       "1       warren   1.0121e+06  ...  diageo-americas       11298   \n",
       "2  buena-vista   1.0817e+06  ...   sazerac-co-inc       86688   \n",
       "3      carroll  1.08139e+06  ...  diageo-americas       69947   \n",
       "4         polk   1.0221e+06  ...          proximo       89191   \n",
       "\n",
       "                             item_description pack bottle_volume_ml  \\\n",
       "0                       wild-turkey-101-round   12              375   \n",
       "1                 crown-royal-canadian-whisky    6             1750   \n",
       "2                firefly-strawberry-moonshine   12              750   \n",
       "3    rumple-minze-peppermint-schnapps-liqueur   12             1000   \n",
       "4  jose-cuervo-especial-reposado-tequila-mini   12              500   \n",
       "\n",
       "  state_bottle_cost state_bottle_retail bottles_sold sale_dollars  \\\n",
       "0              6.00                8.99            1         8.99   \n",
       "1             31.99               47.99            1       287.94   \n",
       "2              9.88               14.82            2        29.64   \n",
       "3             15.15               22.72            1        22.72   \n",
       "4             11.50               17.25            1        17.25   \n",
       "\n",
       "  volume_sold_liters  \n",
       "0               0.38  \n",
       "1               1.75  \n",
       "2                1.5  \n",
       "3                  1  \n",
       "4                0.5  \n",
       "\n",
       "[5 rows x 22 columns]"
      ]
     },
     "execution_count": 39,
     "metadata": {},
     "output_type": "execute_result"
    }
   ],
   "source": [
    "df.head()"
   ]
  },
  {
   "cell_type": "markdown",
   "metadata": {},
   "source": [
    "## Explorando o dataset:"
   ]
  },
  {
   "cell_type": "markdown",
   "metadata": {},
   "source": [
    "#### Verificando formato dos dados:"
   ]
  },
  {
   "cell_type": "markdown",
   "metadata": {},
   "source": [
    "#### Transformando o os dados da coluna Date em formato datetime"
   ]
  },
  {
   "cell_type": "markdown",
   "metadata": {},
   "source": [
    "### Em qual condado se vendeu mais?"
   ]
  },
  {
   "cell_type": "code",
   "execution_count": 40,
   "metadata": {},
   "outputs": [
    {
     "data": {
      "text/plain": [
       "<matplotlib.axes._subplots.AxesSubplot at 0x7fe38956eb10>"
      ]
     },
     "execution_count": 40,
     "metadata": {},
     "output_type": "execute_result"
    },
    {
     "data": {
      "image/png": "[encoded data removed]",
      "text/plain": [
       "<Figure size 1080x576 with 1 Axes>"
      ]
     },
     "metadata": {
      "needs_background": "light"
     },
     "output_type": "display_data"
    }
   ],
   "source": [
    "county_sales = df['county'].value_counts().nlargest(20)\n",
    "county_sales.plot(kind=\"barh\",figsize=(15,8))"
   ]
  },
  {
   "cell_type": "markdown",
   "metadata": {},
   "source": [
    "### Em qual condado se vendeu menos?"
   ]
  },
  {
   "cell_type": "code",
   "execution_count": 41,
   "metadata": {},
   "outputs": [
    {
     "data": {
      "text/plain": [
       "<matplotlib.axes._subplots.AxesSubplot at 0x7fe3a2925450>"
      ]
     },
     "execution_count": 41,
     "metadata": {},
     "output_type": "execute_result"
    },
    {
     "data": {
      "image/png": "[encoded data removed]",
      "text/plain": [
       "<Figure size 1080x576 with 1 Axes>"
      ]
     },
     "metadata": {
      "needs_background": "light"
     },
     "output_type": "display_data"
    }
   ],
   "source": [
    "county_sales = df['county'].value_counts().nsmallest(20)\n",
    "county_sales.plot(kind=\"barh\",figsize=(15,8))"
   ]
  },
  {
   "cell_type": "markdown",
   "metadata": {},
   "source": [
    "### Sabendo que o condado de POLK foi o que vendeu mais, quais cidades do condado de POLK venderam mais?"
   ]
  },
  {
   "cell_type": "markdown",
   "metadata": {},
   "source": [
    "#### Filtrando as cidades do condado de POLK"
   ]
  },
  {
   "cell_type": "code",
   "execution_count": 42,
   "metadata": {},
   "outputs": [
    {
     "data": {
      "text/html": [
       "<div>\n",
       "<style scoped>\n",
       "    .dataframe tbody tr th:only-of-type {\n",
       "        vertical-align: middle;\n",
       "    }\n",
       "\n",
       "    .dataframe tbody tr th {\n",
       "        vertical-align: top;\n",
       "    }\n",
       "\n",
       "    .dataframe thead th {\n",
       "        text-align: right;\n",
       "    }\n",
       "</style>\n",
       "<table border=\"1\" class=\"dataframe\">\n",
       "  <thead>\n",
       "    <tr style=\"text-align: right;\">\n",
       "      <th></th>\n",
       "      <th>date</th>\n",
       "      <th>store_number</th>\n",
       "      <th>store_name</th>\n",
       "      <th>address</th>\n",
       "      <th>city</th>\n",
       "      <th>zip_code</th>\n",
       "      <th>store_location</th>\n",
       "      <th>county_number</th>\n",
       "      <th>county</th>\n",
       "      <th>category</th>\n",
       "      <th>...</th>\n",
       "      <th>vendor_name</th>\n",
       "      <th>item_number</th>\n",
       "      <th>item_description</th>\n",
       "      <th>pack</th>\n",
       "      <th>bottle_volume_ml</th>\n",
       "      <th>state_bottle_cost</th>\n",
       "      <th>state_bottle_retail</th>\n",
       "      <th>bottles_sold</th>\n",
       "      <th>sale_dollars</th>\n",
       "      <th>volume_sold_liters</th>\n",
       "    </tr>\n",
       "  </thead>\n",
       "  <tbody>\n",
       "    <tr>\n",
       "      <th>4</th>\n",
       "      <td>2017-08-17</td>\n",
       "      <td>4997</td>\n",
       "      <td>downtown-pantry</td>\n",
       "      <td>218-6th-ave-101</td>\n",
       "      <td>des-moines</td>\n",
       "      <td>50309</td>\n",
       "      <td>218-6th-ave-101-des-moines-50309-41-585684-93-...</td>\n",
       "      <td>77</td>\n",
       "      <td>polk</td>\n",
       "      <td>1.0221e+06</td>\n",
       "      <td>...</td>\n",
       "      <td>proximo</td>\n",
       "      <td>89191</td>\n",
       "      <td>jose-cuervo-especial-reposado-tequila-mini</td>\n",
       "      <td>12</td>\n",
       "      <td>500</td>\n",
       "      <td>11.50</td>\n",
       "      <td>17.25</td>\n",
       "      <td>1</td>\n",
       "      <td>17.25</td>\n",
       "      <td>0.5</td>\n",
       "    </tr>\n",
       "    <tr>\n",
       "      <th>9</th>\n",
       "      <td>2013-01-16</td>\n",
       "      <td>2535</td>\n",
       "      <td>hy-vee-food-store-1-wdm</td>\n",
       "      <td>1700-valley-west-dr</td>\n",
       "      <td>west-des-moines</td>\n",
       "      <td>50265</td>\n",
       "      <td>1700-valley-west-dr-west-des-moines-50265</td>\n",
       "      <td>77</td>\n",
       "      <td>polk</td>\n",
       "      <td>1.0111e+06</td>\n",
       "      <td>...</td>\n",
       "      <td>iowa-distilling-company</td>\n",
       "      <td>27290</td>\n",
       "      <td>iowa-shine</td>\n",
       "      <td>12</td>\n",
       "      <td>375</td>\n",
       "      <td>10.08</td>\n",
       "      <td>15.13</td>\n",
       "      <td>12</td>\n",
       "      <td>181.56</td>\n",
       "      <td>4.5</td>\n",
       "    </tr>\n",
       "    <tr>\n",
       "      <th>11</th>\n",
       "      <td>2015-04-30</td>\n",
       "      <td>2561</td>\n",
       "      <td>hy-vee-food-store-fleur-dsm</td>\n",
       "      <td>4605-fleur-drive</td>\n",
       "      <td>des-moines</td>\n",
       "      <td>50321</td>\n",
       "      <td>4605-fleur-drive-des-moines-50321-41-542816-93...</td>\n",
       "      <td>77</td>\n",
       "      <td>polk</td>\n",
       "      <td>1.0322e+06</td>\n",
       "      <td>...</td>\n",
       "      <td>pernod-ricard-usa-austin-nichols</td>\n",
       "      <td>34052</td>\n",
       "      <td>absolut-raspberri</td>\n",
       "      <td>12</td>\n",
       "      <td>750</td>\n",
       "      <td>11.49</td>\n",
       "      <td>17.24</td>\n",
       "      <td>1</td>\n",
       "      <td>17.24</td>\n",
       "      <td>0.75</td>\n",
       "    </tr>\n",
       "    <tr>\n",
       "      <th>16</th>\n",
       "      <td>2014-09-18</td>\n",
       "      <td>4829</td>\n",
       "      <td>central-city-2</td>\n",
       "      <td>1501-michigan-ave</td>\n",
       "      <td>des-moines</td>\n",
       "      <td>50314</td>\n",
       "      <td>1501-michigan-ave-des-moines-50314-41-605561-9...</td>\n",
       "      <td>77</td>\n",
       "      <td>polk</td>\n",
       "      <td>1.0814e+06</td>\n",
       "      <td>...</td>\n",
       "      <td>jim-beam-brands</td>\n",
       "      <td>86112</td>\n",
       "      <td>dekuyper-triple-sec</td>\n",
       "      <td>12</td>\n",
       "      <td>1000</td>\n",
       "      <td>2.22</td>\n",
       "      <td>3.33</td>\n",
       "      <td>12</td>\n",
       "      <td>39.96</td>\n",
       "      <td>12</td>\n",
       "    </tr>\n",
       "    <tr>\n",
       "      <th>17</th>\n",
       "      <td>2013-05-28</td>\n",
       "      <td>4209</td>\n",
       "      <td>wal-mart-5748-grimes</td>\n",
       "      <td>2150-east-1st-st</td>\n",
       "      <td>grimes</td>\n",
       "      <td>50111</td>\n",
       "      <td>2150-east-1st-st-grimes-50111-41-688335-93-771771</td>\n",
       "      <td>77</td>\n",
       "      <td>polk</td>\n",
       "      <td>1.0221e+06</td>\n",
       "      <td>...</td>\n",
       "      <td>the-patron-spirits-company</td>\n",
       "      <td>88296</td>\n",
       "      <td>patron-tequila-silver</td>\n",
       "      <td>12</td>\n",
       "      <td>750</td>\n",
       "      <td>27.00</td>\n",
       "      <td>40.50</td>\n",
       "      <td>12</td>\n",
       "      <td>486.00</td>\n",
       "      <td>9</td>\n",
       "    </tr>\n",
       "    <tr>\n",
       "      <th>...</th>\n",
       "      <td>...</td>\n",
       "      <td>...</td>\n",
       "      <td>...</td>\n",
       "      <td>...</td>\n",
       "      <td>...</td>\n",
       "      <td>...</td>\n",
       "      <td>...</td>\n",
       "      <td>...</td>\n",
       "      <td>...</td>\n",
       "      <td>...</td>\n",
       "      <td>...</td>\n",
       "      <td>...</td>\n",
       "      <td>...</td>\n",
       "      <td>...</td>\n",
       "      <td>...</td>\n",
       "      <td>...</td>\n",
       "      <td>...</td>\n",
       "      <td>...</td>\n",
       "      <td>...</td>\n",
       "      <td>...</td>\n",
       "      <td>...</td>\n",
       "    </tr>\n",
       "    <tr>\n",
       "      <th>2518190</th>\n",
       "      <td>2014-10-08</td>\n",
       "      <td>2958</td>\n",
       "      <td>dahl-s-e-33rd</td>\n",
       "      <td>3400-e-33-st</td>\n",
       "      <td>des-moines</td>\n",
       "      <td>50317</td>\n",
       "      <td>3400-e-33-st-des-moines-50317-41-626162-93-551522</td>\n",
       "      <td>77</td>\n",
       "      <td>polk</td>\n",
       "      <td>1.0819e+06</td>\n",
       "      <td>...</td>\n",
       "      <td>jim-beam-brands</td>\n",
       "      <td>73596</td>\n",
       "      <td>dekuyper-michigan-cherry-liqueur</td>\n",
       "      <td>12</td>\n",
       "      <td>750</td>\n",
       "      <td>5.30</td>\n",
       "      <td>8.45</td>\n",
       "      <td>12</td>\n",
       "      <td>101.40</td>\n",
       "      <td>9</td>\n",
       "    </tr>\n",
       "    <tr>\n",
       "      <th>2518198</th>\n",
       "      <td>2012-01-03</td>\n",
       "      <td>2190</td>\n",
       "      <td>central-city-liquor-inc</td>\n",
       "      <td>1460-2nd-ave</td>\n",
       "      <td>des-moines</td>\n",
       "      <td>50314</td>\n",
       "      <td>1460-2nd-ave-des-moines-50314-41-60566-93-619787</td>\n",
       "      <td>77</td>\n",
       "      <td>polk</td>\n",
       "      <td>1.0112e+06</td>\n",
       "      <td>...</td>\n",
       "      <td>jim-beam-brands</td>\n",
       "      <td>16676</td>\n",
       "      <td>basil-hayden-8yr</td>\n",
       "      <td>6</td>\n",
       "      <td>750</td>\n",
       "      <td>20.47</td>\n",
       "      <td>30.70</td>\n",
       "      <td>6</td>\n",
       "      <td>184.20</td>\n",
       "      <td>4.5</td>\n",
       "    </tr>\n",
       "    <tr>\n",
       "      <th>2518200</th>\n",
       "      <td>2015-08-17</td>\n",
       "      <td>2636</td>\n",
       "      <td>hy-vee-wine-and-spirits-hubbell</td>\n",
       "      <td>2310-hubbell-ave</td>\n",
       "      <td>des-moines</td>\n",
       "      <td>50317</td>\n",
       "      <td>2310-hubbell-ave-des-moines-50317-41-604313-93...</td>\n",
       "      <td>77</td>\n",
       "      <td>polk</td>\n",
       "      <td>1.03108e+06</td>\n",
       "      <td>...</td>\n",
       "      <td>sazerac-co-inc</td>\n",
       "      <td>36976</td>\n",
       "      <td>nikolai-vodka</td>\n",
       "      <td>12</td>\n",
       "      <td>750</td>\n",
       "      <td>3.27</td>\n",
       "      <td>4.91</td>\n",
       "      <td>12</td>\n",
       "      <td>58.92</td>\n",
       "      <td>9</td>\n",
       "    </tr>\n",
       "    <tr>\n",
       "      <th>2518201</th>\n",
       "      <td>2013-04-04</td>\n",
       "      <td>4057</td>\n",
       "      <td>tequila-s-liquor-store</td>\n",
       "      <td>1434-des-moines-st-ste-5</td>\n",
       "      <td>des-moines</td>\n",
       "      <td>50316</td>\n",
       "      <td>1434-des-moines-st-ste-5-des-moines-50316-41-5...</td>\n",
       "      <td>77</td>\n",
       "      <td>polk</td>\n",
       "      <td>1.0312e+06</td>\n",
       "      <td>...</td>\n",
       "      <td>diageo-americas</td>\n",
       "      <td>41592</td>\n",
       "      <td>smirnoff-lime-vodka</td>\n",
       "      <td>12</td>\n",
       "      <td>750</td>\n",
       "      <td>7.21</td>\n",
       "      <td>11.19</td>\n",
       "      <td>2</td>\n",
       "      <td>22.38</td>\n",
       "      <td>1.5</td>\n",
       "    </tr>\n",
       "    <tr>\n",
       "      <th>2518212</th>\n",
       "      <td>2016-01-14</td>\n",
       "      <td>5125</td>\n",
       "      <td>cash-saver-e-euclid-ave</td>\n",
       "      <td>1320-e-euclid-ave</td>\n",
       "      <td>des-moines</td>\n",
       "      <td>50316</td>\n",
       "      <td>1320-e-euclid-ave-des-moines-50316-41-627778-9...</td>\n",
       "      <td>77</td>\n",
       "      <td>polk</td>\n",
       "      <td>1.0122e+06</td>\n",
       "      <td>...</td>\n",
       "      <td>sazerac-north-america</td>\n",
       "      <td>8828</td>\n",
       "      <td>lauder-s</td>\n",
       "      <td>6</td>\n",
       "      <td>1750</td>\n",
       "      <td>11.18</td>\n",
       "      <td>16.77</td>\n",
       "      <td>6</td>\n",
       "      <td>100.62</td>\n",
       "      <td>10.5</td>\n",
       "    </tr>\n",
       "  </tbody>\n",
       "</table>\n",
       "<p>455906 rows × 22 columns</p>\n",
       "</div>"
      ],
      "text/plain": [
       "              date store_number                       store_name  \\\n",
       "4       2017-08-17         4997                  downtown-pantry   \n",
       "9       2013-01-16         2535          hy-vee-food-store-1-wdm   \n",
       "11      2015-04-30         2561      hy-vee-food-store-fleur-dsm   \n",
       "16      2014-09-18         4829                   central-city-2   \n",
       "17      2013-05-28         4209             wal-mart-5748-grimes   \n",
       "...            ...          ...                              ...   \n",
       "2518190 2014-10-08         2958                    dahl-s-e-33rd   \n",
       "2518198 2012-01-03         2190          central-city-liquor-inc   \n",
       "2518200 2015-08-17         2636  hy-vee-wine-and-spirits-hubbell   \n",
       "2518201 2013-04-04         4057           tequila-s-liquor-store   \n",
       "2518212 2016-01-14         5125          cash-saver-e-euclid-ave   \n",
       "\n",
       "                          address             city zip_code  \\\n",
       "4                 218-6th-ave-101       des-moines    50309   \n",
       "9             1700-valley-west-dr  west-des-moines    50265   \n",
       "11               4605-fleur-drive       des-moines    50321   \n",
       "16              1501-michigan-ave       des-moines    50314   \n",
       "17               2150-east-1st-st           grimes    50111   \n",
       "...                           ...              ...      ...   \n",
       "2518190              3400-e-33-st       des-moines    50317   \n",
       "2518198              1460-2nd-ave       des-moines    50314   \n",
       "2518200          2310-hubbell-ave       des-moines    50317   \n",
       "2518201  1434-des-moines-st-ste-5       des-moines    50316   \n",
       "2518212         1320-e-euclid-ave       des-moines    50316   \n",
       "\n",
       "                                            store_location county_number  \\\n",
       "4        218-6th-ave-101-des-moines-50309-41-585684-93-...            77   \n",
       "9                1700-valley-west-dr-west-des-moines-50265            77   \n",
       "11       4605-fleur-drive-des-moines-50321-41-542816-93...            77   \n",
       "16       1501-michigan-ave-des-moines-50314-41-605561-9...            77   \n",
       "17       2150-east-1st-st-grimes-50111-41-688335-93-771771            77   \n",
       "...                                                    ...           ...   \n",
       "2518190  3400-e-33-st-des-moines-50317-41-626162-93-551522            77   \n",
       "2518198   1460-2nd-ave-des-moines-50314-41-60566-93-619787            77   \n",
       "2518200  2310-hubbell-ave-des-moines-50317-41-604313-93...            77   \n",
       "2518201  1434-des-moines-st-ste-5-des-moines-50316-41-5...            77   \n",
       "2518212  1320-e-euclid-ave-des-moines-50316-41-627778-9...            77   \n",
       "\n",
       "        county     category  ...                       vendor_name  \\\n",
       "4         polk   1.0221e+06  ...                           proximo   \n",
       "9         polk   1.0111e+06  ...           iowa-distilling-company   \n",
       "11        polk   1.0322e+06  ...  pernod-ricard-usa-austin-nichols   \n",
       "16        polk   1.0814e+06  ...                   jim-beam-brands   \n",
       "17        polk   1.0221e+06  ...        the-patron-spirits-company   \n",
       "...        ...          ...  ...                               ...   \n",
       "2518190   polk   1.0819e+06  ...                   jim-beam-brands   \n",
       "2518198   polk   1.0112e+06  ...                   jim-beam-brands   \n",
       "2518200   polk  1.03108e+06  ...                    sazerac-co-inc   \n",
       "2518201   polk   1.0312e+06  ...                   diageo-americas   \n",
       "2518212   polk   1.0122e+06  ...             sazerac-north-america   \n",
       "\n",
       "        item_number                            item_description pack  \\\n",
       "4             89191  jose-cuervo-especial-reposado-tequila-mini   12   \n",
       "9             27290                                  iowa-shine   12   \n",
       "11            34052                           absolut-raspberri   12   \n",
       "16            86112                         dekuyper-triple-sec   12   \n",
       "17            88296                       patron-tequila-silver   12   \n",
       "...             ...                                         ...  ...   \n",
       "2518190       73596            dekuyper-michigan-cherry-liqueur   12   \n",
       "2518198       16676                            basil-hayden-8yr    6   \n",
       "2518200       36976                               nikolai-vodka   12   \n",
       "2518201       41592                         smirnoff-lime-vodka   12   \n",
       "2518212        8828                                    lauder-s    6   \n",
       "\n",
       "        bottle_volume_ml state_bottle_cost state_bottle_retail bottles_sold  \\\n",
       "4                    500             11.50               17.25            1   \n",
       "9                    375             10.08               15.13           12   \n",
       "11                   750             11.49               17.24            1   \n",
       "16                  1000              2.22                3.33           12   \n",
       "17                   750             27.00               40.50           12   \n",
       "...                  ...               ...                 ...          ...   \n",
       "2518190              750              5.30                8.45           12   \n",
       "2518198              750             20.47               30.70            6   \n",
       "2518200              750              3.27                4.91           12   \n",
       "2518201              750              7.21               11.19            2   \n",
       "2518212             1750             11.18               16.77            6   \n",
       "\n",
       "        sale_dollars volume_sold_liters  \n",
       "4              17.25                0.5  \n",
       "9             181.56                4.5  \n",
       "11             17.24               0.75  \n",
       "16             39.96                 12  \n",
       "17            486.00                  9  \n",
       "...              ...                ...  \n",
       "2518190       101.40                  9  \n",
       "2518198       184.20                4.5  \n",
       "2518200        58.92                  9  \n",
       "2518201        22.38                1.5  \n",
       "2518212       100.62               10.5  \n",
       "\n",
       "[455906 rows x 22 columns]"
      ]
     },
     "execution_count": 42,
     "metadata": {},
     "output_type": "execute_result"
    }
   ],
   "source": [
    "polk = df[df['county']=='polk']\n",
    "polk"
   ]
  },
  {
   "cell_type": "markdown",
   "metadata": {},
   "source": [
    "#### Quais cidades há no condado de POLK?"
   ]
  },
  {
   "cell_type": "code",
   "execution_count": 43,
   "metadata": {},
   "outputs": [
    {
     "data": {
      "text/plain": [
       "array(['des-moines', 'west-des-moines', 'grimes', 'ankeny', 'johnston',\n",
       "       'clive', 'altoona', 'windsor-heights', 'pleasant-hill',\n",
       "       'urbandale', 'polk-city', 'bondurant', 'cambridge', 'swisher',\n",
       "       'runnells', 'mitchellville'], dtype=object)"
      ]
     },
     "execution_count": 43,
     "metadata": {},
     "output_type": "execute_result"
    }
   ],
   "source": [
    "polk['city'].unique()"
   ]
  },
  {
   "cell_type": "markdown",
   "metadata": {},
   "source": [
    "#### Em quais cidade do condado de POLK se vendeu mais bebida?"
   ]
  },
  {
   "cell_type": "code",
   "execution_count": 44,
   "metadata": {},
   "outputs": [
    {
     "data": {
      "text/plain": [
       "<matplotlib.axes._subplots.AxesSubplot at 0x7fe388bc20d0>"
      ]
     },
     "execution_count": 44,
     "metadata": {},
     "output_type": "execute_result"
    },
    {
     "data": {
      "image/png": "[encoded data removed]",
      "text/plain": [
       "<Figure size 1080x576 with 1 Axes>"
      ]
     },
     "metadata": {
      "needs_background": "light"
     },
     "output_type": "display_data"
    }
   ],
   "source": [
    "polk['city'].value_counts().plot(kind=\"barh\",figsize=(15,8))"
   ]
  },
  {
   "cell_type": "markdown",
   "metadata": {},
   "source": [
    "#### Quais cidades no estado do IOWA venderam mais bebida?"
   ]
  },
  {
   "cell_type": "code",
   "execution_count": 45,
   "metadata": {},
   "outputs": [
    {
     "data": {
      "text/plain": [
       "<matplotlib.axes._subplots.AxesSubplot at 0x7fe3842470d0>"
      ]
     },
     "execution_count": 45,
     "metadata": {},
     "output_type": "execute_result"
    },
    {
     "data": {
      "image/png": "[encoded data removed]",
      "text/plain": [
       "<Figure size 1080x576 with 1 Axes>"
      ]
     },
     "metadata": {
      "needs_background": "light"
     },
     "output_type": "display_data"
    }
   ],
   "source": [
    "city_sales = df['city'].value_counts().nlargest(20)\n",
    "city_sales.plot(kind=\"barh\",figsize=(15,8))"
   ]
  },
  {
   "cell_type": "markdown",
   "metadata": {},
   "source": [
    "#### Quais cidades no estado do IOWA venderam mais bebida?"
   ]
  },
  {
   "cell_type": "code",
   "execution_count": 46,
   "metadata": {},
   "outputs": [
    {
     "data": {
      "text/plain": [
       "<matplotlib.axes._subplots.AxesSubplot at 0x7fe388c52350>"
      ]
     },
     "execution_count": 46,
     "metadata": {},
     "output_type": "execute_result"
    },
    {
     "data": {
      "image/png": "[encoded data removed]",
      "text/plain": [
       "<Figure size 1080x576 with 1 Axes>"
      ]
     },
     "metadata": {
      "needs_background": "light"
     },
     "output_type": "display_data"
    }
   ],
   "source": [
    "city_sales = df['city'].value_counts().nsmallest(20)\n",
    "city_sales.plot(kind=\"barh\",figsize=(15,8))"
   ]
  },
  {
   "cell_type": "markdown",
   "metadata": {},
   "source": [
    "#### Quais as bebida mais vendida?"
   ]
  },
  {
   "cell_type": "code",
   "execution_count": 47,
   "metadata": {},
   "outputs": [
    {
     "data": {
      "text/plain": [
       "<BarContainer object of 10 artists>"
      ]
     },
     "execution_count": 47,
     "metadata": {},
     "output_type": "execute_result"
    },
    {
     "data": {
      "image/png": "[encoded data removed]",
      "text/plain": [
       "<Figure size 432x288 with 1 Axes>"
      ]
     },
     "metadata": {
      "needs_background": "light"
     },
     "output_type": "display_data"
    }
   ],
   "source": [
    "scatter_description = df['item_description'].value_counts().nlargest(10).rename_axis('description').reset_index(name='qtt')\n",
    "plt.barh(scatter_description['description'],scatter_description['qtt'])\n",
    "#city_sales = df['item_description'].value_counts().nlargest(20)\n",
    "#city_sales.plot(kind=\"barh\",figsize=(15,8))"
   ]
  },
  {
   "cell_type": "markdown",
   "metadata": {},
   "source": [
    "### Analise temporal dos dados"
   ]
  },
  {
   "cell_type": "markdown",
   "metadata": {},
   "source": [
    "#### Qual a data máxima e mínima?"
   ]
  },
  {
   "cell_type": "code",
   "execution_count": 48,
   "metadata": {},
   "outputs": [
    {
     "data": {
      "text/plain": [
       "Timestamp('2017-10-31 00:00:00')"
      ]
     },
     "execution_count": 48,
     "metadata": {},
     "output_type": "execute_result"
    }
   ],
   "source": [
    "max(df['date'])"
   ]
  },
  {
   "cell_type": "code",
   "execution_count": 49,
   "metadata": {},
   "outputs": [
    {
     "data": {
      "text/plain": [
       "Timestamp('2012-01-03 00:00:00')"
      ]
     },
     "execution_count": 49,
     "metadata": {},
     "output_type": "execute_result"
    }
   ],
   "source": [
    "min(df['date'])"
   ]
  },
  {
   "cell_type": "markdown",
   "metadata": {},
   "source": [
    "#### 2012"
   ]
  },
  {
   "cell_type": "code",
   "execution_count": 50,
   "metadata": {},
   "outputs": [
    {
     "data": {
      "text/html": [
       "<div>\n",
       "<style scoped>\n",
       "    .dataframe tbody tr th:only-of-type {\n",
       "        vertical-align: middle;\n",
       "    }\n",
       "\n",
       "    .dataframe tbody tr th {\n",
       "        vertical-align: top;\n",
       "    }\n",
       "\n",
       "    .dataframe thead th {\n",
       "        text-align: right;\n",
       "    }\n",
       "</style>\n",
       "<table border=\"1\" class=\"dataframe\">\n",
       "  <thead>\n",
       "    <tr style=\"text-align: right;\">\n",
       "      <th></th>\n",
       "      <th>date</th>\n",
       "      <th>store_number</th>\n",
       "      <th>store_name</th>\n",
       "      <th>address</th>\n",
       "      <th>city</th>\n",
       "      <th>zip_code</th>\n",
       "      <th>store_location</th>\n",
       "      <th>county_number</th>\n",
       "      <th>county</th>\n",
       "      <th>category</th>\n",
       "      <th>...</th>\n",
       "      <th>vendor_name</th>\n",
       "      <th>item_number</th>\n",
       "      <th>item_description</th>\n",
       "      <th>pack</th>\n",
       "      <th>bottle_volume_ml</th>\n",
       "      <th>state_bottle_cost</th>\n",
       "      <th>state_bottle_retail</th>\n",
       "      <th>bottles_sold</th>\n",
       "      <th>sale_dollars</th>\n",
       "      <th>volume_sold_liters</th>\n",
       "    </tr>\n",
       "  </thead>\n",
       "  <tbody>\n",
       "    <tr>\n",
       "      <th>18</th>\n",
       "      <td>2012-05-17</td>\n",
       "      <td>2647</td>\n",
       "      <td>hy-vee-7-cedar-rapids</td>\n",
       "      <td>5050-edgewood-rd</td>\n",
       "      <td>cedar-rapids</td>\n",
       "      <td>52411</td>\n",
       "      <td>5050-edgewood-rd-cedar-rapids-52411-42-030457-...</td>\n",
       "      <td>57</td>\n",
       "      <td>linn</td>\n",
       "      <td>1.0112e+06</td>\n",
       "      <td>...</td>\n",
       "      <td>campari-skyy</td>\n",
       "      <td>77776</td>\n",
       "      <td>wild-turkey-american-honey</td>\n",
       "      <td>12</td>\n",
       "      <td>750</td>\n",
       "      <td>9.50</td>\n",
       "      <td>14.75</td>\n",
       "      <td>12</td>\n",
       "      <td>177.00</td>\n",
       "      <td>9</td>\n",
       "    </tr>\n",
       "  </tbody>\n",
       "</table>\n",
       "<p>1 rows × 22 columns</p>\n",
       "</div>"
      ],
      "text/plain": [
       "         date store_number             store_name           address  \\\n",
       "18 2012-05-17         2647  hy-vee-7-cedar-rapids  5050-edgewood-rd   \n",
       "\n",
       "            city zip_code                                     store_location  \\\n",
       "18  cedar-rapids    52411  5050-edgewood-rd-cedar-rapids-52411-42-030457-...   \n",
       "\n",
       "   county_number county    category  ...   vendor_name item_number  \\\n",
       "18            57   linn  1.0112e+06  ...  campari-skyy       77776   \n",
       "\n",
       "              item_description pack bottle_volume_ml state_bottle_cost  \\\n",
       "18  wild-turkey-american-honey   12              750              9.50   \n",
       "\n",
       "   state_bottle_retail bottles_sold sale_dollars volume_sold_liters  \n",
       "18               14.75           12       177.00                  9  \n",
       "\n",
       "[1 rows x 22 columns]"
      ]
     },
     "execution_count": 50,
     "metadata": {},
     "output_type": "execute_result"
    }
   ],
   "source": [
    "year_2012 = df[df['date'].dt.year == 2012]\n",
    "year_2012.head(1)"
   ]
  },
  {
   "cell_type": "code",
   "execution_count": 66,
   "metadata": {},
   "outputs": [
    {
     "data": {
      "text/plain": [
       "<matplotlib.legend.Legend at 0x7fe36abe6750>"
      ]
     },
     "execution_count": 66,
     "metadata": {},
     "output_type": "execute_result"
    },
    {
     "data": {
      "image/png": "[encoded data removed]",
      "text/plain": [
       "<Figure size 432x288 with 1 Axes>"
      ]
     },
     "metadata": {
      "needs_background": "light"
     },
     "output_type": "display_data"
    }
   ],
   "source": [
    "volume_per_month_2012.groupby(volume_per_month_2012.dt.month).count().plot(label=\"2012\")\n",
    "plt.legend()"
   ]
  },
  {
   "cell_type": "markdown",
   "metadata": {},
   "source": [
    "#### 2013"
   ]
  },
  {
   "cell_type": "code",
   "execution_count": 51,
   "metadata": {},
   "outputs": [
    {
     "data": {
      "text/html": [
       "<div>\n",
       "<style scoped>\n",
       "    .dataframe tbody tr th:only-of-type {\n",
       "        vertical-align: middle;\n",
       "    }\n",
       "\n",
       "    .dataframe tbody tr th {\n",
       "        vertical-align: top;\n",
       "    }\n",
       "\n",
       "    .dataframe thead th {\n",
       "        text-align: right;\n",
       "    }\n",
       "</style>\n",
       "<table border=\"1\" class=\"dataframe\">\n",
       "  <thead>\n",
       "    <tr style=\"text-align: right;\">\n",
       "      <th></th>\n",
       "      <th>date</th>\n",
       "      <th>store_number</th>\n",
       "      <th>store_name</th>\n",
       "      <th>address</th>\n",
       "      <th>city</th>\n",
       "      <th>zip_code</th>\n",
       "      <th>store_location</th>\n",
       "      <th>county_number</th>\n",
       "      <th>county</th>\n",
       "      <th>category</th>\n",
       "      <th>...</th>\n",
       "      <th>vendor_name</th>\n",
       "      <th>item_number</th>\n",
       "      <th>item_description</th>\n",
       "      <th>pack</th>\n",
       "      <th>bottle_volume_ml</th>\n",
       "      <th>state_bottle_cost</th>\n",
       "      <th>state_bottle_retail</th>\n",
       "      <th>bottles_sold</th>\n",
       "      <th>sale_dollars</th>\n",
       "      <th>volume_sold_liters</th>\n",
       "    </tr>\n",
       "  </thead>\n",
       "  <tbody>\n",
       "    <tr>\n",
       "      <th>0</th>\n",
       "      <td>2013-02-26</td>\n",
       "      <td>4347</td>\n",
       "      <td>jeff-s-market-blue-grass</td>\n",
       "      <td>102-w-mayne</td>\n",
       "      <td>blue-grass</td>\n",
       "      <td>52726</td>\n",
       "      <td>102-w-mayne-blue-grass-52726-41-509114-90-765769</td>\n",
       "      <td>82</td>\n",
       "      <td>scott</td>\n",
       "      <td>1.0112e+06</td>\n",
       "      <td>...</td>\n",
       "      <td>campari-skyy</td>\n",
       "      <td>22155</td>\n",
       "      <td>wild-turkey-101-round</td>\n",
       "      <td>12</td>\n",
       "      <td>375</td>\n",
       "      <td>6.00</td>\n",
       "      <td>8.99</td>\n",
       "      <td>1</td>\n",
       "      <td>8.99</td>\n",
       "      <td>0.38</td>\n",
       "    </tr>\n",
       "  </tbody>\n",
       "</table>\n",
       "<p>1 rows × 22 columns</p>\n",
       "</div>"
      ],
      "text/plain": [
       "        date store_number                store_name      address        city  \\\n",
       "0 2013-02-26         4347  jeff-s-market-blue-grass  102-w-mayne  blue-grass   \n",
       "\n",
       "  zip_code                                    store_location county_number  \\\n",
       "0    52726  102-w-mayne-blue-grass-52726-41-509114-90-765769            82   \n",
       "\n",
       "  county    category  ...   vendor_name item_number       item_description  \\\n",
       "0  scott  1.0112e+06  ...  campari-skyy       22155  wild-turkey-101-round   \n",
       "\n",
       "  pack bottle_volume_ml state_bottle_cost state_bottle_retail bottles_sold  \\\n",
       "0   12              375              6.00                8.99            1   \n",
       "\n",
       "  sale_dollars volume_sold_liters  \n",
       "0         8.99               0.38  \n",
       "\n",
       "[1 rows x 22 columns]"
      ]
     },
     "execution_count": 51,
     "metadata": {},
     "output_type": "execute_result"
    }
   ],
   "source": [
    "year_2013 = df[df['date'].dt.year == 2013]\n",
    "year_2013.head(1)"
   ]
  },
  {
   "cell_type": "code",
   "execution_count": 68,
   "metadata": {},
   "outputs": [
    {
     "data": {
      "text/plain": [
       "<matplotlib.legend.Legend at 0x7fe36abf6ad0>"
      ]
     },
     "execution_count": 68,
     "metadata": {},
     "output_type": "execute_result"
    },
    {
     "data": {
      "image/png": "[encoded data removed]",
      "text/plain": [
       "<Figure size 432x288 with 1 Axes>"
      ]
     },
     "metadata": {
      "needs_background": "light"
     },
     "output_type": "display_data"
    }
   ],
   "source": [
    "volume_per_month_2013.groupby(volume_per_month_2013.dt.month).count().plot(label=\"2013\")\n",
    "plt.legend()"
   ]
  },
  {
   "cell_type": "markdown",
   "metadata": {},
   "source": [
    "#### 2014"
   ]
  },
  {
   "cell_type": "code",
   "execution_count": 52,
   "metadata": {},
   "outputs": [
    {
     "data": {
      "text/html": [
       "<div>\n",
       "<style scoped>\n",
       "    .dataframe tbody tr th:only-of-type {\n",
       "        vertical-align: middle;\n",
       "    }\n",
       "\n",
       "    .dataframe tbody tr th {\n",
       "        vertical-align: top;\n",
       "    }\n",
       "\n",
       "    .dataframe thead th {\n",
       "        text-align: right;\n",
       "    }\n",
       "</style>\n",
       "<table border=\"1\" class=\"dataframe\">\n",
       "  <thead>\n",
       "    <tr style=\"text-align: right;\">\n",
       "      <th></th>\n",
       "      <th>date</th>\n",
       "      <th>store_number</th>\n",
       "      <th>store_name</th>\n",
       "      <th>address</th>\n",
       "      <th>city</th>\n",
       "      <th>zip_code</th>\n",
       "      <th>store_location</th>\n",
       "      <th>county_number</th>\n",
       "      <th>county</th>\n",
       "      <th>category</th>\n",
       "      <th>...</th>\n",
       "      <th>vendor_name</th>\n",
       "      <th>item_number</th>\n",
       "      <th>item_description</th>\n",
       "      <th>pack</th>\n",
       "      <th>bottle_volume_ml</th>\n",
       "      <th>state_bottle_cost</th>\n",
       "      <th>state_bottle_retail</th>\n",
       "      <th>bottles_sold</th>\n",
       "      <th>sale_dollars</th>\n",
       "      <th>volume_sold_liters</th>\n",
       "    </tr>\n",
       "  </thead>\n",
       "  <tbody>\n",
       "    <tr>\n",
       "      <th>8</th>\n",
       "      <td>2014-08-06</td>\n",
       "      <td>3495</td>\n",
       "      <td>great-pastimes</td>\n",
       "      <td>228-n-main-st</td>\n",
       "      <td>monticello</td>\n",
       "      <td>52310</td>\n",
       "      <td>228-n-main-st-monticello-52310-42-240132-91-18...</td>\n",
       "      <td>53</td>\n",
       "      <td>jones</td>\n",
       "      <td>1.0221e+06</td>\n",
       "      <td>...</td>\n",
       "      <td>proximo</td>\n",
       "      <td>89194</td>\n",
       "      <td>jose-cuervo-especial-reposado-flask</td>\n",
       "      <td>24</td>\n",
       "      <td>375</td>\n",
       "      <td>5.50</td>\n",
       "      <td>8.25</td>\n",
       "      <td>3</td>\n",
       "      <td>24.75</td>\n",
       "      <td>1.12</td>\n",
       "    </tr>\n",
       "  </tbody>\n",
       "</table>\n",
       "<p>1 rows × 22 columns</p>\n",
       "</div>"
      ],
      "text/plain": [
       "        date store_number      store_name        address        city zip_code  \\\n",
       "8 2014-08-06         3495  great-pastimes  228-n-main-st  monticello    52310   \n",
       "\n",
       "                                      store_location county_number county  \\\n",
       "8  228-n-main-st-monticello-52310-42-240132-91-18...            53  jones   \n",
       "\n",
       "     category  ... vendor_name item_number  \\\n",
       "8  1.0221e+06  ...     proximo       89194   \n",
       "\n",
       "                      item_description pack bottle_volume_ml  \\\n",
       "8  jose-cuervo-especial-reposado-flask   24              375   \n",
       "\n",
       "  state_bottle_cost state_bottle_retail bottles_sold sale_dollars  \\\n",
       "8              5.50                8.25            3        24.75   \n",
       "\n",
       "  volume_sold_liters  \n",
       "8               1.12  \n",
       "\n",
       "[1 rows x 22 columns]"
      ]
     },
     "execution_count": 52,
     "metadata": {},
     "output_type": "execute_result"
    }
   ],
   "source": [
    "year_2014 = df[df['date'].dt.year == 2014]\n",
    "year_2014.head(1)"
   ]
  },
  {
   "cell_type": "code",
   "execution_count": 69,
   "metadata": {},
   "outputs": [
    {
     "data": {
      "text/plain": [
       "<matplotlib.legend.Legend at 0x7fe36abec190>"
      ]
     },
     "execution_count": 69,
     "metadata": {},
     "output_type": "execute_result"
    },
    {
     "data": {
      "image/png": "[encoded data removed]",
      "text/plain": [
       "<Figure size 432x288 with 1 Axes>"
      ]
     },
     "metadata": {
      "needs_background": "light"
     },
     "output_type": "display_data"
    }
   ],
   "source": [
    "volume_per_month_2014.groupby(volume_per_month_2014.dt.month).count().plot(label=\"2014\")\n",
    "plt.legend()"
   ]
  },
  {
   "cell_type": "markdown",
   "metadata": {},
   "source": [
    "#### 2015"
   ]
  },
  {
   "cell_type": "code",
   "execution_count": 53,
   "metadata": {},
   "outputs": [
    {
     "data": {
      "text/html": [
       "<div>\n",
       "<style scoped>\n",
       "    .dataframe tbody tr th:only-of-type {\n",
       "        vertical-align: middle;\n",
       "    }\n",
       "\n",
       "    .dataframe tbody tr th {\n",
       "        vertical-align: top;\n",
       "    }\n",
       "\n",
       "    .dataframe thead th {\n",
       "        text-align: right;\n",
       "    }\n",
       "</style>\n",
       "<table border=\"1\" class=\"dataframe\">\n",
       "  <thead>\n",
       "    <tr style=\"text-align: right;\">\n",
       "      <th></th>\n",
       "      <th>date</th>\n",
       "      <th>store_number</th>\n",
       "      <th>store_name</th>\n",
       "      <th>address</th>\n",
       "      <th>city</th>\n",
       "      <th>zip_code</th>\n",
       "      <th>store_location</th>\n",
       "      <th>county_number</th>\n",
       "      <th>county</th>\n",
       "      <th>category</th>\n",
       "      <th>...</th>\n",
       "      <th>vendor_name</th>\n",
       "      <th>item_number</th>\n",
       "      <th>item_description</th>\n",
       "      <th>pack</th>\n",
       "      <th>bottle_volume_ml</th>\n",
       "      <th>state_bottle_cost</th>\n",
       "      <th>state_bottle_retail</th>\n",
       "      <th>bottles_sold</th>\n",
       "      <th>sale_dollars</th>\n",
       "      <th>volume_sold_liters</th>\n",
       "    </tr>\n",
       "  </thead>\n",
       "  <tbody>\n",
       "    <tr>\n",
       "      <th>7</th>\n",
       "      <td>2015-12-10</td>\n",
       "      <td>2671</td>\n",
       "      <td>hy-vee-jefferson</td>\n",
       "      <td>106-w-washington-st</td>\n",
       "      <td>jefferson</td>\n",
       "      <td>50129</td>\n",
       "      <td>106-w-washington-st-jefferson-50129-42-017269-...</td>\n",
       "      <td>37</td>\n",
       "      <td>greene</td>\n",
       "      <td>1.0121e+06</td>\n",
       "      <td>...</td>\n",
       "      <td>diageo-americas</td>\n",
       "      <td>10807</td>\n",
       "      <td>crown-royal-regal-apple</td>\n",
       "      <td>12</td>\n",
       "      <td>750</td>\n",
       "      <td>15.00</td>\n",
       "      <td>22.50</td>\n",
       "      <td>60</td>\n",
       "      <td>1350.00</td>\n",
       "      <td>45</td>\n",
       "    </tr>\n",
       "  </tbody>\n",
       "</table>\n",
       "<p>1 rows × 22 columns</p>\n",
       "</div>"
      ],
      "text/plain": [
       "        date store_number        store_name              address       city  \\\n",
       "7 2015-12-10         2671  hy-vee-jefferson  106-w-washington-st  jefferson   \n",
       "\n",
       "  zip_code                                     store_location county_number  \\\n",
       "7    50129  106-w-washington-st-jefferson-50129-42-017269-...            37   \n",
       "\n",
       "   county    category  ...      vendor_name item_number  \\\n",
       "7  greene  1.0121e+06  ...  diageo-americas       10807   \n",
       "\n",
       "          item_description pack bottle_volume_ml state_bottle_cost  \\\n",
       "7  crown-royal-regal-apple   12              750             15.00   \n",
       "\n",
       "  state_bottle_retail bottles_sold sale_dollars volume_sold_liters  \n",
       "7               22.50           60      1350.00                 45  \n",
       "\n",
       "[1 rows x 22 columns]"
      ]
     },
     "execution_count": 53,
     "metadata": {},
     "output_type": "execute_result"
    }
   ],
   "source": [
    "year_2015 = df[df['date'].dt.year == 2015]\n",
    "year_2015.head(1)"
   ]
  },
  {
   "cell_type": "code",
   "execution_count": 70,
   "metadata": {},
   "outputs": [
    {
     "data": {
      "text/plain": [
       "<matplotlib.legend.Legend at 0x7fe36aaca510>"
      ]
     },
     "execution_count": 70,
     "metadata": {},
     "output_type": "execute_result"
    },
    {
     "data": {
      "image/png": "[encoded data removed]",
      "text/plain": [
       "<Figure size 432x288 with 1 Axes>"
      ]
     },
     "metadata": {
      "needs_background": "light"
     },
     "output_type": "display_data"
    }
   ],
   "source": [
    "volume_per_month_2015.groupby(volume_per_month_2015.dt.month).count().plot(label=\"2015\")\n",
    "plt.legend()"
   ]
  },
  {
   "cell_type": "markdown",
   "metadata": {},
   "source": [
    "#### 2016"
   ]
  },
  {
   "cell_type": "code",
   "execution_count": 54,
   "metadata": {},
   "outputs": [
    {
     "data": {
      "text/html": [
       "<div>\n",
       "<style scoped>\n",
       "    .dataframe tbody tr th:only-of-type {\n",
       "        vertical-align: middle;\n",
       "    }\n",
       "\n",
       "    .dataframe tbody tr th {\n",
       "        vertical-align: top;\n",
       "    }\n",
       "\n",
       "    .dataframe thead th {\n",
       "        text-align: right;\n",
       "    }\n",
       "</style>\n",
       "<table border=\"1\" class=\"dataframe\">\n",
       "  <thead>\n",
       "    <tr style=\"text-align: right;\">\n",
       "      <th></th>\n",
       "      <th>date</th>\n",
       "      <th>store_number</th>\n",
       "      <th>store_name</th>\n",
       "      <th>address</th>\n",
       "      <th>city</th>\n",
       "      <th>zip_code</th>\n",
       "      <th>store_location</th>\n",
       "      <th>county_number</th>\n",
       "      <th>county</th>\n",
       "      <th>category</th>\n",
       "      <th>...</th>\n",
       "      <th>vendor_name</th>\n",
       "      <th>item_number</th>\n",
       "      <th>item_description</th>\n",
       "      <th>pack</th>\n",
       "      <th>bottle_volume_ml</th>\n",
       "      <th>state_bottle_cost</th>\n",
       "      <th>state_bottle_retail</th>\n",
       "      <th>bottles_sold</th>\n",
       "      <th>sale_dollars</th>\n",
       "      <th>volume_sold_liters</th>\n",
       "    </tr>\n",
       "  </thead>\n",
       "  <tbody>\n",
       "    <tr>\n",
       "      <th>10</th>\n",
       "      <td>2016-06-22</td>\n",
       "      <td>4670</td>\n",
       "      <td>guppy-s-on-the-go-tripoli</td>\n",
       "      <td>600-7th-ave-sw</td>\n",
       "      <td>tripoli</td>\n",
       "      <td>50676</td>\n",
       "      <td>600-7th-ave-sw-tripoli-50676-42-802375-92-264289</td>\n",
       "      <td>9</td>\n",
       "      <td>bremer</td>\n",
       "      <td>1.06231e+06</td>\n",
       "      <td>...</td>\n",
       "      <td>diageo-americas</td>\n",
       "      <td>43337</td>\n",
       "      <td>captain-morgan-spiced-rum</td>\n",
       "      <td>12</td>\n",
       "      <td>1000</td>\n",
       "      <td>11.75</td>\n",
       "      <td>17.63</td>\n",
       "      <td>4</td>\n",
       "      <td>70.52</td>\n",
       "      <td>4</td>\n",
       "    </tr>\n",
       "  </tbody>\n",
       "</table>\n",
       "<p>1 rows × 22 columns</p>\n",
       "</div>"
      ],
      "text/plain": [
       "         date store_number                 store_name         address  \\\n",
       "10 2016-06-22         4670  guppy-s-on-the-go-tripoli  600-7th-ave-sw   \n",
       "\n",
       "       city zip_code                                    store_location  \\\n",
       "10  tripoli    50676  600-7th-ave-sw-tripoli-50676-42-802375-92-264289   \n",
       "\n",
       "   county_number  county     category  ...      vendor_name item_number  \\\n",
       "10             9  bremer  1.06231e+06  ...  diageo-americas       43337   \n",
       "\n",
       "             item_description pack bottle_volume_ml state_bottle_cost  \\\n",
       "10  captain-morgan-spiced-rum   12             1000             11.75   \n",
       "\n",
       "   state_bottle_retail bottles_sold sale_dollars volume_sold_liters  \n",
       "10               17.63            4        70.52                  4  \n",
       "\n",
       "[1 rows x 22 columns]"
      ]
     },
     "execution_count": 54,
     "metadata": {},
     "output_type": "execute_result"
    }
   ],
   "source": [
    "year_2016 = df[df['date'].dt.year == 2016]\n",
    "year_2016.head(1)"
   ]
  },
  {
   "cell_type": "code",
   "execution_count": 71,
   "metadata": {},
   "outputs": [
    {
     "data": {
      "text/plain": [
       "<matplotlib.legend.Legend at 0x7fe36aadc990>"
      ]
     },
     "execution_count": 71,
     "metadata": {},
     "output_type": "execute_result"
    },
    {
     "data": {
      "image/png": "[encoded data removed]",
      "text/plain": [
       "<Figure size 432x288 with 1 Axes>"
      ]
     },
     "metadata": {
      "needs_background": "light"
     },
     "output_type": "display_data"
    }
   ],
   "source": [
    "volume_per_month_2016.groupby(volume_per_month_2016.dt.month).count().plot(label=\"2016\")\n",
    "plt.legend()"
   ]
  },
  {
   "cell_type": "markdown",
   "metadata": {},
   "source": [
    "#### 2017"
   ]
  },
  {
   "cell_type": "code",
   "execution_count": 55,
   "metadata": {},
   "outputs": [
    {
     "data": {
      "text/html": [
       "<div>\n",
       "<style scoped>\n",
       "    .dataframe tbody tr th:only-of-type {\n",
       "        vertical-align: middle;\n",
       "    }\n",
       "\n",
       "    .dataframe tbody tr th {\n",
       "        vertical-align: top;\n",
       "    }\n",
       "\n",
       "    .dataframe thead th {\n",
       "        text-align: right;\n",
       "    }\n",
       "</style>\n",
       "<table border=\"1\" class=\"dataframe\">\n",
       "  <thead>\n",
       "    <tr style=\"text-align: right;\">\n",
       "      <th></th>\n",
       "      <th>date</th>\n",
       "      <th>store_number</th>\n",
       "      <th>store_name</th>\n",
       "      <th>address</th>\n",
       "      <th>city</th>\n",
       "      <th>zip_code</th>\n",
       "      <th>store_location</th>\n",
       "      <th>county_number</th>\n",
       "      <th>county</th>\n",
       "      <th>category</th>\n",
       "      <th>...</th>\n",
       "      <th>vendor_name</th>\n",
       "      <th>item_number</th>\n",
       "      <th>item_description</th>\n",
       "      <th>pack</th>\n",
       "      <th>bottle_volume_ml</th>\n",
       "      <th>state_bottle_cost</th>\n",
       "      <th>state_bottle_retail</th>\n",
       "      <th>bottles_sold</th>\n",
       "      <th>sale_dollars</th>\n",
       "      <th>volume_sold_liters</th>\n",
       "    </tr>\n",
       "  </thead>\n",
       "  <tbody>\n",
       "    <tr>\n",
       "      <th>1</th>\n",
       "      <td>2017-08-22</td>\n",
       "      <td>3651</td>\n",
       "      <td>wal-mart-1491-indianola</td>\n",
       "      <td>1500-north-jefferson</td>\n",
       "      <td>indianola</td>\n",
       "      <td>50125</td>\n",
       "      <td>1500-north-jefferson-indianola-50125</td>\n",
       "      <td>91</td>\n",
       "      <td>warren</td>\n",
       "      <td>1.0121e+06</td>\n",
       "      <td>...</td>\n",
       "      <td>diageo-americas</td>\n",
       "      <td>11298</td>\n",
       "      <td>crown-royal-canadian-whisky</td>\n",
       "      <td>6</td>\n",
       "      <td>1750</td>\n",
       "      <td>31.99</td>\n",
       "      <td>47.99</td>\n",
       "      <td>1</td>\n",
       "      <td>287.94</td>\n",
       "      <td>1.75</td>\n",
       "    </tr>\n",
       "  </tbody>\n",
       "</table>\n",
       "<p>1 rows × 22 columns</p>\n",
       "</div>"
      ],
      "text/plain": [
       "        date store_number               store_name               address  \\\n",
       "1 2017-08-22         3651  wal-mart-1491-indianola  1500-north-jefferson   \n",
       "\n",
       "        city zip_code                        store_location county_number  \\\n",
       "1  indianola    50125  1500-north-jefferson-indianola-50125            91   \n",
       "\n",
       "   county    category  ...      vendor_name item_number  \\\n",
       "1  warren  1.0121e+06  ...  diageo-americas       11298   \n",
       "\n",
       "              item_description pack bottle_volume_ml state_bottle_cost  \\\n",
       "1  crown-royal-canadian-whisky    6             1750             31.99   \n",
       "\n",
       "  state_bottle_retail bottles_sold sale_dollars volume_sold_liters  \n",
       "1               47.99            1       287.94               1.75  \n",
       "\n",
       "[1 rows x 22 columns]"
      ]
     },
     "execution_count": 55,
     "metadata": {},
     "output_type": "execute_result"
    }
   ],
   "source": [
    "year_2017 = df[df['date'].dt.year == 2017]\n",
    "year_2017.head(1)"
   ]
  },
  {
   "cell_type": "code",
   "execution_count": 72,
   "metadata": {},
   "outputs": [
    {
     "data": {
      "text/plain": [
       "<matplotlib.legend.Legend at 0x7fe36aa1efd0>"
      ]
     },
     "execution_count": 72,
     "metadata": {},
     "output_type": "execute_result"
    },
    {
     "data": {
      "image/png": "[encoded data removed]",
      "text/plain": [
       "<Figure size 432x288 with 1 Axes>"
      ]
     },
     "metadata": {
      "needs_background": "light"
     },
     "output_type": "display_data"
    }
   ],
   "source": [
    "volume_per_month_2017.groupby(volume_per_month_2017.dt.month).count().plot(label=\"2017\")\n",
    "plt.legend()"
   ]
  },
  {
   "cell_type": "markdown",
   "metadata": {},
   "source": [
    "#### Todo o período"
   ]
  },
  {
   "cell_type": "code",
   "execution_count": 56,
   "metadata": {},
   "outputs": [
    {
     "data": {
      "text/plain": [
       "[416317, 412095, 420866, 436353, 455792, 376793]"
      ]
     },
     "execution_count": 56,
     "metadata": {},
     "output_type": "execute_result"
    }
   ],
   "source": [
    "year1 = [2012,2013,2014,2015,2016,2017]\n",
    "qtt1 = []\n",
    "qtt1.append(len(year_2012.index))\n",
    "qtt1.append(len(year_2013.index))\n",
    "qtt1.append(len(year_2014.index))\n",
    "qtt1.append(len(year_2015.index))\n",
    "qtt1.append(len(year_2016.index))\n",
    "qtt1.append(len(year_2017.index))\n",
    "qtt1"
   ]
  },
  {
   "cell_type": "code",
   "execution_count": 57,
   "metadata": {},
   "outputs": [
    {
     "data": {
      "text/plain": [
       "[<matplotlib.lines.Line2D at 0x7fe36ac4c810>]"
      ]
     },
     "execution_count": 57,
     "metadata": {},
     "output_type": "execute_result"
    },
    {
     "data": {
      "image/png": "[encoded data removed]",
      "text/plain": [
       "<Figure size 432x288 with 1 Axes>"
      ]
     },
     "metadata": {
      "needs_background": "light"
     },
     "output_type": "display_data"
    }
   ],
   "source": [
    "plt.grid(True)\n",
    "plt.plot(year1, qtt1)"
   ]
  },
  {
   "cell_type": "code",
   "execution_count": 58,
   "metadata": {},
   "outputs": [
    {
     "data": {
      "text/plain": [
       "[416317, 412095, 420866, 436353, 455792]"
      ]
     },
     "execution_count": 58,
     "metadata": {},
     "output_type": "execute_result"
    }
   ],
   "source": [
    "year2 = [2012,2013,2014,2015,2016]\n",
    "qtt2 = []\n",
    "qtt2.append(len(year_2012.index))\n",
    "qtt2.append(len(year_2013.index))\n",
    "qtt2.append(len(year_2014.index))\n",
    "qtt2.append(len(year_2015.index))\n",
    "qtt2.append(len(year_2016.index))\n",
    "qtt2"
   ]
  },
  {
   "cell_type": "code",
   "execution_count": 59,
   "metadata": {},
   "outputs": [
    {
     "data": {
      "image/png": "[encoded data removed]",
      "text/plain": [
       "<Figure size 432x288 with 1 Axes>"
      ]
     },
     "metadata": {
      "needs_background": "light"
     },
     "output_type": "display_data"
    }
   ],
   "source": [
    "plt.plot(year2, qtt2)\n",
    "plt.show()"
   ]
  },
  {
   "cell_type": "code",
   "execution_count": 60,
   "metadata": {},
   "outputs": [],
   "source": [
    "volume_per_month_2012 = year_2012['date']"
   ]
  },
  {
   "cell_type": "code",
   "execution_count": 61,
   "metadata": {},
   "outputs": [],
   "source": [
    "volume_per_month_2013 = year_2013['date']"
   ]
  },
  {
   "cell_type": "code",
   "execution_count": 62,
   "metadata": {},
   "outputs": [],
   "source": [
    "volume_per_month_2014 = year_2014['date']"
   ]
  },
  {
   "cell_type": "code",
   "execution_count": 63,
   "metadata": {},
   "outputs": [],
   "source": [
    "volume_per_month_2015 = year_2015['date']"
   ]
  },
  {
   "cell_type": "code",
   "execution_count": 64,
   "metadata": {},
   "outputs": [],
   "source": [
    "volume_per_month_2016 = year_2016['date']"
   ]
  },
  {
   "cell_type": "code",
   "execution_count": 65,
   "metadata": {},
   "outputs": [],
   "source": [
    "volume_per_month_2017 = year_2017['date']"
   ]
  },
  {
   "cell_type": "code",
   "execution_count": 67,
   "metadata": {},
   "outputs": [
    {
     "data": {
      "text/plain": [
       "40878"
      ]
     },
     "execution_count": 67,
     "metadata": {},
     "output_type": "execute_result"
    }
   ],
   "source": [
    "volume_per_month_2012.groupby(volume_per_month_2012.dt.month).count().max()"
   ]
  },
  {
   "cell_type": "code",
   "execution_count": null,
   "metadata": {},
   "outputs": [],
   "source": []
  },
  {
   "cell_type": "code",
   "execution_count": null,
   "metadata": {},
   "outputs": [],
   "source": []
  }
 ],
 "metadata": {
  "interpreter": {
   "hash": "5f15e1cb9d6d612925d6246ed59693829277a4bc8e4e565041aad7c1eb71fee3"
  },
  "kernelspec": {
   "display_name": "Python 3",
   "language": "python",
   "name": "python3"
  },
  "language_info": {
   "codemirror_mode": {
    "name": "ipython",
    "version": 3
   },
   "file_extension": ".py",
   "mimetype": "text/x-python",
   "name": "python",
   "nbconvert_exporter": "python",
   "pygments_lexer": "ipython3",
   "version": "3.7.6"
  }
 },
 "nbformat": 4,
 "nbformat_minor": 5
}
