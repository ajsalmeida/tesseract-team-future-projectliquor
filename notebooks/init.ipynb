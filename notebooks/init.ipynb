{
 "cells": [
  {
   "cell_type": "markdown",
   "id": "783d0b1c",
   "metadata": {},
   "source": [
    "## Classificação de variáveis"
   ]
  },
  {
   "cell_type": "markdown",
   "id": "8faa5bfc",
   "metadata": {},
   "source": [
    "### Importando as bibliotecas "
   ]
  },
  {
   "cell_type": "code",
   "execution_count": 2,
   "id": "98dfe237",
   "metadata": {},
   "outputs": [],
   "source": [
    "import pandas as pd\n",
    "import numpy as np\n",
    "import matplotlib.pyplot as plt\n",
    "from slugify import slugify\n",
    "from sklearn.model_selection import train_test_split\n",
    "#import Levenshtein\n",
    "#from iowalicor.data.preprocessing import slugify\n",
    "#from application.app.folder.file import func_name"
   ]
  },
  {
   "cell_type": "code",
   "execution_count": 3,
   "id": "3de896f4",
   "metadata": {},
   "outputs": [
    {
     "data": {
      "text/html": [
       "<div>\n",
       "<style scoped>\n",
       "    .dataframe tbody tr th:only-of-type {\n",
       "        vertical-align: middle;\n",
       "    }\n",
       "\n",
       "    .dataframe tbody tr th {\n",
       "        vertical-align: top;\n",
       "    }\n",
       "\n",
       "    .dataframe thead th {\n",
       "        text-align: right;\n",
       "    }\n",
       "</style>\n",
       "<table border=\"1\" class=\"dataframe\">\n",
       "  <thead>\n",
       "    <tr style=\"text-align: right;\">\n",
       "      <th></th>\n",
       "      <th>Unnamed: 0</th>\n",
       "      <th>Invoice/Item Number</th>\n",
       "      <th>Date</th>\n",
       "      <th>Store Number</th>\n",
       "      <th>Store Name</th>\n",
       "      <th>Address</th>\n",
       "      <th>City</th>\n",
       "      <th>Zip Code</th>\n",
       "      <th>Store Location</th>\n",
       "      <th>County Number</th>\n",
       "      <th>...</th>\n",
       "      <th>Item Number</th>\n",
       "      <th>Item Description</th>\n",
       "      <th>Pack</th>\n",
       "      <th>Bottle Volume (ml)</th>\n",
       "      <th>State Bottle Cost</th>\n",
       "      <th>State Bottle Retail</th>\n",
       "      <th>Bottles Sold</th>\n",
       "      <th>Sale (Dollars)</th>\n",
       "      <th>Volume Sold (Liters)</th>\n",
       "      <th>Volume Sold (Gallons)</th>\n",
       "    </tr>\n",
       "  </thead>\n",
       "  <tbody>\n",
       "    <tr>\n",
       "      <th>0</th>\n",
       "      <td>2364808</td>\n",
       "      <td>S10798700028</td>\n",
       "      <td>02/26/2013</td>\n",
       "      <td>4347</td>\n",
       "      <td>Jeff's Market / Blue Grass</td>\n",
       "      <td>102 W MAYNE</td>\n",
       "      <td>BLUE GRASS</td>\n",
       "      <td>52726</td>\n",
       "      <td>102 W MAYNE\\nBLUE GRASS 52726\\n(41.509114, -90...</td>\n",
       "      <td>82.0</td>\n",
       "      <td>...</td>\n",
       "      <td>22155</td>\n",
       "      <td>Wild Turkey 101 Round</td>\n",
       "      <td>12</td>\n",
       "      <td>375</td>\n",
       "      <td>$6.00</td>\n",
       "      <td>$8.99</td>\n",
       "      <td>1</td>\n",
       "      <td>$8.99</td>\n",
       "      <td>0.38</td>\n",
       "      <td>0.10</td>\n",
       "    </tr>\n",
       "    <tr>\n",
       "      <th>1</th>\n",
       "      <td>12139684</td>\n",
       "      <td>INV-06802100005</td>\n",
       "      <td>08/22/2017</td>\n",
       "      <td>3651</td>\n",
       "      <td>Wal-Mart 1491 / Indianola</td>\n",
       "      <td>1500 North Jefferson</td>\n",
       "      <td>Indianola</td>\n",
       "      <td>50125</td>\n",
       "      <td>1500 North Jefferson\\nIndianola 50125\\n</td>\n",
       "      <td>91.0</td>\n",
       "      <td>...</td>\n",
       "      <td>11298</td>\n",
       "      <td>Crown Royal Canadian Whisky</td>\n",
       "      <td>6</td>\n",
       "      <td>1750</td>\n",
       "      <td>$31.99</td>\n",
       "      <td>$47.99</td>\n",
       "      <td>1</td>\n",
       "      <td>$287.94</td>\n",
       "      <td>1.75</td>\n",
       "      <td>0.46</td>\n",
       "    </tr>\n",
       "    <tr>\n",
       "      <th>2</th>\n",
       "      <td>31671</td>\n",
       "      <td>S14182900098</td>\n",
       "      <td>08/28/2013</td>\n",
       "      <td>2576</td>\n",
       "      <td>Hy-Vee Wine and Spirits / Storm Lake</td>\n",
       "      <td>1250 N LAKE ST</td>\n",
       "      <td>STORM LAKE</td>\n",
       "      <td>50588</td>\n",
       "      <td>1250 N LAKE ST\\nSTORM LAKE 50588\\n(42.653594, ...</td>\n",
       "      <td>11.0</td>\n",
       "      <td>...</td>\n",
       "      <td>86688</td>\n",
       "      <td>Firefly Strawberry Moonshine</td>\n",
       "      <td>12</td>\n",
       "      <td>750</td>\n",
       "      <td>$9.88</td>\n",
       "      <td>$14.82</td>\n",
       "      <td>2</td>\n",
       "      <td>$29.64</td>\n",
       "      <td>1.50</td>\n",
       "      <td>0.40</td>\n",
       "    </tr>\n",
       "    <tr>\n",
       "      <th>3</th>\n",
       "      <td>1100266</td>\n",
       "      <td>S11292900026</td>\n",
       "      <td>03/26/2013</td>\n",
       "      <td>3756</td>\n",
       "      <td>Main Street Liquors / Manning</td>\n",
       "      <td>316 MAIN ST</td>\n",
       "      <td>MANNING</td>\n",
       "      <td>51455</td>\n",
       "      <td>316 MAIN ST\\nMANNING 51455\\n(41.908573, -95.06...</td>\n",
       "      <td>14.0</td>\n",
       "      <td>...</td>\n",
       "      <td>69947</td>\n",
       "      <td>Rumple Minze Peppermint Schnapps Liqueur</td>\n",
       "      <td>12</td>\n",
       "      <td>1000</td>\n",
       "      <td>$15.15</td>\n",
       "      <td>$22.72</td>\n",
       "      <td>1</td>\n",
       "      <td>$22.72</td>\n",
       "      <td>1.00</td>\n",
       "      <td>0.26</td>\n",
       "    </tr>\n",
       "    <tr>\n",
       "      <th>4</th>\n",
       "      <td>12120532</td>\n",
       "      <td>INV-06737700004</td>\n",
       "      <td>08/17/2017</td>\n",
       "      <td>4997</td>\n",
       "      <td>Downtown Pantry</td>\n",
       "      <td>218, 6th Ave #101</td>\n",
       "      <td>Des Moines</td>\n",
       "      <td>50309</td>\n",
       "      <td>218, 6th Ave #101\\nDes Moines 50309\\n(41.58568...</td>\n",
       "      <td>77.0</td>\n",
       "      <td>...</td>\n",
       "      <td>89191</td>\n",
       "      <td>Jose Cuervo Especial Reposado Tequila Mini</td>\n",
       "      <td>12</td>\n",
       "      <td>500</td>\n",
       "      <td>$11.50</td>\n",
       "      <td>$17.25</td>\n",
       "      <td>1</td>\n",
       "      <td>$17.25</td>\n",
       "      <td>0.50</td>\n",
       "      <td>0.13</td>\n",
       "    </tr>\n",
       "    <tr>\n",
       "      <th>5</th>\n",
       "      <td>11670503</td>\n",
       "      <td>INV-05415200028</td>\n",
       "      <td>06/08/2017</td>\n",
       "      <td>2595</td>\n",
       "      <td>Hy-Vee Wine and Spirits / Denison</td>\n",
       "      <td>1620  4th Ave, South</td>\n",
       "      <td>Denison</td>\n",
       "      <td>51442</td>\n",
       "      <td>1620 4th Ave, South\\nDenison 51442\\n(42.012395...</td>\n",
       "      <td>24.0</td>\n",
       "      <td>...</td>\n",
       "      <td>10828</td>\n",
       "      <td>Crown Royal Northern Harvest Rye</td>\n",
       "      <td>12</td>\n",
       "      <td>750</td>\n",
       "      <td>$17.50</td>\n",
       "      <td>$26.25</td>\n",
       "      <td>2</td>\n",
       "      <td>$26.25</td>\n",
       "      <td>1.50</td>\n",
       "      <td>0.39</td>\n",
       "    </tr>\n",
       "    <tr>\n",
       "      <th>6</th>\n",
       "      <td>4543410</td>\n",
       "      <td>S11437200032</td>\n",
       "      <td>04/03/2013</td>\n",
       "      <td>3712</td>\n",
       "      <td>Monte Spirits</td>\n",
       "      <td>109 N 4TH ST</td>\n",
       "      <td>MONTEZUMA</td>\n",
       "      <td>50171</td>\n",
       "      <td>109 N 4TH ST\\nMONTEZUMA 50171\\n(41.585429, -92...</td>\n",
       "      <td>79.0</td>\n",
       "      <td>...</td>\n",
       "      <td>77776</td>\n",
       "      <td>Wild Turkey American Honey</td>\n",
       "      <td>12</td>\n",
       "      <td>750</td>\n",
       "      <td>$10.50</td>\n",
       "      <td>$15.75</td>\n",
       "      <td>2</td>\n",
       "      <td>$31.50</td>\n",
       "      <td>1.50</td>\n",
       "      <td>0.40</td>\n",
       "    </tr>\n",
       "    <tr>\n",
       "      <th>7</th>\n",
       "      <td>8212094</td>\n",
       "      <td>S29576500047</td>\n",
       "      <td>12/10/2015</td>\n",
       "      <td>2671</td>\n",
       "      <td>Hy-Vee  /  Jefferson</td>\n",
       "      <td>106, W WASHINGTON ST</td>\n",
       "      <td>JEFFERSON</td>\n",
       "      <td>50129</td>\n",
       "      <td>106, W WASHINGTON ST\\nJEFFERSON 50129\\n(42.017...</td>\n",
       "      <td>37.0</td>\n",
       "      <td>...</td>\n",
       "      <td>10807</td>\n",
       "      <td>Crown Royal Regal Apple</td>\n",
       "      <td>12</td>\n",
       "      <td>750</td>\n",
       "      <td>$15.00</td>\n",
       "      <td>$22.50</td>\n",
       "      <td>60</td>\n",
       "      <td>$1350.00</td>\n",
       "      <td>45.00</td>\n",
       "      <td>11.89</td>\n",
       "    </tr>\n",
       "    <tr>\n",
       "      <th>8</th>\n",
       "      <td>1665619</td>\n",
       "      <td>S20509100146</td>\n",
       "      <td>08/06/2014</td>\n",
       "      <td>3495</td>\n",
       "      <td>Great Pastimes</td>\n",
       "      <td>228 N MAIN ST</td>\n",
       "      <td>MONTICELLO</td>\n",
       "      <td>52310</td>\n",
       "      <td>228 N MAIN ST\\nMONTICELLO 52310\\n(42.240132, -...</td>\n",
       "      <td>53.0</td>\n",
       "      <td>...</td>\n",
       "      <td>89194</td>\n",
       "      <td>Jose Cuervo Especial Reposado Flask</td>\n",
       "      <td>24</td>\n",
       "      <td>375</td>\n",
       "      <td>$5.50</td>\n",
       "      <td>$8.25</td>\n",
       "      <td>3</td>\n",
       "      <td>$24.75</td>\n",
       "      <td>1.12</td>\n",
       "      <td>0.30</td>\n",
       "    </tr>\n",
       "    <tr>\n",
       "      <th>9</th>\n",
       "      <td>1800759</td>\n",
       "      <td>S10087900002</td>\n",
       "      <td>01/16/2013</td>\n",
       "      <td>2535</td>\n",
       "      <td>Hy-Vee Food Store #1 / WDM</td>\n",
       "      <td>1700 VALLEY WEST DR</td>\n",
       "      <td>WEST DES MOINES</td>\n",
       "      <td>50265</td>\n",
       "      <td>1700 VALLEY WEST DR\\nWEST DES MOINES 50265\\n</td>\n",
       "      <td>77.0</td>\n",
       "      <td>...</td>\n",
       "      <td>27290</td>\n",
       "      <td>Iowa Shine</td>\n",
       "      <td>12</td>\n",
       "      <td>375</td>\n",
       "      <td>$10.08</td>\n",
       "      <td>$15.13</td>\n",
       "      <td>12</td>\n",
       "      <td>$181.56</td>\n",
       "      <td>4.50</td>\n",
       "      <td>1.19</td>\n",
       "    </tr>\n",
       "  </tbody>\n",
       "</table>\n",
       "<p>10 rows × 25 columns</p>\n",
       "</div>"
      ],
      "text/plain": [
       "   Unnamed: 0 Invoice/Item Number        Date  Store Number  \\\n",
       "0     2364808        S10798700028  02/26/2013          4347   \n",
       "1    12139684     INV-06802100005  08/22/2017          3651   \n",
       "2       31671        S14182900098  08/28/2013          2576   \n",
       "3     1100266        S11292900026  03/26/2013          3756   \n",
       "4    12120532     INV-06737700004  08/17/2017          4997   \n",
       "5    11670503     INV-05415200028  06/08/2017          2595   \n",
       "6     4543410        S11437200032  04/03/2013          3712   \n",
       "7     8212094        S29576500047  12/10/2015          2671   \n",
       "8     1665619        S20509100146  08/06/2014          3495   \n",
       "9     1800759        S10087900002  01/16/2013          2535   \n",
       "\n",
       "                             Store Name               Address  \\\n",
       "0            Jeff's Market / Blue Grass           102 W MAYNE   \n",
       "1             Wal-Mart 1491 / Indianola  1500 North Jefferson   \n",
       "2  Hy-Vee Wine and Spirits / Storm Lake        1250 N LAKE ST   \n",
       "3         Main Street Liquors / Manning           316 MAIN ST   \n",
       "4                       Downtown Pantry     218, 6th Ave #101   \n",
       "5     Hy-Vee Wine and Spirits / Denison  1620  4th Ave, South   \n",
       "6                         Monte Spirits          109 N 4TH ST   \n",
       "7                  Hy-Vee  /  Jefferson  106, W WASHINGTON ST   \n",
       "8                        Great Pastimes         228 N MAIN ST   \n",
       "9            Hy-Vee Food Store #1 / WDM   1700 VALLEY WEST DR   \n",
       "\n",
       "              City  Zip Code  \\\n",
       "0       BLUE GRASS     52726   \n",
       "1        Indianola     50125   \n",
       "2       STORM LAKE     50588   \n",
       "3          MANNING     51455   \n",
       "4       Des Moines     50309   \n",
       "5          Denison     51442   \n",
       "6        MONTEZUMA     50171   \n",
       "7        JEFFERSON     50129   \n",
       "8       MONTICELLO     52310   \n",
       "9  WEST DES MOINES     50265   \n",
       "\n",
       "                                      Store Location  County Number  ...  \\\n",
       "0  102 W MAYNE\\nBLUE GRASS 52726\\n(41.509114, -90...           82.0  ...   \n",
       "1            1500 North Jefferson\\nIndianola 50125\\n           91.0  ...   \n",
       "2  1250 N LAKE ST\\nSTORM LAKE 50588\\n(42.653594, ...           11.0  ...   \n",
       "3  316 MAIN ST\\nMANNING 51455\\n(41.908573, -95.06...           14.0  ...   \n",
       "4  218, 6th Ave #101\\nDes Moines 50309\\n(41.58568...           77.0  ...   \n",
       "5  1620 4th Ave, South\\nDenison 51442\\n(42.012395...           24.0  ...   \n",
       "6  109 N 4TH ST\\nMONTEZUMA 50171\\n(41.585429, -92...           79.0  ...   \n",
       "7  106, W WASHINGTON ST\\nJEFFERSON 50129\\n(42.017...           37.0  ...   \n",
       "8  228 N MAIN ST\\nMONTICELLO 52310\\n(42.240132, -...           53.0  ...   \n",
       "9       1700 VALLEY WEST DR\\nWEST DES MOINES 50265\\n           77.0  ...   \n",
       "\n",
       "  Item Number                            Item Description Pack  \\\n",
       "0       22155                       Wild Turkey 101 Round   12   \n",
       "1       11298                 Crown Royal Canadian Whisky    6   \n",
       "2       86688                Firefly Strawberry Moonshine   12   \n",
       "3       69947    Rumple Minze Peppermint Schnapps Liqueur   12   \n",
       "4       89191  Jose Cuervo Especial Reposado Tequila Mini   12   \n",
       "5       10828            Crown Royal Northern Harvest Rye   12   \n",
       "6       77776                  Wild Turkey American Honey   12   \n",
       "7       10807                     Crown Royal Regal Apple   12   \n",
       "8       89194         Jose Cuervo Especial Reposado Flask   24   \n",
       "9       27290                                  Iowa Shine   12   \n",
       "\n",
       "   Bottle Volume (ml) State Bottle Cost  State Bottle Retail Bottles Sold  \\\n",
       "0                 375             $6.00                $8.99            1   \n",
       "1                1750            $31.99               $47.99            1   \n",
       "2                 750             $9.88               $14.82            2   \n",
       "3                1000            $15.15               $22.72            1   \n",
       "4                 500            $11.50               $17.25            1   \n",
       "5                 750            $17.50               $26.25            2   \n",
       "6                 750            $10.50               $15.75            2   \n",
       "7                 750            $15.00               $22.50           60   \n",
       "8                 375             $5.50                $8.25            3   \n",
       "9                 375            $10.08               $15.13           12   \n",
       "\n",
       "   Sale (Dollars)  Volume Sold (Liters) Volume Sold (Gallons)  \n",
       "0           $8.99                  0.38                  0.10  \n",
       "1         $287.94                  1.75                  0.46  \n",
       "2          $29.64                  1.50                  0.40  \n",
       "3          $22.72                  1.00                  0.26  \n",
       "4          $17.25                  0.50                  0.13  \n",
       "5          $26.25                  1.50                  0.39  \n",
       "6          $31.50                  1.50                  0.40  \n",
       "7        $1350.00                 45.00                 11.89  \n",
       "8          $24.75                  1.12                  0.30  \n",
       "9         $181.56                  4.50                  1.19  \n",
       "\n",
       "[10 rows x 25 columns]"
      ]
     },
     "execution_count": 3,
     "metadata": {},
     "output_type": "execute_result"
    }
   ],
   "source": [
    "df_firstn = pd.read_csv(\"../data/raw/iowa_liquor_train_test_split_sample.csv\", nrows=10)\n",
    "df_firstn"
   ]
  },
  {
   "cell_type": "markdown",
   "id": "e9b02e7f",
   "metadata": {},
   "source": [
    "## Análise exploratória dataset Iowa_Liquor_Sales"
   ]
  },
  {
   "cell_type": "code",
   "execution_count": 4,
   "id": "9ba897e0",
   "metadata": {},
   "outputs": [],
   "source": [
    "#req_cols=['Date','City','County','Item Description','State Bottle Cost','State Bottle Retail','Volume Sold (Liters)']"
   ]
  },
  {
   "cell_type": "markdown",
   "id": "fe1fd3e7",
   "metadata": {},
   "source": [
    "### Leitura do dataset gerado pelo train_test_split e atribuindo a uma variável"
   ]
  },
  {
   "cell_type": "code",
   "execution_count": 5,
   "id": "57bb1259",
   "metadata": {},
   "outputs": [],
   "source": [
    "#dataset = pd.read_csv(\"../data/raw/Iowa_Liquor_Sales.csv\", usecols=req_cols)\n",
    "df = pd.read_csv(\"../data/raw/iowa_liquor_train_test_split_sample.csv\",dtype={\n",
    "    'Invoice/Item Number': str,\n",
    "    'Date':str,\n",
    "    'Store Number': float,\n",
    "    'Store Name': str,\n",
    "    'Address': str,\n",
    "    'City': str,\n",
    "    'Zip Code': str,\n",
    "    'Store Location': str,\n",
    "    'County Number': float,\n",
    "    'County': str,\n",
    "    'Category': float,\n",
    "    'Category Name': str,\n",
    "    'Vendor Number': float,\n",
    "    'Vendor Name': str,\n",
    "    'Item Number': float,\n",
    "    'Item Description': str,\n",
    "    'Pack': float,\n",
    "    'Bottle Volume (ml)': int,\n",
    "    'State Bottle Cost': str,\n",
    "    'State Bottle Retail': str,\n",
    "    'Bottles Sold': int,\n",
    "    'Sale (Dollars)': str,\n",
    "    'Volume Sold (Liters)': float,\n",
    "    'Volume Sold (Gallons)': float\n",
    "})"
   ]
  },
  {
   "cell_type": "code",
   "execution_count": 6,
   "id": "01b58c0e",
   "metadata": {},
   "outputs": [
    {
     "data": {
      "text/html": [
       "<div>\n",
       "<style scoped>\n",
       "    .dataframe tbody tr th:only-of-type {\n",
       "        vertical-align: middle;\n",
       "    }\n",
       "\n",
       "    .dataframe tbody tr th {\n",
       "        vertical-align: top;\n",
       "    }\n",
       "\n",
       "    .dataframe thead th {\n",
       "        text-align: right;\n",
       "    }\n",
       "</style>\n",
       "<table border=\"1\" class=\"dataframe\">\n",
       "  <thead>\n",
       "    <tr style=\"text-align: right;\">\n",
       "      <th></th>\n",
       "      <th>Unnamed: 0</th>\n",
       "      <th>Invoice/Item Number</th>\n",
       "      <th>Date</th>\n",
       "      <th>Store Number</th>\n",
       "      <th>Store Name</th>\n",
       "      <th>Address</th>\n",
       "      <th>City</th>\n",
       "      <th>Zip Code</th>\n",
       "      <th>Store Location</th>\n",
       "      <th>County Number</th>\n",
       "      <th>...</th>\n",
       "      <th>Item Number</th>\n",
       "      <th>Item Description</th>\n",
       "      <th>Pack</th>\n",
       "      <th>Bottle Volume (ml)</th>\n",
       "      <th>State Bottle Cost</th>\n",
       "      <th>State Bottle Retail</th>\n",
       "      <th>Bottles Sold</th>\n",
       "      <th>Sale (Dollars)</th>\n",
       "      <th>Volume Sold (Liters)</th>\n",
       "      <th>Volume Sold (Gallons)</th>\n",
       "    </tr>\n",
       "  </thead>\n",
       "  <tbody>\n",
       "    <tr>\n",
       "      <th>0</th>\n",
       "      <td>2364808</td>\n",
       "      <td>S10798700028</td>\n",
       "      <td>02/26/2013</td>\n",
       "      <td>4347.0</td>\n",
       "      <td>Jeff's Market / Blue Grass</td>\n",
       "      <td>102 W MAYNE</td>\n",
       "      <td>BLUE GRASS</td>\n",
       "      <td>52726</td>\n",
       "      <td>102 W MAYNE\\nBLUE GRASS 52726\\n(41.509114, -90...</td>\n",
       "      <td>82.0</td>\n",
       "      <td>...</td>\n",
       "      <td>22155.0</td>\n",
       "      <td>Wild Turkey 101 Round</td>\n",
       "      <td>12.0</td>\n",
       "      <td>375</td>\n",
       "      <td>$6.00</td>\n",
       "      <td>$8.99</td>\n",
       "      <td>1</td>\n",
       "      <td>$8.99</td>\n",
       "      <td>0.38</td>\n",
       "      <td>0.10</td>\n",
       "    </tr>\n",
       "    <tr>\n",
       "      <th>1</th>\n",
       "      <td>12139684</td>\n",
       "      <td>INV-06802100005</td>\n",
       "      <td>08/22/2017</td>\n",
       "      <td>3651.0</td>\n",
       "      <td>Wal-Mart 1491 / Indianola</td>\n",
       "      <td>1500 North Jefferson</td>\n",
       "      <td>Indianola</td>\n",
       "      <td>50125</td>\n",
       "      <td>1500 North Jefferson\\nIndianola 50125\\n</td>\n",
       "      <td>91.0</td>\n",
       "      <td>...</td>\n",
       "      <td>11298.0</td>\n",
       "      <td>Crown Royal Canadian Whisky</td>\n",
       "      <td>6.0</td>\n",
       "      <td>1750</td>\n",
       "      <td>$31.99</td>\n",
       "      <td>$47.99</td>\n",
       "      <td>1</td>\n",
       "      <td>$287.94</td>\n",
       "      <td>1.75</td>\n",
       "      <td>0.46</td>\n",
       "    </tr>\n",
       "  </tbody>\n",
       "</table>\n",
       "<p>2 rows × 25 columns</p>\n",
       "</div>"
      ],
      "text/plain": [
       "   Unnamed: 0 Invoice/Item Number        Date  Store Number  \\\n",
       "0     2364808        S10798700028  02/26/2013        4347.0   \n",
       "1    12139684     INV-06802100005  08/22/2017        3651.0   \n",
       "\n",
       "                   Store Name               Address        City Zip Code  \\\n",
       "0  Jeff's Market / Blue Grass           102 W MAYNE  BLUE GRASS    52726   \n",
       "1   Wal-Mart 1491 / Indianola  1500 North Jefferson   Indianola    50125   \n",
       "\n",
       "                                      Store Location  County Number  ...  \\\n",
       "0  102 W MAYNE\\nBLUE GRASS 52726\\n(41.509114, -90...           82.0  ...   \n",
       "1            1500 North Jefferson\\nIndianola 50125\\n           91.0  ...   \n",
       "\n",
       "  Item Number             Item Description  Pack  Bottle Volume (ml)  \\\n",
       "0     22155.0        Wild Turkey 101 Round  12.0                 375   \n",
       "1     11298.0  Crown Royal Canadian Whisky   6.0                1750   \n",
       "\n",
       "  State Bottle Cost  State Bottle Retail Bottles Sold  Sale (Dollars)  \\\n",
       "0             $6.00                $8.99            1           $8.99   \n",
       "1            $31.99               $47.99            1         $287.94   \n",
       "\n",
       "   Volume Sold (Liters) Volume Sold (Gallons)  \n",
       "0                  0.38                  0.10  \n",
       "1                  1.75                  0.46  \n",
       "\n",
       "[2 rows x 25 columns]"
      ]
     },
     "execution_count": 6,
     "metadata": {},
     "output_type": "execute_result"
    }
   ],
   "source": [
    "df.head(2)"
   ]
  },
  {
   "cell_type": "markdown",
   "id": "c9f06703",
   "metadata": {},
   "source": [
    "### Utilização o train_test_split para dividir o dataset em dados"
   ]
  },
  {
   "cell_type": "code",
   "execution_count": 7,
   "id": "f4862a15",
   "metadata": {},
   "outputs": [],
   "source": [
    "#X = dataset\n",
    "#y = dataset"
   ]
  },
  {
   "cell_type": "code",
   "execution_count": 8,
   "id": "4325bc5d",
   "metadata": {},
   "outputs": [],
   "source": [
    "#X_train, X_test, y_train, y_test = train_test_split(X, y,test_size=0.2)"
   ]
  },
  {
   "cell_type": "code",
   "execution_count": 9,
   "id": "3b107ad1",
   "metadata": {},
   "outputs": [],
   "source": [
    "#df = pd.DataFrame(X_test)\n",
    "#df.head()"
   ]
  },
  {
   "cell_type": "code",
   "execution_count": 10,
   "id": "f6ad6d50",
   "metadata": {},
   "outputs": [],
   "source": [
    "#df.to_csv('iowa_liquor_train_test_split_sample.csv')"
   ]
  },
  {
   "cell_type": "code",
   "execution_count": 11,
   "id": "46a78d6a",
   "metadata": {},
   "outputs": [
    {
     "name": "stdout",
     "output_type": "stream",
     "text": [
      "<class 'pandas.core.frame.DataFrame'>\n",
      "RangeIndex: 2518216 entries, 0 to 2518215\n",
      "Data columns (total 25 columns):\n",
      " #   Column                 Dtype  \n",
      "---  ------                 -----  \n",
      " 0   Unnamed: 0             int64  \n",
      " 1   Invoice/Item Number    object \n",
      " 2   Date                   object \n",
      " 3   Store Number           float64\n",
      " 4   Store Name             object \n",
      " 5   Address                object \n",
      " 6   City                   object \n",
      " 7   Zip Code               object \n",
      " 8   Store Location         object \n",
      " 9   County Number          float64\n",
      " 10  County                 object \n",
      " 11  Category               float64\n",
      " 12  Category Name          object \n",
      " 13  Vendor Number          float64\n",
      " 14  Vendor Name            object \n",
      " 15  Item Number            float64\n",
      " 16  Item Description       object \n",
      " 17  Pack                   float64\n",
      " 18  Bottle Volume (ml)     int32  \n",
      " 19  State Bottle Cost      object \n",
      " 20  State Bottle Retail    object \n",
      " 21  Bottles Sold           int32  \n",
      " 22  Sale (Dollars)         object \n",
      " 23  Volume Sold (Liters)   float64\n",
      " 24  Volume Sold (Gallons)  float64\n",
      "dtypes: float64(8), int32(2), int64(1), object(14)\n",
      "memory usage: 461.1+ MB\n"
     ]
    }
   ],
   "source": [
    "df.info()"
   ]
  },
  {
   "cell_type": "markdown",
   "id": "7288c465",
   "metadata": {},
   "source": [
    "### Limpeza os dados e facilitação da análise"
   ]
  },
  {
   "cell_type": "code",
   "execution_count": 12,
   "id": "099167bf",
   "metadata": {},
   "outputs": [
    {
     "data": {
      "text/plain": [
       "Index(['unnamed_0', 'invoice_item_number', 'date', 'store_number',\n",
       "       'store_name', 'address', 'city', 'zip_code', 'store_location',\n",
       "       'county_number', 'county', 'category', 'category_name', 'vendor_number',\n",
       "       'vendor_name', 'item_number', 'item_description', 'pack',\n",
       "       'bottle_volume_ml', 'state_bottle_cost', 'state_bottle_retail',\n",
       "       'bottles_sold', 'sale_dollars', 'volume_sold_liters',\n",
       "       'volume_sold_gallons'],\n",
       "      dtype='object')"
      ]
     },
     "execution_count": 12,
     "metadata": {},
     "output_type": "execute_result"
    }
   ],
   "source": [
    "df.columns = [slugify(col, lowercase=True, separator='_') for col in df.columns]\n",
    "df.columns"
   ]
  },
  {
   "cell_type": "markdown",
   "id": "9e9af48e",
   "metadata": {},
   "source": [
    "### Escolha das colunas a utilizar"
   ]
  },
  {
   "cell_type": "code",
   "execution_count": 13,
   "id": "f66c9360",
   "metadata": {},
   "outputs": [],
   "source": [
    "df = df.drop('unnamed_0', 1)\n",
    "df = df.drop('invoice_item_number', 1)\n",
    "df = df.drop('volume_sold_gallons', 1)"
   ]
  },
  {
   "cell_type": "code",
   "execution_count": 14,
   "id": "0ab02b1f",
   "metadata": {},
   "outputs": [
    {
     "data": {
      "text/plain": [
       "Index(['date', 'store_number', 'store_name', 'address', 'city', 'zip_code',\n",
       "       'store_location', 'county_number', 'county', 'category',\n",
       "       'category_name', 'vendor_number', 'vendor_name', 'item_number',\n",
       "       'item_description', 'pack', 'bottle_volume_ml', 'state_bottle_cost',\n",
       "       'state_bottle_retail', 'bottles_sold', 'sale_dollars',\n",
       "       'volume_sold_liters'],\n",
       "      dtype='object')"
      ]
     },
     "execution_count": 14,
     "metadata": {},
     "output_type": "execute_result"
    }
   ],
   "source": [
    "df.columns"
   ]
  },
  {
   "cell_type": "code",
   "execution_count": 15,
   "id": "8ab1d0ff",
   "metadata": {},
   "outputs": [
    {
     "name": "stdout",
     "output_type": "stream",
     "text": [
      "<class 'pandas.core.frame.DataFrame'>\n",
      "RangeIndex: 2518216 entries, 0 to 2518215\n",
      "Data columns (total 22 columns):\n",
      " #   Column               Dtype  \n",
      "---  ------               -----  \n",
      " 0   date                 object \n",
      " 1   store_number         float64\n",
      " 2   store_name           object \n",
      " 3   address              object \n",
      " 4   city                 object \n",
      " 5   zip_code             object \n",
      " 6   store_location       object \n",
      " 7   county_number        float64\n",
      " 8   county               object \n",
      " 9   category             float64\n",
      " 10  category_name        object \n",
      " 11  vendor_number        float64\n",
      " 12  vendor_name          object \n",
      " 13  item_number          float64\n",
      " 14  item_description     object \n",
      " 15  pack                 float64\n",
      " 16  bottle_volume_ml     int32  \n",
      " 17  state_bottle_cost    object \n",
      " 18  state_bottle_retail  object \n",
      " 19  bottles_sold         int32  \n",
      " 20  sale_dollars         object \n",
      " 21  volume_sold_liters   float64\n",
      "dtypes: float64(7), int32(2), object(13)\n",
      "memory usage: 403.5+ MB\n"
     ]
    }
   ],
   "source": [
    "df.info()"
   ]
  },
  {
   "cell_type": "markdown",
   "id": "b215786e",
   "metadata": {},
   "source": [
    "### Substituição dos valores NaN da tabela"
   ]
  },
  {
   "cell_type": "code",
   "execution_count": 16,
   "id": "8cb6d0e5",
   "metadata": {},
   "outputs": [
    {
     "data": {
      "text/plain": [
       "True"
      ]
     },
     "execution_count": 16,
     "metadata": {},
     "output_type": "execute_result"
    }
   ],
   "source": [
    "df.isnull().values.any()"
   ]
  },
  {
   "cell_type": "code",
   "execution_count": 17,
   "id": "0adfafe5",
   "metadata": {},
   "outputs": [],
   "source": [
    "for x in df.columns:\n",
    "    df[x] = df[x].fillna('0')"
   ]
  },
  {
   "cell_type": "code",
   "execution_count": 18,
   "id": "18b98486",
   "metadata": {},
   "outputs": [],
   "source": [
    "df[df['city'] == 'nan'] = 'no_city'"
   ]
  },
  {
   "cell_type": "code",
   "execution_count": 19,
   "id": "35c0a32a",
   "metadata": {},
   "outputs": [],
   "source": [
    "df[df['county'] == 'nan'] = 'no_county'"
   ]
  },
  {
   "cell_type": "code",
   "execution_count": 20,
   "id": "c46acbfd",
   "metadata": {},
   "outputs": [],
   "source": [
    "df[df['item_description'] == 'nan'] = 'no_item_description'"
   ]
  },
  {
   "cell_type": "code",
   "execution_count": 21,
   "id": "c24ca04d",
   "metadata": {},
   "outputs": [
    {
     "data": {
      "text/plain": [
       "False"
      ]
     },
     "execution_count": 21,
     "metadata": {},
     "output_type": "execute_result"
    }
   ],
   "source": [
    "df.isnull().values.any()"
   ]
  },
  {
   "cell_type": "markdown",
   "id": "81b00268",
   "metadata": {},
   "source": [
    "### Aplicão do slugify  nas colunas com string:"
   ]
  },
  {
   "cell_type": "code",
   "execution_count": 22,
   "id": "d8ed717a",
   "metadata": {},
   "outputs": [],
   "source": [
    "df['store_name']=df['store_name'].apply(slugify)"
   ]
  },
  {
   "cell_type": "code",
   "execution_count": 23,
   "id": "9514ec62",
   "metadata": {},
   "outputs": [],
   "source": [
    "df['address']=df['address'].apply(slugify)"
   ]
  },
  {
   "cell_type": "code",
   "execution_count": 24,
   "id": "0eaa0b64",
   "metadata": {},
   "outputs": [],
   "source": [
    "df['city']=df['city'].apply(slugify)"
   ]
  },
  {
   "cell_type": "code",
   "execution_count": 25,
   "id": "c3ea791a",
   "metadata": {},
   "outputs": [],
   "source": [
    "df['store_location']=df['store_location'].apply(slugify)"
   ]
  },
  {
   "cell_type": "code",
   "execution_count": 26,
   "id": "5cf1fe74",
   "metadata": {},
   "outputs": [],
   "source": [
    "df['county']=df['county'].apply(slugify)"
   ]
  },
  {
   "cell_type": "code",
   "execution_count": 27,
   "id": "52bb84b8",
   "metadata": {},
   "outputs": [],
   "source": [
    "df['category_name']=df['category_name'].apply(slugify)"
   ]
  },
  {
   "cell_type": "code",
   "execution_count": 28,
   "id": "b00bb12e",
   "metadata": {},
   "outputs": [],
   "source": [
    "df['vendor_name']=df['vendor_name'].apply(slugify)"
   ]
  },
  {
   "cell_type": "code",
   "execution_count": 29,
   "id": "9eea768b",
   "metadata": {},
   "outputs": [],
   "source": [
    "df['item_description']=df['item_description'].apply(slugify)"
   ]
  },
  {
   "cell_type": "code",
   "execution_count": 31,
   "id": "ed1fbcc3",
   "metadata": {
    "scrolled": true
   },
   "outputs": [
    {
     "data": {
      "text/html": [
       "<div>\n",
       "<style scoped>\n",
       "    .dataframe tbody tr th:only-of-type {\n",
       "        vertical-align: middle;\n",
       "    }\n",
       "\n",
       "    .dataframe tbody tr th {\n",
       "        vertical-align: top;\n",
       "    }\n",
       "\n",
       "    .dataframe thead th {\n",
       "        text-align: right;\n",
       "    }\n",
       "</style>\n",
       "<table border=\"1\" class=\"dataframe\">\n",
       "  <thead>\n",
       "    <tr style=\"text-align: right;\">\n",
       "      <th></th>\n",
       "      <th>date</th>\n",
       "      <th>store_number</th>\n",
       "      <th>store_name</th>\n",
       "      <th>address</th>\n",
       "      <th>city</th>\n",
       "      <th>zip_code</th>\n",
       "      <th>store_location</th>\n",
       "      <th>county_number</th>\n",
       "      <th>county</th>\n",
       "      <th>category</th>\n",
       "      <th>...</th>\n",
       "      <th>vendor_name</th>\n",
       "      <th>item_number</th>\n",
       "      <th>item_description</th>\n",
       "      <th>pack</th>\n",
       "      <th>bottle_volume_ml</th>\n",
       "      <th>state_bottle_cost</th>\n",
       "      <th>state_bottle_retail</th>\n",
       "      <th>bottles_sold</th>\n",
       "      <th>sale_dollars</th>\n",
       "      <th>volume_sold_liters</th>\n",
       "    </tr>\n",
       "  </thead>\n",
       "  <tbody>\n",
       "    <tr>\n",
       "      <th>0</th>\n",
       "      <td>02/26/2013</td>\n",
       "      <td>4347.0</td>\n",
       "      <td>jeff-s-market-blue-grass</td>\n",
       "      <td>102-w-mayne</td>\n",
       "      <td>blue-grass</td>\n",
       "      <td>52726</td>\n",
       "      <td>102-w-mayne-blue-grass-52726-41-509114-90-765769</td>\n",
       "      <td>82.0</td>\n",
       "      <td>scott</td>\n",
       "      <td>1011200.0</td>\n",
       "      <td>...</td>\n",
       "      <td>campari-skyy</td>\n",
       "      <td>22155.0</td>\n",
       "      <td>wild-turkey-101-round</td>\n",
       "      <td>12.0</td>\n",
       "      <td>375</td>\n",
       "      <td>$6.00</td>\n",
       "      <td>$8.99</td>\n",
       "      <td>1</td>\n",
       "      <td>$8.99</td>\n",
       "      <td>0.38</td>\n",
       "    </tr>\n",
       "    <tr>\n",
       "      <th>1</th>\n",
       "      <td>08/22/2017</td>\n",
       "      <td>3651.0</td>\n",
       "      <td>wal-mart-1491-indianola</td>\n",
       "      <td>1500-north-jefferson</td>\n",
       "      <td>indianola</td>\n",
       "      <td>50125</td>\n",
       "      <td>1500-north-jefferson-indianola-50125</td>\n",
       "      <td>91.0</td>\n",
       "      <td>warren</td>\n",
       "      <td>1012100.0</td>\n",
       "      <td>...</td>\n",
       "      <td>diageo-americas</td>\n",
       "      <td>11298.0</td>\n",
       "      <td>crown-royal-canadian-whisky</td>\n",
       "      <td>6.0</td>\n",
       "      <td>1750</td>\n",
       "      <td>$31.99</td>\n",
       "      <td>$47.99</td>\n",
       "      <td>1</td>\n",
       "      <td>$287.94</td>\n",
       "      <td>1.75</td>\n",
       "    </tr>\n",
       "    <tr>\n",
       "      <th>2</th>\n",
       "      <td>08/28/2013</td>\n",
       "      <td>2576.0</td>\n",
       "      <td>hy-vee-wine-and-spirits-storm-lake</td>\n",
       "      <td>1250-n-lake-st</td>\n",
       "      <td>storm-lake</td>\n",
       "      <td>50588</td>\n",
       "      <td>1250-n-lake-st-storm-lake-50588-42-653594-95-2...</td>\n",
       "      <td>11.0</td>\n",
       "      <td>buena-vista</td>\n",
       "      <td>1081700.0</td>\n",
       "      <td>...</td>\n",
       "      <td>sazerac-co-inc</td>\n",
       "      <td>86688.0</td>\n",
       "      <td>firefly-strawberry-moonshine</td>\n",
       "      <td>12.0</td>\n",
       "      <td>750</td>\n",
       "      <td>$9.88</td>\n",
       "      <td>$14.82</td>\n",
       "      <td>2</td>\n",
       "      <td>$29.64</td>\n",
       "      <td>1.5</td>\n",
       "    </tr>\n",
       "    <tr>\n",
       "      <th>3</th>\n",
       "      <td>03/26/2013</td>\n",
       "      <td>3756.0</td>\n",
       "      <td>main-street-liquors-manning</td>\n",
       "      <td>316-main-st</td>\n",
       "      <td>manning</td>\n",
       "      <td>51455</td>\n",
       "      <td>316-main-st-manning-51455-41-908573-95-065122</td>\n",
       "      <td>14.0</td>\n",
       "      <td>carroll</td>\n",
       "      <td>1081390.0</td>\n",
       "      <td>...</td>\n",
       "      <td>diageo-americas</td>\n",
       "      <td>69947.0</td>\n",
       "      <td>rumple-minze-peppermint-schnapps-liqueur</td>\n",
       "      <td>12.0</td>\n",
       "      <td>1000</td>\n",
       "      <td>$15.15</td>\n",
       "      <td>$22.72</td>\n",
       "      <td>1</td>\n",
       "      <td>$22.72</td>\n",
       "      <td>1.0</td>\n",
       "    </tr>\n",
       "    <tr>\n",
       "      <th>4</th>\n",
       "      <td>08/17/2017</td>\n",
       "      <td>4997.0</td>\n",
       "      <td>downtown-pantry</td>\n",
       "      <td>218-6th-ave-101</td>\n",
       "      <td>des-moines</td>\n",
       "      <td>50309</td>\n",
       "      <td>218-6th-ave-101-des-moines-50309-41-585684-93-...</td>\n",
       "      <td>77.0</td>\n",
       "      <td>polk</td>\n",
       "      <td>1022100.0</td>\n",
       "      <td>...</td>\n",
       "      <td>proximo</td>\n",
       "      <td>89191.0</td>\n",
       "      <td>jose-cuervo-especial-reposado-tequila-mini</td>\n",
       "      <td>12.0</td>\n",
       "      <td>500</td>\n",
       "      <td>$11.50</td>\n",
       "      <td>$17.25</td>\n",
       "      <td>1</td>\n",
       "      <td>$17.25</td>\n",
       "      <td>0.5</td>\n",
       "    </tr>\n",
       "  </tbody>\n",
       "</table>\n",
       "<p>5 rows × 22 columns</p>\n",
       "</div>"
      ],
      "text/plain": [
       "         date store_number                          store_name  \\\n",
       "0  02/26/2013       4347.0            jeff-s-market-blue-grass   \n",
       "1  08/22/2017       3651.0             wal-mart-1491-indianola   \n",
       "2  08/28/2013       2576.0  hy-vee-wine-and-spirits-storm-lake   \n",
       "3  03/26/2013       3756.0         main-street-liquors-manning   \n",
       "4  08/17/2017       4997.0                     downtown-pantry   \n",
       "\n",
       "                address        city zip_code  \\\n",
       "0           102-w-mayne  blue-grass    52726   \n",
       "1  1500-north-jefferson   indianola    50125   \n",
       "2        1250-n-lake-st  storm-lake    50588   \n",
       "3           316-main-st     manning    51455   \n",
       "4       218-6th-ave-101  des-moines    50309   \n",
       "\n",
       "                                      store_location county_number  \\\n",
       "0   102-w-mayne-blue-grass-52726-41-509114-90-765769          82.0   \n",
       "1               1500-north-jefferson-indianola-50125          91.0   \n",
       "2  1250-n-lake-st-storm-lake-50588-42-653594-95-2...          11.0   \n",
       "3      316-main-st-manning-51455-41-908573-95-065122          14.0   \n",
       "4  218-6th-ave-101-des-moines-50309-41-585684-93-...          77.0   \n",
       "\n",
       "        county   category  ...      vendor_name item_number  \\\n",
       "0        scott  1011200.0  ...     campari-skyy     22155.0   \n",
       "1       warren  1012100.0  ...  diageo-americas     11298.0   \n",
       "2  buena-vista  1081700.0  ...   sazerac-co-inc     86688.0   \n",
       "3      carroll  1081390.0  ...  diageo-americas     69947.0   \n",
       "4         polk  1022100.0  ...          proximo     89191.0   \n",
       "\n",
       "                             item_description  pack bottle_volume_ml  \\\n",
       "0                       wild-turkey-101-round  12.0              375   \n",
       "1                 crown-royal-canadian-whisky   6.0             1750   \n",
       "2                firefly-strawberry-moonshine  12.0              750   \n",
       "3    rumple-minze-peppermint-schnapps-liqueur  12.0             1000   \n",
       "4  jose-cuervo-especial-reposado-tequila-mini  12.0              500   \n",
       "\n",
       "  state_bottle_cost state_bottle_retail bottles_sold sale_dollars  \\\n",
       "0             $6.00               $8.99            1        $8.99   \n",
       "1            $31.99              $47.99            1      $287.94   \n",
       "2             $9.88              $14.82            2       $29.64   \n",
       "3            $15.15              $22.72            1       $22.72   \n",
       "4            $11.50              $17.25            1       $17.25   \n",
       "\n",
       "  volume_sold_liters  \n",
       "0               0.38  \n",
       "1               1.75  \n",
       "2                1.5  \n",
       "3                1.0  \n",
       "4                0.5  \n",
       "\n",
       "[5 rows x 22 columns]"
      ]
     },
     "execution_count": 31,
     "metadata": {},
     "output_type": "execute_result"
    }
   ],
   "source": [
    "df.head()"
   ]
  },
  {
   "cell_type": "code",
   "execution_count": 32,
   "id": "6d330626",
   "metadata": {},
   "outputs": [],
   "source": [
    "#remover valores duplicados\n",
    "#def distance(s1,s2):\n",
    "    #if Levenshtein.distance(s1,s2) != 0:\n",
    "        #return s1"
   ]
  },
  {
   "cell_type": "markdown",
   "id": "3c09d5f6-9f0d-4f1f-9eae-89e7821a108f",
   "metadata": {},
   "source": [
    "### Remoção do cifrão + conversão para float:"
   ]
  },
  {
   "cell_type": "code",
   "execution_count": 33,
   "id": "67cc8a77",
   "metadata": {},
   "outputs": [],
   "source": [
    "#counties = df['county'].unique().astype(str)"
   ]
  },
  {
   "cell_type": "code",
   "execution_count": 34,
   "id": "9ad17b7e",
   "metadata": {},
   "outputs": [],
   "source": [
    "df['state_bottle_cost'] = df['state_bottle_cost'].replace({'\\$':''}, regex = True).astype(float)"
   ]
  },
  {
   "cell_type": "code",
   "execution_count": 35,
   "id": "494f6c0b",
   "metadata": {},
   "outputs": [],
   "source": [
    "df['state_bottle_retail'] = df['state_bottle_retail'].replace({'\\$':''}, regex = True).astype(float)"
   ]
  },
  {
   "cell_type": "code",
   "execution_count": 36,
   "id": "0b4ad171",
   "metadata": {},
   "outputs": [],
   "source": [
    "df['sale_dollars'] = df['sale_dollars'].replace({'\\$':''}, regex = True).astype(float)"
   ]
  },
  {
   "cell_type": "code",
   "execution_count": 37,
   "id": "a3043fdf",
   "metadata": {},
   "outputs": [],
   "source": [
    "df['date'] = pd.to_datetime(df['date'])"
   ]
  },
  {
   "cell_type": "code",
   "execution_count": 38,
   "id": "91999d01",
   "metadata": {},
   "outputs": [
    {
     "data": {
      "text/html": [
       "<div>\n",
       "<style scoped>\n",
       "    .dataframe tbody tr th:only-of-type {\n",
       "        vertical-align: middle;\n",
       "    }\n",
       "\n",
       "    .dataframe tbody tr th {\n",
       "        vertical-align: top;\n",
       "    }\n",
       "\n",
       "    .dataframe thead th {\n",
       "        text-align: right;\n",
       "    }\n",
       "</style>\n",
       "<table border=\"1\" class=\"dataframe\">\n",
       "  <thead>\n",
       "    <tr style=\"text-align: right;\">\n",
       "      <th></th>\n",
       "      <th>date</th>\n",
       "      <th>store_number</th>\n",
       "      <th>store_name</th>\n",
       "      <th>address</th>\n",
       "      <th>city</th>\n",
       "      <th>zip_code</th>\n",
       "      <th>store_location</th>\n",
       "      <th>county_number</th>\n",
       "      <th>county</th>\n",
       "      <th>category</th>\n",
       "      <th>...</th>\n",
       "      <th>vendor_name</th>\n",
       "      <th>item_number</th>\n",
       "      <th>item_description</th>\n",
       "      <th>pack</th>\n",
       "      <th>bottle_volume_ml</th>\n",
       "      <th>state_bottle_cost</th>\n",
       "      <th>state_bottle_retail</th>\n",
       "      <th>bottles_sold</th>\n",
       "      <th>sale_dollars</th>\n",
       "      <th>volume_sold_liters</th>\n",
       "    </tr>\n",
       "  </thead>\n",
       "  <tbody>\n",
       "    <tr>\n",
       "      <th>0</th>\n",
       "      <td>2013-02-26</td>\n",
       "      <td>4347.0</td>\n",
       "      <td>jeff-s-market-blue-grass</td>\n",
       "      <td>102-w-mayne</td>\n",
       "      <td>blue-grass</td>\n",
       "      <td>52726</td>\n",
       "      <td>102-w-mayne-blue-grass-52726-41-509114-90-765769</td>\n",
       "      <td>82.0</td>\n",
       "      <td>scott</td>\n",
       "      <td>1011200.0</td>\n",
       "      <td>...</td>\n",
       "      <td>campari-skyy</td>\n",
       "      <td>22155.0</td>\n",
       "      <td>wild-turkey-101-round</td>\n",
       "      <td>12.0</td>\n",
       "      <td>375</td>\n",
       "      <td>6.00</td>\n",
       "      <td>8.99</td>\n",
       "      <td>1</td>\n",
       "      <td>8.99</td>\n",
       "      <td>0.38</td>\n",
       "    </tr>\n",
       "    <tr>\n",
       "      <th>1</th>\n",
       "      <td>2017-08-22</td>\n",
       "      <td>3651.0</td>\n",
       "      <td>wal-mart-1491-indianola</td>\n",
       "      <td>1500-north-jefferson</td>\n",
       "      <td>indianola</td>\n",
       "      <td>50125</td>\n",
       "      <td>1500-north-jefferson-indianola-50125</td>\n",
       "      <td>91.0</td>\n",
       "      <td>warren</td>\n",
       "      <td>1012100.0</td>\n",
       "      <td>...</td>\n",
       "      <td>diageo-americas</td>\n",
       "      <td>11298.0</td>\n",
       "      <td>crown-royal-canadian-whisky</td>\n",
       "      <td>6.0</td>\n",
       "      <td>1750</td>\n",
       "      <td>31.99</td>\n",
       "      <td>47.99</td>\n",
       "      <td>1</td>\n",
       "      <td>287.94</td>\n",
       "      <td>1.75</td>\n",
       "    </tr>\n",
       "    <tr>\n",
       "      <th>2</th>\n",
       "      <td>2013-08-28</td>\n",
       "      <td>2576.0</td>\n",
       "      <td>hy-vee-wine-and-spirits-storm-lake</td>\n",
       "      <td>1250-n-lake-st</td>\n",
       "      <td>storm-lake</td>\n",
       "      <td>50588</td>\n",
       "      <td>1250-n-lake-st-storm-lake-50588-42-653594-95-2...</td>\n",
       "      <td>11.0</td>\n",
       "      <td>buena-vista</td>\n",
       "      <td>1081700.0</td>\n",
       "      <td>...</td>\n",
       "      <td>sazerac-co-inc</td>\n",
       "      <td>86688.0</td>\n",
       "      <td>firefly-strawberry-moonshine</td>\n",
       "      <td>12.0</td>\n",
       "      <td>750</td>\n",
       "      <td>9.88</td>\n",
       "      <td>14.82</td>\n",
       "      <td>2</td>\n",
       "      <td>29.64</td>\n",
       "      <td>1.5</td>\n",
       "    </tr>\n",
       "    <tr>\n",
       "      <th>3</th>\n",
       "      <td>2013-03-26</td>\n",
       "      <td>3756.0</td>\n",
       "      <td>main-street-liquors-manning</td>\n",
       "      <td>316-main-st</td>\n",
       "      <td>manning</td>\n",
       "      <td>51455</td>\n",
       "      <td>316-main-st-manning-51455-41-908573-95-065122</td>\n",
       "      <td>14.0</td>\n",
       "      <td>carroll</td>\n",
       "      <td>1081390.0</td>\n",
       "      <td>...</td>\n",
       "      <td>diageo-americas</td>\n",
       "      <td>69947.0</td>\n",
       "      <td>rumple-minze-peppermint-schnapps-liqueur</td>\n",
       "      <td>12.0</td>\n",
       "      <td>1000</td>\n",
       "      <td>15.15</td>\n",
       "      <td>22.72</td>\n",
       "      <td>1</td>\n",
       "      <td>22.72</td>\n",
       "      <td>1.0</td>\n",
       "    </tr>\n",
       "    <tr>\n",
       "      <th>4</th>\n",
       "      <td>2017-08-17</td>\n",
       "      <td>4997.0</td>\n",
       "      <td>downtown-pantry</td>\n",
       "      <td>218-6th-ave-101</td>\n",
       "      <td>des-moines</td>\n",
       "      <td>50309</td>\n",
       "      <td>218-6th-ave-101-des-moines-50309-41-585684-93-...</td>\n",
       "      <td>77.0</td>\n",
       "      <td>polk</td>\n",
       "      <td>1022100.0</td>\n",
       "      <td>...</td>\n",
       "      <td>proximo</td>\n",
       "      <td>89191.0</td>\n",
       "      <td>jose-cuervo-especial-reposado-tequila-mini</td>\n",
       "      <td>12.0</td>\n",
       "      <td>500</td>\n",
       "      <td>11.50</td>\n",
       "      <td>17.25</td>\n",
       "      <td>1</td>\n",
       "      <td>17.25</td>\n",
       "      <td>0.5</td>\n",
       "    </tr>\n",
       "  </tbody>\n",
       "</table>\n",
       "<p>5 rows × 22 columns</p>\n",
       "</div>"
      ],
      "text/plain": [
       "        date store_number                          store_name  \\\n",
       "0 2013-02-26       4347.0            jeff-s-market-blue-grass   \n",
       "1 2017-08-22       3651.0             wal-mart-1491-indianola   \n",
       "2 2013-08-28       2576.0  hy-vee-wine-and-spirits-storm-lake   \n",
       "3 2013-03-26       3756.0         main-street-liquors-manning   \n",
       "4 2017-08-17       4997.0                     downtown-pantry   \n",
       "\n",
       "                address        city zip_code  \\\n",
       "0           102-w-mayne  blue-grass    52726   \n",
       "1  1500-north-jefferson   indianola    50125   \n",
       "2        1250-n-lake-st  storm-lake    50588   \n",
       "3           316-main-st     manning    51455   \n",
       "4       218-6th-ave-101  des-moines    50309   \n",
       "\n",
       "                                      store_location county_number  \\\n",
       "0   102-w-mayne-blue-grass-52726-41-509114-90-765769          82.0   \n",
       "1               1500-north-jefferson-indianola-50125          91.0   \n",
       "2  1250-n-lake-st-storm-lake-50588-42-653594-95-2...          11.0   \n",
       "3      316-main-st-manning-51455-41-908573-95-065122          14.0   \n",
       "4  218-6th-ave-101-des-moines-50309-41-585684-93-...          77.0   \n",
       "\n",
       "        county   category  ...      vendor_name item_number  \\\n",
       "0        scott  1011200.0  ...     campari-skyy     22155.0   \n",
       "1       warren  1012100.0  ...  diageo-americas     11298.0   \n",
       "2  buena-vista  1081700.0  ...   sazerac-co-inc     86688.0   \n",
       "3      carroll  1081390.0  ...  diageo-americas     69947.0   \n",
       "4         polk  1022100.0  ...          proximo     89191.0   \n",
       "\n",
       "                             item_description  pack bottle_volume_ml  \\\n",
       "0                       wild-turkey-101-round  12.0              375   \n",
       "1                 crown-royal-canadian-whisky   6.0             1750   \n",
       "2                firefly-strawberry-moonshine  12.0              750   \n",
       "3    rumple-minze-peppermint-schnapps-liqueur  12.0             1000   \n",
       "4  jose-cuervo-especial-reposado-tequila-mini  12.0              500   \n",
       "\n",
       "  state_bottle_cost state_bottle_retail  bottles_sold  sale_dollars  \\\n",
       "0              6.00                8.99             1          8.99   \n",
       "1             31.99               47.99             1        287.94   \n",
       "2              9.88               14.82             2         29.64   \n",
       "3             15.15               22.72             1         22.72   \n",
       "4             11.50               17.25             1         17.25   \n",
       "\n",
       "  volume_sold_liters  \n",
       "0               0.38  \n",
       "1               1.75  \n",
       "2                1.5  \n",
       "3                1.0  \n",
       "4                0.5  \n",
       "\n",
       "[5 rows x 22 columns]"
      ]
     },
     "execution_count": 38,
     "metadata": {},
     "output_type": "execute_result"
    }
   ],
   "source": [
    "df.head()"
   ]
  },
  {
   "cell_type": "markdown",
   "id": "16ba034b",
   "metadata": {},
   "source": [
    "## Explorando o dataset:"
   ]
  },
  {
   "cell_type": "markdown",
   "id": "97af5070",
   "metadata": {},
   "source": [
    "### Em qual condado se vendeu mais?"
   ]
  },
  {
   "cell_type": "code",
   "execution_count": 39,
   "id": "a315e293-84b3-44b5-a5a6-9480370599a0",
   "metadata": {},
   "outputs": [
    {
     "data": {
      "text/plain": [
       "104"
      ]
     },
     "execution_count": 39,
     "metadata": {},
     "output_type": "execute_result"
    }
   ],
   "source": [
    "len(df['county'].unique())"
   ]
  },
  {
   "cell_type": "code",
   "execution_count": 40,
   "id": "68e55c9b",
   "metadata": {},
   "outputs": [
    {
     "data": {
      "image/png": "[encoded data removed]",
      "text/plain": [
       "<Figure size 1080x576 with 1 Axes>"
      ]
     },
     "metadata": {
      "needs_background": "light"
     },
     "output_type": "display_data"
    }
   ],
   "source": [
    "county_sales = df['county'].value_counts().nlargest(20)\n",
    "county_sales.plot(kind=\"barh\",figsize=(15,8)).invert_yaxis()"
   ]
  },
  {
   "cell_type": "markdown",
   "id": "ee31b42e",
   "metadata": {},
   "source": [
    "### Em qual condado se vendeu menos?"
   ]
  },
  {
   "cell_type": "code",
   "execution_count": 41,
   "id": "9860aa55",
   "metadata": {},
   "outputs": [
    {
     "data": {
      "image/png": "[encoded data removed]",
      "text/plain": [
       "<Figure size 1080x576 with 1 Axes>"
      ]
     },
     "metadata": {
      "needs_background": "light"
     },
     "output_type": "display_data"
    }
   ],
   "source": [
    "county_sales = df['county'].value_counts().nsmallest(20)\n",
    "county_sales.plot(kind=\"barh\",figsize=(15,8)).invert_yaxis()"
   ]
  },
  {
   "cell_type": "markdown",
   "id": "394ba71e",
   "metadata": {},
   "source": [
    "### Sabendo que o condado de POLK foi o que vendeu mais, quais cidades do condado de POLK venderam mais?"
   ]
  },
  {
   "cell_type": "markdown",
   "id": "4054581d",
   "metadata": {},
   "source": [
    "#### Filtrando as cidades do condado de POLK"
   ]
  },
  {
   "cell_type": "code",
   "execution_count": 43,
   "id": "2bf2eae3",
   "metadata": {},
   "outputs": [
    {
     "data": {
      "text/html": [
       "<div>\n",
       "<style scoped>\n",
       "    .dataframe tbody tr th:only-of-type {\n",
       "        vertical-align: middle;\n",
       "    }\n",
       "\n",
       "    .dataframe tbody tr th {\n",
       "        vertical-align: top;\n",
       "    }\n",
       "\n",
       "    .dataframe thead th {\n",
       "        text-align: right;\n",
       "    }\n",
       "</style>\n",
       "<table border=\"1\" class=\"dataframe\">\n",
       "  <thead>\n",
       "    <tr style=\"text-align: right;\">\n",
       "      <th></th>\n",
       "      <th>date</th>\n",
       "      <th>store_number</th>\n",
       "      <th>store_name</th>\n",
       "      <th>address</th>\n",
       "      <th>city</th>\n",
       "      <th>zip_code</th>\n",
       "      <th>store_location</th>\n",
       "      <th>county_number</th>\n",
       "      <th>county</th>\n",
       "      <th>category</th>\n",
       "      <th>...</th>\n",
       "      <th>vendor_name</th>\n",
       "      <th>item_number</th>\n",
       "      <th>item_description</th>\n",
       "      <th>pack</th>\n",
       "      <th>bottle_volume_ml</th>\n",
       "      <th>state_bottle_cost</th>\n",
       "      <th>state_bottle_retail</th>\n",
       "      <th>bottles_sold</th>\n",
       "      <th>sale_dollars</th>\n",
       "      <th>volume_sold_liters</th>\n",
       "    </tr>\n",
       "  </thead>\n",
       "  <tbody>\n",
       "    <tr>\n",
       "      <th>4</th>\n",
       "      <td>2017-08-17</td>\n",
       "      <td>4997.0</td>\n",
       "      <td>downtown-pantry</td>\n",
       "      <td>218-6th-ave-101</td>\n",
       "      <td>des-moines</td>\n",
       "      <td>50309</td>\n",
       "      <td>218-6th-ave-101-des-moines-50309-41-585684-93-...</td>\n",
       "      <td>77.0</td>\n",
       "      <td>polk</td>\n",
       "      <td>1022100.0</td>\n",
       "      <td>...</td>\n",
       "      <td>proximo</td>\n",
       "      <td>89191.0</td>\n",
       "      <td>jose-cuervo-especial-reposado-tequila-mini</td>\n",
       "      <td>12.0</td>\n",
       "      <td>500</td>\n",
       "      <td>11.50</td>\n",
       "      <td>17.25</td>\n",
       "      <td>1</td>\n",
       "      <td>17.25</td>\n",
       "      <td>0.5</td>\n",
       "    </tr>\n",
       "    <tr>\n",
       "      <th>9</th>\n",
       "      <td>2013-01-16</td>\n",
       "      <td>2535.0</td>\n",
       "      <td>hy-vee-food-store-1-wdm</td>\n",
       "      <td>1700-valley-west-dr</td>\n",
       "      <td>west-des-moines</td>\n",
       "      <td>50265</td>\n",
       "      <td>1700-valley-west-dr-west-des-moines-50265</td>\n",
       "      <td>77.0</td>\n",
       "      <td>polk</td>\n",
       "      <td>1011100.0</td>\n",
       "      <td>...</td>\n",
       "      <td>iowa-distilling-company</td>\n",
       "      <td>27290.0</td>\n",
       "      <td>iowa-shine</td>\n",
       "      <td>12.0</td>\n",
       "      <td>375</td>\n",
       "      <td>10.08</td>\n",
       "      <td>15.13</td>\n",
       "      <td>12</td>\n",
       "      <td>181.56</td>\n",
       "      <td>4.5</td>\n",
       "    </tr>\n",
       "    <tr>\n",
       "      <th>11</th>\n",
       "      <td>2015-04-30</td>\n",
       "      <td>2561.0</td>\n",
       "      <td>hy-vee-food-store-fleur-dsm</td>\n",
       "      <td>4605-fleur-drive</td>\n",
       "      <td>des-moines</td>\n",
       "      <td>50321</td>\n",
       "      <td>4605-fleur-drive-des-moines-50321-41-542816-93...</td>\n",
       "      <td>77.0</td>\n",
       "      <td>polk</td>\n",
       "      <td>1032200.0</td>\n",
       "      <td>...</td>\n",
       "      <td>pernod-ricard-usa-austin-nichols</td>\n",
       "      <td>34052.0</td>\n",
       "      <td>absolut-raspberri</td>\n",
       "      <td>12.0</td>\n",
       "      <td>750</td>\n",
       "      <td>11.49</td>\n",
       "      <td>17.24</td>\n",
       "      <td>1</td>\n",
       "      <td>17.24</td>\n",
       "      <td>0.75</td>\n",
       "    </tr>\n",
       "    <tr>\n",
       "      <th>16</th>\n",
       "      <td>2014-09-18</td>\n",
       "      <td>4829.0</td>\n",
       "      <td>central-city-2</td>\n",
       "      <td>1501-michigan-ave</td>\n",
       "      <td>des-moines</td>\n",
       "      <td>50314</td>\n",
       "      <td>1501-michigan-ave-des-moines-50314-41-605561-9...</td>\n",
       "      <td>77.0</td>\n",
       "      <td>polk</td>\n",
       "      <td>1081400.0</td>\n",
       "      <td>...</td>\n",
       "      <td>jim-beam-brands</td>\n",
       "      <td>86112.0</td>\n",
       "      <td>dekuyper-triple-sec</td>\n",
       "      <td>12.0</td>\n",
       "      <td>1000</td>\n",
       "      <td>2.22</td>\n",
       "      <td>3.33</td>\n",
       "      <td>12</td>\n",
       "      <td>39.96</td>\n",
       "      <td>12.0</td>\n",
       "    </tr>\n",
       "    <tr>\n",
       "      <th>17</th>\n",
       "      <td>2013-05-28</td>\n",
       "      <td>4209.0</td>\n",
       "      <td>wal-mart-5748-grimes</td>\n",
       "      <td>2150-east-1st-st</td>\n",
       "      <td>grimes</td>\n",
       "      <td>50111</td>\n",
       "      <td>2150-east-1st-st-grimes-50111-41-688335-93-771771</td>\n",
       "      <td>77.0</td>\n",
       "      <td>polk</td>\n",
       "      <td>1022100.0</td>\n",
       "      <td>...</td>\n",
       "      <td>the-patron-spirits-company</td>\n",
       "      <td>88296.0</td>\n",
       "      <td>patron-tequila-silver</td>\n",
       "      <td>12.0</td>\n",
       "      <td>750</td>\n",
       "      <td>27.00</td>\n",
       "      <td>40.50</td>\n",
       "      <td>12</td>\n",
       "      <td>486.00</td>\n",
       "      <td>9.0</td>\n",
       "    </tr>\n",
       "  </tbody>\n",
       "</table>\n",
       "<p>5 rows × 22 columns</p>\n",
       "</div>"
      ],
      "text/plain": [
       "         date store_number                   store_name              address  \\\n",
       "4  2017-08-17       4997.0              downtown-pantry      218-6th-ave-101   \n",
       "9  2013-01-16       2535.0      hy-vee-food-store-1-wdm  1700-valley-west-dr   \n",
       "11 2015-04-30       2561.0  hy-vee-food-store-fleur-dsm     4605-fleur-drive   \n",
       "16 2014-09-18       4829.0               central-city-2    1501-michigan-ave   \n",
       "17 2013-05-28       4209.0         wal-mart-5748-grimes     2150-east-1st-st   \n",
       "\n",
       "               city zip_code  \\\n",
       "4        des-moines    50309   \n",
       "9   west-des-moines    50265   \n",
       "11       des-moines    50321   \n",
       "16       des-moines    50314   \n",
       "17           grimes    50111   \n",
       "\n",
       "                                       store_location county_number county  \\\n",
       "4   218-6th-ave-101-des-moines-50309-41-585684-93-...          77.0   polk   \n",
       "9           1700-valley-west-dr-west-des-moines-50265          77.0   polk   \n",
       "11  4605-fleur-drive-des-moines-50321-41-542816-93...          77.0   polk   \n",
       "16  1501-michigan-ave-des-moines-50314-41-605561-9...          77.0   polk   \n",
       "17  2150-east-1st-st-grimes-50111-41-688335-93-771771          77.0   polk   \n",
       "\n",
       "     category  ...                       vendor_name item_number  \\\n",
       "4   1022100.0  ...                           proximo     89191.0   \n",
       "9   1011100.0  ...           iowa-distilling-company     27290.0   \n",
       "11  1032200.0  ...  pernod-ricard-usa-austin-nichols     34052.0   \n",
       "16  1081400.0  ...                   jim-beam-brands     86112.0   \n",
       "17  1022100.0  ...        the-patron-spirits-company     88296.0   \n",
       "\n",
       "                              item_description  pack bottle_volume_ml  \\\n",
       "4   jose-cuervo-especial-reposado-tequila-mini  12.0              500   \n",
       "9                                   iowa-shine  12.0              375   \n",
       "11                           absolut-raspberri  12.0              750   \n",
       "16                         dekuyper-triple-sec  12.0             1000   \n",
       "17                       patron-tequila-silver  12.0              750   \n",
       "\n",
       "   state_bottle_cost state_bottle_retail  bottles_sold  sale_dollars  \\\n",
       "4              11.50               17.25             1         17.25   \n",
       "9              10.08               15.13            12        181.56   \n",
       "11             11.49               17.24             1         17.24   \n",
       "16              2.22                3.33            12         39.96   \n",
       "17             27.00               40.50            12        486.00   \n",
       "\n",
       "   volume_sold_liters  \n",
       "4                 0.5  \n",
       "9                 4.5  \n",
       "11               0.75  \n",
       "16               12.0  \n",
       "17                9.0  \n",
       "\n",
       "[5 rows x 22 columns]"
      ]
     },
     "execution_count": 43,
     "metadata": {},
     "output_type": "execute_result"
    }
   ],
   "source": [
    "polk = df[df['county']=='polk']\n",
    "polk.head()"
   ]
  },
  {
   "cell_type": "markdown",
   "id": "4a583d3f",
   "metadata": {},
   "source": [
    "#### Quais cidades há no condado de POLK?"
   ]
  },
  {
   "cell_type": "code",
   "execution_count": 44,
   "id": "1395a6bb",
   "metadata": {},
   "outputs": [
    {
     "data": {
      "text/plain": [
       "array(['des-moines', 'west-des-moines', 'grimes', 'ankeny', 'johnston',\n",
       "       'clive', 'altoona', 'windsor-heights', 'pleasant-hill',\n",
       "       'urbandale', 'polk-city', 'bondurant', 'cambridge', 'swisher',\n",
       "       'runnells', 'mitchellville'], dtype=object)"
      ]
     },
     "execution_count": 44,
     "metadata": {},
     "output_type": "execute_result"
    }
   ],
   "source": [
    "polk['city'].unique()"
   ]
  },
  {
   "cell_type": "markdown",
   "id": "cdb9672f",
   "metadata": {},
   "source": [
    "#### Em quais cidade do condado de POLK se vendeu mais bebida?"
   ]
  },
  {
   "cell_type": "code",
   "execution_count": 45,
   "id": "7cfe3390",
   "metadata": {},
   "outputs": [
    {
     "data": {
      "image/png": "[encoded data removed]",
      "text/plain": [
       "<Figure size 1080x576 with 1 Axes>"
      ]
     },
     "metadata": {
      "needs_background": "light"
     },
     "output_type": "display_data"
    }
   ],
   "source": [
    "polk['city'].value_counts().plot(kind=\"barh\",figsize=(15,8)).invert_yaxis()"
   ]
  },
  {
   "cell_type": "markdown",
   "id": "00a5394c",
   "metadata": {},
   "source": [
    "#### Quais cidades no estado do IOWA venderam mais bebida?"
   ]
  },
  {
   "cell_type": "code",
   "execution_count": 46,
   "id": "5ed2b2cf",
   "metadata": {},
   "outputs": [
    {
     "data": {
      "image/png": "[encoded data removed]",
      "text/plain": [
       "<Figure size 1080x576 with 1 Axes>"
      ]
     },
     "metadata": {
      "needs_background": "light"
     },
     "output_type": "display_data"
    }
   ],
   "source": [
    "city_sales = df['city'].value_counts().nlargest(20)\n",
    "city_sales.plot(kind=\"barh\",figsize=(15,8)).invert_yaxis()"
   ]
  },
  {
   "cell_type": "markdown",
   "id": "fbc23aba",
   "metadata": {},
   "source": [
    "#### Quais cidades no estado do IOWA venderam menos bebida?"
   ]
  },
  {
   "cell_type": "code",
   "execution_count": 47,
   "id": "de5423a8",
   "metadata": {},
   "outputs": [
    {
     "data": {
      "image/png": "[encoded data removed]",
      "text/plain": [
       "<Figure size 1080x576 with 1 Axes>"
      ]
     },
     "metadata": {
      "needs_background": "light"
     },
     "output_type": "display_data"
    }
   ],
   "source": [
    "city_sales = df['city'].value_counts().nsmallest(20)\n",
    "city_sales.plot(kind=\"barh\",figsize=(15,8)).invert_yaxis()"
   ]
  },
  {
   "cell_type": "markdown",
   "id": "bdd7c3a0",
   "metadata": {},
   "source": [
    "#### Quais a bebida mais vendida?"
   ]
  },
  {
   "cell_type": "code",
   "execution_count": 56,
   "id": "84fcc8cc",
   "metadata": {},
   "outputs": [
    {
     "data": {
      "text/plain": [
       "<BarContainer object of 10 artists>"
      ]
     },
     "execution_count": 56,
     "metadata": {},
     "output_type": "execute_result"
    },
    {
     "data": {
      "image/png": "[encoded data removed]",
      "text/plain": [
       "<Figure size 432x288 with 1 Axes>"
      ]
     },
     "metadata": {
      "needs_background": "light"
     },
     "output_type": "display_data"
    }
   ],
   "source": [
    "bar_description = df['item_description'].value_counts().nlargest(10).rename_axis('description').reset_index(name='qtt')\n",
    "plt.barh(bar_description['description'],bar_description['qtt'])"
   ]
  },
  {
   "cell_type": "markdown",
   "id": "38ebe9e4",
   "metadata": {},
   "source": [
    "### Analise temporal dos dados"
   ]
  },
  {
   "cell_type": "markdown",
   "id": "5239c0fa",
   "metadata": {},
   "source": [
    "#### Qual a data máxima e mínima?"
   ]
  },
  {
   "cell_type": "code",
   "execution_count": 57,
   "id": "9d9cffd7",
   "metadata": {},
   "outputs": [
    {
     "data": {
      "text/plain": [
       "Timestamp('2017-10-31 00:00:00')"
      ]
     },
     "execution_count": 57,
     "metadata": {},
     "output_type": "execute_result"
    }
   ],
   "source": [
    "max(df['date'])"
   ]
  },
  {
   "cell_type": "code",
   "execution_count": 58,
   "id": "9806d636",
   "metadata": {},
   "outputs": [
    {
     "data": {
      "text/plain": [
       "Timestamp('2012-01-03 00:00:00')"
      ]
     },
     "execution_count": 58,
     "metadata": {},
     "output_type": "execute_result"
    }
   ],
   "source": [
    "min(df['date'])"
   ]
  },
  {
   "cell_type": "markdown",
   "id": "0a4090dc",
   "metadata": {},
   "source": [
    "#### 2012"
   ]
  },
  {
   "cell_type": "code",
   "execution_count": 59,
   "id": "841b6901",
   "metadata": {},
   "outputs": [
    {
     "data": {
      "text/html": [
       "<div>\n",
       "<style scoped>\n",
       "    .dataframe tbody tr th:only-of-type {\n",
       "        vertical-align: middle;\n",
       "    }\n",
       "\n",
       "    .dataframe tbody tr th {\n",
       "        vertical-align: top;\n",
       "    }\n",
       "\n",
       "    .dataframe thead th {\n",
       "        text-align: right;\n",
       "    }\n",
       "</style>\n",
       "<table border=\"1\" class=\"dataframe\">\n",
       "  <thead>\n",
       "    <tr style=\"text-align: right;\">\n",
       "      <th></th>\n",
       "      <th>date</th>\n",
       "      <th>store_number</th>\n",
       "      <th>store_name</th>\n",
       "      <th>address</th>\n",
       "      <th>city</th>\n",
       "      <th>zip_code</th>\n",
       "      <th>store_location</th>\n",
       "      <th>county_number</th>\n",
       "      <th>county</th>\n",
       "      <th>category</th>\n",
       "      <th>...</th>\n",
       "      <th>vendor_name</th>\n",
       "      <th>item_number</th>\n",
       "      <th>item_description</th>\n",
       "      <th>pack</th>\n",
       "      <th>bottle_volume_ml</th>\n",
       "      <th>state_bottle_cost</th>\n",
       "      <th>state_bottle_retail</th>\n",
       "      <th>bottles_sold</th>\n",
       "      <th>sale_dollars</th>\n",
       "      <th>volume_sold_liters</th>\n",
       "    </tr>\n",
       "  </thead>\n",
       "  <tbody>\n",
       "    <tr>\n",
       "      <th>18</th>\n",
       "      <td>2012-05-17</td>\n",
       "      <td>2647.0</td>\n",
       "      <td>hy-vee-7-cedar-rapids</td>\n",
       "      <td>5050-edgewood-rd</td>\n",
       "      <td>cedar-rapids</td>\n",
       "      <td>52411</td>\n",
       "      <td>5050-edgewood-rd-cedar-rapids-52411-42-030457-...</td>\n",
       "      <td>57.0</td>\n",
       "      <td>linn</td>\n",
       "      <td>1011200.0</td>\n",
       "      <td>...</td>\n",
       "      <td>campari-skyy</td>\n",
       "      <td>77776.0</td>\n",
       "      <td>wild-turkey-american-honey</td>\n",
       "      <td>12.0</td>\n",
       "      <td>750</td>\n",
       "      <td>9.5</td>\n",
       "      <td>14.75</td>\n",
       "      <td>12</td>\n",
       "      <td>177.0</td>\n",
       "      <td>9.0</td>\n",
       "    </tr>\n",
       "  </tbody>\n",
       "</table>\n",
       "<p>1 rows × 22 columns</p>\n",
       "</div>"
      ],
      "text/plain": [
       "         date store_number             store_name           address  \\\n",
       "18 2012-05-17       2647.0  hy-vee-7-cedar-rapids  5050-edgewood-rd   \n",
       "\n",
       "            city zip_code                                     store_location  \\\n",
       "18  cedar-rapids    52411  5050-edgewood-rd-cedar-rapids-52411-42-030457-...   \n",
       "\n",
       "   county_number county   category  ...   vendor_name item_number  \\\n",
       "18          57.0   linn  1011200.0  ...  campari-skyy     77776.0   \n",
       "\n",
       "              item_description  pack bottle_volume_ml state_bottle_cost  \\\n",
       "18  wild-turkey-american-honey  12.0              750               9.5   \n",
       "\n",
       "   state_bottle_retail  bottles_sold  sale_dollars volume_sold_liters  \n",
       "18               14.75            12         177.0                9.0  \n",
       "\n",
       "[1 rows x 22 columns]"
      ]
     },
     "execution_count": 59,
     "metadata": {},
     "output_type": "execute_result"
    }
   ],
   "source": [
    "year_2012 = df[df['date'].dt.year == 2012]\n",
    "year_2012.head(1)"
   ]
  },
  {
   "cell_type": "code",
   "execution_count": 60,
   "id": "2529ae25",
   "metadata": {},
   "outputs": [],
   "source": [
    "volume_per_month_2012 = year_2012['date']"
   ]
  },
  {
   "cell_type": "code",
   "execution_count": 61,
   "id": "9719fb05",
   "metadata": {},
   "outputs": [
    {
     "data": {
      "text/plain": [
       "40878"
      ]
     },
     "execution_count": 61,
     "metadata": {},
     "output_type": "execute_result"
    }
   ],
   "source": [
    "volume_per_month_2012.groupby(volume_per_month_2012.dt.month).count().max()"
   ]
  },
  {
   "cell_type": "code",
   "execution_count": 62,
   "id": "e7c624e1",
   "metadata": {},
   "outputs": [
    {
     "data": {
      "text/plain": [
       "<matplotlib.legend.Legend at 0x19c075b34c0>"
      ]
     },
     "execution_count": 62,
     "metadata": {},
     "output_type": "execute_result"
    },
    {
     "data": {
      "image/png": "[encoded data removed]",
      "text/plain": [
       "<Figure size 432x288 with 1 Axes>"
      ]
     },
     "metadata": {
      "needs_background": "light"
     },
     "output_type": "display_data"
    }
   ],
   "source": [
    "volume_per_month_2012.groupby(volume_per_month_2012.dt.month).count().plot(label=\"2012\")\n",
    "plt.legend()"
   ]
  },
  {
   "cell_type": "markdown",
   "id": "1b79e967",
   "metadata": {},
   "source": [
    "#### 2013"
   ]
  },
  {
   "cell_type": "code",
   "execution_count": 63,
   "id": "4cab8c09",
   "metadata": {},
   "outputs": [
    {
     "data": {
      "text/html": [
       "<div>\n",
       "<style scoped>\n",
       "    .dataframe tbody tr th:only-of-type {\n",
       "        vertical-align: middle;\n",
       "    }\n",
       "\n",
       "    .dataframe tbody tr th {\n",
       "        vertical-align: top;\n",
       "    }\n",
       "\n",
       "    .dataframe thead th {\n",
       "        text-align: right;\n",
       "    }\n",
       "</style>\n",
       "<table border=\"1\" class=\"dataframe\">\n",
       "  <thead>\n",
       "    <tr style=\"text-align: right;\">\n",
       "      <th></th>\n",
       "      <th>date</th>\n",
       "      <th>store_number</th>\n",
       "      <th>store_name</th>\n",
       "      <th>address</th>\n",
       "      <th>city</th>\n",
       "      <th>zip_code</th>\n",
       "      <th>store_location</th>\n",
       "      <th>county_number</th>\n",
       "      <th>county</th>\n",
       "      <th>category</th>\n",
       "      <th>...</th>\n",
       "      <th>vendor_name</th>\n",
       "      <th>item_number</th>\n",
       "      <th>item_description</th>\n",
       "      <th>pack</th>\n",
       "      <th>bottle_volume_ml</th>\n",
       "      <th>state_bottle_cost</th>\n",
       "      <th>state_bottle_retail</th>\n",
       "      <th>bottles_sold</th>\n",
       "      <th>sale_dollars</th>\n",
       "      <th>volume_sold_liters</th>\n",
       "    </tr>\n",
       "  </thead>\n",
       "  <tbody>\n",
       "    <tr>\n",
       "      <th>0</th>\n",
       "      <td>2013-02-26</td>\n",
       "      <td>4347.0</td>\n",
       "      <td>jeff-s-market-blue-grass</td>\n",
       "      <td>102-w-mayne</td>\n",
       "      <td>blue-grass</td>\n",
       "      <td>52726</td>\n",
       "      <td>102-w-mayne-blue-grass-52726-41-509114-90-765769</td>\n",
       "      <td>82.0</td>\n",
       "      <td>scott</td>\n",
       "      <td>1011200.0</td>\n",
       "      <td>...</td>\n",
       "      <td>campari-skyy</td>\n",
       "      <td>22155.0</td>\n",
       "      <td>wild-turkey-101-round</td>\n",
       "      <td>12.0</td>\n",
       "      <td>375</td>\n",
       "      <td>6.0</td>\n",
       "      <td>8.99</td>\n",
       "      <td>1</td>\n",
       "      <td>8.99</td>\n",
       "      <td>0.38</td>\n",
       "    </tr>\n",
       "  </tbody>\n",
       "</table>\n",
       "<p>1 rows × 22 columns</p>\n",
       "</div>"
      ],
      "text/plain": [
       "        date store_number                store_name      address        city  \\\n",
       "0 2013-02-26       4347.0  jeff-s-market-blue-grass  102-w-mayne  blue-grass   \n",
       "\n",
       "  zip_code                                    store_location county_number  \\\n",
       "0    52726  102-w-mayne-blue-grass-52726-41-509114-90-765769          82.0   \n",
       "\n",
       "  county   category  ...   vendor_name item_number       item_description  \\\n",
       "0  scott  1011200.0  ...  campari-skyy     22155.0  wild-turkey-101-round   \n",
       "\n",
       "   pack bottle_volume_ml state_bottle_cost state_bottle_retail  bottles_sold  \\\n",
       "0  12.0              375               6.0                8.99             1   \n",
       "\n",
       "   sale_dollars volume_sold_liters  \n",
       "0          8.99               0.38  \n",
       "\n",
       "[1 rows x 22 columns]"
      ]
     },
     "execution_count": 63,
     "metadata": {},
     "output_type": "execute_result"
    }
   ],
   "source": [
    "year_2013 = df[df['date'].dt.year == 2013]\n",
    "year_2013.head(1)"
   ]
  },
  {
   "cell_type": "code",
   "execution_count": 64,
   "id": "d56c5eb8",
   "metadata": {},
   "outputs": [],
   "source": [
    "volume_per_month_2013 = year_2013['date']"
   ]
  },
  {
   "cell_type": "code",
   "execution_count": 65,
   "id": "fdc2ef44",
   "metadata": {},
   "outputs": [
    {
     "data": {
      "text/plain": [
       "<matplotlib.legend.Legend at 0x19c071f3ee0>"
      ]
     },
     "execution_count": 65,
     "metadata": {},
     "output_type": "execute_result"
    },
    {
     "data": {
      "image/png": "[encoded data removed]",
      "text/plain": [
       "<Figure size 432x288 with 1 Axes>"
      ]
     },
     "metadata": {
      "needs_background": "light"
     },
     "output_type": "display_data"
    }
   ],
   "source": [
    "volume_per_month_2013.groupby(volume_per_month_2013.dt.month).count().plot(label=\"2013\")\n",
    "plt.legend()"
   ]
  },
  {
   "cell_type": "markdown",
   "id": "34047834",
   "metadata": {},
   "source": [
    "#### 2014"
   ]
  },
  {
   "cell_type": "code",
   "execution_count": 66,
   "id": "f87b7fc6",
   "metadata": {},
   "outputs": [
    {
     "data": {
      "text/html": [
       "<div>\n",
       "<style scoped>\n",
       "    .dataframe tbody tr th:only-of-type {\n",
       "        vertical-align: middle;\n",
       "    }\n",
       "\n",
       "    .dataframe tbody tr th {\n",
       "        vertical-align: top;\n",
       "    }\n",
       "\n",
       "    .dataframe thead th {\n",
       "        text-align: right;\n",
       "    }\n",
       "</style>\n",
       "<table border=\"1\" class=\"dataframe\">\n",
       "  <thead>\n",
       "    <tr style=\"text-align: right;\">\n",
       "      <th></th>\n",
       "      <th>date</th>\n",
       "      <th>store_number</th>\n",
       "      <th>store_name</th>\n",
       "      <th>address</th>\n",
       "      <th>city</th>\n",
       "      <th>zip_code</th>\n",
       "      <th>store_location</th>\n",
       "      <th>county_number</th>\n",
       "      <th>county</th>\n",
       "      <th>category</th>\n",
       "      <th>...</th>\n",
       "      <th>vendor_name</th>\n",
       "      <th>item_number</th>\n",
       "      <th>item_description</th>\n",
       "      <th>pack</th>\n",
       "      <th>bottle_volume_ml</th>\n",
       "      <th>state_bottle_cost</th>\n",
       "      <th>state_bottle_retail</th>\n",
       "      <th>bottles_sold</th>\n",
       "      <th>sale_dollars</th>\n",
       "      <th>volume_sold_liters</th>\n",
       "    </tr>\n",
       "  </thead>\n",
       "  <tbody>\n",
       "    <tr>\n",
       "      <th>8</th>\n",
       "      <td>2014-08-06</td>\n",
       "      <td>3495.0</td>\n",
       "      <td>great-pastimes</td>\n",
       "      <td>228-n-main-st</td>\n",
       "      <td>monticello</td>\n",
       "      <td>52310</td>\n",
       "      <td>228-n-main-st-monticello-52310-42-240132-91-18...</td>\n",
       "      <td>53.0</td>\n",
       "      <td>jones</td>\n",
       "      <td>1022100.0</td>\n",
       "      <td>...</td>\n",
       "      <td>proximo</td>\n",
       "      <td>89194.0</td>\n",
       "      <td>jose-cuervo-especial-reposado-flask</td>\n",
       "      <td>24.0</td>\n",
       "      <td>375</td>\n",
       "      <td>5.5</td>\n",
       "      <td>8.25</td>\n",
       "      <td>3</td>\n",
       "      <td>24.75</td>\n",
       "      <td>1.12</td>\n",
       "    </tr>\n",
       "  </tbody>\n",
       "</table>\n",
       "<p>1 rows × 22 columns</p>\n",
       "</div>"
      ],
      "text/plain": [
       "        date store_number      store_name        address        city zip_code  \\\n",
       "8 2014-08-06       3495.0  great-pastimes  228-n-main-st  monticello    52310   \n",
       "\n",
       "                                      store_location county_number county  \\\n",
       "8  228-n-main-st-monticello-52310-42-240132-91-18...          53.0  jones   \n",
       "\n",
       "    category  ... vendor_name item_number  \\\n",
       "8  1022100.0  ...     proximo     89194.0   \n",
       "\n",
       "                      item_description  pack bottle_volume_ml  \\\n",
       "8  jose-cuervo-especial-reposado-flask  24.0              375   \n",
       "\n",
       "  state_bottle_cost state_bottle_retail  bottles_sold  sale_dollars  \\\n",
       "8               5.5                8.25             3         24.75   \n",
       "\n",
       "  volume_sold_liters  \n",
       "8               1.12  \n",
       "\n",
       "[1 rows x 22 columns]"
      ]
     },
     "execution_count": 66,
     "metadata": {},
     "output_type": "execute_result"
    }
   ],
   "source": [
    "year_2014 = df[df['date'].dt.year == 2014]\n",
    "year_2014.head(1)"
   ]
  },
  {
   "cell_type": "code",
   "execution_count": 67,
   "id": "e0806ef4",
   "metadata": {},
   "outputs": [],
   "source": [
    "volume_per_month_2014 = year_2014['date']"
   ]
  },
  {
   "cell_type": "code",
   "execution_count": 68,
   "id": "d8fb3323",
   "metadata": {},
   "outputs": [
    {
     "data": {
      "text/plain": [
       "<matplotlib.legend.Legend at 0x19c074fc730>"
      ]
     },
     "execution_count": 68,
     "metadata": {},
     "output_type": "execute_result"
    },
    {
     "data": {
      "image/png": "[encoded data removed]",
      "text/plain": [
       "<Figure size 432x288 with 1 Axes>"
      ]
     },
     "metadata": {
      "needs_background": "light"
     },
     "output_type": "display_data"
    }
   ],
   "source": [
    "volume_per_month_2014.groupby(volume_per_month_2014.dt.month).count().plot(label=\"2014\")\n",
    "plt.legend()"
   ]
  },
  {
   "cell_type": "markdown",
   "id": "174c42e0",
   "metadata": {},
   "source": [
    "#### 2015"
   ]
  },
  {
   "cell_type": "code",
   "execution_count": 69,
   "id": "a9c50209",
   "metadata": {},
   "outputs": [
    {
     "data": {
      "text/html": [
       "<div>\n",
       "<style scoped>\n",
       "    .dataframe tbody tr th:only-of-type {\n",
       "        vertical-align: middle;\n",
       "    }\n",
       "\n",
       "    .dataframe tbody tr th {\n",
       "        vertical-align: top;\n",
       "    }\n",
       "\n",
       "    .dataframe thead th {\n",
       "        text-align: right;\n",
       "    }\n",
       "</style>\n",
       "<table border=\"1\" class=\"dataframe\">\n",
       "  <thead>\n",
       "    <tr style=\"text-align: right;\">\n",
       "      <th></th>\n",
       "      <th>date</th>\n",
       "      <th>store_number</th>\n",
       "      <th>store_name</th>\n",
       "      <th>address</th>\n",
       "      <th>city</th>\n",
       "      <th>zip_code</th>\n",
       "      <th>store_location</th>\n",
       "      <th>county_number</th>\n",
       "      <th>county</th>\n",
       "      <th>category</th>\n",
       "      <th>...</th>\n",
       "      <th>vendor_name</th>\n",
       "      <th>item_number</th>\n",
       "      <th>item_description</th>\n",
       "      <th>pack</th>\n",
       "      <th>bottle_volume_ml</th>\n",
       "      <th>state_bottle_cost</th>\n",
       "      <th>state_bottle_retail</th>\n",
       "      <th>bottles_sold</th>\n",
       "      <th>sale_dollars</th>\n",
       "      <th>volume_sold_liters</th>\n",
       "    </tr>\n",
       "  </thead>\n",
       "  <tbody>\n",
       "    <tr>\n",
       "      <th>7</th>\n",
       "      <td>2015-12-10</td>\n",
       "      <td>2671.0</td>\n",
       "      <td>hy-vee-jefferson</td>\n",
       "      <td>106-w-washington-st</td>\n",
       "      <td>jefferson</td>\n",
       "      <td>50129</td>\n",
       "      <td>106-w-washington-st-jefferson-50129-42-017269-...</td>\n",
       "      <td>37.0</td>\n",
       "      <td>greene</td>\n",
       "      <td>1012100.0</td>\n",
       "      <td>...</td>\n",
       "      <td>diageo-americas</td>\n",
       "      <td>10807.0</td>\n",
       "      <td>crown-royal-regal-apple</td>\n",
       "      <td>12.0</td>\n",
       "      <td>750</td>\n",
       "      <td>15.0</td>\n",
       "      <td>22.5</td>\n",
       "      <td>60</td>\n",
       "      <td>1350.0</td>\n",
       "      <td>45.0</td>\n",
       "    </tr>\n",
       "  </tbody>\n",
       "</table>\n",
       "<p>1 rows × 22 columns</p>\n",
       "</div>"
      ],
      "text/plain": [
       "        date store_number        store_name              address       city  \\\n",
       "7 2015-12-10       2671.0  hy-vee-jefferson  106-w-washington-st  jefferson   \n",
       "\n",
       "  zip_code                                     store_location county_number  \\\n",
       "7    50129  106-w-washington-st-jefferson-50129-42-017269-...          37.0   \n",
       "\n",
       "   county   category  ...      vendor_name item_number  \\\n",
       "7  greene  1012100.0  ...  diageo-americas     10807.0   \n",
       "\n",
       "          item_description  pack bottle_volume_ml state_bottle_cost  \\\n",
       "7  crown-royal-regal-apple  12.0              750              15.0   \n",
       "\n",
       "  state_bottle_retail  bottles_sold  sale_dollars volume_sold_liters  \n",
       "7                22.5            60        1350.0               45.0  \n",
       "\n",
       "[1 rows x 22 columns]"
      ]
     },
     "execution_count": 69,
     "metadata": {},
     "output_type": "execute_result"
    }
   ],
   "source": [
    "year_2015 = df[df['date'].dt.year == 2015]\n",
    "year_2015.head(1)"
   ]
  },
  {
   "cell_type": "code",
   "execution_count": 70,
   "id": "e6df20bf",
   "metadata": {},
   "outputs": [],
   "source": [
    "volume_per_month_2015 = year_2015['date']"
   ]
  },
  {
   "cell_type": "code",
   "execution_count": 71,
   "id": "dfb3caab",
   "metadata": {},
   "outputs": [
    {
     "data": {
      "text/plain": [
       "<matplotlib.legend.Legend at 0x19c075567c0>"
      ]
     },
     "execution_count": 71,
     "metadata": {},
     "output_type": "execute_result"
    },
    {
     "data": {
      "image/png": "[encoded data removed]",
      "text/plain": [
       "<Figure size 432x288 with 1 Axes>"
      ]
     },
     "metadata": {
      "needs_background": "light"
     },
     "output_type": "display_data"
    }
   ],
   "source": [
    "volume_per_month_2015.groupby(volume_per_month_2015.dt.month).count().plot(label=\"2015\")\n",
    "plt.legend()"
   ]
  },
  {
   "cell_type": "markdown",
   "id": "06f5b7ff",
   "metadata": {},
   "source": [
    "#### 2016"
   ]
  },
  {
   "cell_type": "code",
   "execution_count": 72,
   "id": "b6380ef5",
   "metadata": {},
   "outputs": [
    {
     "data": {
      "text/html": [
       "<div>\n",
       "<style scoped>\n",
       "    .dataframe tbody tr th:only-of-type {\n",
       "        vertical-align: middle;\n",
       "    }\n",
       "\n",
       "    .dataframe tbody tr th {\n",
       "        vertical-align: top;\n",
       "    }\n",
       "\n",
       "    .dataframe thead th {\n",
       "        text-align: right;\n",
       "    }\n",
       "</style>\n",
       "<table border=\"1\" class=\"dataframe\">\n",
       "  <thead>\n",
       "    <tr style=\"text-align: right;\">\n",
       "      <th></th>\n",
       "      <th>date</th>\n",
       "      <th>store_number</th>\n",
       "      <th>store_name</th>\n",
       "      <th>address</th>\n",
       "      <th>city</th>\n",
       "      <th>zip_code</th>\n",
       "      <th>store_location</th>\n",
       "      <th>county_number</th>\n",
       "      <th>county</th>\n",
       "      <th>category</th>\n",
       "      <th>...</th>\n",
       "      <th>vendor_name</th>\n",
       "      <th>item_number</th>\n",
       "      <th>item_description</th>\n",
       "      <th>pack</th>\n",
       "      <th>bottle_volume_ml</th>\n",
       "      <th>state_bottle_cost</th>\n",
       "      <th>state_bottle_retail</th>\n",
       "      <th>bottles_sold</th>\n",
       "      <th>sale_dollars</th>\n",
       "      <th>volume_sold_liters</th>\n",
       "    </tr>\n",
       "  </thead>\n",
       "  <tbody>\n",
       "    <tr>\n",
       "      <th>10</th>\n",
       "      <td>2016-06-22</td>\n",
       "      <td>4670.0</td>\n",
       "      <td>guppy-s-on-the-go-tripoli</td>\n",
       "      <td>600-7th-ave-sw</td>\n",
       "      <td>tripoli</td>\n",
       "      <td>50676</td>\n",
       "      <td>600-7th-ave-sw-tripoli-50676-42-802375-92-264289</td>\n",
       "      <td>9.0</td>\n",
       "      <td>bremer</td>\n",
       "      <td>1062310.0</td>\n",
       "      <td>...</td>\n",
       "      <td>diageo-americas</td>\n",
       "      <td>43337.0</td>\n",
       "      <td>captain-morgan-spiced-rum</td>\n",
       "      <td>12.0</td>\n",
       "      <td>1000</td>\n",
       "      <td>11.75</td>\n",
       "      <td>17.63</td>\n",
       "      <td>4</td>\n",
       "      <td>70.52</td>\n",
       "      <td>4.0</td>\n",
       "    </tr>\n",
       "  </tbody>\n",
       "</table>\n",
       "<p>1 rows × 22 columns</p>\n",
       "</div>"
      ],
      "text/plain": [
       "         date store_number                 store_name         address  \\\n",
       "10 2016-06-22       4670.0  guppy-s-on-the-go-tripoli  600-7th-ave-sw   \n",
       "\n",
       "       city zip_code                                    store_location  \\\n",
       "10  tripoli    50676  600-7th-ave-sw-tripoli-50676-42-802375-92-264289   \n",
       "\n",
       "   county_number  county   category  ...      vendor_name item_number  \\\n",
       "10           9.0  bremer  1062310.0  ...  diageo-americas     43337.0   \n",
       "\n",
       "             item_description  pack bottle_volume_ml state_bottle_cost  \\\n",
       "10  captain-morgan-spiced-rum  12.0             1000             11.75   \n",
       "\n",
       "   state_bottle_retail  bottles_sold  sale_dollars volume_sold_liters  \n",
       "10               17.63             4         70.52                4.0  \n",
       "\n",
       "[1 rows x 22 columns]"
      ]
     },
     "execution_count": 72,
     "metadata": {},
     "output_type": "execute_result"
    }
   ],
   "source": [
    "year_2016 = df[df['date'].dt.year == 2016]\n",
    "year_2016.head(1)"
   ]
  },
  {
   "cell_type": "code",
   "execution_count": 73,
   "id": "b99144d4",
   "metadata": {},
   "outputs": [],
   "source": [
    "volume_per_month_2016 = year_2016['date']"
   ]
  },
  {
   "cell_type": "code",
   "execution_count": 74,
   "id": "650c1d3e",
   "metadata": {},
   "outputs": [
    {
     "data": {
      "text/plain": [
       "<matplotlib.legend.Legend at 0x19c07893640>"
      ]
     },
     "execution_count": 74,
     "metadata": {},
     "output_type": "execute_result"
    },
    {
     "data": {
      "image/png": "[encoded data removed]",
      "text/plain": [
       "<Figure size 432x288 with 1 Axes>"
      ]
     },
     "metadata": {
      "needs_background": "light"
     },
     "output_type": "display_data"
    }
   ],
   "source": [
    "volume_per_month_2016.groupby(volume_per_month_2016.dt.month).count().plot(label=\"2016\")\n",
    "plt.legend()"
   ]
  },
  {
   "cell_type": "markdown",
   "id": "962b3be9",
   "metadata": {},
   "source": [
    "#### 2017"
   ]
  },
  {
   "cell_type": "code",
   "execution_count": 75,
   "id": "7d5e3dcf",
   "metadata": {},
   "outputs": [
    {
     "data": {
      "text/html": [
       "<div>\n",
       "<style scoped>\n",
       "    .dataframe tbody tr th:only-of-type {\n",
       "        vertical-align: middle;\n",
       "    }\n",
       "\n",
       "    .dataframe tbody tr th {\n",
       "        vertical-align: top;\n",
       "    }\n",
       "\n",
       "    .dataframe thead th {\n",
       "        text-align: right;\n",
       "    }\n",
       "</style>\n",
       "<table border=\"1\" class=\"dataframe\">\n",
       "  <thead>\n",
       "    <tr style=\"text-align: right;\">\n",
       "      <th></th>\n",
       "      <th>date</th>\n",
       "      <th>store_number</th>\n",
       "      <th>store_name</th>\n",
       "      <th>address</th>\n",
       "      <th>city</th>\n",
       "      <th>zip_code</th>\n",
       "      <th>store_location</th>\n",
       "      <th>county_number</th>\n",
       "      <th>county</th>\n",
       "      <th>category</th>\n",
       "      <th>...</th>\n",
       "      <th>vendor_name</th>\n",
       "      <th>item_number</th>\n",
       "      <th>item_description</th>\n",
       "      <th>pack</th>\n",
       "      <th>bottle_volume_ml</th>\n",
       "      <th>state_bottle_cost</th>\n",
       "      <th>state_bottle_retail</th>\n",
       "      <th>bottles_sold</th>\n",
       "      <th>sale_dollars</th>\n",
       "      <th>volume_sold_liters</th>\n",
       "    </tr>\n",
       "  </thead>\n",
       "  <tbody>\n",
       "    <tr>\n",
       "      <th>1</th>\n",
       "      <td>2017-08-22</td>\n",
       "      <td>3651.0</td>\n",
       "      <td>wal-mart-1491-indianola</td>\n",
       "      <td>1500-north-jefferson</td>\n",
       "      <td>indianola</td>\n",
       "      <td>50125</td>\n",
       "      <td>1500-north-jefferson-indianola-50125</td>\n",
       "      <td>91.0</td>\n",
       "      <td>warren</td>\n",
       "      <td>1012100.0</td>\n",
       "      <td>...</td>\n",
       "      <td>diageo-americas</td>\n",
       "      <td>11298.0</td>\n",
       "      <td>crown-royal-canadian-whisky</td>\n",
       "      <td>6.0</td>\n",
       "      <td>1750</td>\n",
       "      <td>31.99</td>\n",
       "      <td>47.99</td>\n",
       "      <td>1</td>\n",
       "      <td>287.94</td>\n",
       "      <td>1.75</td>\n",
       "    </tr>\n",
       "  </tbody>\n",
       "</table>\n",
       "<p>1 rows × 22 columns</p>\n",
       "</div>"
      ],
      "text/plain": [
       "        date store_number               store_name               address  \\\n",
       "1 2017-08-22       3651.0  wal-mart-1491-indianola  1500-north-jefferson   \n",
       "\n",
       "        city zip_code                        store_location county_number  \\\n",
       "1  indianola    50125  1500-north-jefferson-indianola-50125          91.0   \n",
       "\n",
       "   county   category  ...      vendor_name item_number  \\\n",
       "1  warren  1012100.0  ...  diageo-americas     11298.0   \n",
       "\n",
       "              item_description pack bottle_volume_ml state_bottle_cost  \\\n",
       "1  crown-royal-canadian-whisky  6.0             1750             31.99   \n",
       "\n",
       "  state_bottle_retail  bottles_sold  sale_dollars volume_sold_liters  \n",
       "1               47.99             1        287.94               1.75  \n",
       "\n",
       "[1 rows x 22 columns]"
      ]
     },
     "execution_count": 75,
     "metadata": {},
     "output_type": "execute_result"
    }
   ],
   "source": [
    "year_2017 = df[df['date'].dt.year == 2017]\n",
    "year_2017.head(1)"
   ]
  },
  {
   "cell_type": "code",
   "execution_count": 76,
   "id": "354de543",
   "metadata": {},
   "outputs": [],
   "source": [
    "volume_per_month_2017 = year_2017['date']"
   ]
  },
  {
   "cell_type": "code",
   "execution_count": 77,
   "id": "2ca266e0",
   "metadata": {},
   "outputs": [
    {
     "data": {
      "text/plain": [
       "<matplotlib.legend.Legend at 0x19c073ae0d0>"
      ]
     },
     "execution_count": 77,
     "metadata": {},
     "output_type": "execute_result"
    },
    {
     "data": {
      "image/png": "[encoded data removed]",
      "text/plain": [
       "<Figure size 432x288 with 1 Axes>"
      ]
     },
     "metadata": {
      "needs_background": "light"
     },
     "output_type": "display_data"
    }
   ],
   "source": [
    "volume_per_month_2017.groupby(volume_per_month_2017.dt.month).count().plot(label=\"2017\")\n",
    "plt.legend()"
   ]
  },
  {
   "cell_type": "markdown",
   "id": "bd59ce75",
   "metadata": {},
   "source": [
    "#### Todo o período"
   ]
  },
  {
   "cell_type": "code",
   "execution_count": 78,
   "id": "acc1e268",
   "metadata": {},
   "outputs": [
    {
     "data": {
      "text/plain": [
       "[416317, 412095, 420866, 436353, 455792, 376793]"
      ]
     },
     "execution_count": 78,
     "metadata": {},
     "output_type": "execute_result"
    }
   ],
   "source": [
    "year1 = [2012,2013,2014,2015,2016,2017]\n",
    "qtt1 = []\n",
    "qtt1.append(len(year_2012.index))\n",
    "qtt1.append(len(year_2013.index))\n",
    "qtt1.append(len(year_2014.index))\n",
    "qtt1.append(len(year_2015.index))\n",
    "qtt1.append(len(year_2016.index))\n",
    "qtt1.append(len(year_2017.index))\n",
    "qtt1"
   ]
  },
  {
   "cell_type": "code",
   "execution_count": 79,
   "id": "f8fec140",
   "metadata": {},
   "outputs": [
    {
     "data": {
      "text/plain": [
       "[<matplotlib.lines.Line2D at 0x19c0771c880>]"
      ]
     },
     "execution_count": 79,
     "metadata": {},
     "output_type": "execute_result"
    },
    {
     "data": {
      "image/png": "[encoded data removed]",
      "text/plain": [
       "<Figure size 432x288 with 1 Axes>"
      ]
     },
     "metadata": {
      "needs_background": "light"
     },
     "output_type": "display_data"
    }
   ],
   "source": [
    "plt.grid(True)\n",
    "plt.plot(year1, qtt1)"
   ]
  },
  {
   "cell_type": "code",
   "execution_count": 80,
   "id": "6f18554e",
   "metadata": {},
   "outputs": [
    {
     "data": {
      "text/plain": [
       "[416317, 412095, 420866, 436353, 455792]"
      ]
     },
     "execution_count": 80,
     "metadata": {},
     "output_type": "execute_result"
    }
   ],
   "source": [
    "year2 = [2012,2013,2014,2015,2016]\n",
    "qtt2 = []\n",
    "qtt2.append(len(year_2012.index))\n",
    "qtt2.append(len(year_2013.index))\n",
    "qtt2.append(len(year_2014.index))\n",
    "qtt2.append(len(year_2015.index))\n",
    "qtt2.append(len(year_2016.index))\n",
    "qtt2"
   ]
  },
  {
   "cell_type": "code",
   "execution_count": 81,
   "id": "0c7a7010",
   "metadata": {},
   "outputs": [
    {
     "data": {
      "image/png": "[encoded data removed]",
      "text/plain": [
       "<Figure size 432x288 with 1 Axes>"
      ]
     },
     "metadata": {
      "needs_background": "light"
     },
     "output_type": "display_data"
    }
   ],
   "source": [
    "plt.plot(year2, qtt2)\n",
    "plt.show()"
   ]
  },
  {
   "cell_type": "markdown",
   "id": "a80e737b-1c55-4baa-8e32-af13747755c0",
   "metadata": {},
   "source": [
    "### Cruzamento de dados com população dos condados"
   ]
  },
  {
   "cell_type": "markdown",
   "id": "f0201f42-5dc6-458a-be08-16a27d02d296",
   "metadata": {},
   "source": [
    "#### Preparação dos dados"
   ]
  },
  {
   "cell_type": "code",
   "execution_count": 84,
   "id": "8c5b71ea",
   "metadata": {},
   "outputs": [],
   "source": [
    "pop_iowa_data = pd.read_csv(\"../data/raw/pop_cty_iowa.csv\",usecols=['STNAME','CTYNAME','POPESTIMATE2012','POPESTIMATE2013','POPESTIMATE2014',\n",
    "                                                                          'POPESTIMATE2015','POPESTIMATE2016','POPESTIMATE2017'],dtype={\n",
    "    'STNAME': str,\n",
    "    'POPESTIMATE2012':str,\n",
    "    'POPESTIMATE2013': str,\n",
    "    'POPESTIMATE2014': str,\n",
    "    'POPESTIMATE2015': str,\n",
    "    'POPESTIMATE2016': str,\n",
    "    'POPESTIMATE2017': str\n",
    "})"
   ]
  },
  {
   "cell_type": "markdown",
   "id": "3434afee-fa90-4fd2-89be-41d7cbf6e455",
   "metadata": {},
   "source": [
    "#### Remoção do termo \"County\" dos dados da coluna County"
   ]
  },
  {
   "cell_type": "code",
   "execution_count": 85,
   "id": "f8cc49ae-ddfb-4011-9df1-a6e6457b3f41",
   "metadata": {
    "tags": []
   },
   "outputs": [],
   "source": [
    "pop_iowa_data['CTYNAME'] = pop_iowa_data['CTYNAME'].replace({' County':''}, regex = True).str.lower()"
   ]
  },
  {
   "cell_type": "markdown",
   "id": "812f7790-e25d-466e-aa14-2889d3d496d6",
   "metadata": {},
   "source": [
    "#### Filtrando os dados do estado do IOWA"
   ]
  },
  {
   "cell_type": "code",
   "execution_count": 86,
   "id": "7a10d0ed",
   "metadata": {},
   "outputs": [],
   "source": [
    "pop_cty_iowa = pop_iowa_data[pop_iowa_data['STNAME']==\"Iowa\"]"
   ]
  },
  {
   "cell_type": "code",
   "execution_count": 87,
   "id": "d50fedae-afa8-46be-adb8-b3cb84544ab8",
   "metadata": {},
   "outputs": [
    {
     "name": "stdout",
     "output_type": "stream",
     "text": [
      "<class 'pandas.core.frame.DataFrame'>\n",
      "Int64Index: 100 entries, 804 to 903\n",
      "Data columns (total 8 columns):\n",
      " #   Column           Non-Null Count  Dtype \n",
      "---  ------           --------------  ----- \n",
      " 0   STNAME           100 non-null    object\n",
      " 1   CTYNAME          100 non-null    object\n",
      " 2   POPESTIMATE2012  100 non-null    object\n",
      " 3   POPESTIMATE2013  100 non-null    object\n",
      " 4   POPESTIMATE2014  100 non-null    object\n",
      " 5   POPESTIMATE2015  100 non-null    object\n",
      " 6   POPESTIMATE2016  100 non-null    object\n",
      " 7   POPESTIMATE2017  100 non-null    object\n",
      "dtypes: object(8)\n",
      "memory usage: 7.0+ KB\n"
     ]
    }
   ],
   "source": [
    "pop_cty_iowa.info()"
   ]
  },
  {
   "cell_type": "code",
   "execution_count": 88,
   "id": "465bd2ad-8c99-48eb-94de-53497fd16e86",
   "metadata": {},
   "outputs": [
    {
     "data": {
      "text/html": [
       "<div>\n",
       "<style scoped>\n",
       "    .dataframe tbody tr th:only-of-type {\n",
       "        vertical-align: middle;\n",
       "    }\n",
       "\n",
       "    .dataframe tbody tr th {\n",
       "        vertical-align: top;\n",
       "    }\n",
       "\n",
       "    .dataframe thead th {\n",
       "        text-align: right;\n",
       "    }\n",
       "</style>\n",
       "<table border=\"1\" class=\"dataframe\">\n",
       "  <thead>\n",
       "    <tr style=\"text-align: right;\">\n",
       "      <th></th>\n",
       "      <th>STNAME</th>\n",
       "      <th>CTYNAME</th>\n",
       "      <th>POPESTIMATE2012</th>\n",
       "      <th>POPESTIMATE2013</th>\n",
       "      <th>POPESTIMATE2014</th>\n",
       "      <th>POPESTIMATE2015</th>\n",
       "      <th>POPESTIMATE2016</th>\n",
       "      <th>POPESTIMATE2017</th>\n",
       "    </tr>\n",
       "  </thead>\n",
       "  <tbody>\n",
       "    <tr>\n",
       "      <th>804</th>\n",
       "      <td>Iowa</td>\n",
       "      <td>iowa</td>\n",
       "      <td>3076190</td>\n",
       "      <td>3092997</td>\n",
       "      <td>3109350</td>\n",
       "      <td>3120960</td>\n",
       "      <td>3131371</td>\n",
       "      <td>3141550</td>\n",
       "    </tr>\n",
       "    <tr>\n",
       "      <th>805</th>\n",
       "      <td>Iowa</td>\n",
       "      <td>adair</td>\n",
       "      <td>7468</td>\n",
       "      <td>7387</td>\n",
       "      <td>7368</td>\n",
       "      <td>7145</td>\n",
       "      <td>7005</td>\n",
       "      <td>7051</td>\n",
       "    </tr>\n",
       "    <tr>\n",
       "      <th>806</th>\n",
       "      <td>Iowa</td>\n",
       "      <td>adams</td>\n",
       "      <td>3910</td>\n",
       "      <td>3891</td>\n",
       "      <td>3877</td>\n",
       "      <td>3754</td>\n",
       "      <td>3692</td>\n",
       "      <td>3657</td>\n",
       "    </tr>\n",
       "    <tr>\n",
       "      <th>807</th>\n",
       "      <td>Iowa</td>\n",
       "      <td>allamakee</td>\n",
       "      <td>14149</td>\n",
       "      <td>14071</td>\n",
       "      <td>14062</td>\n",
       "      <td>13874</td>\n",
       "      <td>13851</td>\n",
       "      <td>13803</td>\n",
       "    </tr>\n",
       "    <tr>\n",
       "      <th>808</th>\n",
       "      <td>Iowa</td>\n",
       "      <td>appanoose</td>\n",
       "      <td>12707</td>\n",
       "      <td>12654</td>\n",
       "      <td>12671</td>\n",
       "      <td>12577</td>\n",
       "      <td>12505</td>\n",
       "      <td>12353</td>\n",
       "    </tr>\n",
       "  </tbody>\n",
       "</table>\n",
       "</div>"
      ],
      "text/plain": [
       "    STNAME    CTYNAME POPESTIMATE2012 POPESTIMATE2013 POPESTIMATE2014  \\\n",
       "804   Iowa       iowa         3076190         3092997         3109350   \n",
       "805   Iowa      adair            7468            7387            7368   \n",
       "806   Iowa      adams            3910            3891            3877   \n",
       "807   Iowa  allamakee           14149           14071           14062   \n",
       "808   Iowa  appanoose           12707           12654           12671   \n",
       "\n",
       "    POPESTIMATE2015 POPESTIMATE2016 POPESTIMATE2017  \n",
       "804         3120960         3131371         3141550  \n",
       "805            7145            7005            7051  \n",
       "806            3754            3692            3657  \n",
       "807           13874           13851           13803  \n",
       "808           12577           12505           12353  "
      ]
     },
     "execution_count": 88,
     "metadata": {},
     "output_type": "execute_result"
    }
   ],
   "source": [
    "pop_cty_iowa.head()"
   ]
  },
  {
   "cell_type": "code",
   "execution_count": 89,
   "id": "b7cdcfd6-841d-46b2-970d-14d887925b7c",
   "metadata": {},
   "outputs": [
    {
     "data": {
      "text/plain": [
       "99"
      ]
     },
     "execution_count": 89,
     "metadata": {},
     "output_type": "execute_result"
    }
   ],
   "source": [
    "len(pop_cty_iowa['CTYNAME'].unique())"
   ]
  },
  {
   "cell_type": "code",
   "execution_count": 90,
   "id": "e5adbc6c-bf4d-4ce9-b75e-936abd75e845",
   "metadata": {},
   "outputs": [
    {
     "data": {
      "text/html": [
       "<div>\n",
       "<style scoped>\n",
       "    .dataframe tbody tr th:only-of-type {\n",
       "        vertical-align: middle;\n",
       "    }\n",
       "\n",
       "    .dataframe tbody tr th {\n",
       "        vertical-align: top;\n",
       "    }\n",
       "\n",
       "    .dataframe thead th {\n",
       "        text-align: right;\n",
       "    }\n",
       "</style>\n",
       "<table border=\"1\" class=\"dataframe\">\n",
       "  <thead>\n",
       "    <tr style=\"text-align: right;\">\n",
       "      <th></th>\n",
       "      <th>STNAME</th>\n",
       "      <th>CTYNAME</th>\n",
       "      <th>POPESTIMATE2012</th>\n",
       "      <th>POPESTIMATE2013</th>\n",
       "      <th>POPESTIMATE2014</th>\n",
       "      <th>POPESTIMATE2015</th>\n",
       "      <th>POPESTIMATE2016</th>\n",
       "      <th>POPESTIMATE2017</th>\n",
       "    </tr>\n",
       "  </thead>\n",
       "  <tbody>\n",
       "    <tr>\n",
       "      <th>881</th>\n",
       "      <td>Iowa</td>\n",
       "      <td>polk</td>\n",
       "      <td>444671</td>\n",
       "      <td>452657</td>\n",
       "      <td>460898</td>\n",
       "      <td>467304</td>\n",
       "      <td>474277</td>\n",
       "      <td>480487</td>\n",
       "    </tr>\n",
       "  </tbody>\n",
       "</table>\n",
       "</div>"
      ],
      "text/plain": [
       "    STNAME CTYNAME POPESTIMATE2012 POPESTIMATE2013 POPESTIMATE2014  \\\n",
       "881   Iowa    polk          444671          452657          460898   \n",
       "\n",
       "    POPESTIMATE2015 POPESTIMATE2016 POPESTIMATE2017  \n",
       "881          467304          474277          480487  "
      ]
     },
     "execution_count": 90,
     "metadata": {},
     "output_type": "execute_result"
    }
   ],
   "source": [
    "pop_cty_iowa[pop_cty_iowa['CTYNAME']=='polk']"
   ]
  },
  {
   "cell_type": "code",
   "execution_count": 91,
   "id": "60f577ef-7eb7-4e5a-a753-5bf4a9edafb4",
   "metadata": {},
   "outputs": [
    {
     "data": {
      "text/html": [
       "<div>\n",
       "<style scoped>\n",
       "    .dataframe tbody tr th:only-of-type {\n",
       "        vertical-align: middle;\n",
       "    }\n",
       "\n",
       "    .dataframe tbody tr th {\n",
       "        vertical-align: top;\n",
       "    }\n",
       "\n",
       "    .dataframe thead th {\n",
       "        text-align: right;\n",
       "    }\n",
       "</style>\n",
       "<table border=\"1\" class=\"dataframe\">\n",
       "  <thead>\n",
       "    <tr style=\"text-align: right;\">\n",
       "      <th></th>\n",
       "      <th>STNAME</th>\n",
       "      <th>CTYNAME</th>\n",
       "      <th>POPESTIMATE2012</th>\n",
       "      <th>POPESTIMATE2013</th>\n",
       "      <th>POPESTIMATE2014</th>\n",
       "      <th>POPESTIMATE2015</th>\n",
       "      <th>POPESTIMATE2016</th>\n",
       "      <th>POPESTIMATE2017</th>\n",
       "    </tr>\n",
       "  </thead>\n",
       "  <tbody>\n",
       "    <tr>\n",
       "      <th>861</th>\n",
       "      <td>Iowa</td>\n",
       "      <td>linn</td>\n",
       "      <td>215485</td>\n",
       "      <td>216488</td>\n",
       "      <td>218129</td>\n",
       "      <td>220271</td>\n",
       "      <td>222188</td>\n",
       "      <td>224379</td>\n",
       "    </tr>\n",
       "  </tbody>\n",
       "</table>\n",
       "</div>"
      ],
      "text/plain": [
       "    STNAME CTYNAME POPESTIMATE2012 POPESTIMATE2013 POPESTIMATE2014  \\\n",
       "861   Iowa    linn          215485          216488          218129   \n",
       "\n",
       "    POPESTIMATE2015 POPESTIMATE2016 POPESTIMATE2017  \n",
       "861          220271          222188          224379  "
      ]
     },
     "execution_count": 91,
     "metadata": {},
     "output_type": "execute_result"
    }
   ],
   "source": [
    "pop_cty_iowa[pop_cty_iowa['CTYNAME']=='linn']"
   ]
  },
  {
   "cell_type": "code",
   "execution_count": 92,
   "id": "cb159663-6f42-4b10-ac5c-6370328a50fd",
   "metadata": {},
   "outputs": [
    {
     "data": {
      "text/html": [
       "<div>\n",
       "<style scoped>\n",
       "    .dataframe tbody tr th:only-of-type {\n",
       "        vertical-align: middle;\n",
       "    }\n",
       "\n",
       "    .dataframe tbody tr th {\n",
       "        vertical-align: top;\n",
       "    }\n",
       "\n",
       "    .dataframe thead th {\n",
       "        text-align: right;\n",
       "    }\n",
       "</style>\n",
       "<table border=\"1\" class=\"dataframe\">\n",
       "  <thead>\n",
       "    <tr style=\"text-align: right;\">\n",
       "      <th></th>\n",
       "      <th>STNAME</th>\n",
       "      <th>CTYNAME</th>\n",
       "      <th>POPESTIMATE2012</th>\n",
       "      <th>POPESTIMATE2013</th>\n",
       "      <th>POPESTIMATE2014</th>\n",
       "      <th>POPESTIMATE2015</th>\n",
       "      <th>POPESTIMATE2016</th>\n",
       "      <th>POPESTIMATE2017</th>\n",
       "    </tr>\n",
       "  </thead>\n",
       "  <tbody>\n",
       "    <tr>\n",
       "      <th>886</th>\n",
       "      <td>Iowa</td>\n",
       "      <td>scott</td>\n",
       "      <td>168347</td>\n",
       "      <td>170201</td>\n",
       "      <td>171310</td>\n",
       "      <td>171903</td>\n",
       "      <td>172135</td>\n",
       "      <td>172448</td>\n",
       "    </tr>\n",
       "  </tbody>\n",
       "</table>\n",
       "</div>"
      ],
      "text/plain": [
       "    STNAME CTYNAME POPESTIMATE2012 POPESTIMATE2013 POPESTIMATE2014  \\\n",
       "886   Iowa   scott          168347          170201          171310   \n",
       "\n",
       "    POPESTIMATE2015 POPESTIMATE2016 POPESTIMATE2017  \n",
       "886          171903          172135          172448  "
      ]
     },
     "execution_count": 92,
     "metadata": {},
     "output_type": "execute_result"
    }
   ],
   "source": [
    "pop_cty_iowa[pop_cty_iowa['CTYNAME']=='scott']"
   ]
  },
  {
   "cell_type": "markdown",
   "id": "cfe424a5-ba21-4a26-a806-c1178d183ab3",
   "metadata": {},
   "source": [
    "#### Padronização de datas"
   ]
  }
 ],
 "metadata": {
  "interpreter": {
   "hash": "5f15e1cb9d6d612925d6246ed59693829277a4bc8e4e565041aad7c1eb71fee3"
  },
  "kernelspec": {
   "display_name": "Python 3",
   "language": "python",
   "name": "python3"
  },
  "language_info": {
   "codemirror_mode": {
    "name": "ipython",
    "version": 3
   },
   "file_extension": ".py",
   "mimetype": "text/x-python",
   "name": "python",
   "nbconvert_exporter": "python",
   "pygments_lexer": "ipython3",
   "version": "3.8.8"
  }
 },
 "nbformat": 4,
 "nbformat_minor": 5
}
