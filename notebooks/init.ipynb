{
 "cells": [
  {
   "cell_type": "markdown",
   "metadata": {},
   "source": [
    "## Classificação de variáveis"
   ]
  },
  {
   "cell_type": "markdown",
   "metadata": {},
   "source": [
    "### Importando as bibliotecas "
   ]
  },
  {
   "cell_type": "code",
   "execution_count": 111,
   "metadata": {},
   "outputs": [],
   "source": [
    "import pandas as pd\n",
    "import numpy as np\n",
    "import matplotlib.pyplot as plt\n",
    "from slugify import slugify\n",
    "from sklearn.model_selection import train_test_split\n",
    "import Levenshtein\n",
    "#from iowalicor.data.preprocessing import slugify\n",
    "#from application.app.folder.file import func_name\n",
    "pd.set_option('display.max_rows', 500)"
   ]
  },
  {
   "cell_type": "code",
   "execution_count": 112,
   "metadata": {},
   "outputs": [
    {
     "data": {
      "text/html": [
       "<div>\n",
       "<style scoped>\n",
       "    .dataframe tbody tr th:only-of-type {\n",
       "        vertical-align: middle;\n",
       "    }\n",
       "\n",
       "    .dataframe tbody tr th {\n",
       "        vertical-align: top;\n",
       "    }\n",
       "\n",
       "    .dataframe thead th {\n",
       "        text-align: right;\n",
       "    }\n",
       "</style>\n",
       "<table border=\"1\" class=\"dataframe\">\n",
       "  <thead>\n",
       "    <tr style=\"text-align: right;\">\n",
       "      <th></th>\n",
       "      <th>Unnamed: 0</th>\n",
       "      <th>Invoice/Item Number</th>\n",
       "      <th>Date</th>\n",
       "      <th>Store Number</th>\n",
       "      <th>Store Name</th>\n",
       "      <th>Address</th>\n",
       "      <th>City</th>\n",
       "      <th>Zip Code</th>\n",
       "      <th>Store Location</th>\n",
       "      <th>County Number</th>\n",
       "      <th>...</th>\n",
       "      <th>Item Number</th>\n",
       "      <th>Item Description</th>\n",
       "      <th>Pack</th>\n",
       "      <th>Bottle Volume (ml)</th>\n",
       "      <th>State Bottle Cost</th>\n",
       "      <th>State Bottle Retail</th>\n",
       "      <th>Bottles Sold</th>\n",
       "      <th>Sale (Dollars)</th>\n",
       "      <th>Volume Sold (Liters)</th>\n",
       "      <th>Volume Sold (Gallons)</th>\n",
       "    </tr>\n",
       "  </thead>\n",
       "  <tbody>\n",
       "    <tr>\n",
       "      <th>0</th>\n",
       "      <td>2364808</td>\n",
       "      <td>S10798700028</td>\n",
       "      <td>02/26/2013</td>\n",
       "      <td>4347</td>\n",
       "      <td>Jeff's Market / Blue Grass</td>\n",
       "      <td>102 W MAYNE</td>\n",
       "      <td>BLUE GRASS</td>\n",
       "      <td>52726</td>\n",
       "      <td>102 W MAYNE\\nBLUE GRASS 52726\\n(41.509114, -90...</td>\n",
       "      <td>82.0</td>\n",
       "      <td>...</td>\n",
       "      <td>22155</td>\n",
       "      <td>Wild Turkey 101 Round</td>\n",
       "      <td>12</td>\n",
       "      <td>375</td>\n",
       "      <td>$6.00</td>\n",
       "      <td>$8.99</td>\n",
       "      <td>1</td>\n",
       "      <td>$8.99</td>\n",
       "      <td>0.38</td>\n",
       "      <td>0.10</td>\n",
       "    </tr>\n",
       "    <tr>\n",
       "      <th>1</th>\n",
       "      <td>12139684</td>\n",
       "      <td>INV-06802100005</td>\n",
       "      <td>08/22/2017</td>\n",
       "      <td>3651</td>\n",
       "      <td>Wal-Mart 1491 / Indianola</td>\n",
       "      <td>1500 North Jefferson</td>\n",
       "      <td>Indianola</td>\n",
       "      <td>50125</td>\n",
       "      <td>1500 North Jefferson\\nIndianola 50125\\n</td>\n",
       "      <td>91.0</td>\n",
       "      <td>...</td>\n",
       "      <td>11298</td>\n",
       "      <td>Crown Royal Canadian Whisky</td>\n",
       "      <td>6</td>\n",
       "      <td>1750</td>\n",
       "      <td>$31.99</td>\n",
       "      <td>$47.99</td>\n",
       "      <td>1</td>\n",
       "      <td>$287.94</td>\n",
       "      <td>1.75</td>\n",
       "      <td>0.46</td>\n",
       "    </tr>\n",
       "    <tr>\n",
       "      <th>2</th>\n",
       "      <td>31671</td>\n",
       "      <td>S14182900098</td>\n",
       "      <td>08/28/2013</td>\n",
       "      <td>2576</td>\n",
       "      <td>Hy-Vee Wine and Spirits / Storm Lake</td>\n",
       "      <td>1250 N LAKE ST</td>\n",
       "      <td>STORM LAKE</td>\n",
       "      <td>50588</td>\n",
       "      <td>1250 N LAKE ST\\nSTORM LAKE 50588\\n(42.653594, ...</td>\n",
       "      <td>11.0</td>\n",
       "      <td>...</td>\n",
       "      <td>86688</td>\n",
       "      <td>Firefly Strawberry Moonshine</td>\n",
       "      <td>12</td>\n",
       "      <td>750</td>\n",
       "      <td>$9.88</td>\n",
       "      <td>$14.82</td>\n",
       "      <td>2</td>\n",
       "      <td>$29.64</td>\n",
       "      <td>1.50</td>\n",
       "      <td>0.40</td>\n",
       "    </tr>\n",
       "    <tr>\n",
       "      <th>3</th>\n",
       "      <td>1100266</td>\n",
       "      <td>S11292900026</td>\n",
       "      <td>03/26/2013</td>\n",
       "      <td>3756</td>\n",
       "      <td>Main Street Liquors / Manning</td>\n",
       "      <td>316 MAIN ST</td>\n",
       "      <td>MANNING</td>\n",
       "      <td>51455</td>\n",
       "      <td>316 MAIN ST\\nMANNING 51455\\n(41.908573, -95.06...</td>\n",
       "      <td>14.0</td>\n",
       "      <td>...</td>\n",
       "      <td>69947</td>\n",
       "      <td>Rumple Minze Peppermint Schnapps Liqueur</td>\n",
       "      <td>12</td>\n",
       "      <td>1000</td>\n",
       "      <td>$15.15</td>\n",
       "      <td>$22.72</td>\n",
       "      <td>1</td>\n",
       "      <td>$22.72</td>\n",
       "      <td>1.00</td>\n",
       "      <td>0.26</td>\n",
       "    </tr>\n",
       "    <tr>\n",
       "      <th>4</th>\n",
       "      <td>12120532</td>\n",
       "      <td>INV-06737700004</td>\n",
       "      <td>08/17/2017</td>\n",
       "      <td>4997</td>\n",
       "      <td>Downtown Pantry</td>\n",
       "      <td>218, 6th Ave #101</td>\n",
       "      <td>Des Moines</td>\n",
       "      <td>50309</td>\n",
       "      <td>218, 6th Ave #101\\nDes Moines 50309\\n(41.58568...</td>\n",
       "      <td>77.0</td>\n",
       "      <td>...</td>\n",
       "      <td>89191</td>\n",
       "      <td>Jose Cuervo Especial Reposado Tequila Mini</td>\n",
       "      <td>12</td>\n",
       "      <td>500</td>\n",
       "      <td>$11.50</td>\n",
       "      <td>$17.25</td>\n",
       "      <td>1</td>\n",
       "      <td>$17.25</td>\n",
       "      <td>0.50</td>\n",
       "      <td>0.13</td>\n",
       "    </tr>\n",
       "    <tr>\n",
       "      <th>5</th>\n",
       "      <td>11670503</td>\n",
       "      <td>INV-05415200028</td>\n",
       "      <td>06/08/2017</td>\n",
       "      <td>2595</td>\n",
       "      <td>Hy-Vee Wine and Spirits / Denison</td>\n",
       "      <td>1620  4th Ave, South</td>\n",
       "      <td>Denison</td>\n",
       "      <td>51442</td>\n",
       "      <td>1620 4th Ave, South\\nDenison 51442\\n(42.012395...</td>\n",
       "      <td>24.0</td>\n",
       "      <td>...</td>\n",
       "      <td>10828</td>\n",
       "      <td>Crown Royal Northern Harvest Rye</td>\n",
       "      <td>12</td>\n",
       "      <td>750</td>\n",
       "      <td>$17.50</td>\n",
       "      <td>$26.25</td>\n",
       "      <td>2</td>\n",
       "      <td>$26.25</td>\n",
       "      <td>1.50</td>\n",
       "      <td>0.39</td>\n",
       "    </tr>\n",
       "    <tr>\n",
       "      <th>6</th>\n",
       "      <td>4543410</td>\n",
       "      <td>S11437200032</td>\n",
       "      <td>04/03/2013</td>\n",
       "      <td>3712</td>\n",
       "      <td>Monte Spirits</td>\n",
       "      <td>109 N 4TH ST</td>\n",
       "      <td>MONTEZUMA</td>\n",
       "      <td>50171</td>\n",
       "      <td>109 N 4TH ST\\nMONTEZUMA 50171\\n(41.585429, -92...</td>\n",
       "      <td>79.0</td>\n",
       "      <td>...</td>\n",
       "      <td>77776</td>\n",
       "      <td>Wild Turkey American Honey</td>\n",
       "      <td>12</td>\n",
       "      <td>750</td>\n",
       "      <td>$10.50</td>\n",
       "      <td>$15.75</td>\n",
       "      <td>2</td>\n",
       "      <td>$31.50</td>\n",
       "      <td>1.50</td>\n",
       "      <td>0.40</td>\n",
       "    </tr>\n",
       "    <tr>\n",
       "      <th>7</th>\n",
       "      <td>8212094</td>\n",
       "      <td>S29576500047</td>\n",
       "      <td>12/10/2015</td>\n",
       "      <td>2671</td>\n",
       "      <td>Hy-Vee  /  Jefferson</td>\n",
       "      <td>106, W WASHINGTON ST</td>\n",
       "      <td>JEFFERSON</td>\n",
       "      <td>50129</td>\n",
       "      <td>106, W WASHINGTON ST\\nJEFFERSON 50129\\n(42.017...</td>\n",
       "      <td>37.0</td>\n",
       "      <td>...</td>\n",
       "      <td>10807</td>\n",
       "      <td>Crown Royal Regal Apple</td>\n",
       "      <td>12</td>\n",
       "      <td>750</td>\n",
       "      <td>$15.00</td>\n",
       "      <td>$22.50</td>\n",
       "      <td>60</td>\n",
       "      <td>$1350.00</td>\n",
       "      <td>45.00</td>\n",
       "      <td>11.89</td>\n",
       "    </tr>\n",
       "    <tr>\n",
       "      <th>8</th>\n",
       "      <td>1665619</td>\n",
       "      <td>S20509100146</td>\n",
       "      <td>08/06/2014</td>\n",
       "      <td>3495</td>\n",
       "      <td>Great Pastimes</td>\n",
       "      <td>228 N MAIN ST</td>\n",
       "      <td>MONTICELLO</td>\n",
       "      <td>52310</td>\n",
       "      <td>228 N MAIN ST\\nMONTICELLO 52310\\n(42.240132, -...</td>\n",
       "      <td>53.0</td>\n",
       "      <td>...</td>\n",
       "      <td>89194</td>\n",
       "      <td>Jose Cuervo Especial Reposado Flask</td>\n",
       "      <td>24</td>\n",
       "      <td>375</td>\n",
       "      <td>$5.50</td>\n",
       "      <td>$8.25</td>\n",
       "      <td>3</td>\n",
       "      <td>$24.75</td>\n",
       "      <td>1.12</td>\n",
       "      <td>0.30</td>\n",
       "    </tr>\n",
       "    <tr>\n",
       "      <th>9</th>\n",
       "      <td>1800759</td>\n",
       "      <td>S10087900002</td>\n",
       "      <td>01/16/2013</td>\n",
       "      <td>2535</td>\n",
       "      <td>Hy-Vee Food Store #1 / WDM</td>\n",
       "      <td>1700 VALLEY WEST DR</td>\n",
       "      <td>WEST DES MOINES</td>\n",
       "      <td>50265</td>\n",
       "      <td>1700 VALLEY WEST DR\\nWEST DES MOINES 50265\\n</td>\n",
       "      <td>77.0</td>\n",
       "      <td>...</td>\n",
       "      <td>27290</td>\n",
       "      <td>Iowa Shine</td>\n",
       "      <td>12</td>\n",
       "      <td>375</td>\n",
       "      <td>$10.08</td>\n",
       "      <td>$15.13</td>\n",
       "      <td>12</td>\n",
       "      <td>$181.56</td>\n",
       "      <td>4.50</td>\n",
       "      <td>1.19</td>\n",
       "    </tr>\n",
       "  </tbody>\n",
       "</table>\n",
       "<p>10 rows × 25 columns</p>\n",
       "</div>"
      ],
      "text/plain": [
       "   Unnamed: 0 Invoice/Item Number        Date  Store Number  \\\n",
       "0     2364808        S10798700028  02/26/2013          4347   \n",
       "1    12139684     INV-06802100005  08/22/2017          3651   \n",
       "2       31671        S14182900098  08/28/2013          2576   \n",
       "3     1100266        S11292900026  03/26/2013          3756   \n",
       "4    12120532     INV-06737700004  08/17/2017          4997   \n",
       "5    11670503     INV-05415200028  06/08/2017          2595   \n",
       "6     4543410        S11437200032  04/03/2013          3712   \n",
       "7     8212094        S29576500047  12/10/2015          2671   \n",
       "8     1665619        S20509100146  08/06/2014          3495   \n",
       "9     1800759        S10087900002  01/16/2013          2535   \n",
       "\n",
       "                             Store Name               Address  \\\n",
       "0            Jeff's Market / Blue Grass           102 W MAYNE   \n",
       "1             Wal-Mart 1491 / Indianola  1500 North Jefferson   \n",
       "2  Hy-Vee Wine and Spirits / Storm Lake        1250 N LAKE ST   \n",
       "3         Main Street Liquors / Manning           316 MAIN ST   \n",
       "4                       Downtown Pantry     218, 6th Ave #101   \n",
       "5     Hy-Vee Wine and Spirits / Denison  1620  4th Ave, South   \n",
       "6                         Monte Spirits          109 N 4TH ST   \n",
       "7                  Hy-Vee  /  Jefferson  106, W WASHINGTON ST   \n",
       "8                        Great Pastimes         228 N MAIN ST   \n",
       "9            Hy-Vee Food Store #1 / WDM   1700 VALLEY WEST DR   \n",
       "\n",
       "              City  Zip Code  \\\n",
       "0       BLUE GRASS     52726   \n",
       "1        Indianola     50125   \n",
       "2       STORM LAKE     50588   \n",
       "3          MANNING     51455   \n",
       "4       Des Moines     50309   \n",
       "5          Denison     51442   \n",
       "6        MONTEZUMA     50171   \n",
       "7        JEFFERSON     50129   \n",
       "8       MONTICELLO     52310   \n",
       "9  WEST DES MOINES     50265   \n",
       "\n",
       "                                      Store Location  County Number  ...  \\\n",
       "0  102 W MAYNE\\nBLUE GRASS 52726\\n(41.509114, -90...           82.0  ...   \n",
       "1            1500 North Jefferson\\nIndianola 50125\\n           91.0  ...   \n",
       "2  1250 N LAKE ST\\nSTORM LAKE 50588\\n(42.653594, ...           11.0  ...   \n",
       "3  316 MAIN ST\\nMANNING 51455\\n(41.908573, -95.06...           14.0  ...   \n",
       "4  218, 6th Ave #101\\nDes Moines 50309\\n(41.58568...           77.0  ...   \n",
       "5  1620 4th Ave, South\\nDenison 51442\\n(42.012395...           24.0  ...   \n",
       "6  109 N 4TH ST\\nMONTEZUMA 50171\\n(41.585429, -92...           79.0  ...   \n",
       "7  106, W WASHINGTON ST\\nJEFFERSON 50129\\n(42.017...           37.0  ...   \n",
       "8  228 N MAIN ST\\nMONTICELLO 52310\\n(42.240132, -...           53.0  ...   \n",
       "9       1700 VALLEY WEST DR\\nWEST DES MOINES 50265\\n           77.0  ...   \n",
       "\n",
       "  Item Number                            Item Description Pack  \\\n",
       "0       22155                       Wild Turkey 101 Round   12   \n",
       "1       11298                 Crown Royal Canadian Whisky    6   \n",
       "2       86688                Firefly Strawberry Moonshine   12   \n",
       "3       69947    Rumple Minze Peppermint Schnapps Liqueur   12   \n",
       "4       89191  Jose Cuervo Especial Reposado Tequila Mini   12   \n",
       "5       10828            Crown Royal Northern Harvest Rye   12   \n",
       "6       77776                  Wild Turkey American Honey   12   \n",
       "7       10807                     Crown Royal Regal Apple   12   \n",
       "8       89194         Jose Cuervo Especial Reposado Flask   24   \n",
       "9       27290                                  Iowa Shine   12   \n",
       "\n",
       "   Bottle Volume (ml) State Bottle Cost  State Bottle Retail Bottles Sold  \\\n",
       "0                 375             $6.00                $8.99            1   \n",
       "1                1750            $31.99               $47.99            1   \n",
       "2                 750             $9.88               $14.82            2   \n",
       "3                1000            $15.15               $22.72            1   \n",
       "4                 500            $11.50               $17.25            1   \n",
       "5                 750            $17.50               $26.25            2   \n",
       "6                 750            $10.50               $15.75            2   \n",
       "7                 750            $15.00               $22.50           60   \n",
       "8                 375             $5.50                $8.25            3   \n",
       "9                 375            $10.08               $15.13           12   \n",
       "\n",
       "   Sale (Dollars)  Volume Sold (Liters) Volume Sold (Gallons)  \n",
       "0           $8.99                  0.38                  0.10  \n",
       "1         $287.94                  1.75                  0.46  \n",
       "2          $29.64                  1.50                  0.40  \n",
       "3          $22.72                  1.00                  0.26  \n",
       "4          $17.25                  0.50                  0.13  \n",
       "5          $26.25                  1.50                  0.39  \n",
       "6          $31.50                  1.50                  0.40  \n",
       "7        $1350.00                 45.00                 11.89  \n",
       "8          $24.75                  1.12                  0.30  \n",
       "9         $181.56                  4.50                  1.19  \n",
       "\n",
       "[10 rows x 25 columns]"
      ]
     },
     "execution_count": 112,
     "metadata": {},
     "output_type": "execute_result"
    }
   ],
   "source": [
    "df_firstn = pd.read_csv(\"../data/raw/iowa_liquor_train_test_split_sample.csv\", nrows=10)\n",
    "df_firstn"
   ]
  },
  {
   "cell_type": "markdown",
   "metadata": {},
   "source": [
    "## Análise exploratória dataset Iowa_Liquor_Sales"
   ]
  },
  {
   "cell_type": "code",
   "execution_count": 113,
   "metadata": {},
   "outputs": [],
   "source": [
    "#req_cols=['Date','City','County','Item Description','State Bottle Cost','State Bottle Retail','Volume Sold (Liters)']"
   ]
  },
  {
   "cell_type": "markdown",
   "metadata": {},
   "source": [
    "### Leitura do dataset gerado pelo train_test_split e atribuindo a uma variável"
   ]
  },
  {
   "cell_type": "code",
   "execution_count": 114,
   "metadata": {},
   "outputs": [],
   "source": [
    "#dataset = pd.read_csv(\"../data/raw/Iowa_Liquor_Sales.csv\", usecols=req_cols)\n",
    "df = pd.read_csv(\"../data/raw/iowa_liquor_train_test_split_sample.csv\",dtype={\n",
    "    'Invoice/Item Number': str,\n",
    "    'Date':str,\n",
    "    'Store Number': float,\n",
    "    'Store Name': str,\n",
    "    'Address': str,\n",
    "    'City': str,\n",
    "    'Zip Code': str,\n",
    "    'Store Location': str,\n",
    "    'County Number': float,\n",
    "    'County': str,\n",
    "    'Category': float,\n",
    "    'Category Name': str,\n",
    "    'Vendor Number': float,\n",
    "    'Vendor Name': str,\n",
    "    'Item Number': float,\n",
    "    'Item Description': str,\n",
    "    'Pack': float,\n",
    "    'Bottle Volume (ml)': int,\n",
    "    'State Bottle Cost': str,\n",
    "    'State Bottle Retail': str,\n",
    "    'Bottles Sold': int,\n",
    "    'Sale (Dollars)': str,\n",
    "    'Volume Sold (Liters)': float,\n",
    "    'Volume Sold (Gallons)': float\n",
    "})"
   ]
  },
  {
   "cell_type": "code",
   "execution_count": 115,
   "metadata": {},
   "outputs": [
    {
     "data": {
      "text/html": [
       "<div>\n",
       "<style scoped>\n",
       "    .dataframe tbody tr th:only-of-type {\n",
       "        vertical-align: middle;\n",
       "    }\n",
       "\n",
       "    .dataframe tbody tr th {\n",
       "        vertical-align: top;\n",
       "    }\n",
       "\n",
       "    .dataframe thead th {\n",
       "        text-align: right;\n",
       "    }\n",
       "</style>\n",
       "<table border=\"1\" class=\"dataframe\">\n",
       "  <thead>\n",
       "    <tr style=\"text-align: right;\">\n",
       "      <th></th>\n",
       "      <th>Unnamed: 0</th>\n",
       "      <th>Invoice/Item Number</th>\n",
       "      <th>Date</th>\n",
       "      <th>Store Number</th>\n",
       "      <th>Store Name</th>\n",
       "      <th>Address</th>\n",
       "      <th>City</th>\n",
       "      <th>Zip Code</th>\n",
       "      <th>Store Location</th>\n",
       "      <th>County Number</th>\n",
       "      <th>...</th>\n",
       "      <th>Item Number</th>\n",
       "      <th>Item Description</th>\n",
       "      <th>Pack</th>\n",
       "      <th>Bottle Volume (ml)</th>\n",
       "      <th>State Bottle Cost</th>\n",
       "      <th>State Bottle Retail</th>\n",
       "      <th>Bottles Sold</th>\n",
       "      <th>Sale (Dollars)</th>\n",
       "      <th>Volume Sold (Liters)</th>\n",
       "      <th>Volume Sold (Gallons)</th>\n",
       "    </tr>\n",
       "  </thead>\n",
       "  <tbody>\n",
       "    <tr>\n",
       "      <th>0</th>\n",
       "      <td>2364808</td>\n",
       "      <td>S10798700028</td>\n",
       "      <td>02/26/2013</td>\n",
       "      <td>4347.0</td>\n",
       "      <td>Jeff's Market / Blue Grass</td>\n",
       "      <td>102 W MAYNE</td>\n",
       "      <td>BLUE GRASS</td>\n",
       "      <td>52726</td>\n",
       "      <td>102 W MAYNE\\nBLUE GRASS 52726\\n(41.509114, -90...</td>\n",
       "      <td>82.0</td>\n",
       "      <td>...</td>\n",
       "      <td>22155.0</td>\n",
       "      <td>Wild Turkey 101 Round</td>\n",
       "      <td>12.0</td>\n",
       "      <td>375</td>\n",
       "      <td>$6.00</td>\n",
       "      <td>$8.99</td>\n",
       "      <td>1</td>\n",
       "      <td>$8.99</td>\n",
       "      <td>0.38</td>\n",
       "      <td>0.10</td>\n",
       "    </tr>\n",
       "    <tr>\n",
       "      <th>1</th>\n",
       "      <td>12139684</td>\n",
       "      <td>INV-06802100005</td>\n",
       "      <td>08/22/2017</td>\n",
       "      <td>3651.0</td>\n",
       "      <td>Wal-Mart 1491 / Indianola</td>\n",
       "      <td>1500 North Jefferson</td>\n",
       "      <td>Indianola</td>\n",
       "      <td>50125</td>\n",
       "      <td>1500 North Jefferson\\nIndianola 50125\\n</td>\n",
       "      <td>91.0</td>\n",
       "      <td>...</td>\n",
       "      <td>11298.0</td>\n",
       "      <td>Crown Royal Canadian Whisky</td>\n",
       "      <td>6.0</td>\n",
       "      <td>1750</td>\n",
       "      <td>$31.99</td>\n",
       "      <td>$47.99</td>\n",
       "      <td>1</td>\n",
       "      <td>$287.94</td>\n",
       "      <td>1.75</td>\n",
       "      <td>0.46</td>\n",
       "    </tr>\n",
       "  </tbody>\n",
       "</table>\n",
       "<p>2 rows × 25 columns</p>\n",
       "</div>"
      ],
      "text/plain": [
       "   Unnamed: 0 Invoice/Item Number        Date  Store Number  \\\n",
       "0     2364808        S10798700028  02/26/2013        4347.0   \n",
       "1    12139684     INV-06802100005  08/22/2017        3651.0   \n",
       "\n",
       "                   Store Name               Address        City Zip Code  \\\n",
       "0  Jeff's Market / Blue Grass           102 W MAYNE  BLUE GRASS    52726   \n",
       "1   Wal-Mart 1491 / Indianola  1500 North Jefferson   Indianola    50125   \n",
       "\n",
       "                                      Store Location  County Number  ...  \\\n",
       "0  102 W MAYNE\\nBLUE GRASS 52726\\n(41.509114, -90...           82.0  ...   \n",
       "1            1500 North Jefferson\\nIndianola 50125\\n           91.0  ...   \n",
       "\n",
       "  Item Number             Item Description  Pack  Bottle Volume (ml)  \\\n",
       "0     22155.0        Wild Turkey 101 Round  12.0                 375   \n",
       "1     11298.0  Crown Royal Canadian Whisky   6.0                1750   \n",
       "\n",
       "  State Bottle Cost  State Bottle Retail Bottles Sold  Sale (Dollars)  \\\n",
       "0             $6.00                $8.99            1           $8.99   \n",
       "1            $31.99               $47.99            1         $287.94   \n",
       "\n",
       "   Volume Sold (Liters) Volume Sold (Gallons)  \n",
       "0                  0.38                  0.10  \n",
       "1                  1.75                  0.46  \n",
       "\n",
       "[2 rows x 25 columns]"
      ]
     },
     "execution_count": 115,
     "metadata": {},
     "output_type": "execute_result"
    }
   ],
   "source": [
    "df.head(2)"
   ]
  },
  {
   "cell_type": "markdown",
   "metadata": {},
   "source": [
    "### Utilização o train_test_split para dividir o dataset em dados"
   ]
  },
  {
   "cell_type": "code",
   "execution_count": 116,
   "metadata": {},
   "outputs": [],
   "source": [
    "#X = dataset\n",
    "#y = dataset"
   ]
  },
  {
   "cell_type": "code",
   "execution_count": 117,
   "metadata": {},
   "outputs": [],
   "source": [
    "#X_train, X_test, y_train, y_test = train_test_split(X, y,test_size=0.2)"
   ]
  },
  {
   "cell_type": "code",
   "execution_count": 118,
   "metadata": {},
   "outputs": [],
   "source": [
    "#df = pd.DataFrame(X_test)\n",
    "#df.head()"
   ]
  },
  {
   "cell_type": "code",
   "execution_count": 119,
   "metadata": {},
   "outputs": [],
   "source": [
    "#df.to_csv('iowa_liquor_train_test_split_sample.csv')"
   ]
  },
  {
   "cell_type": "code",
   "execution_count": 120,
   "metadata": {},
   "outputs": [
    {
     "name": "stdout",
     "output_type": "stream",
     "text": [
      "<class 'pandas.core.frame.DataFrame'>\n",
      "RangeIndex: 2518216 entries, 0 to 2518215\n",
      "Data columns (total 25 columns):\n",
      " #   Column                 Dtype  \n",
      "---  ------                 -----  \n",
      " 0   Unnamed: 0             int64  \n",
      " 1   Invoice/Item Number    object \n",
      " 2   Date                   object \n",
      " 3   Store Number           float64\n",
      " 4   Store Name             object \n",
      " 5   Address                object \n",
      " 6   City                   object \n",
      " 7   Zip Code               object \n",
      " 8   Store Location         object \n",
      " 9   County Number          float64\n",
      " 10  County                 object \n",
      " 11  Category               float64\n",
      " 12  Category Name          object \n",
      " 13  Vendor Number          float64\n",
      " 14  Vendor Name            object \n",
      " 15  Item Number            float64\n",
      " 16  Item Description       object \n",
      " 17  Pack                   float64\n",
      " 18  Bottle Volume (ml)     int64  \n",
      " 19  State Bottle Cost      object \n",
      " 20  State Bottle Retail    object \n",
      " 21  Bottles Sold           int64  \n",
      " 22  Sale (Dollars)         object \n",
      " 23  Volume Sold (Liters)   float64\n",
      " 24  Volume Sold (Gallons)  float64\n",
      "dtypes: float64(8), int64(3), object(14)\n",
      "memory usage: 480.3+ MB\n"
     ]
    }
   ],
   "source": [
    "df.info()"
   ]
  },
  {
   "cell_type": "markdown",
   "metadata": {},
   "source": [
    "### Limpeza os dados e facilitação da análise"
   ]
  },
  {
   "cell_type": "code",
   "execution_count": 121,
   "metadata": {},
   "outputs": [
    {
     "data": {
      "text/plain": [
       "Index(['unnamed_0', 'invoice_item_number', 'date', 'store_number',\n",
       "       'store_name', 'address', 'city', 'zip_code', 'store_location',\n",
       "       'county_number', 'county', 'category', 'category_name', 'vendor_number',\n",
       "       'vendor_name', 'item_number', 'item_description', 'pack',\n",
       "       'bottle_volume_ml', 'state_bottle_cost', 'state_bottle_retail',\n",
       "       'bottles_sold', 'sale_dollars', 'volume_sold_liters',\n",
       "       'volume_sold_gallons'],\n",
       "      dtype='object')"
      ]
     },
     "execution_count": 121,
     "metadata": {},
     "output_type": "execute_result"
    }
   ],
   "source": [
    "df.columns = [slugify(col, lowercase=True, separator='_') for col in df.columns]\n",
    "df.columns"
   ]
  },
  {
   "cell_type": "code",
   "execution_count": 122,
   "metadata": {},
   "outputs": [],
   "source": [
    "#df['city'] = slugify(str(df['city']))"
   ]
  },
  {
   "cell_type": "markdown",
   "metadata": {},
   "source": [
    "### Escolha das colunas a utilizar"
   ]
  },
  {
   "cell_type": "code",
   "execution_count": null,
   "metadata": {},
   "outputs": [],
   "source": [
    "df = df.drop('unnamed_0', 1)\n",
    "df = df.drop('invoice_item_number', 1)\n",
    "df = df.drop('volume_sold_gallons', 1)"
   ]
  },
  {
   "cell_type": "code",
   "execution_count": null,
   "metadata": {},
   "outputs": [],
   "source": [
    "df.columns"
   ]
  },
  {
   "cell_type": "code",
   "execution_count": null,
   "metadata": {},
   "outputs": [],
   "source": [
    "df.info()"
   ]
  },
  {
   "cell_type": "markdown",
   "metadata": {},
   "source": [
    "### Substituição dos valores NaN da tabela"
   ]
  },
  {
   "cell_type": "code",
   "execution_count": null,
   "metadata": {},
   "outputs": [],
   "source": [
    "df.isnull().values.any()"
   ]
  },
  {
   "cell_type": "code",
   "execution_count": null,
   "metadata": {},
   "outputs": [],
   "source": [
    "for x in df.columns:\n",
    "    df[x] = df[x].fillna('no_data')"
   ]
  },
  {
   "cell_type": "code",
   "execution_count": null,
   "metadata": {},
   "outputs": [],
   "source": [
    "df[df['city'] == 'nan'] = 'no_city'"
   ]
  },
  {
   "cell_type": "code",
   "execution_count": null,
   "metadata": {},
   "outputs": [],
   "source": [
    "df[df['county'] == 'nan'] = 'no_county'"
   ]
  },
  {
   "cell_type": "code",
   "execution_count": null,
   "metadata": {},
   "outputs": [],
   "source": [
    "df[df['item_description'] == 'nan'] = 'no_item_description'"
   ]
  },
  {
   "cell_type": "code",
   "execution_count": null,
   "metadata": {},
   "outputs": [],
   "source": [
    "df.isnull().values.any()"
   ]
  },
  {
   "cell_type": "markdown",
   "metadata": {},
   "source": [
    "### Aplicão do slugify  nas colunas com string:"
   ]
  },
  {
   "cell_type": "code",
   "execution_count": null,
   "metadata": {},
   "outputs": [],
   "source": [
    "df['store_name']=df['store_name'].apply(slugify)"
   ]
  },
  {
   "cell_type": "code",
   "execution_count": null,
   "metadata": {},
   "outputs": [],
   "source": [
    "df['address']=df['address'].apply(slugify)"
   ]
  },
  {
   "cell_type": "code",
   "execution_count": null,
   "metadata": {},
   "outputs": [],
   "source": [
    "df['city']=df['city'].apply(slugify)"
   ]
  },
  {
   "cell_type": "code",
   "execution_count": null,
   "metadata": {},
   "outputs": [],
   "source": [
    "df['store_location']=df['store_location'].apply(slugify)"
   ]
  },
  {
   "cell_type": "code",
   "execution_count": null,
   "metadata": {},
   "outputs": [],
   "source": [
    "df['county']=df['county'].apply(slugify)"
   ]
  },
  {
   "cell_type": "code",
   "execution_count": null,
   "metadata": {},
   "outputs": [],
   "source": [
    "df['category_name']=df['category_name'].apply(slugify)"
   ]
  },
  {
   "cell_type": "code",
   "execution_count": null,
   "metadata": {},
   "outputs": [],
   "source": [
    "df['vendor_name']=df['vendor_name'].apply(slugify)"
   ]
  },
  {
   "cell_type": "code",
   "execution_count": null,
   "metadata": {},
   "outputs": [],
   "source": [
    "df['item_description']=df['item_description'].apply(slugify)"
   ]
  },
  {
   "cell_type": "code",
   "execution_count": null,
   "metadata": {},
   "outputs": [],
   "source": [
    "df.head()"
   ]
  },
  {
   "cell_type": "code",
   "execution_count": null,
   "metadata": {},
   "outputs": [],
   "source": [
    "#remover valores duplicados\n",
    "#def distance(s1,s2):\n",
    "    #if Levenshtein.distance(s1,s2) != 0:\n",
    "        #return s1"
   ]
  },
  {
   "cell_type": "code",
   "execution_count": null,
   "metadata": {},
   "outputs": [],
   "source": [
    "#cities_slg"
   ]
  },
  {
   "cell_type": "code",
   "execution_count": null,
   "metadata": {},
   "outputs": [],
   "source": [
    "#counties = df['county'].unique().astype(str)"
   ]
  },
  {
   "cell_type": "code",
   "execution_count": null,
   "metadata": {},
   "outputs": [],
   "source": [
    "df['state_bottle_cost'] = df['state_bottle_cost'].replace({'\\$':''}, regex = True)"
   ]
  },
  {
   "cell_type": "code",
   "execution_count": null,
   "metadata": {},
   "outputs": [],
   "source": [
    "df['state_bottle_retail'] = df['state_bottle_retail'].replace({'\\$':''}, regex = True)"
   ]
  },
  {
   "cell_type": "code",
   "execution_count": null,
   "metadata": {},
   "outputs": [],
   "source": [
    "df['sale_dollars'] = df['sale_dollars'].replace({'\\$':''}, regex = True)"
   ]
  },
  {
   "cell_type": "code",
   "execution_count": null,
   "metadata": {},
   "outputs": [],
   "source": [
    "df['date'] = pd.to_datetime(df['date'])"
   ]
  },
  {
   "cell_type": "code",
   "execution_count": null,
   "metadata": {},
   "outputs": [],
   "source": [
    "df.head()"
   ]
  },
  {
   "cell_type": "markdown",
   "metadata": {},
   "source": [
    "## Explorando o dataset:"
   ]
  },
  {
   "cell_type": "markdown",
   "metadata": {},
   "source": [
    "#### Verificando formato dos dados:"
   ]
  },
  {
   "cell_type": "markdown",
   "metadata": {},
   "source": [
    "#### Transformando o os dados da coluna Date em formato datetime"
   ]
  },
  {
   "cell_type": "markdown",
   "metadata": {},
   "source": [
    "### Em qual condado se vendeu mais?"
   ]
  },
  {
   "cell_type": "code",
   "execution_count": null,
   "metadata": {},
   "outputs": [],
   "source": [
    "county_sales = df['county'].value_counts().nlargest(20)\n",
    "county_sales.plot(kind=\"barh\",figsize=(15,8))"
   ]
  },
  {
   "cell_type": "markdown",
   "metadata": {},
   "source": [
    "### Em qual condado se vendeu menos?"
   ]
  },
  {
   "cell_type": "code",
   "execution_count": null,
   "metadata": {},
   "outputs": [],
   "source": [
    "county_sales = df['county'].value_counts().nsmallest(20)\n",
    "county_sales.plot(kind=\"barh\",figsize=(15,8))"
   ]
  },
  {
   "cell_type": "markdown",
   "metadata": {},
   "source": [
    "### Sabendo que o condado de POLK foi o que vendeu mais, quais cidades do condado de POLK venderam mais?"
   ]
  },
  {
   "cell_type": "markdown",
   "metadata": {},
   "source": [
    "#### Filtrando as cidades do condado de POLK"
   ]
  },
  {
   "cell_type": "code",
   "execution_count": null,
   "metadata": {},
   "outputs": [],
   "source": [
    "polk = df[df['county']=='polk']\n",
    "polk"
   ]
  },
  {
   "cell_type": "markdown",
   "metadata": {},
   "source": [
    "#### Quais cidades há no condado de POLK?"
   ]
  },
  {
   "cell_type": "code",
   "execution_count": null,
   "metadata": {},
   "outputs": [],
   "source": [
    "polk['city'].unique()"
   ]
  },
  {
   "cell_type": "markdown",
   "metadata": {},
   "source": [
    "#### Em quais cidade do condado de POLK se vendeu mais bebida?"
   ]
  },
  {
   "cell_type": "code",
   "execution_count": null,
   "metadata": {},
   "outputs": [],
   "source": [
    "polk['city'].value_counts().plot(kind=\"barh\",figsize=(15,8))"
   ]
  },
  {
   "cell_type": "markdown",
   "metadata": {},
   "source": [
    "#### Quais cidades no estado do IOWA venderam mais bebida?"
   ]
  },
  {
   "cell_type": "code",
   "execution_count": null,
   "metadata": {},
   "outputs": [],
   "source": [
    "city_sales = df['city'].value_counts().nlargest(20)\n",
    "city_sales.plot(kind=\"barh\",figsize=(15,8))"
   ]
  },
  {
   "cell_type": "markdown",
   "metadata": {},
   "source": [
    "#### Quais cidades no estado do IOWA venderam mais bebida?"
   ]
  },
  {
   "cell_type": "code",
   "execution_count": null,
   "metadata": {},
   "outputs": [],
   "source": [
    "city_sales = df['city'].value_counts().nsmallest(20)\n",
    "city_sales.plot(kind=\"barh\",figsize=(15,8))"
   ]
  },
  {
   "cell_type": "markdown",
   "metadata": {},
   "source": [
    "#### Quais as bebida mais vendida?"
   ]
  },
  {
   "cell_type": "code",
   "execution_count": null,
   "metadata": {},
   "outputs": [],
   "source": [
    "scatter_description = df['item_description'].value_counts().nlargest(10).rename_axis('description').reset_index(name='qtt')\n",
    "plt.barh(scatter_description['description'],scatter_description['qtt'])\n",
    "#city_sales = df['item_description'].value_counts().nlargest(20)\n",
    "#city_sales.plot(kind=\"barh\",figsize=(15,8))"
   ]
  },
  {
   "cell_type": "markdown",
   "metadata": {},
   "source": [
    "### Analise temporal dos dados"
   ]
  },
  {
   "cell_type": "markdown",
   "metadata": {},
   "source": [
    "#### Qual a data máxima e mínima?"
   ]
  },
  {
   "cell_type": "code",
   "execution_count": null,
   "metadata": {},
   "outputs": [],
   "source": [
    "max(df['date'])"
   ]
  },
  {
   "cell_type": "code",
   "execution_count": null,
   "metadata": {},
   "outputs": [],
   "source": [
    "min(df['date'])"
   ]
  },
  {
   "cell_type": "markdown",
   "metadata": {},
   "source": [
    "#### 2012"
   ]
  },
  {
   "cell_type": "code",
   "execution_count": null,
   "metadata": {},
   "outputs": [],
   "source": [
    "year_2012 = df[df['date'].dt.year == 2012]\n",
    "year_2012.head(1)"
   ]
  },
  {
   "cell_type": "markdown",
   "metadata": {},
   "source": [
    "#### 2013"
   ]
  },
  {
   "cell_type": "code",
   "execution_count": null,
   "metadata": {},
   "outputs": [],
   "source": [
    "year_2013 = df[df['date'].dt.year == 2013]\n",
    "year_2013.head(1)"
   ]
  },
  {
   "cell_type": "markdown",
   "metadata": {},
   "source": [
    "#### 2014"
   ]
  },
  {
   "cell_type": "code",
   "execution_count": null,
   "metadata": {},
   "outputs": [],
   "source": [
    "year_2014 = df[df['date'].dt.year == 2014]\n",
    "year_2014.head(1)"
   ]
  },
  {
   "cell_type": "markdown",
   "metadata": {},
   "source": [
    "#### 2015"
   ]
  },
  {
   "cell_type": "code",
   "execution_count": null,
   "metadata": {},
   "outputs": [],
   "source": [
    "year_2015 = df[df['date'].dt.year == 2015]\n",
    "year_2015.head(1)"
   ]
  },
  {
   "cell_type": "markdown",
   "metadata": {},
   "source": [
    "#### 2016"
   ]
  },
  {
   "cell_type": "code",
   "execution_count": null,
   "metadata": {},
   "outputs": [],
   "source": [
    "year_2016 = df[df['date'].dt.year == 2016]\n",
    "year_2016.head(1)"
   ]
  },
  {
   "cell_type": "markdown",
   "metadata": {},
   "source": [
    "#### 2017"
   ]
  },
  {
   "cell_type": "code",
   "execution_count": null,
   "metadata": {},
   "outputs": [],
   "source": [
    "year_2017 = df[df['date'].dt.year == 2017]\n",
    "year_2017.head(1)"
   ]
  },
  {
   "cell_type": "markdown",
   "metadata": {},
   "source": [
    "#### Todo o período"
   ]
  },
  {
   "cell_type": "code",
   "execution_count": null,
   "metadata": {},
   "outputs": [],
   "source": [
    "year1 = [2012,2013,2014,2015,2016,2017]\n",
    "qtt1 = []\n",
    "qtt1.append(len(year_2012.index))\n",
    "qtt1.append(len(year_2013.index))\n",
    "qtt1.append(len(year_2014.index))\n",
    "qtt1.append(len(year_2015.index))\n",
    "qtt1.append(len(year_2016.index))\n",
    "qtt1.append(len(year_2017.index))\n",
    "qtt1"
   ]
  },
  {
   "cell_type": "code",
   "execution_count": null,
   "metadata": {},
   "outputs": [],
   "source": [
    "plt.grid(True)\n",
    "plt.plot(year1, qtt1)"
   ]
  },
  {
   "cell_type": "code",
   "execution_count": null,
   "metadata": {},
   "outputs": [],
   "source": [
    "year2 = [2012,2013,2014,2015,2016]\n",
    "qtt2 = []\n",
    "qtt2.append(len(year_2012.index))\n",
    "qtt2.append(len(year_2013.index))\n",
    "qtt2.append(len(year_2014.index))\n",
    "qtt2.append(len(year_2015.index))\n",
    "qtt2.append(len(year_2016.index))\n",
    "qtt2"
   ]
  },
  {
   "cell_type": "code",
   "execution_count": null,
   "metadata": {},
   "outputs": [],
   "source": [
    "plt.plot(year2, qtt2)\n",
    "plt.show()"
   ]
  },
  {
   "cell_type": "code",
   "execution_count": null,
   "metadata": {},
   "outputs": [],
   "source": [
    "volume_per_month_2012 = year_2012['date']"
   ]
  },
  {
   "cell_type": "code",
   "execution_count": null,
   "metadata": {},
   "outputs": [],
   "source": [
    "volume_per_month_2013 = year_2013['date']"
   ]
  },
  {
   "cell_type": "code",
   "execution_count": null,
   "metadata": {},
   "outputs": [],
   "source": [
    "volume_per_month_2014 = year_2014['date']"
   ]
  },
  {
   "cell_type": "code",
   "execution_count": null,
   "metadata": {},
   "outputs": [],
   "source": [
    "volume_per_month_2015 = year_2015['date']"
   ]
  },
  {
   "cell_type": "code",
   "execution_count": null,
   "metadata": {},
   "outputs": [],
   "source": [
    "volume_per_month_2016 = year_2016['date']"
   ]
  },
  {
   "cell_type": "code",
   "execution_count": null,
   "metadata": {},
   "outputs": [],
   "source": [
    "volume_per_month_2017 = year_2017['date']"
   ]
  },
  {
   "cell_type": "code",
   "execution_count": null,
   "metadata": {},
   "outputs": [],
   "source": [
    "volume_per_month_2012.groupby(volume_per_month_2012.dt.month).count().plot(label=\"2012\")\n",
    "plt.legend()"
   ]
  },
  {
   "cell_type": "code",
   "execution_count": null,
   "metadata": {},
   "outputs": [],
   "source": [
    "volume_per_month_2012.groupby(volume_per_month_2012.dt.month).count().max()"
   ]
  },
  {
   "cell_type": "code",
   "execution_count": null,
   "metadata": {},
   "outputs": [],
   "source": [
    "volume_per_month_2013.groupby(volume_per_month_2013.dt.month).count().plot(label=\"2013\")\n",
    "plt.legend()"
   ]
  },
  {
   "cell_type": "code",
   "execution_count": null,
   "metadata": {},
   "outputs": [],
   "source": [
    "volume_per_month_2014.groupby(volume_per_month_2014.dt.month).count().plot(label=\"2014\")\n",
    "plt.legend()"
   ]
  },
  {
   "cell_type": "code",
   "execution_count": null,
   "metadata": {},
   "outputs": [],
   "source": [
    "volume_per_month_2015.groupby(volume_per_month_2015.dt.month).count().plot(label=\"2015\")\n",
    "plt.legend()"
   ]
  },
  {
   "cell_type": "code",
   "execution_count": null,
   "metadata": {},
   "outputs": [],
   "source": [
    "volume_per_month_2016.groupby(volume_per_month_2016.dt.month).count().plot(label=\"2016\")\n",
    "plt.legend()"
   ]
  },
  {
   "cell_type": "code",
   "execution_count": null,
   "metadata": {},
   "outputs": [],
   "source": [
    "volume_per_month_2017.groupby(volume_per_month_2017.dt.month).count().plot(label=\"2017\")\n",
    "plt.legend()"
   ]
  }
 ],
 "metadata": {
  "interpreter": {
   "hash": "5f15e1cb9d6d612925d6246ed59693829277a4bc8e4e565041aad7c1eb71fee3"
  },
  "kernelspec": {
   "display_name": "Python 3",
   "language": "python",
   "name": "python3"
  },
  "language_info": {
   "codemirror_mode": {
    "name": "ipython",
    "version": 3
   },
   "file_extension": ".py",
   "mimetype": "text/x-python",
   "name": "python",
   "nbconvert_exporter": "python",
   "pygments_lexer": "ipython3",
   "version": "3.7.6"
  }
 },
 "nbformat": 4,
 "nbformat_minor": 5
}
