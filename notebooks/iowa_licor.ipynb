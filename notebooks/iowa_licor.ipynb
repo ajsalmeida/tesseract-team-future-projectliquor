{
 "cells": [
  {
   "cell_type": "code",
   "execution_count": 1,
   "metadata": {},
   "outputs": [],
   "source": [
    "import pandas as pd\n",
    "\n",
    "from iowalicor.dataset import get_iowa_licor_dataset"
   ]
  },
  {
   "cell_type": "code",
   "execution_count": 2,
   "metadata": {},
   "outputs": [
    {
     "name": "stdout",
     "output_type": "stream",
     "text": [
      "Done!\n"
     ]
    }
   ],
   "source": [
    "get_iowa_licor_dataset()"
   ]
  }
 ],
 "metadata": {
  "interpreter": {
   "hash": "5f15e1cb9d6d612925d6246ed59693829277a4bc8e4e565041aad7c1eb71fee3"
  },
  "kernelspec": {
   "display_name": "Python 3.8.10 64-bit ('iowalicor-e8HhPf_A-py3.8': poetry)",
   "name": "python3"
  },
  "language_info": {
   "codemirror_mode": {
    "name": "ipython",
    "version": 3
   },
   "file_extension": ".py",
   "mimetype": "text/x-python",
   "name": "python",
   "nbconvert_exporter": "python",
   "pygments_lexer": "ipython3",
   "version": "3.8.10"
  },
  "orig_nbformat": 4
 },
 "nbformat": 4,
 "nbformat_minor": 2
}
