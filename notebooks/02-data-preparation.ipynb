{
 "cells": [
  {
   "cell_type": "code",
   "execution_count": 19,
   "id": "47d2b69d-53f2-4633-b944-ea75a834a18a",
   "metadata": {},
   "outputs": [],
   "source": [
    "import pandas as pd\n",
    "import numpy as np\n",
    "from slugify import slugify\n",
    "pd.set_option('display.max_columns', None)"
   ]
  },
  {
   "cell_type": "code",
   "execution_count": 24,
   "id": "ff569682-69b6-40a7-ae09-1acfa0991062",
   "metadata": {},
   "outputs": [],
   "source": [
    "df = pd.read_csv(\"../data/raw/iowa_liquor_train_test_split_sample.csv\")"
   ]
  },
  {
   "cell_type": "code",
   "execution_count": 28,
   "id": "46280403-78da-400b-9834-0659f0ecc5dd",
   "metadata": {},
   "outputs": [
    {
     "data": {
      "text/plain": [
       "Index(['unnamed_0', 'invoice_item_number', 'date', 'store_number',\n",
       "       'store_name', 'address', 'city', 'zip_code', 'store_location',\n",
       "       'county_number', 'county', 'category', 'category_name', 'vendor_number',\n",
       "       'vendor_name', 'item_number', 'item_description', 'pack',\n",
       "       'bottle_volume_ml', 'state_bottle_cost', 'state_bottle_retail',\n",
       "       'bottles_sold', 'sale_dollars', 'volume_sold_liters',\n",
       "       'volume_sold_gallons'],\n",
       "      dtype='object')"
      ]
     },
     "execution_count": 28,
     "metadata": {},
     "output_type": "execute_result"
    }
   ],
   "source": [
    "df.columns = [slugify(col, lowercase=True, separator='_') for col in df.columns]\n",
    "df.columns"
   ]
  },
  {
   "cell_type": "code",
   "execution_count": 29,
   "id": "b2b52c2f-6f57-495d-928a-bfd36b79735e",
   "metadata": {},
   "outputs": [
    {
     "data": {
      "text/html": [
       "<div>\n",
       "<style scoped>\n",
       "    .dataframe tbody tr th:only-of-type {\n",
       "        vertical-align: middle;\n",
       "    }\n",
       "\n",
       "    .dataframe tbody tr th {\n",
       "        vertical-align: top;\n",
       "    }\n",
       "\n",
       "    .dataframe thead th {\n",
       "        text-align: right;\n",
       "    }\n",
       "</style>\n",
       "<table border=\"1\" class=\"dataframe\">\n",
       "  <thead>\n",
       "    <tr style=\"text-align: right;\">\n",
       "      <th></th>\n",
       "      <th>unnamed_0</th>\n",
       "      <th>invoice_item_number</th>\n",
       "      <th>date</th>\n",
       "      <th>store_number</th>\n",
       "      <th>store_name</th>\n",
       "      <th>address</th>\n",
       "      <th>city</th>\n",
       "      <th>zip_code</th>\n",
       "      <th>store_location</th>\n",
       "      <th>county_number</th>\n",
       "      <th>county</th>\n",
       "      <th>category</th>\n",
       "      <th>category_name</th>\n",
       "      <th>vendor_number</th>\n",
       "      <th>vendor_name</th>\n",
       "      <th>item_number</th>\n",
       "      <th>item_description</th>\n",
       "      <th>pack</th>\n",
       "      <th>bottle_volume_ml</th>\n",
       "      <th>state_bottle_cost</th>\n",
       "      <th>state_bottle_retail</th>\n",
       "      <th>bottles_sold</th>\n",
       "      <th>sale_dollars</th>\n",
       "      <th>volume_sold_liters</th>\n",
       "      <th>volume_sold_gallons</th>\n",
       "    </tr>\n",
       "  </thead>\n",
       "  <tbody>\n",
       "    <tr>\n",
       "      <th>0</th>\n",
       "      <td>2364808</td>\n",
       "      <td>S10798700028</td>\n",
       "      <td>02/26/2013</td>\n",
       "      <td>4347</td>\n",
       "      <td>Jeff's Market / Blue Grass</td>\n",
       "      <td>102 W MAYNE</td>\n",
       "      <td>BLUE GRASS</td>\n",
       "      <td>52726</td>\n",
       "      <td>102 W MAYNE\\nBLUE GRASS 52726\\n(41.509114, -90...</td>\n",
       "      <td>82.0</td>\n",
       "      <td>Scott</td>\n",
       "      <td>1011200.0</td>\n",
       "      <td>STRAIGHT BOURBON WHISKIES</td>\n",
       "      <td>461.0</td>\n",
       "      <td>Campari(skyy)</td>\n",
       "      <td>22155</td>\n",
       "      <td>Wild Turkey 101 Round</td>\n",
       "      <td>12</td>\n",
       "      <td>375</td>\n",
       "      <td>$6.00</td>\n",
       "      <td>$8.99</td>\n",
       "      <td>1</td>\n",
       "      <td>$8.99</td>\n",
       "      <td>0.38</td>\n",
       "      <td>0.1</td>\n",
       "    </tr>\n",
       "  </tbody>\n",
       "</table>\n",
       "</div>"
      ],
      "text/plain": [
       "   unnamed_0 invoice_item_number        date  store_number  \\\n",
       "0    2364808        S10798700028  02/26/2013          4347   \n",
       "\n",
       "                   store_name      address        city zip_code  \\\n",
       "0  Jeff's Market / Blue Grass  102 W MAYNE  BLUE GRASS    52726   \n",
       "\n",
       "                                      store_location  county_number county  \\\n",
       "0  102 W MAYNE\\nBLUE GRASS 52726\\n(41.509114, -90...           82.0  Scott   \n",
       "\n",
       "    category              category_name  vendor_number    vendor_name  \\\n",
       "0  1011200.0  STRAIGHT BOURBON WHISKIES          461.0  Campari(skyy)   \n",
       "\n",
       "   item_number       item_description  pack  bottle_volume_ml  \\\n",
       "0        22155  Wild Turkey 101 Round    12               375   \n",
       "\n",
       "  state_bottle_cost state_bottle_retail  bottles_sold sale_dollars  \\\n",
       "0             $6.00               $8.99             1        $8.99   \n",
       "\n",
       "   volume_sold_liters  volume_sold_gallons  \n",
       "0                0.38                  0.1  "
      ]
     },
     "execution_count": 29,
     "metadata": {},
     "output_type": "execute_result"
    }
   ],
   "source": [
    "df.head(1)"
   ]
  },
  {
   "cell_type": "code",
   "execution_count": 33,
   "id": "713a8acb-7798-4bfc-8c54-e8839395cf71",
   "metadata": {},
   "outputs": [],
   "source": [
    "df = df.drop(columns=['unnamed_0', 'invoice_item_number','store_number','store_name','address','zip_code','category','vendor_number','vendor_name','item_number','pack','bottle_volume_ml','state_bottle_cost','bottles_sold','volume_sold_gallons'])"
   ]
  },
  {
   "cell_type": "code",
   "execution_count": 34,
   "id": "767ebdf8-9f99-444c-9533-dd23f2d624af",
   "metadata": {},
   "outputs": [
    {
     "data": {
      "text/html": [
       "<div>\n",
       "<style scoped>\n",
       "    .dataframe tbody tr th:only-of-type {\n",
       "        vertical-align: middle;\n",
       "    }\n",
       "\n",
       "    .dataframe tbody tr th {\n",
       "        vertical-align: top;\n",
       "    }\n",
       "\n",
       "    .dataframe thead th {\n",
       "        text-align: right;\n",
       "    }\n",
       "</style>\n",
       "<table border=\"1\" class=\"dataframe\">\n",
       "  <thead>\n",
       "    <tr style=\"text-align: right;\">\n",
       "      <th></th>\n",
       "      <th>date</th>\n",
       "      <th>city</th>\n",
       "      <th>store_location</th>\n",
       "      <th>county_number</th>\n",
       "      <th>county</th>\n",
       "      <th>category_name</th>\n",
       "      <th>item_description</th>\n",
       "      <th>state_bottle_retail</th>\n",
       "      <th>sale_dollars</th>\n",
       "      <th>volume_sold_liters</th>\n",
       "    </tr>\n",
       "  </thead>\n",
       "  <tbody>\n",
       "    <tr>\n",
       "      <th>0</th>\n",
       "      <td>02/26/2013</td>\n",
       "      <td>BLUE GRASS</td>\n",
       "      <td>102 W MAYNE\\nBLUE GRASS 52726\\n(41.509114, -90...</td>\n",
       "      <td>82.0</td>\n",
       "      <td>Scott</td>\n",
       "      <td>STRAIGHT BOURBON WHISKIES</td>\n",
       "      <td>Wild Turkey 101 Round</td>\n",
       "      <td>$8.99</td>\n",
       "      <td>$8.99</td>\n",
       "      <td>0.38</td>\n",
       "    </tr>\n",
       "    <tr>\n",
       "      <th>1</th>\n",
       "      <td>08/22/2017</td>\n",
       "      <td>Indianola</td>\n",
       "      <td>1500 North Jefferson\\nIndianola 50125\\n</td>\n",
       "      <td>91.0</td>\n",
       "      <td>WARREN</td>\n",
       "      <td>Canadian Whiskies</td>\n",
       "      <td>Crown Royal Canadian Whisky</td>\n",
       "      <td>$47.99</td>\n",
       "      <td>$287.94</td>\n",
       "      <td>1.75</td>\n",
       "    </tr>\n",
       "    <tr>\n",
       "      <th>2</th>\n",
       "      <td>08/28/2013</td>\n",
       "      <td>STORM LAKE</td>\n",
       "      <td>1250 N LAKE ST\\nSTORM LAKE 50588\\n(42.653594, ...</td>\n",
       "      <td>11.0</td>\n",
       "      <td>Buena Vista</td>\n",
       "      <td>DISTILLED SPIRITS SPECIALTY</td>\n",
       "      <td>Firefly Strawberry Moonshine</td>\n",
       "      <td>$14.82</td>\n",
       "      <td>$29.64</td>\n",
       "      <td>1.50</td>\n",
       "    </tr>\n",
       "    <tr>\n",
       "      <th>3</th>\n",
       "      <td>03/26/2013</td>\n",
       "      <td>MANNING</td>\n",
       "      <td>316 MAIN ST\\nMANNING 51455\\n(41.908573, -95.06...</td>\n",
       "      <td>14.0</td>\n",
       "      <td>Carroll</td>\n",
       "      <td>IMPORTED SCHNAPPS</td>\n",
       "      <td>Rumple Minze Peppermint Schnapps Liqueur</td>\n",
       "      <td>$22.72</td>\n",
       "      <td>$22.72</td>\n",
       "      <td>1.00</td>\n",
       "    </tr>\n",
       "    <tr>\n",
       "      <th>4</th>\n",
       "      <td>08/17/2017</td>\n",
       "      <td>Des Moines</td>\n",
       "      <td>218, 6th Ave #101\\nDes Moines 50309\\n(41.58568...</td>\n",
       "      <td>77.0</td>\n",
       "      <td>POLK</td>\n",
       "      <td>Mixto Tequila</td>\n",
       "      <td>Jose Cuervo Especial Reposado Tequila Mini</td>\n",
       "      <td>$17.25</td>\n",
       "      <td>$17.25</td>\n",
       "      <td>0.50</td>\n",
       "    </tr>\n",
       "  </tbody>\n",
       "</table>\n",
       "</div>"
      ],
      "text/plain": [
       "         date        city                                     store_location  \\\n",
       "0  02/26/2013  BLUE GRASS  102 W MAYNE\\nBLUE GRASS 52726\\n(41.509114, -90...   \n",
       "1  08/22/2017   Indianola            1500 North Jefferson\\nIndianola 50125\\n   \n",
       "2  08/28/2013  STORM LAKE  1250 N LAKE ST\\nSTORM LAKE 50588\\n(42.653594, ...   \n",
       "3  03/26/2013     MANNING  316 MAIN ST\\nMANNING 51455\\n(41.908573, -95.06...   \n",
       "4  08/17/2017  Des Moines  218, 6th Ave #101\\nDes Moines 50309\\n(41.58568...   \n",
       "\n",
       "   county_number       county                category_name  \\\n",
       "0           82.0        Scott    STRAIGHT BOURBON WHISKIES   \n",
       "1           91.0       WARREN            Canadian Whiskies   \n",
       "2           11.0  Buena Vista  DISTILLED SPIRITS SPECIALTY   \n",
       "3           14.0      Carroll            IMPORTED SCHNAPPS   \n",
       "4           77.0         POLK                Mixto Tequila   \n",
       "\n",
       "                             item_description state_bottle_retail  \\\n",
       "0                       Wild Turkey 101 Round               $8.99   \n",
       "1                 Crown Royal Canadian Whisky              $47.99   \n",
       "2                Firefly Strawberry Moonshine              $14.82   \n",
       "3    Rumple Minze Peppermint Schnapps Liqueur              $22.72   \n",
       "4  Jose Cuervo Especial Reposado Tequila Mini              $17.25   \n",
       "\n",
       "  sale_dollars  volume_sold_liters  \n",
       "0        $8.99                0.38  \n",
       "1      $287.94                1.75  \n",
       "2       $29.64                1.50  \n",
       "3       $22.72                1.00  \n",
       "4       $17.25                0.50  "
      ]
     },
     "execution_count": 34,
     "metadata": {},
     "output_type": "execute_result"
    }
   ],
   "source": [
    "df.head()"
   ]
  },
  {
   "cell_type": "code",
   "execution_count": 46,
   "id": "c241c702-4027-4db0-88bf-b6a2c1afc0c2",
   "metadata": {},
   "outputs": [
    {
     "data": {
      "text/plain": [
       "(2518216, 10)"
      ]
     },
     "execution_count": 46,
     "metadata": {},
     "output_type": "execute_result"
    }
   ],
   "source": [
    "df.shape"
   ]
  },
  {
   "cell_type": "code",
   "execution_count": 40,
   "id": "53ad7123-f705-42d6-911c-d3ca27448a6e",
   "metadata": {},
   "outputs": [
    {
     "data": {
      "text/plain": [
       "(0, 10)"
      ]
     },
     "execution_count": 40,
     "metadata": {},
     "output_type": "execute_result"
    }
   ],
   "source": [
    "df[df['date'].isna()].shape"
   ]
  },
  {
   "cell_type": "code",
   "execution_count": 39,
   "id": "472a95ee-ca68-474f-8e4f-ba41cf37d33e",
   "metadata": {},
   "outputs": [
    {
     "data": {
      "text/plain": [
       "(467, 10)"
      ]
     },
     "execution_count": 39,
     "metadata": {},
     "output_type": "execute_result"
    }
   ],
   "source": [
    "df[df['city'].isna()].shape"
   ]
  },
  {
   "cell_type": "code",
   "execution_count": 41,
   "id": "96e9b103-171b-4bce-92b2-2a742c6cb42e",
   "metadata": {},
   "outputs": [
    {
     "data": {
      "text/plain": [
       "(467, 10)"
      ]
     },
     "execution_count": 41,
     "metadata": {},
     "output_type": "execute_result"
    }
   ],
   "source": [
    "df[df['store_location'].isna()].shape"
   ]
  },
  {
   "cell_type": "code",
   "execution_count": 42,
   "id": "b4356efd-951e-4e26-84e3-9ca8dacd155a",
   "metadata": {},
   "outputs": [
    {
     "data": {
      "text/plain": [
       "(15650, 10)"
      ]
     },
     "execution_count": 42,
     "metadata": {},
     "output_type": "execute_result"
    }
   ],
   "source": [
    "df[df['county_number'].isna()].shape"
   ]
  },
  {
   "cell_type": "code",
   "execution_count": 43,
   "id": "e3c9a3ba-fe3a-49a1-b812-4c07b2773e63",
   "metadata": {},
   "outputs": [
    {
     "data": {
      "text/plain": [
       "(15650, 10)"
      ]
     },
     "execution_count": 43,
     "metadata": {},
     "output_type": "execute_result"
    }
   ],
   "source": [
    "df[df['county'].isna()].shape"
   ]
  },
  {
   "cell_type": "code",
   "execution_count": 44,
   "id": "c4e3eb42-24e4-4325-9937-611f7e49930d",
   "metadata": {},
   "outputs": [
    {
     "data": {
      "text/plain": [
       "(3335, 10)"
      ]
     },
     "execution_count": 44,
     "metadata": {},
     "output_type": "execute_result"
    }
   ],
   "source": [
    "df[df['category_name'].isna()].shape"
   ]
  },
  {
   "cell_type": "code",
   "execution_count": null,
   "id": "ec920167-22c6-4ef8-a7f2-f5ffb41a50bc",
   "metadata": {},
   "outputs": [],
   "source": []
  }
 ],
 "metadata": {
  "kernelspec": {
   "display_name": "Python 3",
   "language": "python",
   "name": "python3"
  },
  "language_info": {
   "codemirror_mode": {
    "name": "ipython",
    "version": 3
   },
   "file_extension": ".py",
   "mimetype": "text/x-python",
   "name": "python",
   "nbconvert_exporter": "python",
   "pygments_lexer": "ipython3",
   "version": "3.8.8"
  }
 },
 "nbformat": 4,
 "nbformat_minor": 5
}
