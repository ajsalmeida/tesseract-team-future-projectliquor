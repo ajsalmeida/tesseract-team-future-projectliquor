{
 "cells": [
  {
   "cell_type": "code",
   "execution_count": 53,
   "id": "b5857225-d669-4d1f-9fb2-442962ee9899",
   "metadata": {},
   "outputs": [],
   "source": [
    "import pandas as pd\n",
    "import numpy as np\n",
    "from slugify import slugify\n",
    "pd.set_option('display.max_columns', None)\n",
    "pd. set_option(\"display.max_rows\", None)\n",
    "from Levenshtein import distance"
   ]
  },
  {
   "cell_type": "markdown",
   "id": "7a50d6a5-6022-4915-b9f1-8db473cb8d5d",
   "metadata": {},
   "source": [
    "## I. Selecionar os dados: determinar quais conjuntos de dados serão utilizados e documentar os motivos de inclusão/exclusão."
   ]
  },
  {
   "cell_type": "code",
   "execution_count": 54,
   "id": "ff569682-69b6-40a7-ae09-1acfa0991062",
   "metadata": {},
   "outputs": [],
   "source": [
    "#df = pd.read_csv(\"../data/raw/iowa_liquor_train_test_split_sample.csv\")"
   ]
  },
  {
   "cell_type": "code",
   "execution_count": 55,
   "id": "d6237c09-74d0-4281-80ae-3fb328d09567",
   "metadata": {},
   "outputs": [],
   "source": [
    "#df.head()"
   ]
  },
  {
   "cell_type": "code",
   "execution_count": 56,
   "id": "a366175a-0fe5-4d9f-94ab-2108ba95152a",
   "metadata": {},
   "outputs": [],
   "source": [
    "df = pd.read_csv(\"../data/raw/iowa_liquor_train_test_split_sample.csv\", usecols=[2,10,22,23],encoding='utf-8')"
   ]
  },
  {
   "cell_type": "code",
   "execution_count": 57,
   "id": "46280403-78da-400b-9834-0659f0ecc5dd",
   "metadata": {},
   "outputs": [
    {
     "data": {
      "text/plain": [
       "Index(['date', 'county', 'sale_dollars', 'volume_sold_liters'], dtype='object')"
      ]
     },
     "execution_count": 57,
     "metadata": {},
     "output_type": "execute_result"
    }
   ],
   "source": [
    "df.columns = [slugify(col, lowercase=True, separator='_') for col in df.columns]\n",
    "df.columns"
   ]
  },
  {
   "cell_type": "markdown",
   "id": "97b5a34d-6305-49a8-bcff-6d79798fe2f7",
   "metadata": {},
   "source": [
    "df.head(1)"
   ]
  },
  {
   "cell_type": "markdown",
   "id": "8f18e48f-a9d6-4c2a-950a-4cf759390ff0",
   "metadata": {},
   "source": [
    "### Remoção das colunas as quais não iremos utilizar\n",
    "#### Vamos deixar somente as colunas data, salle_dollars, volume_sold_liters, pois vamos realizar regressão linear em dados numéricos\n",
    "#### Vamos deixar a coluna county para poder utilizar regressão linear e prever o volume em litros e o valor em dolares"
   ]
  },
  {
   "cell_type": "code",
   "execution_count": 58,
   "id": "767ebdf8-9f99-444c-9533-dd23f2d624af",
   "metadata": {},
   "outputs": [
    {
     "name": "stdout",
     "output_type": "stream",
     "text": [
      "<class 'pandas.core.frame.DataFrame'>\n",
      "RangeIndex: 2518216 entries, 0 to 2518215\n",
      "Data columns (total 4 columns):\n",
      " #   Column              Dtype  \n",
      "---  ------              -----  \n",
      " 0   date                object \n",
      " 1   county              object \n",
      " 2   sale_dollars        object \n",
      " 3   volume_sold_liters  float64\n",
      "dtypes: float64(1), object(3)\n",
      "memory usage: 76.8+ MB\n"
     ]
    }
   ],
   "source": [
    "df.info()"
   ]
  },
  {
   "cell_type": "code",
   "execution_count": 59,
   "id": "970e0b32-a4b4-466d-ba60-ce878ef75380",
   "metadata": {},
   "outputs": [
    {
     "data": {
      "text/html": [
       "<div>\n",
       "<style scoped>\n",
       "    .dataframe tbody tr th:only-of-type {\n",
       "        vertical-align: middle;\n",
       "    }\n",
       "\n",
       "    .dataframe tbody tr th {\n",
       "        vertical-align: top;\n",
       "    }\n",
       "\n",
       "    .dataframe thead th {\n",
       "        text-align: right;\n",
       "    }\n",
       "</style>\n",
       "<table border=\"1\" class=\"dataframe\">\n",
       "  <thead>\n",
       "    <tr style=\"text-align: right;\">\n",
       "      <th></th>\n",
       "      <th>date</th>\n",
       "      <th>county</th>\n",
       "      <th>sale_dollars</th>\n",
       "      <th>volume_sold_liters</th>\n",
       "    </tr>\n",
       "  </thead>\n",
       "  <tbody>\n",
       "    <tr>\n",
       "      <th>0</th>\n",
       "      <td>02/26/2013</td>\n",
       "      <td>Scott</td>\n",
       "      <td>$8.99</td>\n",
       "      <td>0.38</td>\n",
       "    </tr>\n",
       "    <tr>\n",
       "      <th>1</th>\n",
       "      <td>08/22/2017</td>\n",
       "      <td>WARREN</td>\n",
       "      <td>$287.94</td>\n",
       "      <td>1.75</td>\n",
       "    </tr>\n",
       "    <tr>\n",
       "      <th>2</th>\n",
       "      <td>08/28/2013</td>\n",
       "      <td>Buena Vista</td>\n",
       "      <td>$29.64</td>\n",
       "      <td>1.50</td>\n",
       "    </tr>\n",
       "    <tr>\n",
       "      <th>3</th>\n",
       "      <td>03/26/2013</td>\n",
       "      <td>Carroll</td>\n",
       "      <td>$22.72</td>\n",
       "      <td>1.00</td>\n",
       "    </tr>\n",
       "    <tr>\n",
       "      <th>4</th>\n",
       "      <td>08/17/2017</td>\n",
       "      <td>POLK</td>\n",
       "      <td>$17.25</td>\n",
       "      <td>0.50</td>\n",
       "    </tr>\n",
       "  </tbody>\n",
       "</table>\n",
       "</div>"
      ],
      "text/plain": [
       "         date       county sale_dollars  volume_sold_liters\n",
       "0  02/26/2013        Scott        $8.99                0.38\n",
       "1  08/22/2017       WARREN      $287.94                1.75\n",
       "2  08/28/2013  Buena Vista       $29.64                1.50\n",
       "3  03/26/2013      Carroll       $22.72                1.00\n",
       "4  08/17/2017         POLK       $17.25                0.50"
      ]
     },
     "execution_count": 59,
     "metadata": {},
     "output_type": "execute_result"
    }
   ],
   "source": [
    "df.head()"
   ]
  },
  {
   "cell_type": "code",
   "execution_count": 60,
   "id": "c241c702-4027-4db0-88bf-b6a2c1afc0c2",
   "metadata": {},
   "outputs": [
    {
     "data": {
      "text/plain": [
       "(2518216, 4)"
      ]
     },
     "execution_count": 60,
     "metadata": {},
     "output_type": "execute_result"
    }
   ],
   "source": [
    "df.shape"
   ]
  },
  {
   "cell_type": "code",
   "execution_count": 61,
   "id": "53ad7123-f705-42d6-911c-d3ca27448a6e",
   "metadata": {},
   "outputs": [
    {
     "data": {
      "text/plain": [
       "(0, 4)"
      ]
     },
     "execution_count": 61,
     "metadata": {},
     "output_type": "execute_result"
    }
   ],
   "source": [
    "df[df['date'].isna()].shape"
   ]
  },
  {
   "cell_type": "code",
   "execution_count": 62,
   "id": "ab5fa8b6-5989-4b3a-a6a2-8beb0822c8dc",
   "metadata": {},
   "outputs": [
    {
     "data": {
      "text/html": [
       "<div>\n",
       "<style scoped>\n",
       "    .dataframe tbody tr th:only-of-type {\n",
       "        vertical-align: middle;\n",
       "    }\n",
       "\n",
       "    .dataframe tbody tr th {\n",
       "        vertical-align: top;\n",
       "    }\n",
       "\n",
       "    .dataframe thead th {\n",
       "        text-align: right;\n",
       "    }\n",
       "</style>\n",
       "<table border=\"1\" class=\"dataframe\">\n",
       "  <thead>\n",
       "    <tr style=\"text-align: right;\">\n",
       "      <th></th>\n",
       "      <th>date</th>\n",
       "      <th>county</th>\n",
       "      <th>sale_dollars</th>\n",
       "      <th>volume_sold_liters</th>\n",
       "    </tr>\n",
       "  </thead>\n",
       "  <tbody>\n",
       "    <tr>\n",
       "      <th>112</th>\n",
       "      <td>07/29/2016</td>\n",
       "      <td>NaN</td>\n",
       "      <td>$89.58</td>\n",
       "      <td>10.50</td>\n",
       "    </tr>\n",
       "    <tr>\n",
       "      <th>270</th>\n",
       "      <td>03/02/2016</td>\n",
       "      <td>NaN</td>\n",
       "      <td>$5.67</td>\n",
       "      <td>0.50</td>\n",
       "    </tr>\n",
       "    <tr>\n",
       "      <th>301</th>\n",
       "      <td>07/29/2016</td>\n",
       "      <td>NaN</td>\n",
       "      <td>$9.64</td>\n",
       "      <td>0.75</td>\n",
       "    </tr>\n",
       "    <tr>\n",
       "      <th>373</th>\n",
       "      <td>04/04/2016</td>\n",
       "      <td>NaN</td>\n",
       "      <td>$166.44</td>\n",
       "      <td>4.50</td>\n",
       "    </tr>\n",
       "    <tr>\n",
       "      <th>462</th>\n",
       "      <td>08/10/2016</td>\n",
       "      <td>NaN</td>\n",
       "      <td>$75.60</td>\n",
       "      <td>9.00</td>\n",
       "    </tr>\n",
       "  </tbody>\n",
       "</table>\n",
       "</div>"
      ],
      "text/plain": [
       "           date county sale_dollars  volume_sold_liters\n",
       "112  07/29/2016    NaN       $89.58               10.50\n",
       "270  03/02/2016    NaN        $5.67                0.50\n",
       "301  07/29/2016    NaN        $9.64                0.75\n",
       "373  04/04/2016    NaN      $166.44                4.50\n",
       "462  08/10/2016    NaN       $75.60                9.00"
      ]
     },
     "execution_count": 62,
     "metadata": {},
     "output_type": "execute_result"
    }
   ],
   "source": [
    "df[df['county'].isna()].head()"
   ]
  },
  {
   "cell_type": "code",
   "execution_count": 63,
   "id": "6d4868cd-6659-4471-b6f3-0d55eea62b2f",
   "metadata": {},
   "outputs": [
    {
     "data": {
      "text/plain": [
       "(2, 4)"
      ]
     },
     "execution_count": 63,
     "metadata": {},
     "output_type": "execute_result"
    }
   ],
   "source": [
    "df[df['sale_dollars'].isna()].shape"
   ]
  },
  {
   "cell_type": "code",
   "execution_count": 64,
   "id": "df9110fd-5a30-4010-8577-43a983aa5c91",
   "metadata": {},
   "outputs": [
    {
     "data": {
      "text/plain": [
       "(0, 4)"
      ]
     },
     "execution_count": 64,
     "metadata": {},
     "output_type": "execute_result"
    }
   ],
   "source": [
    "df[df['volume_sold_liters'].isna()].shape"
   ]
  },
  {
   "cell_type": "markdown",
   "id": "ca5e6e96-339d-4d1c-b13c-04a208988292",
   "metadata": {},
   "source": [
    "## II. Limpar dados: Corrigir, imputar ou remover valores erroneamente inseridos nos conjuntos de dados."
   ]
  },
  {
   "cell_type": "markdown",
   "id": "10a4097d-01b8-4960-bab2-7ade0f5fc576",
   "metadata": {},
   "source": [
    "#### - Os dados nan serão removidos pois não é possível recuperar o nome do condado pelo conjunto de dados atual\n",
    "#### - Realizamos o slugfy para padronizar os nomes dos condados\n",
    "#### - Colocamos a coluna date em formato date"
   ]
  },
  {
   "cell_type": "code",
   "execution_count": 65,
   "id": "c36f3fd2-2893-40de-9c75-0c22a46775c0",
   "metadata": {},
   "outputs": [],
   "source": [
    "df = df.dropna()"
   ]
  },
  {
   "cell_type": "code",
   "execution_count": 66,
   "id": "c94c66d1-14a9-4a2d-a945-b0d5591df767",
   "metadata": {},
   "outputs": [],
   "source": [
    "df['county']=df['county'].apply(slugify)"
   ]
  },
  {
   "cell_type": "markdown",
   "id": "964216b8-e878-4dd1-9991-1c4ff326006c",
   "metadata": {},
   "source": [
    "#### Transformando a coluna data para formato date"
   ]
  },
  {
   "cell_type": "code",
   "execution_count": 67,
   "id": "fa31437b-63b7-421d-a37c-2b7caf489342",
   "metadata": {},
   "outputs": [],
   "source": [
    "df['date'] = pd.to_datetime(df['date'])"
   ]
  },
  {
   "cell_type": "code",
   "execution_count": 68,
   "id": "96a8dbfa-e594-44e7-84ee-f338a8309068",
   "metadata": {},
   "outputs": [
    {
     "data": {
      "text/html": [
       "<div>\n",
       "<style scoped>\n",
       "    .dataframe tbody tr th:only-of-type {\n",
       "        vertical-align: middle;\n",
       "    }\n",
       "\n",
       "    .dataframe tbody tr th {\n",
       "        vertical-align: top;\n",
       "    }\n",
       "\n",
       "    .dataframe thead th {\n",
       "        text-align: right;\n",
       "    }\n",
       "</style>\n",
       "<table border=\"1\" class=\"dataframe\">\n",
       "  <thead>\n",
       "    <tr style=\"text-align: right;\">\n",
       "      <th></th>\n",
       "      <th>date</th>\n",
       "      <th>county</th>\n",
       "      <th>sale_dollars</th>\n",
       "      <th>volume_sold_liters</th>\n",
       "    </tr>\n",
       "  </thead>\n",
       "  <tbody>\n",
       "    <tr>\n",
       "      <th>0</th>\n",
       "      <td>2013-02-26</td>\n",
       "      <td>scott</td>\n",
       "      <td>$8.99</td>\n",
       "      <td>0.38</td>\n",
       "    </tr>\n",
       "    <tr>\n",
       "      <th>1</th>\n",
       "      <td>2017-08-22</td>\n",
       "      <td>warren</td>\n",
       "      <td>$287.94</td>\n",
       "      <td>1.75</td>\n",
       "    </tr>\n",
       "    <tr>\n",
       "      <th>2</th>\n",
       "      <td>2013-08-28</td>\n",
       "      <td>buena-vista</td>\n",
       "      <td>$29.64</td>\n",
       "      <td>1.50</td>\n",
       "    </tr>\n",
       "    <tr>\n",
       "      <th>3</th>\n",
       "      <td>2013-03-26</td>\n",
       "      <td>carroll</td>\n",
       "      <td>$22.72</td>\n",
       "      <td>1.00</td>\n",
       "    </tr>\n",
       "    <tr>\n",
       "      <th>4</th>\n",
       "      <td>2017-08-17</td>\n",
       "      <td>polk</td>\n",
       "      <td>$17.25</td>\n",
       "      <td>0.50</td>\n",
       "    </tr>\n",
       "  </tbody>\n",
       "</table>\n",
       "</div>"
      ],
      "text/plain": [
       "        date       county sale_dollars  volume_sold_liters\n",
       "0 2013-02-26        scott        $8.99                0.38\n",
       "1 2017-08-22       warren      $287.94                1.75\n",
       "2 2013-08-28  buena-vista       $29.64                1.50\n",
       "3 2013-03-26      carroll       $22.72                1.00\n",
       "4 2017-08-17         polk       $17.25                0.50"
      ]
     },
     "execution_count": 68,
     "metadata": {},
     "output_type": "execute_result"
    }
   ],
   "source": [
    "df.head()"
   ]
  },
  {
   "cell_type": "code",
   "execution_count": 69,
   "id": "bfa64ec3-e4f8-4013-aa4c-8d3b59bbfa65",
   "metadata": {},
   "outputs": [],
   "source": [
    "counties = df['county'].unique()"
   ]
  },
  {
   "cell_type": "markdown",
   "id": "ff715b8f-1052-48c8-8889-15998ef0eda2",
   "metadata": {},
   "source": [
    "#### Procurando por mais inconsistências"
   ]
  },
  {
   "cell_type": "markdown",
   "id": "73a54e86-e8c1-48dc-af75-004c2c49a56b",
   "metadata": {},
   "source": [
    "##### - Verificamos aqui os Condados com nome parecido utilizando uma biblioteca a qual usa o algoritmo de levenstein para determinar distâncias entre strings\n",
    "##### - Padronizamos as colunas com valores monetários. Transformamos em float"
   ]
  },
  {
   "cell_type": "code",
   "execution_count": 70,
   "id": "b43aa7a9-c063-49c0-9945-3eda13925e8f",
   "metadata": {},
   "outputs": [
    {
     "name": "stdout",
     "output_type": "stream",
     "text": [
      "buena-vista\n",
      "cerro-gordo\n",
      "cerro-gord\n",
      "buena-vist\n",
      "o-brien\n",
      "obrien\n"
     ]
    }
   ],
   "source": [
    "for a in counties:\n",
    "    for b in reversed(counties):\n",
    "        if distance(a,b)==1:\n",
    "            print(a)"
   ]
  },
  {
   "cell_type": "code",
   "execution_count": 71,
   "id": "a0f61d88-f3c2-419b-9f9d-846b4267ab1c",
   "metadata": {},
   "outputs": [],
   "source": [
    "df['sale_dollars'] = df['sale_dollars'].replace({'\\$':''}, regex = True).astype(float)"
   ]
  },
  {
   "cell_type": "code",
   "execution_count": 72,
   "id": "af605e19-89dc-477c-850f-b041d4cd608a",
   "metadata": {},
   "outputs": [],
   "source": [
    "df['volume_sold_liters'] = df['volume_sold_liters'].astype(float)"
   ]
  },
  {
   "cell_type": "code",
   "execution_count": 73,
   "id": "1d42c4f2-7063-47b5-bfc2-0fc0b8d299d3",
   "metadata": {},
   "outputs": [
    {
     "data": {
      "text/html": [
       "<div>\n",
       "<style scoped>\n",
       "    .dataframe tbody tr th:only-of-type {\n",
       "        vertical-align: middle;\n",
       "    }\n",
       "\n",
       "    .dataframe tbody tr th {\n",
       "        vertical-align: top;\n",
       "    }\n",
       "\n",
       "    .dataframe thead th {\n",
       "        text-align: right;\n",
       "    }\n",
       "</style>\n",
       "<table border=\"1\" class=\"dataframe\">\n",
       "  <thead>\n",
       "    <tr style=\"text-align: right;\">\n",
       "      <th></th>\n",
       "      <th>date</th>\n",
       "      <th>county</th>\n",
       "      <th>sale_dollars</th>\n",
       "      <th>volume_sold_liters</th>\n",
       "    </tr>\n",
       "  </thead>\n",
       "  <tbody>\n",
       "    <tr>\n",
       "      <th>0</th>\n",
       "      <td>2013-02-26</td>\n",
       "      <td>scott</td>\n",
       "      <td>8.99</td>\n",
       "      <td>0.38</td>\n",
       "    </tr>\n",
       "    <tr>\n",
       "      <th>1</th>\n",
       "      <td>2017-08-22</td>\n",
       "      <td>warren</td>\n",
       "      <td>287.94</td>\n",
       "      <td>1.75</td>\n",
       "    </tr>\n",
       "    <tr>\n",
       "      <th>2</th>\n",
       "      <td>2013-08-28</td>\n",
       "      <td>buena-vista</td>\n",
       "      <td>29.64</td>\n",
       "      <td>1.50</td>\n",
       "    </tr>\n",
       "    <tr>\n",
       "      <th>3</th>\n",
       "      <td>2013-03-26</td>\n",
       "      <td>carroll</td>\n",
       "      <td>22.72</td>\n",
       "      <td>1.00</td>\n",
       "    </tr>\n",
       "    <tr>\n",
       "      <th>4</th>\n",
       "      <td>2017-08-17</td>\n",
       "      <td>polk</td>\n",
       "      <td>17.25</td>\n",
       "      <td>0.50</td>\n",
       "    </tr>\n",
       "  </tbody>\n",
       "</table>\n",
       "</div>"
      ],
      "text/plain": [
       "        date       county  sale_dollars  volume_sold_liters\n",
       "0 2013-02-26        scott          8.99                0.38\n",
       "1 2017-08-22       warren        287.94                1.75\n",
       "2 2013-08-28  buena-vista         29.64                1.50\n",
       "3 2013-03-26      carroll         22.72                1.00\n",
       "4 2017-08-17         polk         17.25                0.50"
      ]
     },
     "execution_count": 73,
     "metadata": {},
     "output_type": "execute_result"
    }
   ],
   "source": [
    "df.head()"
   ]
  },
  {
   "cell_type": "markdown",
   "id": "db3e1afc-12af-4562-afd4-1304337f2b5a",
   "metadata": {},
   "source": [
    "#### Utilizar os dados de 2016, pois é o mais recente e tem dados completos"
   ]
  },
  {
   "cell_type": "code",
   "execution_count": 74,
   "id": "f164da07-ee95-4520-a448-7bec095e1f8e",
   "metadata": {},
   "outputs": [],
   "source": [
    "df = df[df['date'].dt.year == 2016]"
   ]
  },
  {
   "cell_type": "code",
   "execution_count": 75,
   "id": "c02c988f-2ea8-41de-a64e-7d091cde8d00",
   "metadata": {},
   "outputs": [
    {
     "data": {
      "text/html": [
       "<div>\n",
       "<style scoped>\n",
       "    .dataframe tbody tr th:only-of-type {\n",
       "        vertical-align: middle;\n",
       "    }\n",
       "\n",
       "    .dataframe tbody tr th {\n",
       "        vertical-align: top;\n",
       "    }\n",
       "\n",
       "    .dataframe thead th {\n",
       "        text-align: right;\n",
       "    }\n",
       "</style>\n",
       "<table border=\"1\" class=\"dataframe\">\n",
       "  <thead>\n",
       "    <tr style=\"text-align: right;\">\n",
       "      <th></th>\n",
       "      <th>date</th>\n",
       "      <th>county</th>\n",
       "      <th>sale_dollars</th>\n",
       "      <th>volume_sold_liters</th>\n",
       "    </tr>\n",
       "  </thead>\n",
       "  <tbody>\n",
       "    <tr>\n",
       "      <th>10</th>\n",
       "      <td>2016-06-22</td>\n",
       "      <td>bremer</td>\n",
       "      <td>70.52</td>\n",
       "      <td>4.0</td>\n",
       "    </tr>\n",
       "    <tr>\n",
       "      <th>20</th>\n",
       "      <td>2016-12-16</td>\n",
       "      <td>hamilton</td>\n",
       "      <td>90.00</td>\n",
       "      <td>1.2</td>\n",
       "    </tr>\n",
       "    <tr>\n",
       "      <th>21</th>\n",
       "      <td>2016-12-22</td>\n",
       "      <td>scott</td>\n",
       "      <td>7.26</td>\n",
       "      <td>1.2</td>\n",
       "    </tr>\n",
       "    <tr>\n",
       "      <th>38</th>\n",
       "      <td>2016-01-19</td>\n",
       "      <td>page</td>\n",
       "      <td>376.32</td>\n",
       "      <td>42.0</td>\n",
       "    </tr>\n",
       "    <tr>\n",
       "      <th>39</th>\n",
       "      <td>2016-05-18</td>\n",
       "      <td>johnson</td>\n",
       "      <td>156.96</td>\n",
       "      <td>9.0</td>\n",
       "    </tr>\n",
       "  </tbody>\n",
       "</table>\n",
       "</div>"
      ],
      "text/plain": [
       "         date    county  sale_dollars  volume_sold_liters\n",
       "10 2016-06-22    bremer         70.52                 4.0\n",
       "20 2016-12-16  hamilton         90.00                 1.2\n",
       "21 2016-12-22     scott          7.26                 1.2\n",
       "38 2016-01-19      page        376.32                42.0\n",
       "39 2016-05-18   johnson        156.96                 9.0"
      ]
     },
     "execution_count": 75,
     "metadata": {},
     "output_type": "execute_result"
    }
   ],
   "source": [
    "df.head()"
   ]
  },
  {
   "cell_type": "markdown",
   "id": "a0462025-74c0-4eca-8c6c-cbfa96756003",
   "metadata": {},
   "source": [
    "## III. Construir dados: derivar novos atributos que serão úteis. Por exemplo, derivar o IMC de alguém a partir da altura e peso."
   ]
  },
  {
   "cell_type": "markdown",
   "id": "38b3225a-27b1-43a4-828a-906c8fbe00c7",
   "metadata": {},
   "source": [
    "#### - Agrupamos os dados por condado e realizamos as somas dos valores\n",
    "#### - Depois, coletamos os 5 condados por maior quantidade de litros vendidos"
   ]
  },
  {
   "cell_type": "code",
   "execution_count": 76,
   "id": "d1310330-da15-4bcb-aec9-6e0f4ec3880b",
   "metadata": {},
   "outputs": [],
   "source": [
    "county_group = df.groupby(by=[\"county\"]).sum()"
   ]
  },
  {
   "cell_type": "code",
   "execution_count": 77,
   "id": "9a0683be-777b-4707-9aab-7f60515f62ba",
   "metadata": {},
   "outputs": [
    {
     "data": {
      "text/html": [
       "<div>\n",
       "<style scoped>\n",
       "    .dataframe tbody tr th:only-of-type {\n",
       "        vertical-align: middle;\n",
       "    }\n",
       "\n",
       "    .dataframe tbody tr th {\n",
       "        vertical-align: top;\n",
       "    }\n",
       "\n",
       "    .dataframe thead th {\n",
       "        text-align: right;\n",
       "    }\n",
       "</style>\n",
       "<table border=\"1\" class=\"dataframe\">\n",
       "  <thead>\n",
       "    <tr style=\"text-align: right;\">\n",
       "      <th></th>\n",
       "      <th>sale_dollars</th>\n",
       "      <th>volume_sold_liters</th>\n",
       "    </tr>\n",
       "    <tr>\n",
       "      <th>county</th>\n",
       "      <th></th>\n",
       "      <th></th>\n",
       "    </tr>\n",
       "  </thead>\n",
       "  <tbody>\n",
       "    <tr>\n",
       "      <th>adair</th>\n",
       "      <td>78170.39</td>\n",
       "      <td>5304.73</td>\n",
       "    </tr>\n",
       "    <tr>\n",
       "      <th>adams</th>\n",
       "      <td>16566.53</td>\n",
       "      <td>1207.21</td>\n",
       "    </tr>\n",
       "    <tr>\n",
       "      <th>allamakee</th>\n",
       "      <td>146542.63</td>\n",
       "      <td>9515.25</td>\n",
       "    </tr>\n",
       "    <tr>\n",
       "      <th>appanoose</th>\n",
       "      <td>148019.33</td>\n",
       "      <td>9113.52</td>\n",
       "    </tr>\n",
       "    <tr>\n",
       "      <th>audubon</th>\n",
       "      <td>24182.22</td>\n",
       "      <td>2095.80</td>\n",
       "    </tr>\n",
       "  </tbody>\n",
       "</table>\n",
       "</div>"
      ],
      "text/plain": [
       "           sale_dollars  volume_sold_liters\n",
       "county                                     \n",
       "adair          78170.39             5304.73\n",
       "adams          16566.53             1207.21\n",
       "allamakee     146542.63             9515.25\n",
       "appanoose     148019.33             9113.52\n",
       "audubon        24182.22             2095.80"
      ]
     },
     "execution_count": 77,
     "metadata": {},
     "output_type": "execute_result"
    }
   ],
   "source": [
    "county_group.head()"
   ]
  },
  {
   "cell_type": "code",
   "execution_count": 78,
   "id": "aa00ab0f-5cd8-4a25-a2cd-83a3b3d34829",
   "metadata": {},
   "outputs": [],
   "source": [
    "most = county_group.nlargest(5, ['volume_sold_liters'])"
   ]
  },
  {
   "cell_type": "code",
   "execution_count": 79,
   "id": "483cf715-e2b0-4cd3-b07b-2e91f9ac1f71",
   "metadata": {},
   "outputs": [
    {
     "data": {
      "text/html": [
       "<div>\n",
       "<style scoped>\n",
       "    .dataframe tbody tr th:only-of-type {\n",
       "        vertical-align: middle;\n",
       "    }\n",
       "\n",
       "    .dataframe tbody tr th {\n",
       "        vertical-align: top;\n",
       "    }\n",
       "\n",
       "    .dataframe thead th {\n",
       "        text-align: right;\n",
       "    }\n",
       "</style>\n",
       "<table border=\"1\" class=\"dataframe\">\n",
       "  <thead>\n",
       "    <tr style=\"text-align: right;\">\n",
       "      <th></th>\n",
       "      <th>sale_dollars</th>\n",
       "      <th>volume_sold_liters</th>\n",
       "    </tr>\n",
       "    <tr>\n",
       "      <th>county</th>\n",
       "      <th></th>\n",
       "      <th></th>\n",
       "    </tr>\n",
       "  </thead>\n",
       "  <tbody>\n",
       "    <tr>\n",
       "      <th>polk</th>\n",
       "      <td>1.110619e+07</td>\n",
       "      <td>600075.43</td>\n",
       "    </tr>\n",
       "    <tr>\n",
       "      <th>linn</th>\n",
       "      <td>4.266498e+06</td>\n",
       "      <td>253583.50</td>\n",
       "    </tr>\n",
       "    <tr>\n",
       "      <th>scott</th>\n",
       "      <td>3.319892e+06</td>\n",
       "      <td>178965.03</td>\n",
       "    </tr>\n",
       "    <tr>\n",
       "      <th>johnson</th>\n",
       "      <td>2.929709e+06</td>\n",
       "      <td>161005.70</td>\n",
       "    </tr>\n",
       "    <tr>\n",
       "      <th>black-hawk</th>\n",
       "      <td>2.786531e+06</td>\n",
       "      <td>154994.32</td>\n",
       "    </tr>\n",
       "  </tbody>\n",
       "</table>\n",
       "</div>"
      ],
      "text/plain": [
       "            sale_dollars  volume_sold_liters\n",
       "county                                      \n",
       "polk        1.110619e+07           600075.43\n",
       "linn        4.266498e+06           253583.50\n",
       "scott       3.319892e+06           178965.03\n",
       "johnson     2.929709e+06           161005.70\n",
       "black-hawk  2.786531e+06           154994.32"
      ]
     },
     "execution_count": 79,
     "metadata": {},
     "output_type": "execute_result"
    }
   ],
   "source": [
    "most.head()"
   ]
  },
  {
   "cell_type": "markdown",
   "id": "3526a2ce-3cae-490b-a0a8-5bd54f6a51c6",
   "metadata": {},
   "source": [
    "## IV. Integrar dados: criar novos conjuntos de dados combinando dados de várias fontes."
   ]
  },
  {
   "cell_type": "markdown",
   "id": "0599e864-2947-46b0-8232-60f85a3771f3",
   "metadata": {},
   "source": [
    "#### - Encontramos um dataset com a estimativa populacional de anos que convergiam com o dataset de vendas de bebidas\n",
    "#### - Utilizamos 3 colunas: STNAME,CTYNAME,POPESTIMATE, representando respectivamente, estado e população daquele condado\n",
    "#### - Filtramos pelo estado do IOWA, depois removemos a coluna estado\n",
    "#### - Padronizamos o nome do condado com regex e slugify"
   ]
  },
  {
   "cell_type": "code",
   "execution_count": 80,
   "id": "07c751ea-d97c-41a0-b511-21862a387318",
   "metadata": {},
   "outputs": [],
   "source": [
    "pop_df = pd.read_csv(\"../data/raw/pop_cty_iowa.csv\",usecols=['STNAME','CTYNAME','POPESTIMATE2016'])"
   ]
  },
  {
   "cell_type": "code",
   "execution_count": 81,
   "id": "78bde967-8c90-462f-a5a0-9e602060aa37",
   "metadata": {},
   "outputs": [],
   "source": [
    "pop_df['CTYNAME'] = pop_df['CTYNAME'].replace({' County':''}, regex = True).str.lower()"
   ]
  },
  {
   "cell_type": "code",
   "execution_count": 82,
   "id": "f3396851-acdb-414e-ad54-f3b4d84d0a9d",
   "metadata": {},
   "outputs": [],
   "source": [
    "pop_df = pop_df[pop_df['STNAME']==\"Iowa\"]"
   ]
  },
  {
   "cell_type": "code",
   "execution_count": 84,
   "id": "49cd53d2-07aa-4e44-9191-78a07f4d678c",
   "metadata": {},
   "outputs": [],
   "source": [
    "pop_df['CTYNAME']=pop_df['CTYNAME'].apply(slugify)"
   ]
  },
  {
   "cell_type": "code",
   "execution_count": 85,
   "id": "e5e173f0-f68d-4caa-9c73-46dd791c0d79",
   "metadata": {},
   "outputs": [
    {
     "data": {
      "text/plain": [
       "array(['iowa', 'adair', 'adams', 'allamakee', 'appanoose', 'audubon',\n",
       "       'benton', 'black-hawk', 'boone', 'bremer', 'buchanan',\n",
       "       'buena-vista', 'butler', 'calhoun', 'carroll', 'cass', 'cedar',\n",
       "       'cerro-gordo', 'cherokee', 'chickasaw', 'clarke', 'clay',\n",
       "       'clayton', 'clinton', 'crawford', 'dallas', 'davis', 'decatur',\n",
       "       'delaware', 'des-moines', 'dickinson', 'dubuque', 'emmet',\n",
       "       'fayette', 'floyd', 'franklin', 'fremont', 'greene', 'grundy',\n",
       "       'guthrie', 'hamilton', 'hancock', 'hardin', 'harrison', 'henry',\n",
       "       'howard', 'humboldt', 'ida', 'jackson', 'jasper', 'jefferson',\n",
       "       'johnson', 'jones', 'keokuk', 'kossuth', 'lee', 'linn', 'louisa',\n",
       "       'lucas', 'lyon', 'madison', 'mahaska', 'marion', 'marshall',\n",
       "       'mills', 'mitchell', 'monona', 'monroe', 'montgomery', 'muscatine',\n",
       "       'o-brien', 'osceola', 'page', 'palo-alto', 'plymouth',\n",
       "       'pocahontas', 'polk', 'pottawattamie', 'poweshiek', 'ringgold',\n",
       "       'sac', 'scott', 'shelby', 'sioux', 'story', 'tama', 'taylor',\n",
       "       'union', 'van-buren', 'wapello', 'warren', 'washington', 'wayne',\n",
       "       'webster', 'winnebago', 'winneshiek', 'woodbury', 'worth',\n",
       "       'wright'], dtype=object)"
      ]
     },
     "execution_count": 85,
     "metadata": {},
     "output_type": "execute_result"
    }
   ],
   "source": [
    "pop_df['CTYNAME'].unique()"
   ]
  },
  {
   "cell_type": "markdown",
   "id": "8f2ebd1c-dc30-4818-8532-f7de8e48f518",
   "metadata": {},
   "source": [
    "##### - Padronizamos os nomes das colunas e fazemos um merge pelo nome do condado no dataframe most e pop_df"
   ]
  },
  {
   "cell_type": "code",
   "execution_count": 87,
   "id": "3571757d-750d-4c66-b6c5-96da3d69893c",
   "metadata": {},
   "outputs": [],
   "source": [
    "pop_df.rename(columns = {'CTYNAME':'county'}, inplace = True)"
   ]
  },
  {
   "cell_type": "code",
   "execution_count": 88,
   "id": "00a4dc77-a6e7-47bb-9551-68de432dc01c",
   "metadata": {},
   "outputs": [],
   "source": [
    "df = pd.merge(most, pop_df, how = 'inner', on = 'county')"
   ]
  },
  {
   "cell_type": "markdown",
   "id": "99b579c0-2d28-49db-ab51-c0ea3121e44b",
   "metadata": {},
   "source": [
    "## V.  Formatar dados: Formatar novamente os dados conforme as necessidades dos modelos."
   ]
  },
  {
   "cell_type": "markdown",
   "id": "dc3bfb21-3551-44d5-808e-e96f4d446593",
   "metadata": {},
   "source": [
    "##### - Modificamos o nome da coluna para padronizar\n",
    "##### - Realizamos o cálculo de litros por pessoa e dólares por pessoa para saber onde se bebe mais\n",
    "##### - Criamos valores dummies com as 5 categorias de condados que vendem mais"
   ]
  },
  {
   "cell_type": "code",
   "execution_count": 89,
   "id": "11706f2a-e9d4-454a-aaf2-d92f12a03860",
   "metadata": {},
   "outputs": [],
   "source": [
    "df.rename(columns = {'POPESTIMATE2016':'pop_estimate_2016'}, inplace = True)"
   ]
  },
  {
   "cell_type": "code",
   "execution_count": 90,
   "id": "9858bd06-17e9-4338-80b7-33acd8f7b198",
   "metadata": {},
   "outputs": [
    {
     "data": {
      "text/html": [
       "<div>\n",
       "<style scoped>\n",
       "    .dataframe tbody tr th:only-of-type {\n",
       "        vertical-align: middle;\n",
       "    }\n",
       "\n",
       "    .dataframe tbody tr th {\n",
       "        vertical-align: top;\n",
       "    }\n",
       "\n",
       "    .dataframe thead th {\n",
       "        text-align: right;\n",
       "    }\n",
       "</style>\n",
       "<table border=\"1\" class=\"dataframe\">\n",
       "  <thead>\n",
       "    <tr style=\"text-align: right;\">\n",
       "      <th></th>\n",
       "      <th>county</th>\n",
       "      <th>sale_dollars</th>\n",
       "      <th>volume_sold_liters</th>\n",
       "      <th>pop_estimate_2016</th>\n",
       "    </tr>\n",
       "  </thead>\n",
       "  <tbody>\n",
       "    <tr>\n",
       "      <th>0</th>\n",
       "      <td>polk</td>\n",
       "      <td>1.110619e+07</td>\n",
       "      <td>600075.43</td>\n",
       "      <td>474277</td>\n",
       "    </tr>\n",
       "    <tr>\n",
       "      <th>1</th>\n",
       "      <td>linn</td>\n",
       "      <td>4.266498e+06</td>\n",
       "      <td>253583.50</td>\n",
       "      <td>222188</td>\n",
       "    </tr>\n",
       "    <tr>\n",
       "      <th>2</th>\n",
       "      <td>scott</td>\n",
       "      <td>3.319892e+06</td>\n",
       "      <td>178965.03</td>\n",
       "      <td>172135</td>\n",
       "    </tr>\n",
       "    <tr>\n",
       "      <th>3</th>\n",
       "      <td>johnson</td>\n",
       "      <td>2.929709e+06</td>\n",
       "      <td>161005.70</td>\n",
       "      <td>146928</td>\n",
       "    </tr>\n",
       "    <tr>\n",
       "      <th>4</th>\n",
       "      <td>black-hawk</td>\n",
       "      <td>2.786531e+06</td>\n",
       "      <td>154994.32</td>\n",
       "      <td>133077</td>\n",
       "    </tr>\n",
       "  </tbody>\n",
       "</table>\n",
       "</div>"
      ],
      "text/plain": [
       "       county  sale_dollars  volume_sold_liters  pop_estimate_2016\n",
       "0        polk  1.110619e+07           600075.43             474277\n",
       "1        linn  4.266498e+06           253583.50             222188\n",
       "2       scott  3.319892e+06           178965.03             172135\n",
       "3     johnson  2.929709e+06           161005.70             146928\n",
       "4  black-hawk  2.786531e+06           154994.32             133077"
      ]
     },
     "execution_count": 90,
     "metadata": {},
     "output_type": "execute_result"
    }
   ],
   "source": [
    "df"
   ]
  },
  {
   "cell_type": "code",
   "execution_count": 91,
   "id": "0069d2ad-3fe0-43cf-b7f0-76b428629b70",
   "metadata": {},
   "outputs": [],
   "source": [
    "df['liters_per_person'] = df_volume['volume_sold_liters']/df_volume['pop_estimate_2016']"
   ]
  },
  {
   "cell_type": "code",
   "execution_count": 92,
   "id": "2663c3b9-2dd6-4fa4-9720-6b63100b0414",
   "metadata": {},
   "outputs": [],
   "source": [
    "df['dollars_per_person'] = df_volume['sale_dollars']/df_volume['pop_estimate_2016']"
   ]
  },
  {
   "cell_type": "code",
   "execution_count": 93,
   "id": "68d2e8ea-2cf9-4696-9c4c-f0420c58f0a2",
   "metadata": {},
   "outputs": [],
   "source": [
    "df = pd.get_dummies(df, columns = ['county'])"
   ]
  },
  {
   "cell_type": "code",
   "execution_count": 94,
   "id": "52f8012a-0960-42b6-a7fd-8dc011ad6122",
   "metadata": {},
   "outputs": [
    {
     "data": {
      "text/html": [
       "<div>\n",
       "<style scoped>\n",
       "    .dataframe tbody tr th:only-of-type {\n",
       "        vertical-align: middle;\n",
       "    }\n",
       "\n",
       "    .dataframe tbody tr th {\n",
       "        vertical-align: top;\n",
       "    }\n",
       "\n",
       "    .dataframe thead th {\n",
       "        text-align: right;\n",
       "    }\n",
       "</style>\n",
       "<table border=\"1\" class=\"dataframe\">\n",
       "  <thead>\n",
       "    <tr style=\"text-align: right;\">\n",
       "      <th></th>\n",
       "      <th>sale_dollars</th>\n",
       "      <th>volume_sold_liters</th>\n",
       "      <th>pop_estimate_2016</th>\n",
       "      <th>liters_per_person</th>\n",
       "      <th>dollars_per_person</th>\n",
       "      <th>county_black-hawk</th>\n",
       "      <th>county_johnson</th>\n",
       "      <th>county_linn</th>\n",
       "      <th>county_polk</th>\n",
       "      <th>county_scott</th>\n",
       "    </tr>\n",
       "  </thead>\n",
       "  <tbody>\n",
       "    <tr>\n",
       "      <th>0</th>\n",
       "      <td>1.110619e+07</td>\n",
       "      <td>600075.43</td>\n",
       "      <td>474277</td>\n",
       "      <td>1.265243</td>\n",
       "      <td>23.417090</td>\n",
       "      <td>0</td>\n",
       "      <td>0</td>\n",
       "      <td>0</td>\n",
       "      <td>1</td>\n",
       "      <td>0</td>\n",
       "    </tr>\n",
       "    <tr>\n",
       "      <th>1</th>\n",
       "      <td>4.266498e+06</td>\n",
       "      <td>253583.50</td>\n",
       "      <td>222188</td>\n",
       "      <td>1.141302</td>\n",
       "      <td>19.202199</td>\n",
       "      <td>0</td>\n",
       "      <td>0</td>\n",
       "      <td>1</td>\n",
       "      <td>0</td>\n",
       "      <td>0</td>\n",
       "    </tr>\n",
       "    <tr>\n",
       "      <th>2</th>\n",
       "      <td>3.319892e+06</td>\n",
       "      <td>178965.03</td>\n",
       "      <td>172135</td>\n",
       "      <td>1.039678</td>\n",
       "      <td>19.286562</td>\n",
       "      <td>0</td>\n",
       "      <td>0</td>\n",
       "      <td>0</td>\n",
       "      <td>0</td>\n",
       "      <td>1</td>\n",
       "    </tr>\n",
       "    <tr>\n",
       "      <th>3</th>\n",
       "      <td>2.929709e+06</td>\n",
       "      <td>161005.70</td>\n",
       "      <td>146928</td>\n",
       "      <td>1.095814</td>\n",
       "      <td>19.939757</td>\n",
       "      <td>0</td>\n",
       "      <td>1</td>\n",
       "      <td>0</td>\n",
       "      <td>0</td>\n",
       "      <td>0</td>\n",
       "    </tr>\n",
       "    <tr>\n",
       "      <th>4</th>\n",
       "      <td>2.786531e+06</td>\n",
       "      <td>154994.32</td>\n",
       "      <td>133077</td>\n",
       "      <td>1.164697</td>\n",
       "      <td>20.939240</td>\n",
       "      <td>1</td>\n",
       "      <td>0</td>\n",
       "      <td>0</td>\n",
       "      <td>0</td>\n",
       "      <td>0</td>\n",
       "    </tr>\n",
       "  </tbody>\n",
       "</table>\n",
       "</div>"
      ],
      "text/plain": [
       "   sale_dollars  volume_sold_liters  pop_estimate_2016  liters_per_person  \\\n",
       "0  1.110619e+07           600075.43             474277           1.265243   \n",
       "1  4.266498e+06           253583.50             222188           1.141302   \n",
       "2  3.319892e+06           178965.03             172135           1.039678   \n",
       "3  2.929709e+06           161005.70             146928           1.095814   \n",
       "4  2.786531e+06           154994.32             133077           1.164697   \n",
       "\n",
       "   dollars_per_person  county_black-hawk  county_johnson  county_linn  \\\n",
       "0           23.417090                  0               0            0   \n",
       "1           19.202199                  0               0            1   \n",
       "2           19.286562                  0               0            0   \n",
       "3           19.939757                  0               1            0   \n",
       "4           20.939240                  1               0            0   \n",
       "\n",
       "   county_polk  county_scott  \n",
       "0            1             0  \n",
       "1            0             0  \n",
       "2            0             1  \n",
       "3            0             0  \n",
       "4            0             0  "
      ]
     },
     "execution_count": 94,
     "metadata": {},
     "output_type": "execute_result"
    }
   ],
   "source": [
    "df"
   ]
  }
 ],
 "metadata": {
  "kernelspec": {
   "display_name": "Python 3",
   "language": "python",
   "name": "python3"
  },
  "language_info": {
   "codemirror_mode": {
    "name": "ipython",
    "version": 3
   },
   "file_extension": ".py",
   "mimetype": "text/x-python",
   "name": "python",
   "nbconvert_exporter": "python",
   "pygments_lexer": "ipython3",
   "version": "3.8.8"
  }
 },
 "nbformat": 4,
 "nbformat_minor": 5
}
