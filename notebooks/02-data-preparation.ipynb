{
 "cells": [
  {
   "cell_type": "code",
   "execution_count": 179,
   "id": "b5857225-d669-4d1f-9fb2-442962ee9899",
   "metadata": {},
   "outputs": [],
   "source": [
    "import pandas as pd\n",
    "import numpy as np\n",
    "from slugify import slugify\n",
    "pd.set_option('display.max_columns', None)\n",
    "pd. set_option(\"display.max_rows\", None)\n",
    "from Levenshtein import distance"
   ]
  },
  {
   "cell_type": "markdown",
   "id": "7a50d6a5-6022-4915-b9f1-8db473cb8d5d",
   "metadata": {},
   "source": [
    "## I. Selecionar os dados: determinar quais conjuntos de dados serão utilizados e documentar os motivos de inclusão/exclusão."
   ]
  },
  {
   "cell_type": "code",
   "execution_count": 180,
   "id": "ff569682-69b6-40a7-ae09-1acfa0991062",
   "metadata": {},
   "outputs": [],
   "source": [
    "df = pd.read_csv(\"../data/raw/iowa_liquor_train_test_split_sample.csv\", usecols=[2,10,20,22,23],encoding='utf-8')"
   ]
  },
  {
   "cell_type": "code",
   "execution_count": 181,
   "id": "46280403-78da-400b-9834-0659f0ecc5dd",
   "metadata": {},
   "outputs": [
    {
     "data": {
      "text/plain": [
       "Index(['date', 'county', 'state_bottle_retail', 'sale_dollars',\n",
       "       'volume_sold_liters'],\n",
       "      dtype='object')"
      ]
     },
     "execution_count": 181,
     "metadata": {},
     "output_type": "execute_result"
    }
   ],
   "source": [
    "df.columns = [slugify(col, lowercase=True, separator='_') for col in df.columns]\n",
    "df.columns"
   ]
  },
  {
   "cell_type": "markdown",
   "id": "97b5a34d-6305-49a8-bcff-6d79798fe2f7",
   "metadata": {},
   "source": [
    "df.head(1)"
   ]
  },
  {
   "cell_type": "markdown",
   "id": "8f18e48f-a9d6-4c2a-950a-4cf759390ff0",
   "metadata": {},
   "source": [
    "### Remoção das colunas as quais não iremos utilizar\n",
    "#### Vamos deixar somente as colunas data, store_location, state_bottle_retail, salle_dollars, volume_sold_liters, pois vamos realizar regressão linear em dados numéricos"
   ]
  },
  {
   "cell_type": "code",
   "execution_count": 182,
   "id": "767ebdf8-9f99-444c-9533-dd23f2d624af",
   "metadata": {},
   "outputs": [
    {
     "name": "stdout",
     "output_type": "stream",
     "text": [
      "<class 'pandas.core.frame.DataFrame'>\n",
      "RangeIndex: 2518216 entries, 0 to 2518215\n",
      "Data columns (total 5 columns):\n",
      " #   Column               Dtype  \n",
      "---  ------               -----  \n",
      " 0   date                 object \n",
      " 1   county               object \n",
      " 2   state_bottle_retail  object \n",
      " 3   sale_dollars         object \n",
      " 4   volume_sold_liters   float64\n",
      "dtypes: float64(1), object(4)\n",
      "memory usage: 96.1+ MB\n"
     ]
    }
   ],
   "source": [
    "df.info()"
   ]
  },
  {
   "cell_type": "code",
   "execution_count": 183,
   "id": "970e0b32-a4b4-466d-ba60-ce878ef75380",
   "metadata": {},
   "outputs": [
    {
     "data": {
      "text/html": [
       "<div>\n",
       "<style scoped>\n",
       "    .dataframe tbody tr th:only-of-type {\n",
       "        vertical-align: middle;\n",
       "    }\n",
       "\n",
       "    .dataframe tbody tr th {\n",
       "        vertical-align: top;\n",
       "    }\n",
       "\n",
       "    .dataframe thead th {\n",
       "        text-align: right;\n",
       "    }\n",
       "</style>\n",
       "<table border=\"1\" class=\"dataframe\">\n",
       "  <thead>\n",
       "    <tr style=\"text-align: right;\">\n",
       "      <th></th>\n",
       "      <th>date</th>\n",
       "      <th>county</th>\n",
       "      <th>state_bottle_retail</th>\n",
       "      <th>sale_dollars</th>\n",
       "      <th>volume_sold_liters</th>\n",
       "    </tr>\n",
       "  </thead>\n",
       "  <tbody>\n",
       "    <tr>\n",
       "      <th>0</th>\n",
       "      <td>02/26/2013</td>\n",
       "      <td>Scott</td>\n",
       "      <td>$8.99</td>\n",
       "      <td>$8.99</td>\n",
       "      <td>0.38</td>\n",
       "    </tr>\n",
       "    <tr>\n",
       "      <th>1</th>\n",
       "      <td>08/22/2017</td>\n",
       "      <td>WARREN</td>\n",
       "      <td>$47.99</td>\n",
       "      <td>$287.94</td>\n",
       "      <td>1.75</td>\n",
       "    </tr>\n",
       "    <tr>\n",
       "      <th>2</th>\n",
       "      <td>08/28/2013</td>\n",
       "      <td>Buena Vista</td>\n",
       "      <td>$14.82</td>\n",
       "      <td>$29.64</td>\n",
       "      <td>1.50</td>\n",
       "    </tr>\n",
       "    <tr>\n",
       "      <th>3</th>\n",
       "      <td>03/26/2013</td>\n",
       "      <td>Carroll</td>\n",
       "      <td>$22.72</td>\n",
       "      <td>$22.72</td>\n",
       "      <td>1.00</td>\n",
       "    </tr>\n",
       "    <tr>\n",
       "      <th>4</th>\n",
       "      <td>08/17/2017</td>\n",
       "      <td>POLK</td>\n",
       "      <td>$17.25</td>\n",
       "      <td>$17.25</td>\n",
       "      <td>0.50</td>\n",
       "    </tr>\n",
       "  </tbody>\n",
       "</table>\n",
       "</div>"
      ],
      "text/plain": [
       "         date       county state_bottle_retail sale_dollars  \\\n",
       "0  02/26/2013        Scott               $8.99        $8.99   \n",
       "1  08/22/2017       WARREN              $47.99      $287.94   \n",
       "2  08/28/2013  Buena Vista              $14.82       $29.64   \n",
       "3  03/26/2013      Carroll              $22.72       $22.72   \n",
       "4  08/17/2017         POLK              $17.25       $17.25   \n",
       "\n",
       "   volume_sold_liters  \n",
       "0                0.38  \n",
       "1                1.75  \n",
       "2                1.50  \n",
       "3                1.00  \n",
       "4                0.50  "
      ]
     },
     "execution_count": 183,
     "metadata": {},
     "output_type": "execute_result"
    }
   ],
   "source": [
    "df.head()"
   ]
  },
  {
   "cell_type": "code",
   "execution_count": 184,
   "id": "c241c702-4027-4db0-88bf-b6a2c1afc0c2",
   "metadata": {},
   "outputs": [
    {
     "data": {
      "text/plain": [
       "(2518216, 5)"
      ]
     },
     "execution_count": 184,
     "metadata": {},
     "output_type": "execute_result"
    }
   ],
   "source": [
    "df.shape"
   ]
  },
  {
   "cell_type": "code",
   "execution_count": 185,
   "id": "53ad7123-f705-42d6-911c-d3ca27448a6e",
   "metadata": {},
   "outputs": [
    {
     "data": {
      "text/plain": [
       "(0, 5)"
      ]
     },
     "execution_count": 185,
     "metadata": {},
     "output_type": "execute_result"
    }
   ],
   "source": [
    "df[df['date'].isna()].shape"
   ]
  },
  {
   "cell_type": "code",
   "execution_count": 186,
   "id": "ab5fa8b6-5989-4b3a-a6a2-8beb0822c8dc",
   "metadata": {},
   "outputs": [
    {
     "data": {
      "text/plain": [
       "(15650, 5)"
      ]
     },
     "execution_count": 186,
     "metadata": {},
     "output_type": "execute_result"
    }
   ],
   "source": [
    "df[df['county'].isna()].shape"
   ]
  },
  {
   "cell_type": "code",
   "execution_count": 187,
   "id": "88035411-4a91-405d-9d9b-82bb823ac9e2",
   "metadata": {},
   "outputs": [
    {
     "data": {
      "text/plain": [
       "(2, 5)"
      ]
     },
     "execution_count": 187,
     "metadata": {},
     "output_type": "execute_result"
    }
   ],
   "source": [
    "df[df['state_bottle_retail'].isna()].shape"
   ]
  },
  {
   "cell_type": "code",
   "execution_count": 188,
   "id": "6d4868cd-6659-4471-b6f3-0d55eea62b2f",
   "metadata": {},
   "outputs": [
    {
     "data": {
      "text/plain": [
       "(2, 5)"
      ]
     },
     "execution_count": 188,
     "metadata": {},
     "output_type": "execute_result"
    }
   ],
   "source": [
    "df[df['sale_dollars'].isna()].shape"
   ]
  },
  {
   "cell_type": "code",
   "execution_count": 189,
   "id": "df9110fd-5a30-4010-8577-43a983aa5c91",
   "metadata": {},
   "outputs": [
    {
     "data": {
      "text/plain": [
       "(0, 5)"
      ]
     },
     "execution_count": 189,
     "metadata": {},
     "output_type": "execute_result"
    }
   ],
   "source": [
    "df[df['volume_sold_liters'].isna()].shape"
   ]
  },
  {
   "cell_type": "markdown",
   "id": "10a4097d-01b8-4960-bab2-7ade0f5fc576",
   "metadata": {},
   "source": [
    "#### Procurando por mais inconsistências"
   ]
  },
  {
   "cell_type": "markdown",
   "id": "ca5e6e96-339d-4d1c-b13c-04a208988292",
   "metadata": {},
   "source": [
    "## II. Limpar dados: Corrigir, imputar ou remover valores erroneamente inseridos nos conjuntos de dados."
   ]
  },
  {
   "cell_type": "code",
   "execution_count": 190,
   "id": "c36f3fd2-2893-40de-9c75-0c22a46775c0",
   "metadata": {},
   "outputs": [],
   "source": [
    "df = df.dropna()"
   ]
  },
  {
   "cell_type": "code",
   "execution_count": 191,
   "id": "c94c66d1-14a9-4a2d-a945-b0d5591df767",
   "metadata": {},
   "outputs": [],
   "source": [
    "df['county']=df['county'].apply(slugify)"
   ]
  },
  {
   "cell_type": "markdown",
   "id": "964216b8-e878-4dd1-9991-1c4ff326006c",
   "metadata": {},
   "source": [
    "#### Transformando a coluna data para formato date"
   ]
  },
  {
   "cell_type": "code",
   "execution_count": 192,
   "id": "fa31437b-63b7-421d-a37c-2b7caf489342",
   "metadata": {},
   "outputs": [],
   "source": [
    "df['date'] = pd.to_datetime(df['date'])"
   ]
  },
  {
   "cell_type": "code",
   "execution_count": 193,
   "id": "fe813f0c-8e8f-46d8-a699-22c7f4a2812c",
   "metadata": {},
   "outputs": [],
   "source": [
    "df['county']=df['county'].apply(slugify)"
   ]
  },
  {
   "cell_type": "code",
   "execution_count": 194,
   "id": "96a8dbfa-e594-44e7-84ee-f338a8309068",
   "metadata": {},
   "outputs": [
    {
     "data": {
      "text/html": [
       "<div>\n",
       "<style scoped>\n",
       "    .dataframe tbody tr th:only-of-type {\n",
       "        vertical-align: middle;\n",
       "    }\n",
       "\n",
       "    .dataframe tbody tr th {\n",
       "        vertical-align: top;\n",
       "    }\n",
       "\n",
       "    .dataframe thead th {\n",
       "        text-align: right;\n",
       "    }\n",
       "</style>\n",
       "<table border=\"1\" class=\"dataframe\">\n",
       "  <thead>\n",
       "    <tr style=\"text-align: right;\">\n",
       "      <th></th>\n",
       "      <th>date</th>\n",
       "      <th>county</th>\n",
       "      <th>state_bottle_retail</th>\n",
       "      <th>sale_dollars</th>\n",
       "      <th>volume_sold_liters</th>\n",
       "    </tr>\n",
       "  </thead>\n",
       "  <tbody>\n",
       "    <tr>\n",
       "      <th>0</th>\n",
       "      <td>2013-02-26</td>\n",
       "      <td>scott</td>\n",
       "      <td>$8.99</td>\n",
       "      <td>$8.99</td>\n",
       "      <td>0.38</td>\n",
       "    </tr>\n",
       "    <tr>\n",
       "      <th>1</th>\n",
       "      <td>2017-08-22</td>\n",
       "      <td>warren</td>\n",
       "      <td>$47.99</td>\n",
       "      <td>$287.94</td>\n",
       "      <td>1.75</td>\n",
       "    </tr>\n",
       "    <tr>\n",
       "      <th>2</th>\n",
       "      <td>2013-08-28</td>\n",
       "      <td>buena-vista</td>\n",
       "      <td>$14.82</td>\n",
       "      <td>$29.64</td>\n",
       "      <td>1.50</td>\n",
       "    </tr>\n",
       "    <tr>\n",
       "      <th>3</th>\n",
       "      <td>2013-03-26</td>\n",
       "      <td>carroll</td>\n",
       "      <td>$22.72</td>\n",
       "      <td>$22.72</td>\n",
       "      <td>1.00</td>\n",
       "    </tr>\n",
       "    <tr>\n",
       "      <th>4</th>\n",
       "      <td>2017-08-17</td>\n",
       "      <td>polk</td>\n",
       "      <td>$17.25</td>\n",
       "      <td>$17.25</td>\n",
       "      <td>0.50</td>\n",
       "    </tr>\n",
       "  </tbody>\n",
       "</table>\n",
       "</div>"
      ],
      "text/plain": [
       "        date       county state_bottle_retail sale_dollars  volume_sold_liters\n",
       "0 2013-02-26        scott               $8.99        $8.99                0.38\n",
       "1 2017-08-22       warren              $47.99      $287.94                1.75\n",
       "2 2013-08-28  buena-vista              $14.82       $29.64                1.50\n",
       "3 2013-03-26      carroll              $22.72       $22.72                1.00\n",
       "4 2017-08-17         polk              $17.25       $17.25                0.50"
      ]
     },
     "execution_count": 194,
     "metadata": {},
     "output_type": "execute_result"
    }
   ],
   "source": [
    "df.head()"
   ]
  },
  {
   "cell_type": "code",
   "execution_count": 195,
   "id": "bfa64ec3-e4f8-4013-aa4c-8d3b59bbfa65",
   "metadata": {},
   "outputs": [],
   "source": [
    "counties = df['county'].unique()"
   ]
  },
  {
   "cell_type": "markdown",
   "id": "ff715b8f-1052-48c8-8889-15998ef0eda2",
   "metadata": {},
   "source": [
    "#### Procurando por mais inconsistências"
   ]
  },
  {
   "cell_type": "markdown",
   "id": "73a54e86-e8c1-48dc-af75-004c2c49a56b",
   "metadata": {},
   "source": [
    "##### condados com nome parecido"
   ]
  },
  {
   "cell_type": "code",
   "execution_count": 196,
   "id": "b43aa7a9-c063-49c0-9945-3eda13925e8f",
   "metadata": {},
   "outputs": [
    {
     "name": "stdout",
     "output_type": "stream",
     "text": [
      "buena-vista\n",
      "cerro-gordo\n",
      "cerro-gord\n",
      "buena-vist\n",
      "o-brien\n",
      "obrien\n"
     ]
    }
   ],
   "source": [
    "for a in counties:\n",
    "    for b in reversed(counties):\n",
    "        if distance(a,b)==1:\n",
    "            print(a)"
   ]
  },
  {
   "cell_type": "code",
   "execution_count": 197,
   "id": "cf8562f5-12f2-4788-94e3-07b0089a0123",
   "metadata": {},
   "outputs": [],
   "source": [
    "df['state_bottle_retail'] = df['state_bottle_retail'].replace({'\\$':''}, regex = True).astype(float)"
   ]
  },
  {
   "cell_type": "code",
   "execution_count": 198,
   "id": "a0f61d88-f3c2-419b-9f9d-846b4267ab1c",
   "metadata": {},
   "outputs": [],
   "source": [
    "df['sale_dollars'] = df['sale_dollars'].replace({'\\$':''}, regex = True).astype(float)"
   ]
  },
  {
   "cell_type": "code",
   "execution_count": 199,
   "id": "af605e19-89dc-477c-850f-b041d4cd608a",
   "metadata": {},
   "outputs": [],
   "source": [
    "df['volume_sold_liters'] = df['volume_sold_liters'].astype(float)"
   ]
  },
  {
   "cell_type": "code",
   "execution_count": 200,
   "id": "1d42c4f2-7063-47b5-bfc2-0fc0b8d299d3",
   "metadata": {},
   "outputs": [
    {
     "data": {
      "text/html": [
       "<div>\n",
       "<style scoped>\n",
       "    .dataframe tbody tr th:only-of-type {\n",
       "        vertical-align: middle;\n",
       "    }\n",
       "\n",
       "    .dataframe tbody tr th {\n",
       "        vertical-align: top;\n",
       "    }\n",
       "\n",
       "    .dataframe thead th {\n",
       "        text-align: right;\n",
       "    }\n",
       "</style>\n",
       "<table border=\"1\" class=\"dataframe\">\n",
       "  <thead>\n",
       "    <tr style=\"text-align: right;\">\n",
       "      <th></th>\n",
       "      <th>date</th>\n",
       "      <th>county</th>\n",
       "      <th>state_bottle_retail</th>\n",
       "      <th>sale_dollars</th>\n",
       "      <th>volume_sold_liters</th>\n",
       "    </tr>\n",
       "  </thead>\n",
       "  <tbody>\n",
       "    <tr>\n",
       "      <th>0</th>\n",
       "      <td>2013-02-26</td>\n",
       "      <td>scott</td>\n",
       "      <td>8.99</td>\n",
       "      <td>8.99</td>\n",
       "      <td>0.38</td>\n",
       "    </tr>\n",
       "    <tr>\n",
       "      <th>1</th>\n",
       "      <td>2017-08-22</td>\n",
       "      <td>warren</td>\n",
       "      <td>47.99</td>\n",
       "      <td>287.94</td>\n",
       "      <td>1.75</td>\n",
       "    </tr>\n",
       "    <tr>\n",
       "      <th>2</th>\n",
       "      <td>2013-08-28</td>\n",
       "      <td>buena-vista</td>\n",
       "      <td>14.82</td>\n",
       "      <td>29.64</td>\n",
       "      <td>1.50</td>\n",
       "    </tr>\n",
       "    <tr>\n",
       "      <th>3</th>\n",
       "      <td>2013-03-26</td>\n",
       "      <td>carroll</td>\n",
       "      <td>22.72</td>\n",
       "      <td>22.72</td>\n",
       "      <td>1.00</td>\n",
       "    </tr>\n",
       "    <tr>\n",
       "      <th>4</th>\n",
       "      <td>2017-08-17</td>\n",
       "      <td>polk</td>\n",
       "      <td>17.25</td>\n",
       "      <td>17.25</td>\n",
       "      <td>0.50</td>\n",
       "    </tr>\n",
       "  </tbody>\n",
       "</table>\n",
       "</div>"
      ],
      "text/plain": [
       "        date       county  state_bottle_retail  sale_dollars  \\\n",
       "0 2013-02-26        scott                 8.99          8.99   \n",
       "1 2017-08-22       warren                47.99        287.94   \n",
       "2 2013-08-28  buena-vista                14.82         29.64   \n",
       "3 2013-03-26      carroll                22.72         22.72   \n",
       "4 2017-08-17         polk                17.25         17.25   \n",
       "\n",
       "   volume_sold_liters  \n",
       "0                0.38  \n",
       "1                1.75  \n",
       "2                1.50  \n",
       "3                1.00  \n",
       "4                0.50  "
      ]
     },
     "execution_count": 200,
     "metadata": {},
     "output_type": "execute_result"
    }
   ],
   "source": [
    "df.head()"
   ]
  },
  {
   "cell_type": "markdown",
   "id": "db3e1afc-12af-4562-afd4-1304337f2b5a",
   "metadata": {},
   "source": [
    "#### Utilizar os dados de 2016, pois é o mais recente e tem dados completos"
   ]
  },
  {
   "cell_type": "code",
   "execution_count": 201,
   "id": "f164da07-ee95-4520-a448-7bec095e1f8e",
   "metadata": {},
   "outputs": [],
   "source": [
    "df = df[df['date'].dt.year == 2016]"
   ]
  },
  {
   "cell_type": "code",
   "execution_count": 202,
   "id": "c02c988f-2ea8-41de-a64e-7d091cde8d00",
   "metadata": {},
   "outputs": [
    {
     "data": {
      "text/html": [
       "<div>\n",
       "<style scoped>\n",
       "    .dataframe tbody tr th:only-of-type {\n",
       "        vertical-align: middle;\n",
       "    }\n",
       "\n",
       "    .dataframe tbody tr th {\n",
       "        vertical-align: top;\n",
       "    }\n",
       "\n",
       "    .dataframe thead th {\n",
       "        text-align: right;\n",
       "    }\n",
       "</style>\n",
       "<table border=\"1\" class=\"dataframe\">\n",
       "  <thead>\n",
       "    <tr style=\"text-align: right;\">\n",
       "      <th></th>\n",
       "      <th>date</th>\n",
       "      <th>county</th>\n",
       "      <th>state_bottle_retail</th>\n",
       "      <th>sale_dollars</th>\n",
       "      <th>volume_sold_liters</th>\n",
       "    </tr>\n",
       "  </thead>\n",
       "  <tbody>\n",
       "    <tr>\n",
       "      <th>10</th>\n",
       "      <td>2016-06-22</td>\n",
       "      <td>bremer</td>\n",
       "      <td>17.63</td>\n",
       "      <td>70.52</td>\n",
       "      <td>4.0</td>\n",
       "    </tr>\n",
       "    <tr>\n",
       "      <th>20</th>\n",
       "      <td>2016-12-16</td>\n",
       "      <td>hamilton</td>\n",
       "      <td>9.00</td>\n",
       "      <td>90.00</td>\n",
       "      <td>1.2</td>\n",
       "    </tr>\n",
       "    <tr>\n",
       "      <th>21</th>\n",
       "      <td>2016-12-22</td>\n",
       "      <td>scott</td>\n",
       "      <td>7.26</td>\n",
       "      <td>7.26</td>\n",
       "      <td>1.2</td>\n",
       "    </tr>\n",
       "    <tr>\n",
       "      <th>38</th>\n",
       "      <td>2016-01-19</td>\n",
       "      <td>page</td>\n",
       "      <td>15.68</td>\n",
       "      <td>376.32</td>\n",
       "      <td>42.0</td>\n",
       "    </tr>\n",
       "    <tr>\n",
       "      <th>39</th>\n",
       "      <td>2016-05-18</td>\n",
       "      <td>johnson</td>\n",
       "      <td>13.08</td>\n",
       "      <td>156.96</td>\n",
       "      <td>9.0</td>\n",
       "    </tr>\n",
       "  </tbody>\n",
       "</table>\n",
       "</div>"
      ],
      "text/plain": [
       "         date    county  state_bottle_retail  sale_dollars  volume_sold_liters\n",
       "10 2016-06-22    bremer                17.63         70.52                 4.0\n",
       "20 2016-12-16  hamilton                 9.00         90.00                 1.2\n",
       "21 2016-12-22     scott                 7.26          7.26                 1.2\n",
       "38 2016-01-19      page                15.68        376.32                42.0\n",
       "39 2016-05-18   johnson                13.08        156.96                 9.0"
      ]
     },
     "execution_count": 202,
     "metadata": {},
     "output_type": "execute_result"
    }
   ],
   "source": [
    "df.head()"
   ]
  },
  {
   "cell_type": "markdown",
   "id": "a0462025-74c0-4eca-8c6c-cbfa96756003",
   "metadata": {},
   "source": [
    "## III. Construir dados: derivar novos atributos que serão úteis. Por exemplo, derivar o IMC de alguém a partir da altura e peso."
   ]
  },
  {
   "cell_type": "code",
   "execution_count": 203,
   "id": "d1310330-da15-4bcb-aec9-6e0f4ec3880b",
   "metadata": {},
   "outputs": [],
   "source": [
    "county_group = df.groupby(by=[\"county\"]).sum()"
   ]
  },
  {
   "cell_type": "code",
   "execution_count": 204,
   "id": "9a0683be-777b-4707-9aab-7f60515f62ba",
   "metadata": {},
   "outputs": [
    {
     "data": {
      "text/html": [
       "<div>\n",
       "<style scoped>\n",
       "    .dataframe tbody tr th:only-of-type {\n",
       "        vertical-align: middle;\n",
       "    }\n",
       "\n",
       "    .dataframe tbody tr th {\n",
       "        vertical-align: top;\n",
       "    }\n",
       "\n",
       "    .dataframe thead th {\n",
       "        text-align: right;\n",
       "    }\n",
       "</style>\n",
       "<table border=\"1\" class=\"dataframe\">\n",
       "  <thead>\n",
       "    <tr style=\"text-align: right;\">\n",
       "      <th></th>\n",
       "      <th>state_bottle_retail</th>\n",
       "      <th>sale_dollars</th>\n",
       "      <th>volume_sold_liters</th>\n",
       "    </tr>\n",
       "    <tr>\n",
       "      <th>county</th>\n",
       "      <th></th>\n",
       "      <th></th>\n",
       "      <th></th>\n",
       "    </tr>\n",
       "  </thead>\n",
       "  <tbody>\n",
       "    <tr>\n",
       "      <th>adair</th>\n",
       "      <td>13989.11</td>\n",
       "      <td>78170.39</td>\n",
       "      <td>5304.73</td>\n",
       "    </tr>\n",
       "    <tr>\n",
       "      <th>adams</th>\n",
       "      <td>6022.85</td>\n",
       "      <td>16566.53</td>\n",
       "      <td>1207.21</td>\n",
       "    </tr>\n",
       "    <tr>\n",
       "      <th>allamakee</th>\n",
       "      <td>30333.55</td>\n",
       "      <td>146542.63</td>\n",
       "      <td>9515.25</td>\n",
       "    </tr>\n",
       "    <tr>\n",
       "      <th>appanoose</th>\n",
       "      <td>25195.24</td>\n",
       "      <td>148019.33</td>\n",
       "      <td>9113.52</td>\n",
       "    </tr>\n",
       "    <tr>\n",
       "      <th>audubon</th>\n",
       "      <td>4055.67</td>\n",
       "      <td>24182.22</td>\n",
       "      <td>2095.80</td>\n",
       "    </tr>\n",
       "  </tbody>\n",
       "</table>\n",
       "</div>"
      ],
      "text/plain": [
       "           state_bottle_retail  sale_dollars  volume_sold_liters\n",
       "county                                                          \n",
       "adair                 13989.11      78170.39             5304.73\n",
       "adams                  6022.85      16566.53             1207.21\n",
       "allamakee             30333.55     146542.63             9515.25\n",
       "appanoose             25195.24     148019.33             9113.52\n",
       "audubon                4055.67      24182.22             2095.80"
      ]
     },
     "execution_count": 204,
     "metadata": {},
     "output_type": "execute_result"
    }
   ],
   "source": [
    "county_group.head()"
   ]
  },
  {
   "cell_type": "code",
   "execution_count": 217,
   "id": "aa00ab0f-5cd8-4a25-a2cd-83a3b3d34829",
   "metadata": {},
   "outputs": [],
   "source": [
    "most_liters = county_group.nlargest(5, ['volume_sold_liters'])"
   ]
  },
  {
   "cell_type": "code",
   "execution_count": 218,
   "id": "483cf715-e2b0-4cd3-b07b-2e91f9ac1f71",
   "metadata": {},
   "outputs": [
    {
     "data": {
      "text/html": [
       "<div>\n",
       "<style scoped>\n",
       "    .dataframe tbody tr th:only-of-type {\n",
       "        vertical-align: middle;\n",
       "    }\n",
       "\n",
       "    .dataframe tbody tr th {\n",
       "        vertical-align: top;\n",
       "    }\n",
       "\n",
       "    .dataframe thead th {\n",
       "        text-align: right;\n",
       "    }\n",
       "</style>\n",
       "<table border=\"1\" class=\"dataframe\">\n",
       "  <thead>\n",
       "    <tr style=\"text-align: right;\">\n",
       "      <th></th>\n",
       "      <th>state_bottle_retail</th>\n",
       "      <th>sale_dollars</th>\n",
       "      <th>volume_sold_liters</th>\n",
       "    </tr>\n",
       "    <tr>\n",
       "      <th>county</th>\n",
       "      <th></th>\n",
       "      <th></th>\n",
       "      <th></th>\n",
       "    </tr>\n",
       "  </thead>\n",
       "  <tbody>\n",
       "    <tr>\n",
       "      <th>polk</th>\n",
       "      <td>1279755.91</td>\n",
       "      <td>1.110619e+07</td>\n",
       "      <td>600075.43</td>\n",
       "    </tr>\n",
       "    <tr>\n",
       "      <th>linn</th>\n",
       "      <td>565423.56</td>\n",
       "      <td>4.266498e+06</td>\n",
       "      <td>253583.50</td>\n",
       "    </tr>\n",
       "    <tr>\n",
       "      <th>scott</th>\n",
       "      <td>403794.79</td>\n",
       "      <td>3.319892e+06</td>\n",
       "      <td>178965.03</td>\n",
       "    </tr>\n",
       "    <tr>\n",
       "      <th>johnson</th>\n",
       "      <td>335982.54</td>\n",
       "      <td>2.929709e+06</td>\n",
       "      <td>161005.70</td>\n",
       "    </tr>\n",
       "    <tr>\n",
       "      <th>black-hawk</th>\n",
       "      <td>361384.00</td>\n",
       "      <td>2.786531e+06</td>\n",
       "      <td>154994.32</td>\n",
       "    </tr>\n",
       "  </tbody>\n",
       "</table>\n",
       "</div>"
      ],
      "text/plain": [
       "            state_bottle_retail  sale_dollars  volume_sold_liters\n",
       "county                                                           \n",
       "polk                 1279755.91  1.110619e+07           600075.43\n",
       "linn                  565423.56  4.266498e+06           253583.50\n",
       "scott                 403794.79  3.319892e+06           178965.03\n",
       "johnson               335982.54  2.929709e+06           161005.70\n",
       "black-hawk            361384.00  2.786531e+06           154994.32"
      ]
     },
     "execution_count": 218,
     "metadata": {},
     "output_type": "execute_result"
    }
   ],
   "source": [
    "most_liters.head()"
   ]
  },
  {
   "cell_type": "code",
   "execution_count": 220,
   "id": "83852334-3b8e-4a61-b174-3577cebde3bc",
   "metadata": {},
   "outputs": [],
   "source": [
    "most_liters = most_liters.sort_values('county')"
   ]
  },
  {
   "cell_type": "code",
   "execution_count": 221,
   "id": "b84da912-3f6f-4b5e-a6e5-2d01b280add2",
   "metadata": {},
   "outputs": [
    {
     "data": {
      "text/html": [
       "<div>\n",
       "<style scoped>\n",
       "    .dataframe tbody tr th:only-of-type {\n",
       "        vertical-align: middle;\n",
       "    }\n",
       "\n",
       "    .dataframe tbody tr th {\n",
       "        vertical-align: top;\n",
       "    }\n",
       "\n",
       "    .dataframe thead th {\n",
       "        text-align: right;\n",
       "    }\n",
       "</style>\n",
       "<table border=\"1\" class=\"dataframe\">\n",
       "  <thead>\n",
       "    <tr style=\"text-align: right;\">\n",
       "      <th></th>\n",
       "      <th>state_bottle_retail</th>\n",
       "      <th>sale_dollars</th>\n",
       "      <th>volume_sold_liters</th>\n",
       "    </tr>\n",
       "    <tr>\n",
       "      <th>county</th>\n",
       "      <th></th>\n",
       "      <th></th>\n",
       "      <th></th>\n",
       "    </tr>\n",
       "  </thead>\n",
       "  <tbody>\n",
       "    <tr>\n",
       "      <th>black-hawk</th>\n",
       "      <td>361384.00</td>\n",
       "      <td>2.786531e+06</td>\n",
       "      <td>154994.32</td>\n",
       "    </tr>\n",
       "    <tr>\n",
       "      <th>johnson</th>\n",
       "      <td>335982.54</td>\n",
       "      <td>2.929709e+06</td>\n",
       "      <td>161005.70</td>\n",
       "    </tr>\n",
       "    <tr>\n",
       "      <th>linn</th>\n",
       "      <td>565423.56</td>\n",
       "      <td>4.266498e+06</td>\n",
       "      <td>253583.50</td>\n",
       "    </tr>\n",
       "    <tr>\n",
       "      <th>polk</th>\n",
       "      <td>1279755.91</td>\n",
       "      <td>1.110619e+07</td>\n",
       "      <td>600075.43</td>\n",
       "    </tr>\n",
       "    <tr>\n",
       "      <th>scott</th>\n",
       "      <td>403794.79</td>\n",
       "      <td>3.319892e+06</td>\n",
       "      <td>178965.03</td>\n",
       "    </tr>\n",
       "  </tbody>\n",
       "</table>\n",
       "</div>"
      ],
      "text/plain": [
       "            state_bottle_retail  sale_dollars  volume_sold_liters\n",
       "county                                                           \n",
       "black-hawk            361384.00  2.786531e+06           154994.32\n",
       "johnson               335982.54  2.929709e+06           161005.70\n",
       "linn                  565423.56  4.266498e+06           253583.50\n",
       "polk                 1279755.91  1.110619e+07           600075.43\n",
       "scott                 403794.79  3.319892e+06           178965.03"
      ]
     },
     "execution_count": 221,
     "metadata": {},
     "output_type": "execute_result"
    }
   ],
   "source": [
    "most_liters.head()"
   ]
  },
  {
   "cell_type": "markdown",
   "id": "3526a2ce-3cae-490b-a0a8-5bd54f6a51c6",
   "metadata": {},
   "source": [
    "## IV. Integrar dados: criar novos conjuntos de dados combinando dados de várias fontes."
   ]
  },
  {
   "cell_type": "code",
   "execution_count": 208,
   "id": "07c751ea-d97c-41a0-b511-21862a387318",
   "metadata": {},
   "outputs": [],
   "source": [
    "pop_df = pd.read_csv(\"../data/raw/pop_cty_iowa.csv\",usecols=['STNAME','CTYNAME','POPESTIMATE2016'])"
   ]
  },
  {
   "cell_type": "code",
   "execution_count": 209,
   "id": "78bde967-8c90-462f-a5a0-9e602060aa37",
   "metadata": {},
   "outputs": [],
   "source": [
    "pop_df['CTYNAME'] = pop_df['CTYNAME'].replace({' County':''}, regex = True).str.lower()"
   ]
  },
  {
   "cell_type": "code",
   "execution_count": 210,
   "id": "f3396851-acdb-414e-ad54-f3b4d84d0a9d",
   "metadata": {},
   "outputs": [],
   "source": [
    "pop_df = pop_df[pop_df['STNAME']==\"Iowa\"]"
   ]
  },
  {
   "cell_type": "code",
   "execution_count": 211,
   "id": "49cd53d2-07aa-4e44-9191-78a07f4d678c",
   "metadata": {},
   "outputs": [],
   "source": [
    "pop_df['CTYNAME']=pop_df['CTYNAME'].apply(slugify)"
   ]
  },
  {
   "cell_type": "code",
   "execution_count": 212,
   "id": "e5e173f0-f68d-4caa-9c73-46dd791c0d79",
   "metadata": {},
   "outputs": [
    {
     "data": {
      "text/plain": [
       "array(['iowa', 'adair', 'adams', 'allamakee', 'appanoose', 'audubon',\n",
       "       'benton', 'black-hawk', 'boone', 'bremer', 'buchanan',\n",
       "       'buena-vista', 'butler', 'calhoun', 'carroll', 'cass', 'cedar',\n",
       "       'cerro-gordo', 'cherokee', 'chickasaw', 'clarke', 'clay',\n",
       "       'clayton', 'clinton', 'crawford', 'dallas', 'davis', 'decatur',\n",
       "       'delaware', 'des-moines', 'dickinson', 'dubuque', 'emmet',\n",
       "       'fayette', 'floyd', 'franklin', 'fremont', 'greene', 'grundy',\n",
       "       'guthrie', 'hamilton', 'hancock', 'hardin', 'harrison', 'henry',\n",
       "       'howard', 'humboldt', 'ida', 'jackson', 'jasper', 'jefferson',\n",
       "       'johnson', 'jones', 'keokuk', 'kossuth', 'lee', 'linn', 'louisa',\n",
       "       'lucas', 'lyon', 'madison', 'mahaska', 'marion', 'marshall',\n",
       "       'mills', 'mitchell', 'monona', 'monroe', 'montgomery', 'muscatine',\n",
       "       'o-brien', 'osceola', 'page', 'palo-alto', 'plymouth',\n",
       "       'pocahontas', 'polk', 'pottawattamie', 'poweshiek', 'ringgold',\n",
       "       'sac', 'scott', 'shelby', 'sioux', 'story', 'tama', 'taylor',\n",
       "       'union', 'van-buren', 'wapello', 'warren', 'washington', 'wayne',\n",
       "       'webster', 'winnebago', 'winneshiek', 'woodbury', 'worth',\n",
       "       'wright'], dtype=object)"
      ]
     },
     "execution_count": 212,
     "metadata": {},
     "output_type": "execute_result"
    }
   ],
   "source": [
    "pop_df['CTYNAME'].unique()"
   ]
  },
  {
   "cell_type": "code",
   "execution_count": 213,
   "id": "903c721b-4ed9-4928-a0ff-d72913974095",
   "metadata": {},
   "outputs": [],
   "source": [
    "pop_df = pop_df[ (pop_df['CTYNAME']=='polk') | (pop_df['CTYNAME']=='linn') | (pop_df['CTYNAME']=='scott') | (pop_df['CTYNAME']=='johnson') | (pop_df['CTYNAME']=='black-hawk')].groupby(by=[\"CTYNAME\"])"
   ]
  },
  {
   "cell_type": "code",
   "execution_count": 214,
   "id": "d0a9984b-a50e-4268-abc7-840c8d75edfa",
   "metadata": {},
   "outputs": [
    {
     "data": {
      "text/html": [
       "<div>\n",
       "<style scoped>\n",
       "    .dataframe tbody tr th:only-of-type {\n",
       "        vertical-align: middle;\n",
       "    }\n",
       "\n",
       "    .dataframe tbody tr th {\n",
       "        vertical-align: top;\n",
       "    }\n",
       "\n",
       "    .dataframe thead th {\n",
       "        text-align: right;\n",
       "    }\n",
       "</style>\n",
       "<table border=\"1\" class=\"dataframe\">\n",
       "  <thead>\n",
       "    <tr style=\"text-align: right;\">\n",
       "      <th></th>\n",
       "      <th>STNAME</th>\n",
       "      <th>CTYNAME</th>\n",
       "      <th>POPESTIMATE2016</th>\n",
       "    </tr>\n",
       "  </thead>\n",
       "  <tbody>\n",
       "    <tr>\n",
       "      <th>811</th>\n",
       "      <td>Iowa</td>\n",
       "      <td>black-hawk</td>\n",
       "      <td>133077</td>\n",
       "    </tr>\n",
       "    <tr>\n",
       "      <th>856</th>\n",
       "      <td>Iowa</td>\n",
       "      <td>johnson</td>\n",
       "      <td>146928</td>\n",
       "    </tr>\n",
       "    <tr>\n",
       "      <th>861</th>\n",
       "      <td>Iowa</td>\n",
       "      <td>linn</td>\n",
       "      <td>222188</td>\n",
       "    </tr>\n",
       "    <tr>\n",
       "      <th>881</th>\n",
       "      <td>Iowa</td>\n",
       "      <td>polk</td>\n",
       "      <td>474277</td>\n",
       "    </tr>\n",
       "    <tr>\n",
       "      <th>886</th>\n",
       "      <td>Iowa</td>\n",
       "      <td>scott</td>\n",
       "      <td>172135</td>\n",
       "    </tr>\n",
       "  </tbody>\n",
       "</table>\n",
       "</div>"
      ],
      "text/plain": [
       "    STNAME     CTYNAME  POPESTIMATE2016\n",
       "811   Iowa  black-hawk           133077\n",
       "856   Iowa     johnson           146928\n",
       "861   Iowa        linn           222188\n",
       "881   Iowa        polk           474277\n",
       "886   Iowa       scott           172135"
      ]
     },
     "execution_count": 214,
     "metadata": {},
     "output_type": "execute_result"
    }
   ],
   "source": [
    "pop_df.head()"
   ]
  },
  {
   "cell_type": "code",
   "execution_count": 225,
   "id": "633cf7aa-9bb9-40b0-a8e8-6644521a02a6",
   "metadata": {},
   "outputs": [],
   "source": []
  },
  {
   "cell_type": "code",
   "execution_count": 226,
   "id": "71b394e9-9817-4bf6-a6b2-ee49973b47ce",
   "metadata": {},
   "outputs": [
    {
     "ename": "TypeError",
     "evalue": "'DataFrameGroupBy' object does not support item assignment",
     "output_type": "error",
     "traceback": [
      "\u001b[0;31m---------------------------------------------------------------------------\u001b[0m",
      "\u001b[0;31mTypeError\u001b[0m                                 Traceback (most recent call last)",
      "\u001b[0;32m<ipython-input-226-b10ecca63b31>\u001b[0m in \u001b[0;36m<module>\u001b[0;34m\u001b[0m\n\u001b[0;32m----> 1\u001b[0;31m \u001b[0mnew_one\u001b[0m\u001b[0;34m[\u001b[0m\u001b[0;34m\"volume_sold_liters\"\u001b[0m\u001b[0;34m]\u001b[0m \u001b[0;34m=\u001b[0m \u001b[0mmost_liters\u001b[0m\u001b[0;34m[\u001b[0m\u001b[0;34m'volume_sold_liters'\u001b[0m\u001b[0;34m]\u001b[0m\u001b[0;34m\u001b[0m\u001b[0;34m\u001b[0m\u001b[0m\n\u001b[0m",
      "\u001b[0;31mTypeError\u001b[0m: 'DataFrameGroupBy' object does not support item assignment"
     ]
    }
   ],
   "source": [
    "new_one[\"volume_sold_liters\"] = most_liters['volume_sold_liters']"
   ]
  },
  {
   "cell_type": "code",
   "execution_count": null,
   "id": "2be38541-7f07-49f4-9ea1-42995497b4c2",
   "metadata": {},
   "outputs": [],
   "source": [
    "most_liters.head()"
   ]
  },
  {
   "cell_type": "code",
   "execution_count": null,
   "id": "b065eac2-717d-4086-ace0-f73423e2f097",
   "metadata": {},
   "outputs": [],
   "source": [
    "liters_per_person.head()"
   ]
  },
  {
   "cell_type": "markdown",
   "id": "99b579c0-2d28-49db-ab51-c0ea3121e44b",
   "metadata": {},
   "source": [
    "## V.  Formatar dados: Formatar novamente os dados conforme as necessidades dos modelos."
   ]
  }
 ],
 "metadata": {
  "kernelspec": {
   "display_name": "Python 3",
   "language": "python",
   "name": "python3"
  },
  "language_info": {
   "codemirror_mode": {
    "name": "ipython",
    "version": 3
   },
   "file_extension": ".py",
   "mimetype": "text/x-python",
   "name": "python",
   "nbconvert_exporter": "python",
   "pygments_lexer": "ipython3",
   "version": "3.8.8"
  }
 },
 "nbformat": 4,
 "nbformat_minor": 5
}
