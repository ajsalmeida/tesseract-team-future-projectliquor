{
 "cells": [
  {
   "cell_type": "code",
   "execution_count": 56,
   "id": "b5857225-d669-4d1f-9fb2-442962ee9899",
   "metadata": {},
   "outputs": [],
   "source": [
    "import pandas as pd\n",
    "import numpy as np\n",
    "from slugify import slugify\n",
    "pd.set_option('display.max_columns', None)\n",
    "pd. set_option(\"display.max_rows\", None)\n",
    "from Levenshtein import distance"
   ]
  },
  {
   "cell_type": "markdown",
   "id": "7a50d6a5-6022-4915-b9f1-8db473cb8d5d",
   "metadata": {},
   "source": [
    "## I. Selecionar os dados: determinar quais conjuntos de dados serão utilizados e documentar os motivos de inclusão/exclusão."
   ]
  },
  {
   "cell_type": "code",
   "execution_count": 57,
   "id": "ff569682-69b6-40a7-ae09-1acfa0991062",
   "metadata": {},
   "outputs": [],
   "source": [
    "df = pd.read_csv(\"../data/raw/iowa_liquor_train_test_split_sample.csv\")"
   ]
  },
  {
   "cell_type": "code",
   "execution_count": 58,
   "id": "d6237c09-74d0-4281-80ae-3fb328d09567",
   "metadata": {},
   "outputs": [
    {
     "data": {
      "text/html": [
       "<div>\n",
       "<style scoped>\n",
       "    .dataframe tbody tr th:only-of-type {\n",
       "        vertical-align: middle;\n",
       "    }\n",
       "\n",
       "    .dataframe tbody tr th {\n",
       "        vertical-align: top;\n",
       "    }\n",
       "\n",
       "    .dataframe thead th {\n",
       "        text-align: right;\n",
       "    }\n",
       "</style>\n",
       "<table border=\"1\" class=\"dataframe\">\n",
       "  <thead>\n",
       "    <tr style=\"text-align: right;\">\n",
       "      <th></th>\n",
       "      <th>Unnamed: 0</th>\n",
       "      <th>Invoice/Item Number</th>\n",
       "      <th>Date</th>\n",
       "      <th>Store Number</th>\n",
       "      <th>Store Name</th>\n",
       "      <th>Address</th>\n",
       "      <th>City</th>\n",
       "      <th>Zip Code</th>\n",
       "      <th>Store Location</th>\n",
       "      <th>County Number</th>\n",
       "      <th>County</th>\n",
       "      <th>Category</th>\n",
       "      <th>Category Name</th>\n",
       "      <th>Vendor Number</th>\n",
       "      <th>Vendor Name</th>\n",
       "      <th>Item Number</th>\n",
       "      <th>Item Description</th>\n",
       "      <th>Pack</th>\n",
       "      <th>Bottle Volume (ml)</th>\n",
       "      <th>State Bottle Cost</th>\n",
       "      <th>State Bottle Retail</th>\n",
       "      <th>Bottles Sold</th>\n",
       "      <th>Sale (Dollars)</th>\n",
       "      <th>Volume Sold (Liters)</th>\n",
       "      <th>Volume Sold (Gallons)</th>\n",
       "    </tr>\n",
       "  </thead>\n",
       "  <tbody>\n",
       "    <tr>\n",
       "      <th>0</th>\n",
       "      <td>2364808</td>\n",
       "      <td>S10798700028</td>\n",
       "      <td>02/26/2013</td>\n",
       "      <td>4347</td>\n",
       "      <td>Jeff's Market / Blue Grass</td>\n",
       "      <td>102 W MAYNE</td>\n",
       "      <td>BLUE GRASS</td>\n",
       "      <td>52726</td>\n",
       "      <td>102 W MAYNE\\nBLUE GRASS 52726\\n(41.509114, -90...</td>\n",
       "      <td>82.0</td>\n",
       "      <td>Scott</td>\n",
       "      <td>1011200.0</td>\n",
       "      <td>STRAIGHT BOURBON WHISKIES</td>\n",
       "      <td>461.0</td>\n",
       "      <td>Campari(skyy)</td>\n",
       "      <td>22155</td>\n",
       "      <td>Wild Turkey 101 Round</td>\n",
       "      <td>12</td>\n",
       "      <td>375</td>\n",
       "      <td>$6.00</td>\n",
       "      <td>$8.99</td>\n",
       "      <td>1</td>\n",
       "      <td>$8.99</td>\n",
       "      <td>0.38</td>\n",
       "      <td>0.10</td>\n",
       "    </tr>\n",
       "    <tr>\n",
       "      <th>1</th>\n",
       "      <td>12139684</td>\n",
       "      <td>INV-06802100005</td>\n",
       "      <td>08/22/2017</td>\n",
       "      <td>3651</td>\n",
       "      <td>Wal-Mart 1491 / Indianola</td>\n",
       "      <td>1500 North Jefferson</td>\n",
       "      <td>Indianola</td>\n",
       "      <td>50125</td>\n",
       "      <td>1500 North Jefferson\\nIndianola 50125\\n</td>\n",
       "      <td>91.0</td>\n",
       "      <td>WARREN</td>\n",
       "      <td>1012100.0</td>\n",
       "      <td>Canadian Whiskies</td>\n",
       "      <td>260.0</td>\n",
       "      <td>DIAGEO AMERICAS</td>\n",
       "      <td>11298</td>\n",
       "      <td>Crown Royal Canadian Whisky</td>\n",
       "      <td>6</td>\n",
       "      <td>1750</td>\n",
       "      <td>$31.99</td>\n",
       "      <td>$47.99</td>\n",
       "      <td>1</td>\n",
       "      <td>$287.94</td>\n",
       "      <td>1.75</td>\n",
       "      <td>0.46</td>\n",
       "    </tr>\n",
       "    <tr>\n",
       "      <th>2</th>\n",
       "      <td>31671</td>\n",
       "      <td>S14182900098</td>\n",
       "      <td>08/28/2013</td>\n",
       "      <td>2576</td>\n",
       "      <td>Hy-Vee Wine and Spirits / Storm Lake</td>\n",
       "      <td>1250 N LAKE ST</td>\n",
       "      <td>STORM LAKE</td>\n",
       "      <td>50588</td>\n",
       "      <td>1250 N LAKE ST\\nSTORM LAKE 50588\\n(42.653594, ...</td>\n",
       "      <td>11.0</td>\n",
       "      <td>Buena Vista</td>\n",
       "      <td>1081700.0</td>\n",
       "      <td>DISTILLED SPIRITS SPECIALTY</td>\n",
       "      <td>421.0</td>\n",
       "      <td>Sazerac Co., Inc.</td>\n",
       "      <td>86688</td>\n",
       "      <td>Firefly Strawberry Moonshine</td>\n",
       "      <td>12</td>\n",
       "      <td>750</td>\n",
       "      <td>$9.88</td>\n",
       "      <td>$14.82</td>\n",
       "      <td>2</td>\n",
       "      <td>$29.64</td>\n",
       "      <td>1.50</td>\n",
       "      <td>0.40</td>\n",
       "    </tr>\n",
       "    <tr>\n",
       "      <th>3</th>\n",
       "      <td>1100266</td>\n",
       "      <td>S11292900026</td>\n",
       "      <td>03/26/2013</td>\n",
       "      <td>3756</td>\n",
       "      <td>Main Street Liquors / Manning</td>\n",
       "      <td>316 MAIN ST</td>\n",
       "      <td>MANNING</td>\n",
       "      <td>51455</td>\n",
       "      <td>316 MAIN ST\\nMANNING 51455\\n(41.908573, -95.06...</td>\n",
       "      <td>14.0</td>\n",
       "      <td>Carroll</td>\n",
       "      <td>1081390.0</td>\n",
       "      <td>IMPORTED SCHNAPPS</td>\n",
       "      <td>260.0</td>\n",
       "      <td>Diageo Americas</td>\n",
       "      <td>69947</td>\n",
       "      <td>Rumple Minze Peppermint Schnapps Liqueur</td>\n",
       "      <td>12</td>\n",
       "      <td>1000</td>\n",
       "      <td>$15.15</td>\n",
       "      <td>$22.72</td>\n",
       "      <td>1</td>\n",
       "      <td>$22.72</td>\n",
       "      <td>1.00</td>\n",
       "      <td>0.26</td>\n",
       "    </tr>\n",
       "    <tr>\n",
       "      <th>4</th>\n",
       "      <td>12120532</td>\n",
       "      <td>INV-06737700004</td>\n",
       "      <td>08/17/2017</td>\n",
       "      <td>4997</td>\n",
       "      <td>Downtown Pantry</td>\n",
       "      <td>218, 6th Ave #101</td>\n",
       "      <td>Des Moines</td>\n",
       "      <td>50309</td>\n",
       "      <td>218, 6th Ave #101\\nDes Moines 50309\\n(41.58568...</td>\n",
       "      <td>77.0</td>\n",
       "      <td>POLK</td>\n",
       "      <td>1022100.0</td>\n",
       "      <td>Mixto Tequila</td>\n",
       "      <td>395.0</td>\n",
       "      <td>PROXIMO</td>\n",
       "      <td>89191</td>\n",
       "      <td>Jose Cuervo Especial Reposado Tequila Mini</td>\n",
       "      <td>12</td>\n",
       "      <td>500</td>\n",
       "      <td>$11.50</td>\n",
       "      <td>$17.25</td>\n",
       "      <td>1</td>\n",
       "      <td>$17.25</td>\n",
       "      <td>0.50</td>\n",
       "      <td>0.13</td>\n",
       "    </tr>\n",
       "  </tbody>\n",
       "</table>\n",
       "</div>"
      ],
      "text/plain": [
       "   Unnamed: 0 Invoice/Item Number        Date  Store Number  \\\n",
       "0     2364808        S10798700028  02/26/2013          4347   \n",
       "1    12139684     INV-06802100005  08/22/2017          3651   \n",
       "2       31671        S14182900098  08/28/2013          2576   \n",
       "3     1100266        S11292900026  03/26/2013          3756   \n",
       "4    12120532     INV-06737700004  08/17/2017          4997   \n",
       "\n",
       "                             Store Name               Address        City  \\\n",
       "0            Jeff's Market / Blue Grass           102 W MAYNE  BLUE GRASS   \n",
       "1             Wal-Mart 1491 / Indianola  1500 North Jefferson   Indianola   \n",
       "2  Hy-Vee Wine and Spirits / Storm Lake        1250 N LAKE ST  STORM LAKE   \n",
       "3         Main Street Liquors / Manning           316 MAIN ST     MANNING   \n",
       "4                       Downtown Pantry     218, 6th Ave #101  Des Moines   \n",
       "\n",
       "  Zip Code                                     Store Location  County Number  \\\n",
       "0    52726  102 W MAYNE\\nBLUE GRASS 52726\\n(41.509114, -90...           82.0   \n",
       "1    50125            1500 North Jefferson\\nIndianola 50125\\n           91.0   \n",
       "2    50588  1250 N LAKE ST\\nSTORM LAKE 50588\\n(42.653594, ...           11.0   \n",
       "3    51455  316 MAIN ST\\nMANNING 51455\\n(41.908573, -95.06...           14.0   \n",
       "4    50309  218, 6th Ave #101\\nDes Moines 50309\\n(41.58568...           77.0   \n",
       "\n",
       "        County   Category                Category Name  Vendor Number  \\\n",
       "0        Scott  1011200.0    STRAIGHT BOURBON WHISKIES          461.0   \n",
       "1       WARREN  1012100.0            Canadian Whiskies          260.0   \n",
       "2  Buena Vista  1081700.0  DISTILLED SPIRITS SPECIALTY          421.0   \n",
       "3      Carroll  1081390.0            IMPORTED SCHNAPPS          260.0   \n",
       "4         POLK  1022100.0                Mixto Tequila          395.0   \n",
       "\n",
       "         Vendor Name  Item Number                            Item Description  \\\n",
       "0      Campari(skyy)        22155                       Wild Turkey 101 Round   \n",
       "1    DIAGEO AMERICAS        11298                 Crown Royal Canadian Whisky   \n",
       "2  Sazerac Co., Inc.        86688                Firefly Strawberry Moonshine   \n",
       "3    Diageo Americas        69947    Rumple Minze Peppermint Schnapps Liqueur   \n",
       "4            PROXIMO        89191  Jose Cuervo Especial Reposado Tequila Mini   \n",
       "\n",
       "   Pack  Bottle Volume (ml) State Bottle Cost State Bottle Retail  \\\n",
       "0    12                 375             $6.00               $8.99   \n",
       "1     6                1750            $31.99              $47.99   \n",
       "2    12                 750             $9.88              $14.82   \n",
       "3    12                1000            $15.15              $22.72   \n",
       "4    12                 500            $11.50              $17.25   \n",
       "\n",
       "   Bottles Sold Sale (Dollars)  Volume Sold (Liters)  Volume Sold (Gallons)  \n",
       "0             1          $8.99                  0.38                   0.10  \n",
       "1             1        $287.94                  1.75                   0.46  \n",
       "2             2         $29.64                  1.50                   0.40  \n",
       "3             1         $22.72                  1.00                   0.26  \n",
       "4             1         $17.25                  0.50                   0.13  "
      ]
     },
     "execution_count": 58,
     "metadata": {},
     "output_type": "execute_result"
    }
   ],
   "source": [
    "df.head()"
   ]
  },
  {
   "cell_type": "code",
   "execution_count": 59,
   "id": "a366175a-0fe5-4d9f-94ab-2108ba95152a",
   "metadata": {},
   "outputs": [],
   "source": [
    "df = pd.read_csv(\"../data/raw/iowa_liquor_train_test_split_sample.csv\", usecols=[2,10,22,23],encoding='utf-8')"
   ]
  },
  {
   "cell_type": "code",
   "execution_count": 60,
   "id": "46280403-78da-400b-9834-0659f0ecc5dd",
   "metadata": {},
   "outputs": [
    {
     "data": {
      "text/plain": [
       "Index(['date', 'county', 'sale_dollars', 'volume_sold_liters'], dtype='object')"
      ]
     },
     "execution_count": 60,
     "metadata": {},
     "output_type": "execute_result"
    }
   ],
   "source": [
    "df.columns = [slugify(col, lowercase=True, separator='_') for col in df.columns]\n",
    "df.columns"
   ]
  },
  {
   "cell_type": "markdown",
   "id": "97b5a34d-6305-49a8-bcff-6d79798fe2f7",
   "metadata": {},
   "source": [
    "df.head(1)"
   ]
  },
  {
   "cell_type": "markdown",
   "id": "8f18e48f-a9d6-4c2a-950a-4cf759390ff0",
   "metadata": {},
   "source": [
    "### Remoção das colunas as quais não iremos utilizar\n",
    "#### Vamos deixar somente as colunas data, store_location, state_bottle_retail, salle_dollars, volume_sold_liters, pois vamos realizar regressão linear em dados numéricos"
   ]
  },
  {
   "cell_type": "code",
   "execution_count": 61,
   "id": "767ebdf8-9f99-444c-9533-dd23f2d624af",
   "metadata": {},
   "outputs": [
    {
     "name": "stdout",
     "output_type": "stream",
     "text": [
      "<class 'pandas.core.frame.DataFrame'>\n",
      "RangeIndex: 2518216 entries, 0 to 2518215\n",
      "Data columns (total 4 columns):\n",
      " #   Column              Dtype  \n",
      "---  ------              -----  \n",
      " 0   date                object \n",
      " 1   county              object \n",
      " 2   sale_dollars        object \n",
      " 3   volume_sold_liters  float64\n",
      "dtypes: float64(1), object(3)\n",
      "memory usage: 76.8+ MB\n"
     ]
    }
   ],
   "source": [
    "df.info()"
   ]
  },
  {
   "cell_type": "code",
   "execution_count": 62,
   "id": "970e0b32-a4b4-466d-ba60-ce878ef75380",
   "metadata": {},
   "outputs": [
    {
     "data": {
      "text/html": [
       "<div>\n",
       "<style scoped>\n",
       "    .dataframe tbody tr th:only-of-type {\n",
       "        vertical-align: middle;\n",
       "    }\n",
       "\n",
       "    .dataframe tbody tr th {\n",
       "        vertical-align: top;\n",
       "    }\n",
       "\n",
       "    .dataframe thead th {\n",
       "        text-align: right;\n",
       "    }\n",
       "</style>\n",
       "<table border=\"1\" class=\"dataframe\">\n",
       "  <thead>\n",
       "    <tr style=\"text-align: right;\">\n",
       "      <th></th>\n",
       "      <th>date</th>\n",
       "      <th>county</th>\n",
       "      <th>sale_dollars</th>\n",
       "      <th>volume_sold_liters</th>\n",
       "    </tr>\n",
       "  </thead>\n",
       "  <tbody>\n",
       "    <tr>\n",
       "      <th>0</th>\n",
       "      <td>02/26/2013</td>\n",
       "      <td>Scott</td>\n",
       "      <td>$8.99</td>\n",
       "      <td>0.38</td>\n",
       "    </tr>\n",
       "    <tr>\n",
       "      <th>1</th>\n",
       "      <td>08/22/2017</td>\n",
       "      <td>WARREN</td>\n",
       "      <td>$287.94</td>\n",
       "      <td>1.75</td>\n",
       "    </tr>\n",
       "    <tr>\n",
       "      <th>2</th>\n",
       "      <td>08/28/2013</td>\n",
       "      <td>Buena Vista</td>\n",
       "      <td>$29.64</td>\n",
       "      <td>1.50</td>\n",
       "    </tr>\n",
       "    <tr>\n",
       "      <th>3</th>\n",
       "      <td>03/26/2013</td>\n",
       "      <td>Carroll</td>\n",
       "      <td>$22.72</td>\n",
       "      <td>1.00</td>\n",
       "    </tr>\n",
       "    <tr>\n",
       "      <th>4</th>\n",
       "      <td>08/17/2017</td>\n",
       "      <td>POLK</td>\n",
       "      <td>$17.25</td>\n",
       "      <td>0.50</td>\n",
       "    </tr>\n",
       "  </tbody>\n",
       "</table>\n",
       "</div>"
      ],
      "text/plain": [
       "         date       county sale_dollars  volume_sold_liters\n",
       "0  02/26/2013        Scott        $8.99                0.38\n",
       "1  08/22/2017       WARREN      $287.94                1.75\n",
       "2  08/28/2013  Buena Vista       $29.64                1.50\n",
       "3  03/26/2013      Carroll       $22.72                1.00\n",
       "4  08/17/2017         POLK       $17.25                0.50"
      ]
     },
     "execution_count": 62,
     "metadata": {},
     "output_type": "execute_result"
    }
   ],
   "source": [
    "df.head()"
   ]
  },
  {
   "cell_type": "code",
   "execution_count": 63,
   "id": "c241c702-4027-4db0-88bf-b6a2c1afc0c2",
   "metadata": {},
   "outputs": [
    {
     "data": {
      "text/plain": [
       "(2518216, 4)"
      ]
     },
     "execution_count": 63,
     "metadata": {},
     "output_type": "execute_result"
    }
   ],
   "source": [
    "df.shape"
   ]
  },
  {
   "cell_type": "code",
   "execution_count": 64,
   "id": "53ad7123-f705-42d6-911c-d3ca27448a6e",
   "metadata": {},
   "outputs": [
    {
     "data": {
      "text/plain": [
       "(0, 4)"
      ]
     },
     "execution_count": 64,
     "metadata": {},
     "output_type": "execute_result"
    }
   ],
   "source": [
    "df[df['date'].isna()].shape"
   ]
  },
  {
   "cell_type": "code",
   "execution_count": 65,
   "id": "ab5fa8b6-5989-4b3a-a6a2-8beb0822c8dc",
   "metadata": {},
   "outputs": [
    {
     "data": {
      "text/plain": [
       "(15650, 4)"
      ]
     },
     "execution_count": 65,
     "metadata": {},
     "output_type": "execute_result"
    }
   ],
   "source": [
    "df[df['county'].isna()].shape"
   ]
  },
  {
   "cell_type": "code",
   "execution_count": 66,
   "id": "6d4868cd-6659-4471-b6f3-0d55eea62b2f",
   "metadata": {},
   "outputs": [
    {
     "data": {
      "text/plain": [
       "(2, 4)"
      ]
     },
     "execution_count": 66,
     "metadata": {},
     "output_type": "execute_result"
    }
   ],
   "source": [
    "df[df['sale_dollars'].isna()].shape"
   ]
  },
  {
   "cell_type": "code",
   "execution_count": 67,
   "id": "df9110fd-5a30-4010-8577-43a983aa5c91",
   "metadata": {},
   "outputs": [
    {
     "data": {
      "text/plain": [
       "(0, 4)"
      ]
     },
     "execution_count": 67,
     "metadata": {},
     "output_type": "execute_result"
    }
   ],
   "source": [
    "df[df['volume_sold_liters'].isna()].shape"
   ]
  },
  {
   "cell_type": "markdown",
   "id": "10a4097d-01b8-4960-bab2-7ade0f5fc576",
   "metadata": {},
   "source": [
    "#### Procurando por mais inconsistências"
   ]
  },
  {
   "cell_type": "markdown",
   "id": "ca5e6e96-339d-4d1c-b13c-04a208988292",
   "metadata": {},
   "source": [
    "## II. Limpar dados: Corrigir, imputar ou remover valores erroneamente inseridos nos conjuntos de dados."
   ]
  },
  {
   "cell_type": "code",
   "execution_count": 68,
   "id": "c36f3fd2-2893-40de-9c75-0c22a46775c0",
   "metadata": {},
   "outputs": [],
   "source": [
    "df = df.dropna()"
   ]
  },
  {
   "cell_type": "code",
   "execution_count": 69,
   "id": "c94c66d1-14a9-4a2d-a945-b0d5591df767",
   "metadata": {},
   "outputs": [],
   "source": [
    "df['county']=df['county'].apply(slugify)"
   ]
  },
  {
   "cell_type": "markdown",
   "id": "964216b8-e878-4dd1-9991-1c4ff326006c",
   "metadata": {},
   "source": [
    "#### Transformando a coluna data para formato date"
   ]
  },
  {
   "cell_type": "code",
   "execution_count": 70,
   "id": "fa31437b-63b7-421d-a37c-2b7caf489342",
   "metadata": {},
   "outputs": [],
   "source": [
    "df['date'] = pd.to_datetime(df['date'])"
   ]
  },
  {
   "cell_type": "code",
   "execution_count": 71,
   "id": "fe813f0c-8e8f-46d8-a699-22c7f4a2812c",
   "metadata": {},
   "outputs": [],
   "source": [
    "df['county']=df['county'].apply(slugify)"
   ]
  },
  {
   "cell_type": "code",
   "execution_count": 72,
   "id": "96a8dbfa-e594-44e7-84ee-f338a8309068",
   "metadata": {},
   "outputs": [
    {
     "data": {
      "text/html": [
       "<div>\n",
       "<style scoped>\n",
       "    .dataframe tbody tr th:only-of-type {\n",
       "        vertical-align: middle;\n",
       "    }\n",
       "\n",
       "    .dataframe tbody tr th {\n",
       "        vertical-align: top;\n",
       "    }\n",
       "\n",
       "    .dataframe thead th {\n",
       "        text-align: right;\n",
       "    }\n",
       "</style>\n",
       "<table border=\"1\" class=\"dataframe\">\n",
       "  <thead>\n",
       "    <tr style=\"text-align: right;\">\n",
       "      <th></th>\n",
       "      <th>date</th>\n",
       "      <th>county</th>\n",
       "      <th>sale_dollars</th>\n",
       "      <th>volume_sold_liters</th>\n",
       "    </tr>\n",
       "  </thead>\n",
       "  <tbody>\n",
       "    <tr>\n",
       "      <th>0</th>\n",
       "      <td>2013-02-26</td>\n",
       "      <td>scott</td>\n",
       "      <td>$8.99</td>\n",
       "      <td>0.38</td>\n",
       "    </tr>\n",
       "    <tr>\n",
       "      <th>1</th>\n",
       "      <td>2017-08-22</td>\n",
       "      <td>warren</td>\n",
       "      <td>$287.94</td>\n",
       "      <td>1.75</td>\n",
       "    </tr>\n",
       "    <tr>\n",
       "      <th>2</th>\n",
       "      <td>2013-08-28</td>\n",
       "      <td>buena-vista</td>\n",
       "      <td>$29.64</td>\n",
       "      <td>1.50</td>\n",
       "    </tr>\n",
       "    <tr>\n",
       "      <th>3</th>\n",
       "      <td>2013-03-26</td>\n",
       "      <td>carroll</td>\n",
       "      <td>$22.72</td>\n",
       "      <td>1.00</td>\n",
       "    </tr>\n",
       "    <tr>\n",
       "      <th>4</th>\n",
       "      <td>2017-08-17</td>\n",
       "      <td>polk</td>\n",
       "      <td>$17.25</td>\n",
       "      <td>0.50</td>\n",
       "    </tr>\n",
       "  </tbody>\n",
       "</table>\n",
       "</div>"
      ],
      "text/plain": [
       "        date       county sale_dollars  volume_sold_liters\n",
       "0 2013-02-26        scott        $8.99                0.38\n",
       "1 2017-08-22       warren      $287.94                1.75\n",
       "2 2013-08-28  buena-vista       $29.64                1.50\n",
       "3 2013-03-26      carroll       $22.72                1.00\n",
       "4 2017-08-17         polk       $17.25                0.50"
      ]
     },
     "execution_count": 72,
     "metadata": {},
     "output_type": "execute_result"
    }
   ],
   "source": [
    "df.head()"
   ]
  },
  {
   "cell_type": "code",
   "execution_count": 73,
   "id": "bfa64ec3-e4f8-4013-aa4c-8d3b59bbfa65",
   "metadata": {},
   "outputs": [],
   "source": [
    "counties = df['county'].unique()"
   ]
  },
  {
   "cell_type": "markdown",
   "id": "ff715b8f-1052-48c8-8889-15998ef0eda2",
   "metadata": {},
   "source": [
    "#### Procurando por mais inconsistências"
   ]
  },
  {
   "cell_type": "markdown",
   "id": "73a54e86-e8c1-48dc-af75-004c2c49a56b",
   "metadata": {},
   "source": [
    "##### condados com nome parecido"
   ]
  },
  {
   "cell_type": "code",
   "execution_count": 74,
   "id": "b43aa7a9-c063-49c0-9945-3eda13925e8f",
   "metadata": {},
   "outputs": [
    {
     "name": "stdout",
     "output_type": "stream",
     "text": [
      "buena-vista\n",
      "cerro-gordo\n",
      "cerro-gord\n",
      "buena-vist\n",
      "o-brien\n",
      "obrien\n"
     ]
    }
   ],
   "source": [
    "for a in counties:\n",
    "    for b in reversed(counties):\n",
    "        if distance(a,b)==1:\n",
    "            print(a)"
   ]
  },
  {
   "cell_type": "code",
   "execution_count": 75,
   "id": "a0f61d88-f3c2-419b-9f9d-846b4267ab1c",
   "metadata": {},
   "outputs": [],
   "source": [
    "df['sale_dollars'] = df['sale_dollars'].replace({'\\$':''}, regex = True).astype(float)"
   ]
  },
  {
   "cell_type": "code",
   "execution_count": 76,
   "id": "af605e19-89dc-477c-850f-b041d4cd608a",
   "metadata": {},
   "outputs": [],
   "source": [
    "df['volume_sold_liters'] = df['volume_sold_liters'].astype(float)"
   ]
  },
  {
   "cell_type": "code",
   "execution_count": 77,
   "id": "1d42c4f2-7063-47b5-bfc2-0fc0b8d299d3",
   "metadata": {},
   "outputs": [
    {
     "data": {
      "text/html": [
       "<div>\n",
       "<style scoped>\n",
       "    .dataframe tbody tr th:only-of-type {\n",
       "        vertical-align: middle;\n",
       "    }\n",
       "\n",
       "    .dataframe tbody tr th {\n",
       "        vertical-align: top;\n",
       "    }\n",
       "\n",
       "    .dataframe thead th {\n",
       "        text-align: right;\n",
       "    }\n",
       "</style>\n",
       "<table border=\"1\" class=\"dataframe\">\n",
       "  <thead>\n",
       "    <tr style=\"text-align: right;\">\n",
       "      <th></th>\n",
       "      <th>date</th>\n",
       "      <th>county</th>\n",
       "      <th>sale_dollars</th>\n",
       "      <th>volume_sold_liters</th>\n",
       "    </tr>\n",
       "  </thead>\n",
       "  <tbody>\n",
       "    <tr>\n",
       "      <th>0</th>\n",
       "      <td>2013-02-26</td>\n",
       "      <td>scott</td>\n",
       "      <td>8.99</td>\n",
       "      <td>0.38</td>\n",
       "    </tr>\n",
       "    <tr>\n",
       "      <th>1</th>\n",
       "      <td>2017-08-22</td>\n",
       "      <td>warren</td>\n",
       "      <td>287.94</td>\n",
       "      <td>1.75</td>\n",
       "    </tr>\n",
       "    <tr>\n",
       "      <th>2</th>\n",
       "      <td>2013-08-28</td>\n",
       "      <td>buena-vista</td>\n",
       "      <td>29.64</td>\n",
       "      <td>1.50</td>\n",
       "    </tr>\n",
       "    <tr>\n",
       "      <th>3</th>\n",
       "      <td>2013-03-26</td>\n",
       "      <td>carroll</td>\n",
       "      <td>22.72</td>\n",
       "      <td>1.00</td>\n",
       "    </tr>\n",
       "    <tr>\n",
       "      <th>4</th>\n",
       "      <td>2017-08-17</td>\n",
       "      <td>polk</td>\n",
       "      <td>17.25</td>\n",
       "      <td>0.50</td>\n",
       "    </tr>\n",
       "  </tbody>\n",
       "</table>\n",
       "</div>"
      ],
      "text/plain": [
       "        date       county  sale_dollars  volume_sold_liters\n",
       "0 2013-02-26        scott          8.99                0.38\n",
       "1 2017-08-22       warren        287.94                1.75\n",
       "2 2013-08-28  buena-vista         29.64                1.50\n",
       "3 2013-03-26      carroll         22.72                1.00\n",
       "4 2017-08-17         polk         17.25                0.50"
      ]
     },
     "execution_count": 77,
     "metadata": {},
     "output_type": "execute_result"
    }
   ],
   "source": [
    "df.head()"
   ]
  },
  {
   "cell_type": "markdown",
   "id": "db3e1afc-12af-4562-afd4-1304337f2b5a",
   "metadata": {},
   "source": [
    "#### Utilizar os dados de 2016, pois é o mais recente e tem dados completos"
   ]
  },
  {
   "cell_type": "code",
   "execution_count": 78,
   "id": "f164da07-ee95-4520-a448-7bec095e1f8e",
   "metadata": {},
   "outputs": [],
   "source": [
    "df = df[df['date'].dt.year == 2016]"
   ]
  },
  {
   "cell_type": "code",
   "execution_count": 79,
   "id": "c02c988f-2ea8-41de-a64e-7d091cde8d00",
   "metadata": {},
   "outputs": [
    {
     "data": {
      "text/html": [
       "<div>\n",
       "<style scoped>\n",
       "    .dataframe tbody tr th:only-of-type {\n",
       "        vertical-align: middle;\n",
       "    }\n",
       "\n",
       "    .dataframe tbody tr th {\n",
       "        vertical-align: top;\n",
       "    }\n",
       "\n",
       "    .dataframe thead th {\n",
       "        text-align: right;\n",
       "    }\n",
       "</style>\n",
       "<table border=\"1\" class=\"dataframe\">\n",
       "  <thead>\n",
       "    <tr style=\"text-align: right;\">\n",
       "      <th></th>\n",
       "      <th>date</th>\n",
       "      <th>county</th>\n",
       "      <th>sale_dollars</th>\n",
       "      <th>volume_sold_liters</th>\n",
       "    </tr>\n",
       "  </thead>\n",
       "  <tbody>\n",
       "    <tr>\n",
       "      <th>10</th>\n",
       "      <td>2016-06-22</td>\n",
       "      <td>bremer</td>\n",
       "      <td>70.52</td>\n",
       "      <td>4.0</td>\n",
       "    </tr>\n",
       "    <tr>\n",
       "      <th>20</th>\n",
       "      <td>2016-12-16</td>\n",
       "      <td>hamilton</td>\n",
       "      <td>90.00</td>\n",
       "      <td>1.2</td>\n",
       "    </tr>\n",
       "    <tr>\n",
       "      <th>21</th>\n",
       "      <td>2016-12-22</td>\n",
       "      <td>scott</td>\n",
       "      <td>7.26</td>\n",
       "      <td>1.2</td>\n",
       "    </tr>\n",
       "    <tr>\n",
       "      <th>38</th>\n",
       "      <td>2016-01-19</td>\n",
       "      <td>page</td>\n",
       "      <td>376.32</td>\n",
       "      <td>42.0</td>\n",
       "    </tr>\n",
       "    <tr>\n",
       "      <th>39</th>\n",
       "      <td>2016-05-18</td>\n",
       "      <td>johnson</td>\n",
       "      <td>156.96</td>\n",
       "      <td>9.0</td>\n",
       "    </tr>\n",
       "  </tbody>\n",
       "</table>\n",
       "</div>"
      ],
      "text/plain": [
       "         date    county  sale_dollars  volume_sold_liters\n",
       "10 2016-06-22    bremer         70.52                 4.0\n",
       "20 2016-12-16  hamilton         90.00                 1.2\n",
       "21 2016-12-22     scott          7.26                 1.2\n",
       "38 2016-01-19      page        376.32                42.0\n",
       "39 2016-05-18   johnson        156.96                 9.0"
      ]
     },
     "execution_count": 79,
     "metadata": {},
     "output_type": "execute_result"
    }
   ],
   "source": [
    "df.head()"
   ]
  },
  {
   "cell_type": "markdown",
   "id": "a0462025-74c0-4eca-8c6c-cbfa96756003",
   "metadata": {},
   "source": [
    "## III. Construir dados: derivar novos atributos que serão úteis. Por exemplo, derivar o IMC de alguém a partir da altura e peso."
   ]
  },
  {
   "cell_type": "code",
   "execution_count": 80,
   "id": "d1310330-da15-4bcb-aec9-6e0f4ec3880b",
   "metadata": {},
   "outputs": [],
   "source": [
    "county_group = df.groupby(by=[\"county\"]).sum()"
   ]
  },
  {
   "cell_type": "code",
   "execution_count": 81,
   "id": "9a0683be-777b-4707-9aab-7f60515f62ba",
   "metadata": {},
   "outputs": [
    {
     "data": {
      "text/html": [
       "<div>\n",
       "<style scoped>\n",
       "    .dataframe tbody tr th:only-of-type {\n",
       "        vertical-align: middle;\n",
       "    }\n",
       "\n",
       "    .dataframe tbody tr th {\n",
       "        vertical-align: top;\n",
       "    }\n",
       "\n",
       "    .dataframe thead th {\n",
       "        text-align: right;\n",
       "    }\n",
       "</style>\n",
       "<table border=\"1\" class=\"dataframe\">\n",
       "  <thead>\n",
       "    <tr style=\"text-align: right;\">\n",
       "      <th></th>\n",
       "      <th>sale_dollars</th>\n",
       "      <th>volume_sold_liters</th>\n",
       "    </tr>\n",
       "    <tr>\n",
       "      <th>county</th>\n",
       "      <th></th>\n",
       "      <th></th>\n",
       "    </tr>\n",
       "  </thead>\n",
       "  <tbody>\n",
       "    <tr>\n",
       "      <th>adair</th>\n",
       "      <td>78170.39</td>\n",
       "      <td>5304.73</td>\n",
       "    </tr>\n",
       "    <tr>\n",
       "      <th>adams</th>\n",
       "      <td>16566.53</td>\n",
       "      <td>1207.21</td>\n",
       "    </tr>\n",
       "    <tr>\n",
       "      <th>allamakee</th>\n",
       "      <td>146542.63</td>\n",
       "      <td>9515.25</td>\n",
       "    </tr>\n",
       "    <tr>\n",
       "      <th>appanoose</th>\n",
       "      <td>148019.33</td>\n",
       "      <td>9113.52</td>\n",
       "    </tr>\n",
       "    <tr>\n",
       "      <th>audubon</th>\n",
       "      <td>24182.22</td>\n",
       "      <td>2095.80</td>\n",
       "    </tr>\n",
       "  </tbody>\n",
       "</table>\n",
       "</div>"
      ],
      "text/plain": [
       "           sale_dollars  volume_sold_liters\n",
       "county                                     \n",
       "adair          78170.39             5304.73\n",
       "adams          16566.53             1207.21\n",
       "allamakee     146542.63             9515.25\n",
       "appanoose     148019.33             9113.52\n",
       "audubon        24182.22             2095.80"
      ]
     },
     "execution_count": 81,
     "metadata": {},
     "output_type": "execute_result"
    }
   ],
   "source": [
    "county_group.head()"
   ]
  },
  {
   "cell_type": "code",
   "execution_count": 82,
   "id": "aa00ab0f-5cd8-4a25-a2cd-83a3b3d34829",
   "metadata": {},
   "outputs": [],
   "source": [
    "most = county_group.nlargest(5, ['volume_sold_liters'])"
   ]
  },
  {
   "cell_type": "code",
   "execution_count": 83,
   "id": "483cf715-e2b0-4cd3-b07b-2e91f9ac1f71",
   "metadata": {},
   "outputs": [
    {
     "data": {
      "text/html": [
       "<div>\n",
       "<style scoped>\n",
       "    .dataframe tbody tr th:only-of-type {\n",
       "        vertical-align: middle;\n",
       "    }\n",
       "\n",
       "    .dataframe tbody tr th {\n",
       "        vertical-align: top;\n",
       "    }\n",
       "\n",
       "    .dataframe thead th {\n",
       "        text-align: right;\n",
       "    }\n",
       "</style>\n",
       "<table border=\"1\" class=\"dataframe\">\n",
       "  <thead>\n",
       "    <tr style=\"text-align: right;\">\n",
       "      <th></th>\n",
       "      <th>sale_dollars</th>\n",
       "      <th>volume_sold_liters</th>\n",
       "    </tr>\n",
       "    <tr>\n",
       "      <th>county</th>\n",
       "      <th></th>\n",
       "      <th></th>\n",
       "    </tr>\n",
       "  </thead>\n",
       "  <tbody>\n",
       "    <tr>\n",
       "      <th>polk</th>\n",
       "      <td>1.110619e+07</td>\n",
       "      <td>600075.43</td>\n",
       "    </tr>\n",
       "    <tr>\n",
       "      <th>linn</th>\n",
       "      <td>4.266498e+06</td>\n",
       "      <td>253583.50</td>\n",
       "    </tr>\n",
       "    <tr>\n",
       "      <th>scott</th>\n",
       "      <td>3.319892e+06</td>\n",
       "      <td>178965.03</td>\n",
       "    </tr>\n",
       "    <tr>\n",
       "      <th>johnson</th>\n",
       "      <td>2.929709e+06</td>\n",
       "      <td>161005.70</td>\n",
       "    </tr>\n",
       "    <tr>\n",
       "      <th>black-hawk</th>\n",
       "      <td>2.786531e+06</td>\n",
       "      <td>154994.32</td>\n",
       "    </tr>\n",
       "  </tbody>\n",
       "</table>\n",
       "</div>"
      ],
      "text/plain": [
       "            sale_dollars  volume_sold_liters\n",
       "county                                      \n",
       "polk        1.110619e+07           600075.43\n",
       "linn        4.266498e+06           253583.50\n",
       "scott       3.319892e+06           178965.03\n",
       "johnson     2.929709e+06           161005.70\n",
       "black-hawk  2.786531e+06           154994.32"
      ]
     },
     "execution_count": 83,
     "metadata": {},
     "output_type": "execute_result"
    }
   ],
   "source": [
    "most.head()"
   ]
  },
  {
   "cell_type": "code",
   "execution_count": 84,
   "id": "b84da912-3f6f-4b5e-a6e5-2d01b280add2",
   "metadata": {},
   "outputs": [
    {
     "data": {
      "text/html": [
       "<div>\n",
       "<style scoped>\n",
       "    .dataframe tbody tr th:only-of-type {\n",
       "        vertical-align: middle;\n",
       "    }\n",
       "\n",
       "    .dataframe tbody tr th {\n",
       "        vertical-align: top;\n",
       "    }\n",
       "\n",
       "    .dataframe thead th {\n",
       "        text-align: right;\n",
       "    }\n",
       "</style>\n",
       "<table border=\"1\" class=\"dataframe\">\n",
       "  <thead>\n",
       "    <tr style=\"text-align: right;\">\n",
       "      <th></th>\n",
       "      <th>sale_dollars</th>\n",
       "      <th>volume_sold_liters</th>\n",
       "    </tr>\n",
       "    <tr>\n",
       "      <th>county</th>\n",
       "      <th></th>\n",
       "      <th></th>\n",
       "    </tr>\n",
       "  </thead>\n",
       "  <tbody>\n",
       "    <tr>\n",
       "      <th>polk</th>\n",
       "      <td>1.110619e+07</td>\n",
       "      <td>600075.43</td>\n",
       "    </tr>\n",
       "    <tr>\n",
       "      <th>linn</th>\n",
       "      <td>4.266498e+06</td>\n",
       "      <td>253583.50</td>\n",
       "    </tr>\n",
       "    <tr>\n",
       "      <th>scott</th>\n",
       "      <td>3.319892e+06</td>\n",
       "      <td>178965.03</td>\n",
       "    </tr>\n",
       "    <tr>\n",
       "      <th>johnson</th>\n",
       "      <td>2.929709e+06</td>\n",
       "      <td>161005.70</td>\n",
       "    </tr>\n",
       "    <tr>\n",
       "      <th>black-hawk</th>\n",
       "      <td>2.786531e+06</td>\n",
       "      <td>154994.32</td>\n",
       "    </tr>\n",
       "  </tbody>\n",
       "</table>\n",
       "</div>"
      ],
      "text/plain": [
       "            sale_dollars  volume_sold_liters\n",
       "county                                      \n",
       "polk        1.110619e+07           600075.43\n",
       "linn        4.266498e+06           253583.50\n",
       "scott       3.319892e+06           178965.03\n",
       "johnson     2.929709e+06           161005.70\n",
       "black-hawk  2.786531e+06           154994.32"
      ]
     },
     "execution_count": 84,
     "metadata": {},
     "output_type": "execute_result"
    }
   ],
   "source": [
    "most.head()"
   ]
  },
  {
   "cell_type": "code",
   "execution_count": 85,
   "id": "1224749c-3e7d-4b51-ac89-87894101c5c5",
   "metadata": {},
   "outputs": [
    {
     "data": {
      "text/plain": [
       "pandas.core.frame.DataFrame"
      ]
     },
     "execution_count": 85,
     "metadata": {},
     "output_type": "execute_result"
    }
   ],
   "source": [
    "type(most)"
   ]
  },
  {
   "cell_type": "markdown",
   "id": "3526a2ce-3cae-490b-a0a8-5bd54f6a51c6",
   "metadata": {},
   "source": [
    "## IV. Integrar dados: criar novos conjuntos de dados combinando dados de várias fontes."
   ]
  },
  {
   "cell_type": "code",
   "execution_count": 96,
   "id": "07c751ea-d97c-41a0-b511-21862a387318",
   "metadata": {},
   "outputs": [],
   "source": [
    "pop_df = pd.read_csv(\"../data/raw/pop_cty_iowa.csv\",usecols=['STNAME','CTYNAME','POPESTIMATE2016'])"
   ]
  },
  {
   "cell_type": "code",
   "execution_count": 97,
   "id": "78bde967-8c90-462f-a5a0-9e602060aa37",
   "metadata": {},
   "outputs": [],
   "source": [
    "pop_df['CTYNAME'] = pop_df['CTYNAME'].replace({' County':''}, regex = True).str.lower()"
   ]
  },
  {
   "cell_type": "code",
   "execution_count": 98,
   "id": "f3396851-acdb-414e-ad54-f3b4d84d0a9d",
   "metadata": {},
   "outputs": [],
   "source": [
    "pop_df = pop_df[pop_df['STNAME']==\"Iowa\"]"
   ]
  },
  {
   "cell_type": "code",
   "execution_count": 99,
   "id": "40513298-07cb-464b-9c10-4035795ad84f",
   "metadata": {},
   "outputs": [],
   "source": [
    "pop_df = pop_df.drop('STNAME',axis=1)"
   ]
  },
  {
   "cell_type": "code",
   "execution_count": 100,
   "id": "49cd53d2-07aa-4e44-9191-78a07f4d678c",
   "metadata": {},
   "outputs": [],
   "source": [
    "pop_df['CTYNAME']=pop_df['CTYNAME'].apply(slugify)"
   ]
  },
  {
   "cell_type": "code",
   "execution_count": 101,
   "id": "e5e173f0-f68d-4caa-9c73-46dd791c0d79",
   "metadata": {},
   "outputs": [
    {
     "data": {
      "text/plain": [
       "array(['iowa', 'adair', 'adams', 'allamakee', 'appanoose', 'audubon',\n",
       "       'benton', 'black-hawk', 'boone', 'bremer', 'buchanan',\n",
       "       'buena-vista', 'butler', 'calhoun', 'carroll', 'cass', 'cedar',\n",
       "       'cerro-gordo', 'cherokee', 'chickasaw', 'clarke', 'clay',\n",
       "       'clayton', 'clinton', 'crawford', 'dallas', 'davis', 'decatur',\n",
       "       'delaware', 'des-moines', 'dickinson', 'dubuque', 'emmet',\n",
       "       'fayette', 'floyd', 'franklin', 'fremont', 'greene', 'grundy',\n",
       "       'guthrie', 'hamilton', 'hancock', 'hardin', 'harrison', 'henry',\n",
       "       'howard', 'humboldt', 'ida', 'jackson', 'jasper', 'jefferson',\n",
       "       'johnson', 'jones', 'keokuk', 'kossuth', 'lee', 'linn', 'louisa',\n",
       "       'lucas', 'lyon', 'madison', 'mahaska', 'marion', 'marshall',\n",
       "       'mills', 'mitchell', 'monona', 'monroe', 'montgomery', 'muscatine',\n",
       "       'o-brien', 'osceola', 'page', 'palo-alto', 'plymouth',\n",
       "       'pocahontas', 'polk', 'pottawattamie', 'poweshiek', 'ringgold',\n",
       "       'sac', 'scott', 'shelby', 'sioux', 'story', 'tama', 'taylor',\n",
       "       'union', 'van-buren', 'wapello', 'warren', 'washington', 'wayne',\n",
       "       'webster', 'winnebago', 'winneshiek', 'woodbury', 'worth',\n",
       "       'wright'], dtype=object)"
      ]
     },
     "execution_count": 101,
     "metadata": {},
     "output_type": "execute_result"
    }
   ],
   "source": [
    "pop_df['CTYNAME'].unique()"
   ]
  },
  {
   "cell_type": "code",
   "execution_count": 102,
   "id": "903c721b-4ed9-4928-a0ff-d72913974095",
   "metadata": {},
   "outputs": [],
   "source": [
    "#pop_df = pop_df[ (pop_df['CTYNAME']=='polk') | (pop_df['CTYNAME']=='linn') | (pop_df['CTYNAME']=='scott') | (pop_df['CTYNAME']=='johnson') | (pop_df['CTYNAME']=='black-hawk')].groupby(by=[\"CTYNAME\"])"
   ]
  },
  {
   "cell_type": "code",
   "execution_count": 119,
   "id": "3571757d-750d-4c66-b6c5-96da3d69893c",
   "metadata": {},
   "outputs": [],
   "source": [
    "pop_df.rename(columns = {'CTYNAME':'county'}, inplace = True)"
   ]
  },
  {
   "cell_type": "code",
   "execution_count": 120,
   "id": "00a4dc77-a6e7-47bb-9551-68de432dc01c",
   "metadata": {},
   "outputs": [],
   "source": [
    "df = pd.merge(most, pop_df, how = 'inner', on = 'county')"
   ]
  },
  {
   "cell_type": "markdown",
   "id": "99b579c0-2d28-49db-ab51-c0ea3121e44b",
   "metadata": {},
   "source": [
    "## V.  Formatar dados: Formatar novamente os dados conforme as necessidades dos modelos."
   ]
  },
  {
   "cell_type": "code",
   "execution_count": 121,
   "id": "11706f2a-e9d4-454a-aaf2-d92f12a03860",
   "metadata": {},
   "outputs": [],
   "source": [
    "df.rename(columns = {'POPESTIMATE2016':'pop_estimate_2016'}, inplace = True)"
   ]
  },
  {
   "cell_type": "code",
   "execution_count": 122,
   "id": "9858bd06-17e9-4338-80b7-33acd8f7b198",
   "metadata": {},
   "outputs": [
    {
     "data": {
      "text/html": [
       "<div>\n",
       "<style scoped>\n",
       "    .dataframe tbody tr th:only-of-type {\n",
       "        vertical-align: middle;\n",
       "    }\n",
       "\n",
       "    .dataframe tbody tr th {\n",
       "        vertical-align: top;\n",
       "    }\n",
       "\n",
       "    .dataframe thead th {\n",
       "        text-align: right;\n",
       "    }\n",
       "</style>\n",
       "<table border=\"1\" class=\"dataframe\">\n",
       "  <thead>\n",
       "    <tr style=\"text-align: right;\">\n",
       "      <th></th>\n",
       "      <th>county</th>\n",
       "      <th>sale_dollars</th>\n",
       "      <th>volume_sold_liters</th>\n",
       "      <th>pop_estimate_2016</th>\n",
       "    </tr>\n",
       "  </thead>\n",
       "  <tbody>\n",
       "    <tr>\n",
       "      <th>0</th>\n",
       "      <td>polk</td>\n",
       "      <td>1.110619e+07</td>\n",
       "      <td>600075.43</td>\n",
       "      <td>474277</td>\n",
       "    </tr>\n",
       "    <tr>\n",
       "      <th>1</th>\n",
       "      <td>linn</td>\n",
       "      <td>4.266498e+06</td>\n",
       "      <td>253583.50</td>\n",
       "      <td>222188</td>\n",
       "    </tr>\n",
       "    <tr>\n",
       "      <th>2</th>\n",
       "      <td>scott</td>\n",
       "      <td>3.319892e+06</td>\n",
       "      <td>178965.03</td>\n",
       "      <td>172135</td>\n",
       "    </tr>\n",
       "    <tr>\n",
       "      <th>3</th>\n",
       "      <td>johnson</td>\n",
       "      <td>2.929709e+06</td>\n",
       "      <td>161005.70</td>\n",
       "      <td>146928</td>\n",
       "    </tr>\n",
       "    <tr>\n",
       "      <th>4</th>\n",
       "      <td>black-hawk</td>\n",
       "      <td>2.786531e+06</td>\n",
       "      <td>154994.32</td>\n",
       "      <td>133077</td>\n",
       "    </tr>\n",
       "  </tbody>\n",
       "</table>\n",
       "</div>"
      ],
      "text/plain": [
       "       county  sale_dollars  volume_sold_liters  pop_estimate_2016\n",
       "0        polk  1.110619e+07           600075.43             474277\n",
       "1        linn  4.266498e+06           253583.50             222188\n",
       "2       scott  3.319892e+06           178965.03             172135\n",
       "3     johnson  2.929709e+06           161005.70             146928\n",
       "4  black-hawk  2.786531e+06           154994.32             133077"
      ]
     },
     "execution_count": 122,
     "metadata": {},
     "output_type": "execute_result"
    }
   ],
   "source": [
    "df"
   ]
  },
  {
   "cell_type": "code",
   "execution_count": 124,
   "id": "0069d2ad-3fe0-43cf-b7f0-76b428629b70",
   "metadata": {},
   "outputs": [],
   "source": [
    "df['liters_per_person'] = merged['volume_sold_liters']/merged['pop_estimate_2016']"
   ]
  },
  {
   "cell_type": "code",
   "execution_count": 127,
   "id": "0095de19-0823-4512-bfbb-5a8e98df3dd8",
   "metadata": {},
   "outputs": [],
   "source": [
    "df['dolars_per_person'] = merged['sale_dollars']/merged['pop_estimate_2016']"
   ]
  },
  {
   "cell_type": "code",
   "execution_count": 128,
   "id": "e2ab2148-409e-4fa3-a9b3-1c5eee423004",
   "metadata": {},
   "outputs": [
    {
     "data": {
      "text/html": [
       "<div>\n",
       "<style scoped>\n",
       "    .dataframe tbody tr th:only-of-type {\n",
       "        vertical-align: middle;\n",
       "    }\n",
       "\n",
       "    .dataframe tbody tr th {\n",
       "        vertical-align: top;\n",
       "    }\n",
       "\n",
       "    .dataframe thead th {\n",
       "        text-align: right;\n",
       "    }\n",
       "</style>\n",
       "<table border=\"1\" class=\"dataframe\">\n",
       "  <thead>\n",
       "    <tr style=\"text-align: right;\">\n",
       "      <th></th>\n",
       "      <th>county</th>\n",
       "      <th>sale_dollars</th>\n",
       "      <th>volume_sold_liters</th>\n",
       "      <th>pop_estimate_2016</th>\n",
       "      <th>liters_per_person</th>\n",
       "      <th>dolars_per_person</th>\n",
       "    </tr>\n",
       "  </thead>\n",
       "  <tbody>\n",
       "    <tr>\n",
       "      <th>0</th>\n",
       "      <td>polk</td>\n",
       "      <td>1.110619e+07</td>\n",
       "      <td>600075.43</td>\n",
       "      <td>474277</td>\n",
       "      <td>1.265243</td>\n",
       "      <td>23.417090</td>\n",
       "    </tr>\n",
       "    <tr>\n",
       "      <th>1</th>\n",
       "      <td>linn</td>\n",
       "      <td>4.266498e+06</td>\n",
       "      <td>253583.50</td>\n",
       "      <td>222188</td>\n",
       "      <td>1.141302</td>\n",
       "      <td>19.202199</td>\n",
       "    </tr>\n",
       "    <tr>\n",
       "      <th>2</th>\n",
       "      <td>scott</td>\n",
       "      <td>3.319892e+06</td>\n",
       "      <td>178965.03</td>\n",
       "      <td>172135</td>\n",
       "      <td>1.039678</td>\n",
       "      <td>19.286562</td>\n",
       "    </tr>\n",
       "    <tr>\n",
       "      <th>3</th>\n",
       "      <td>johnson</td>\n",
       "      <td>2.929709e+06</td>\n",
       "      <td>161005.70</td>\n",
       "      <td>146928</td>\n",
       "      <td>1.095814</td>\n",
       "      <td>19.939757</td>\n",
       "    </tr>\n",
       "    <tr>\n",
       "      <th>4</th>\n",
       "      <td>black-hawk</td>\n",
       "      <td>2.786531e+06</td>\n",
       "      <td>154994.32</td>\n",
       "      <td>133077</td>\n",
       "      <td>1.164697</td>\n",
       "      <td>20.939240</td>\n",
       "    </tr>\n",
       "  </tbody>\n",
       "</table>\n",
       "</div>"
      ],
      "text/plain": [
       "       county  sale_dollars  volume_sold_liters  pop_estimate_2016  \\\n",
       "0        polk  1.110619e+07           600075.43             474277   \n",
       "1        linn  4.266498e+06           253583.50             222188   \n",
       "2       scott  3.319892e+06           178965.03             172135   \n",
       "3     johnson  2.929709e+06           161005.70             146928   \n",
       "4  black-hawk  2.786531e+06           154994.32             133077   \n",
       "\n",
       "   liters_per_person  dolars_per_person  \n",
       "0           1.265243          23.417090  \n",
       "1           1.141302          19.202199  \n",
       "2           1.039678          19.286562  \n",
       "3           1.095814          19.939757  \n",
       "4           1.164697          20.939240  "
      ]
     },
     "execution_count": 128,
     "metadata": {},
     "output_type": "execute_result"
    }
   ],
   "source": [
    "df"
   ]
  },
  {
   "cell_type": "code",
   "execution_count": 129,
   "id": "68d2e8ea-2cf9-4696-9c4c-f0420c58f0a2",
   "metadata": {},
   "outputs": [],
   "source": [
    "df = pd.get_dummies(df, columns = ['county'])"
   ]
  },
  {
   "cell_type": "code",
   "execution_count": 130,
   "id": "52f8012a-0960-42b6-a7fd-8dc011ad6122",
   "metadata": {},
   "outputs": [
    {
     "data": {
      "text/html": [
       "<div>\n",
       "<style scoped>\n",
       "    .dataframe tbody tr th:only-of-type {\n",
       "        vertical-align: middle;\n",
       "    }\n",
       "\n",
       "    .dataframe tbody tr th {\n",
       "        vertical-align: top;\n",
       "    }\n",
       "\n",
       "    .dataframe thead th {\n",
       "        text-align: right;\n",
       "    }\n",
       "</style>\n",
       "<table border=\"1\" class=\"dataframe\">\n",
       "  <thead>\n",
       "    <tr style=\"text-align: right;\">\n",
       "      <th></th>\n",
       "      <th>sale_dollars</th>\n",
       "      <th>volume_sold_liters</th>\n",
       "      <th>pop_estimate_2016</th>\n",
       "      <th>liters_per_person</th>\n",
       "      <th>dolars_per_person</th>\n",
       "      <th>county_black-hawk</th>\n",
       "      <th>county_johnson</th>\n",
       "      <th>county_linn</th>\n",
       "      <th>county_polk</th>\n",
       "      <th>county_scott</th>\n",
       "    </tr>\n",
       "  </thead>\n",
       "  <tbody>\n",
       "    <tr>\n",
       "      <th>0</th>\n",
       "      <td>1.110619e+07</td>\n",
       "      <td>600075.43</td>\n",
       "      <td>474277</td>\n",
       "      <td>1.265243</td>\n",
       "      <td>23.417090</td>\n",
       "      <td>0</td>\n",
       "      <td>0</td>\n",
       "      <td>0</td>\n",
       "      <td>1</td>\n",
       "      <td>0</td>\n",
       "    </tr>\n",
       "    <tr>\n",
       "      <th>1</th>\n",
       "      <td>4.266498e+06</td>\n",
       "      <td>253583.50</td>\n",
       "      <td>222188</td>\n",
       "      <td>1.141302</td>\n",
       "      <td>19.202199</td>\n",
       "      <td>0</td>\n",
       "      <td>0</td>\n",
       "      <td>1</td>\n",
       "      <td>0</td>\n",
       "      <td>0</td>\n",
       "    </tr>\n",
       "    <tr>\n",
       "      <th>2</th>\n",
       "      <td>3.319892e+06</td>\n",
       "      <td>178965.03</td>\n",
       "      <td>172135</td>\n",
       "      <td>1.039678</td>\n",
       "      <td>19.286562</td>\n",
       "      <td>0</td>\n",
       "      <td>0</td>\n",
       "      <td>0</td>\n",
       "      <td>0</td>\n",
       "      <td>1</td>\n",
       "    </tr>\n",
       "    <tr>\n",
       "      <th>3</th>\n",
       "      <td>2.929709e+06</td>\n",
       "      <td>161005.70</td>\n",
       "      <td>146928</td>\n",
       "      <td>1.095814</td>\n",
       "      <td>19.939757</td>\n",
       "      <td>0</td>\n",
       "      <td>1</td>\n",
       "      <td>0</td>\n",
       "      <td>0</td>\n",
       "      <td>0</td>\n",
       "    </tr>\n",
       "    <tr>\n",
       "      <th>4</th>\n",
       "      <td>2.786531e+06</td>\n",
       "      <td>154994.32</td>\n",
       "      <td>133077</td>\n",
       "      <td>1.164697</td>\n",
       "      <td>20.939240</td>\n",
       "      <td>1</td>\n",
       "      <td>0</td>\n",
       "      <td>0</td>\n",
       "      <td>0</td>\n",
       "      <td>0</td>\n",
       "    </tr>\n",
       "  </tbody>\n",
       "</table>\n",
       "</div>"
      ],
      "text/plain": [
       "   sale_dollars  volume_sold_liters  pop_estimate_2016  liters_per_person  \\\n",
       "0  1.110619e+07           600075.43             474277           1.265243   \n",
       "1  4.266498e+06           253583.50             222188           1.141302   \n",
       "2  3.319892e+06           178965.03             172135           1.039678   \n",
       "3  2.929709e+06           161005.70             146928           1.095814   \n",
       "4  2.786531e+06           154994.32             133077           1.164697   \n",
       "\n",
       "   dolars_per_person  county_black-hawk  county_johnson  county_linn  \\\n",
       "0          23.417090                  0               0            0   \n",
       "1          19.202199                  0               0            1   \n",
       "2          19.286562                  0               0            0   \n",
       "3          19.939757                  0               1            0   \n",
       "4          20.939240                  1               0            0   \n",
       "\n",
       "   county_polk  county_scott  \n",
       "0            1             0  \n",
       "1            0             0  \n",
       "2            0             1  \n",
       "3            0             0  \n",
       "4            0             0  "
      ]
     },
     "execution_count": 130,
     "metadata": {},
     "output_type": "execute_result"
    }
   ],
   "source": [
    "df"
   ]
  }
 ],
 "metadata": {
  "kernelspec": {
   "display_name": "Python 3",
   "language": "python",
   "name": "python3"
  },
  "language_info": {
   "codemirror_mode": {
    "name": "ipython",
    "version": 3
   },
   "file_extension": ".py",
   "mimetype": "text/x-python",
   "name": "python",
   "nbconvert_exporter": "python",
   "pygments_lexer": "ipython3",
   "version": "3.8.8"
  }
 },
 "nbformat": 4,
 "nbformat_minor": 5
}
