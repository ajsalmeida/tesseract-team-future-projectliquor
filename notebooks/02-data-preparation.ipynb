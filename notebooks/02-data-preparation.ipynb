{
 "cells": [
  {
   "cell_type": "code",
   "execution_count": 28,
   "id": "b5857225-d669-4d1f-9fb2-442962ee9899",
   "metadata": {},
   "outputs": [],
   "source": [
    "import pandas as pd\n",
    "import numpy as np\n",
    "from slugify import slugify\n",
    "pd.set_option('display.max_columns', None)\n",
    "pd. set_option(\"display.max_rows\", None)\n",
    "from Levenshtein import distance"
   ]
  },
  {
   "cell_type": "markdown",
   "id": "7a50d6a5-6022-4915-b9f1-8db473cb8d5d",
   "metadata": {},
   "source": [
    "## I. Selecionar os dados: determinar quais conjuntos de dados serão utilizados e documentar os motivos de inclusão/exclusão."
   ]
  },
  {
   "cell_type": "code",
   "execution_count": 29,
   "id": "ff569682-69b6-40a7-ae09-1acfa0991062",
   "metadata": {},
   "outputs": [],
   "source": [
    "df = pd.read_csv(\"../data/raw/iowa_liquor_train_test_split_sample.csv\", usecols=[2,10,20,22,23],encoding='utf-8')"
   ]
  },
  {
   "cell_type": "code",
   "execution_count": 30,
   "id": "46280403-78da-400b-9834-0659f0ecc5dd",
   "metadata": {},
   "outputs": [
    {
     "data": {
      "text/plain": [
       "Index(['date', 'county', 'state_bottle_retail', 'sale_dollars',\n",
       "       'volume_sold_liters'],\n",
       "      dtype='object')"
      ]
     },
     "execution_count": 30,
     "metadata": {},
     "output_type": "execute_result"
    }
   ],
   "source": [
    "df.columns = [slugify(col, lowercase=True, separator='_') for col in df.columns]\n",
    "df.columns"
   ]
  },
  {
   "cell_type": "markdown",
   "id": "97b5a34d-6305-49a8-bcff-6d79798fe2f7",
   "metadata": {},
   "source": [
    "df.head(1)"
   ]
  },
  {
   "cell_type": "markdown",
   "id": "8f18e48f-a9d6-4c2a-950a-4cf759390ff0",
   "metadata": {},
   "source": [
    "### Remoção das colunas as quais não iremos utilizar\n",
    "#### Vamos deixar somente as colunas data, store_location, state_bottle_retail, salle_dollars, volume_sold_liters, pois vamos realizar regressão linear em dados numéricos"
   ]
  },
  {
   "cell_type": "code",
   "execution_count": 31,
   "id": "767ebdf8-9f99-444c-9533-dd23f2d624af",
   "metadata": {},
   "outputs": [
    {
     "name": "stdout",
     "output_type": "stream",
     "text": [
      "<class 'pandas.core.frame.DataFrame'>\n",
      "RangeIndex: 2518216 entries, 0 to 2518215\n",
      "Data columns (total 5 columns):\n",
      " #   Column               Dtype  \n",
      "---  ------               -----  \n",
      " 0   date                 object \n",
      " 1   county               object \n",
      " 2   state_bottle_retail  object \n",
      " 3   sale_dollars         object \n",
      " 4   volume_sold_liters   float64\n",
      "dtypes: float64(1), object(4)\n",
      "memory usage: 96.1+ MB\n"
     ]
    }
   ],
   "source": [
    "df.info()"
   ]
  },
  {
   "cell_type": "code",
   "execution_count": 32,
   "id": "970e0b32-a4b4-466d-ba60-ce878ef75380",
   "metadata": {},
   "outputs": [
    {
     "data": {
      "text/html": [
       "<div>\n",
       "<style scoped>\n",
       "    .dataframe tbody tr th:only-of-type {\n",
       "        vertical-align: middle;\n",
       "    }\n",
       "\n",
       "    .dataframe tbody tr th {\n",
       "        vertical-align: top;\n",
       "    }\n",
       "\n",
       "    .dataframe thead th {\n",
       "        text-align: right;\n",
       "    }\n",
       "</style>\n",
       "<table border=\"1\" class=\"dataframe\">\n",
       "  <thead>\n",
       "    <tr style=\"text-align: right;\">\n",
       "      <th></th>\n",
       "      <th>date</th>\n",
       "      <th>county</th>\n",
       "      <th>state_bottle_retail</th>\n",
       "      <th>sale_dollars</th>\n",
       "      <th>volume_sold_liters</th>\n",
       "    </tr>\n",
       "  </thead>\n",
       "  <tbody>\n",
       "    <tr>\n",
       "      <th>0</th>\n",
       "      <td>02/26/2013</td>\n",
       "      <td>Scott</td>\n",
       "      <td>$8.99</td>\n",
       "      <td>$8.99</td>\n",
       "      <td>0.38</td>\n",
       "    </tr>\n",
       "    <tr>\n",
       "      <th>1</th>\n",
       "      <td>08/22/2017</td>\n",
       "      <td>WARREN</td>\n",
       "      <td>$47.99</td>\n",
       "      <td>$287.94</td>\n",
       "      <td>1.75</td>\n",
       "    </tr>\n",
       "    <tr>\n",
       "      <th>2</th>\n",
       "      <td>08/28/2013</td>\n",
       "      <td>Buena Vista</td>\n",
       "      <td>$14.82</td>\n",
       "      <td>$29.64</td>\n",
       "      <td>1.50</td>\n",
       "    </tr>\n",
       "    <tr>\n",
       "      <th>3</th>\n",
       "      <td>03/26/2013</td>\n",
       "      <td>Carroll</td>\n",
       "      <td>$22.72</td>\n",
       "      <td>$22.72</td>\n",
       "      <td>1.00</td>\n",
       "    </tr>\n",
       "    <tr>\n",
       "      <th>4</th>\n",
       "      <td>08/17/2017</td>\n",
       "      <td>POLK</td>\n",
       "      <td>$17.25</td>\n",
       "      <td>$17.25</td>\n",
       "      <td>0.50</td>\n",
       "    </tr>\n",
       "  </tbody>\n",
       "</table>\n",
       "</div>"
      ],
      "text/plain": [
       "         date       county state_bottle_retail sale_dollars  \\\n",
       "0  02/26/2013        Scott               $8.99        $8.99   \n",
       "1  08/22/2017       WARREN              $47.99      $287.94   \n",
       "2  08/28/2013  Buena Vista              $14.82       $29.64   \n",
       "3  03/26/2013      Carroll              $22.72       $22.72   \n",
       "4  08/17/2017         POLK              $17.25       $17.25   \n",
       "\n",
       "   volume_sold_liters  \n",
       "0                0.38  \n",
       "1                1.75  \n",
       "2                1.50  \n",
       "3                1.00  \n",
       "4                0.50  "
      ]
     },
     "execution_count": 32,
     "metadata": {},
     "output_type": "execute_result"
    }
   ],
   "source": [
    "df.head()"
   ]
  },
  {
   "cell_type": "code",
   "execution_count": 33,
   "id": "c241c702-4027-4db0-88bf-b6a2c1afc0c2",
   "metadata": {},
   "outputs": [
    {
     "data": {
      "text/plain": [
       "(2518216, 5)"
      ]
     },
     "execution_count": 33,
     "metadata": {},
     "output_type": "execute_result"
    }
   ],
   "source": [
    "df.shape"
   ]
  },
  {
   "cell_type": "code",
   "execution_count": 34,
   "id": "53ad7123-f705-42d6-911c-d3ca27448a6e",
   "metadata": {},
   "outputs": [
    {
     "data": {
      "text/plain": [
       "(0, 5)"
      ]
     },
     "execution_count": 34,
     "metadata": {},
     "output_type": "execute_result"
    }
   ],
   "source": [
    "df[df['date'].isna()].shape"
   ]
  },
  {
   "cell_type": "code",
   "execution_count": 35,
   "id": "ab5fa8b6-5989-4b3a-a6a2-8beb0822c8dc",
   "metadata": {},
   "outputs": [
    {
     "data": {
      "text/plain": [
       "(15650, 5)"
      ]
     },
     "execution_count": 35,
     "metadata": {},
     "output_type": "execute_result"
    }
   ],
   "source": [
    "df[df['county'].isna()].shape"
   ]
  },
  {
   "cell_type": "code",
   "execution_count": 36,
   "id": "88035411-4a91-405d-9d9b-82bb823ac9e2",
   "metadata": {},
   "outputs": [
    {
     "data": {
      "text/plain": [
       "(2, 5)"
      ]
     },
     "execution_count": 36,
     "metadata": {},
     "output_type": "execute_result"
    }
   ],
   "source": [
    "df[df['state_bottle_retail'].isna()].shape"
   ]
  },
  {
   "cell_type": "code",
   "execution_count": 37,
   "id": "6d4868cd-6659-4471-b6f3-0d55eea62b2f",
   "metadata": {},
   "outputs": [
    {
     "data": {
      "text/plain": [
       "(2, 5)"
      ]
     },
     "execution_count": 37,
     "metadata": {},
     "output_type": "execute_result"
    }
   ],
   "source": [
    "df[df['sale_dollars'].isna()].shape"
   ]
  },
  {
   "cell_type": "code",
   "execution_count": 38,
   "id": "df9110fd-5a30-4010-8577-43a983aa5c91",
   "metadata": {},
   "outputs": [
    {
     "data": {
      "text/plain": [
       "(0, 5)"
      ]
     },
     "execution_count": 38,
     "metadata": {},
     "output_type": "execute_result"
    }
   ],
   "source": [
    "df[df['volume_sold_liters'].isna()].shape"
   ]
  },
  {
   "cell_type": "markdown",
   "id": "10a4097d-01b8-4960-bab2-7ade0f5fc576",
   "metadata": {},
   "source": [
    "#### Procurando por mais inconsistências"
   ]
  },
  {
   "cell_type": "markdown",
   "id": "ca5e6e96-339d-4d1c-b13c-04a208988292",
   "metadata": {},
   "source": [
    "## II. Limpar dados: Corrigir, imputar ou remover valores erroneamente inseridos nos conjuntos de dados."
   ]
  },
  {
   "cell_type": "code",
   "execution_count": 39,
   "id": "c94c66d1-14a9-4a2d-a945-b0d5591df767",
   "metadata": {},
   "outputs": [],
   "source": [
    "df = df.dropna()"
   ]
  },
  {
   "cell_type": "markdown",
   "id": "964216b8-e878-4dd1-9991-1c4ff326006c",
   "metadata": {},
   "source": [
    "#### Transformando a coluna data para formato date"
   ]
  },
  {
   "cell_type": "code",
   "execution_count": 40,
   "id": "fa31437b-63b7-421d-a37c-2b7caf489342",
   "metadata": {},
   "outputs": [],
   "source": [
    "df['date'] = pd.to_datetime(df['date'])"
   ]
  },
  {
   "cell_type": "code",
   "execution_count": 41,
   "id": "fe813f0c-8e8f-46d8-a699-22c7f4a2812c",
   "metadata": {},
   "outputs": [],
   "source": [
    "df['county']=df['county'].apply(slugify)"
   ]
  },
  {
   "cell_type": "code",
   "execution_count": 42,
   "id": "96a8dbfa-e594-44e7-84ee-f338a8309068",
   "metadata": {},
   "outputs": [
    {
     "data": {
      "text/html": [
       "<div>\n",
       "<style scoped>\n",
       "    .dataframe tbody tr th:only-of-type {\n",
       "        vertical-align: middle;\n",
       "    }\n",
       "\n",
       "    .dataframe tbody tr th {\n",
       "        vertical-align: top;\n",
       "    }\n",
       "\n",
       "    .dataframe thead th {\n",
       "        text-align: right;\n",
       "    }\n",
       "</style>\n",
       "<table border=\"1\" class=\"dataframe\">\n",
       "  <thead>\n",
       "    <tr style=\"text-align: right;\">\n",
       "      <th></th>\n",
       "      <th>date</th>\n",
       "      <th>county</th>\n",
       "      <th>state_bottle_retail</th>\n",
       "      <th>sale_dollars</th>\n",
       "      <th>volume_sold_liters</th>\n",
       "    </tr>\n",
       "  </thead>\n",
       "  <tbody>\n",
       "    <tr>\n",
       "      <th>0</th>\n",
       "      <td>2013-02-26</td>\n",
       "      <td>scott</td>\n",
       "      <td>$8.99</td>\n",
       "      <td>$8.99</td>\n",
       "      <td>0.38</td>\n",
       "    </tr>\n",
       "    <tr>\n",
       "      <th>1</th>\n",
       "      <td>2017-08-22</td>\n",
       "      <td>warren</td>\n",
       "      <td>$47.99</td>\n",
       "      <td>$287.94</td>\n",
       "      <td>1.75</td>\n",
       "    </tr>\n",
       "    <tr>\n",
       "      <th>2</th>\n",
       "      <td>2013-08-28</td>\n",
       "      <td>buena-vista</td>\n",
       "      <td>$14.82</td>\n",
       "      <td>$29.64</td>\n",
       "      <td>1.50</td>\n",
       "    </tr>\n",
       "    <tr>\n",
       "      <th>3</th>\n",
       "      <td>2013-03-26</td>\n",
       "      <td>carroll</td>\n",
       "      <td>$22.72</td>\n",
       "      <td>$22.72</td>\n",
       "      <td>1.00</td>\n",
       "    </tr>\n",
       "    <tr>\n",
       "      <th>4</th>\n",
       "      <td>2017-08-17</td>\n",
       "      <td>polk</td>\n",
       "      <td>$17.25</td>\n",
       "      <td>$17.25</td>\n",
       "      <td>0.50</td>\n",
       "    </tr>\n",
       "  </tbody>\n",
       "</table>\n",
       "</div>"
      ],
      "text/plain": [
       "        date       county state_bottle_retail sale_dollars  volume_sold_liters\n",
       "0 2013-02-26        scott               $8.99        $8.99                0.38\n",
       "1 2017-08-22       warren              $47.99      $287.94                1.75\n",
       "2 2013-08-28  buena-vista              $14.82       $29.64                1.50\n",
       "3 2013-03-26      carroll              $22.72       $22.72                1.00\n",
       "4 2017-08-17         polk              $17.25       $17.25                0.50"
      ]
     },
     "execution_count": 42,
     "metadata": {},
     "output_type": "execute_result"
    }
   ],
   "source": [
    "df.head()"
   ]
  },
  {
   "cell_type": "code",
   "execution_count": null,
   "id": "bfa64ec3-e4f8-4013-aa4c-8d3b59bbfa65",
   "metadata": {},
   "outputs": [],
   "source": [
    "counties = df['county'].unique()"
   ]
  },
  {
   "cell_type": "markdown",
   "id": "ff715b8f-1052-48c8-8889-15998ef0eda2",
   "metadata": {},
   "source": [
    "#### Procurando por mais inconsistências"
   ]
  },
  {
   "cell_type": "markdown",
   "id": "73a54e86-e8c1-48dc-af75-004c2c49a56b",
   "metadata": {},
   "source": [
    "##### condados com nome parecido"
   ]
  },
  {
   "cell_type": "code",
   "execution_count": 62,
   "id": "b43aa7a9-c063-49c0-9945-3eda13925e8f",
   "metadata": {},
   "outputs": [
    {
     "name": "stdout",
     "output_type": "stream",
     "text": [
      "buena-vista\n",
      "cerro-gordo\n",
      "cerro-gord\n",
      "buena-vist\n",
      "o-brien\n",
      "obrien\n"
     ]
    }
   ],
   "source": [
    "for a in counties:\n",
    "    for b in reversed(counties):\n",
    "        if distance(a,b)==1:\n",
    "            print(a)"
   ]
  },
  {
   "cell_type": "code",
   "execution_count": 43,
   "id": "cf8562f5-12f2-4788-94e3-07b0089a0123",
   "metadata": {},
   "outputs": [],
   "source": [
    "df['state_bottle_retail'] = df['state_bottle_retail'].replace({'\\$':''}, regex = True).astype(float)"
   ]
  },
  {
   "cell_type": "code",
   "execution_count": 44,
   "id": "a0f61d88-f3c2-419b-9f9d-846b4267ab1c",
   "metadata": {},
   "outputs": [],
   "source": [
    "df['sale_dollars'] = df['sale_dollars'].replace({'\\$':''}, regex = True).astype(float)"
   ]
  },
  {
   "cell_type": "code",
   "execution_count": 45,
   "id": "af605e19-89dc-477c-850f-b041d4cd608a",
   "metadata": {},
   "outputs": [],
   "source": [
    "df['volume_sold_liters'] = df['volume_sold_liters'].astype(float)"
   ]
  },
  {
   "cell_type": "code",
   "execution_count": 46,
   "id": "1d42c4f2-7063-47b5-bfc2-0fc0b8d299d3",
   "metadata": {},
   "outputs": [
    {
     "data": {
      "text/html": [
       "<div>\n",
       "<style scoped>\n",
       "    .dataframe tbody tr th:only-of-type {\n",
       "        vertical-align: middle;\n",
       "    }\n",
       "\n",
       "    .dataframe tbody tr th {\n",
       "        vertical-align: top;\n",
       "    }\n",
       "\n",
       "    .dataframe thead th {\n",
       "        text-align: right;\n",
       "    }\n",
       "</style>\n",
       "<table border=\"1\" class=\"dataframe\">\n",
       "  <thead>\n",
       "    <tr style=\"text-align: right;\">\n",
       "      <th></th>\n",
       "      <th>date</th>\n",
       "      <th>county</th>\n",
       "      <th>state_bottle_retail</th>\n",
       "      <th>sale_dollars</th>\n",
       "      <th>volume_sold_liters</th>\n",
       "    </tr>\n",
       "  </thead>\n",
       "  <tbody>\n",
       "    <tr>\n",
       "      <th>0</th>\n",
       "      <td>2013-02-26</td>\n",
       "      <td>scott</td>\n",
       "      <td>8.99</td>\n",
       "      <td>8.99</td>\n",
       "      <td>0.38</td>\n",
       "    </tr>\n",
       "    <tr>\n",
       "      <th>1</th>\n",
       "      <td>2017-08-22</td>\n",
       "      <td>warren</td>\n",
       "      <td>47.99</td>\n",
       "      <td>287.94</td>\n",
       "      <td>1.75</td>\n",
       "    </tr>\n",
       "    <tr>\n",
       "      <th>2</th>\n",
       "      <td>2013-08-28</td>\n",
       "      <td>buena-vista</td>\n",
       "      <td>14.82</td>\n",
       "      <td>29.64</td>\n",
       "      <td>1.50</td>\n",
       "    </tr>\n",
       "    <tr>\n",
       "      <th>3</th>\n",
       "      <td>2013-03-26</td>\n",
       "      <td>carroll</td>\n",
       "      <td>22.72</td>\n",
       "      <td>22.72</td>\n",
       "      <td>1.00</td>\n",
       "    </tr>\n",
       "    <tr>\n",
       "      <th>4</th>\n",
       "      <td>2017-08-17</td>\n",
       "      <td>polk</td>\n",
       "      <td>17.25</td>\n",
       "      <td>17.25</td>\n",
       "      <td>0.50</td>\n",
       "    </tr>\n",
       "  </tbody>\n",
       "</table>\n",
       "</div>"
      ],
      "text/plain": [
       "        date       county  state_bottle_retail  sale_dollars  \\\n",
       "0 2013-02-26        scott                 8.99          8.99   \n",
       "1 2017-08-22       warren                47.99        287.94   \n",
       "2 2013-08-28  buena-vista                14.82         29.64   \n",
       "3 2013-03-26      carroll                22.72         22.72   \n",
       "4 2017-08-17         polk                17.25         17.25   \n",
       "\n",
       "   volume_sold_liters  \n",
       "0                0.38  \n",
       "1                1.75  \n",
       "2                1.50  \n",
       "3                1.00  \n",
       "4                0.50  "
      ]
     },
     "execution_count": 46,
     "metadata": {},
     "output_type": "execute_result"
    }
   ],
   "source": [
    "df.head()"
   ]
  },
  {
   "cell_type": "markdown",
   "id": "a0462025-74c0-4eca-8c6c-cbfa96756003",
   "metadata": {},
   "source": [
    "## III. Construir dados: derivar novos atributos que serão úteis. Por exemplo, derivar o IMC de alguém a partir da altura e peso."
   ]
  },
  {
   "cell_type": "code",
   "execution_count": 73,
   "id": "d1310330-da15-4bcb-aec9-6e0f4ec3880b",
   "metadata": {},
   "outputs": [],
   "source": [
    "county_group = df.groupby(by=[\"county\"]).sum()"
   ]
  },
  {
   "cell_type": "code",
   "execution_count": 75,
   "id": "aa00ab0f-5cd8-4a25-a2cd-83a3b3d34829",
   "metadata": {},
   "outputs": [
    {
     "data": {
      "text/html": [
       "<div>\n",
       "<style scoped>\n",
       "    .dataframe tbody tr th:only-of-type {\n",
       "        vertical-align: middle;\n",
       "    }\n",
       "\n",
       "    .dataframe tbody tr th {\n",
       "        vertical-align: top;\n",
       "    }\n",
       "\n",
       "    .dataframe thead th {\n",
       "        text-align: right;\n",
       "    }\n",
       "</style>\n",
       "<table border=\"1\" class=\"dataframe\">\n",
       "  <thead>\n",
       "    <tr style=\"text-align: right;\">\n",
       "      <th></th>\n",
       "      <th>state_bottle_retail</th>\n",
       "      <th>sale_dollars</th>\n",
       "      <th>volume_sold_liters</th>\n",
       "    </tr>\n",
       "    <tr>\n",
       "      <th>county</th>\n",
       "      <th></th>\n",
       "      <th></th>\n",
       "      <th></th>\n",
       "    </tr>\n",
       "  </thead>\n",
       "  <tbody>\n",
       "    <tr>\n",
       "      <th>polk</th>\n",
       "      <td>6.848168e+06</td>\n",
       "      <td>6.462676e+07</td>\n",
       "      <td>3.848694e+06</td>\n",
       "    </tr>\n",
       "    <tr>\n",
       "      <th>linn</th>\n",
       "      <td>2.973341e+06</td>\n",
       "      <td>2.564378e+07</td>\n",
       "      <td>1.683366e+06</td>\n",
       "    </tr>\n",
       "    <tr>\n",
       "      <th>scott</th>\n",
       "      <td>2.220852e+06</td>\n",
       "      <td>2.060560e+07</td>\n",
       "      <td>1.247357e+06</td>\n",
       "    </tr>\n",
       "    <tr>\n",
       "      <th>black-hawk</th>\n",
       "      <td>1.901177e+06</td>\n",
       "      <td>1.681988e+07</td>\n",
       "      <td>1.048071e+06</td>\n",
       "    </tr>\n",
       "    <tr>\n",
       "      <th>johnson</th>\n",
       "      <td>1.911741e+06</td>\n",
       "      <td>1.739600e+07</td>\n",
       "      <td>1.035691e+06</td>\n",
       "    </tr>\n",
       "  </tbody>\n",
       "</table>\n",
       "</div>"
      ],
      "text/plain": [
       "            state_bottle_retail  sale_dollars  volume_sold_liters\n",
       "county                                                           \n",
       "polk               6.848168e+06  6.462676e+07        3.848694e+06\n",
       "linn               2.973341e+06  2.564378e+07        1.683366e+06\n",
       "scott              2.220852e+06  2.060560e+07        1.247357e+06\n",
       "black-hawk         1.901177e+06  1.681988e+07        1.048071e+06\n",
       "johnson            1.911741e+06  1.739600e+07        1.035691e+06"
      ]
     },
     "execution_count": 75,
     "metadata": {},
     "output_type": "execute_result"
    }
   ],
   "source": [
    "county_group.nlargest(5, ['volume_sold_liters'])"
   ]
  },
  {
   "cell_type": "markdown",
   "id": "3526a2ce-3cae-490b-a0a8-5bd54f6a51c6",
   "metadata": {},
   "source": [
    "## IV. Integrar dados: criar novos conjuntos de dados combinando dados de várias fontes."
   ]
  },
  {
   "cell_type": "code",
   "execution_count": 76,
   "id": "07c751ea-d97c-41a0-b511-21862a387318",
   "metadata": {},
   "outputs": [],
   "source": [
    "pop_df = pd.read_csv(\"../data/raw/pop_cty_iowa.csv\",usecols=['STNAME','CTYNAME','POPESTIMATE2012','POPESTIMATE2013','POPESTIMATE2014',\n",
    "                                                                          'POPESTIMATE2015','POPESTIMATE2016','POPESTIMATE2017'],dtype={\n",
    "    'STNAME': str,\n",
    "    'POPESTIMATE2012':str,\n",
    "    'POPESTIMATE2013': str,\n",
    "    'POPESTIMATE2014': str,\n",
    "    'POPESTIMATE2015': str,\n",
    "    'POPESTIMATE2016': str,\n",
    "    'POPESTIMATE2017': str\n",
    "})"
   ]
  },
  {
   "cell_type": "code",
   "execution_count": 78,
   "id": "78bde967-8c90-462f-a5a0-9e602060aa37",
   "metadata": {},
   "outputs": [],
   "source": [
    "pop_df['CTYNAME'] = pop_df['CTYNAME'].replace({' County':''}, regex = True).str.lower()"
   ]
  },
  {
   "cell_type": "code",
   "execution_count": 80,
   "id": "f3396851-acdb-414e-ad54-f3b4d84d0a9d",
   "metadata": {},
   "outputs": [],
   "source": [
    "pop_df = pop_df[pop_df['STNAME']==\"Iowa\"]"
   ]
  },
  {
   "cell_type": "code",
   "execution_count": 81,
   "id": "903c721b-4ed9-4928-a0ff-d72913974095",
   "metadata": {},
   "outputs": [
    {
     "data": {
      "text/html": [
       "<div>\n",
       "<style scoped>\n",
       "    .dataframe tbody tr th:only-of-type {\n",
       "        vertical-align: middle;\n",
       "    }\n",
       "\n",
       "    .dataframe tbody tr th {\n",
       "        vertical-align: top;\n",
       "    }\n",
       "\n",
       "    .dataframe thead th {\n",
       "        text-align: right;\n",
       "    }\n",
       "</style>\n",
       "<table border=\"1\" class=\"dataframe\">\n",
       "  <thead>\n",
       "    <tr style=\"text-align: right;\">\n",
       "      <th></th>\n",
       "      <th>STNAME</th>\n",
       "      <th>CTYNAME</th>\n",
       "      <th>POPESTIMATE2012</th>\n",
       "      <th>POPESTIMATE2013</th>\n",
       "      <th>POPESTIMATE2014</th>\n",
       "      <th>POPESTIMATE2015</th>\n",
       "      <th>POPESTIMATE2016</th>\n",
       "      <th>POPESTIMATE2017</th>\n",
       "    </tr>\n",
       "  </thead>\n",
       "  <tbody>\n",
       "    <tr>\n",
       "      <th>804</th>\n",
       "      <td>Iowa</td>\n",
       "      <td>iowa</td>\n",
       "      <td>3076190</td>\n",
       "      <td>3092997</td>\n",
       "      <td>3109350</td>\n",
       "      <td>3120960</td>\n",
       "      <td>3131371</td>\n",
       "      <td>3141550</td>\n",
       "    </tr>\n",
       "    <tr>\n",
       "      <th>805</th>\n",
       "      <td>Iowa</td>\n",
       "      <td>adair</td>\n",
       "      <td>7468</td>\n",
       "      <td>7387</td>\n",
       "      <td>7368</td>\n",
       "      <td>7145</td>\n",
       "      <td>7005</td>\n",
       "      <td>7051</td>\n",
       "    </tr>\n",
       "    <tr>\n",
       "      <th>806</th>\n",
       "      <td>Iowa</td>\n",
       "      <td>adams</td>\n",
       "      <td>3910</td>\n",
       "      <td>3891</td>\n",
       "      <td>3877</td>\n",
       "      <td>3754</td>\n",
       "      <td>3692</td>\n",
       "      <td>3657</td>\n",
       "    </tr>\n",
       "    <tr>\n",
       "      <th>807</th>\n",
       "      <td>Iowa</td>\n",
       "      <td>allamakee</td>\n",
       "      <td>14149</td>\n",
       "      <td>14071</td>\n",
       "      <td>14062</td>\n",
       "      <td>13874</td>\n",
       "      <td>13851</td>\n",
       "      <td>13803</td>\n",
       "    </tr>\n",
       "    <tr>\n",
       "      <th>808</th>\n",
       "      <td>Iowa</td>\n",
       "      <td>appanoose</td>\n",
       "      <td>12707</td>\n",
       "      <td>12654</td>\n",
       "      <td>12671</td>\n",
       "      <td>12577</td>\n",
       "      <td>12505</td>\n",
       "      <td>12353</td>\n",
       "    </tr>\n",
       "  </tbody>\n",
       "</table>\n",
       "</div>"
      ],
      "text/plain": [
       "    STNAME    CTYNAME POPESTIMATE2012 POPESTIMATE2013 POPESTIMATE2014  \\\n",
       "804   Iowa       iowa         3076190         3092997         3109350   \n",
       "805   Iowa      adair            7468            7387            7368   \n",
       "806   Iowa      adams            3910            3891            3877   \n",
       "807   Iowa  allamakee           14149           14071           14062   \n",
       "808   Iowa  appanoose           12707           12654           12671   \n",
       "\n",
       "    POPESTIMATE2015 POPESTIMATE2016 POPESTIMATE2017  \n",
       "804         3120960         3131371         3141550  \n",
       "805            7145            7005            7051  \n",
       "806            3754            3692            3657  \n",
       "807           13874           13851           13803  \n",
       "808           12577           12505           12353  "
      ]
     },
     "execution_count": 81,
     "metadata": {},
     "output_type": "execute_result"
    }
   ],
   "source": [
    "pop_df.head()"
   ]
  },
  {
   "cell_type": "markdown",
   "id": "99b579c0-2d28-49db-ab51-c0ea3121e44b",
   "metadata": {},
   "source": [
    "## V.  Formatar dados: Formatar novamente os dados conforme as necessidades dos modelos."
   ]
  }
 ],
 "metadata": {
  "kernelspec": {
   "display_name": "Python 3",
   "language": "python",
   "name": "python3"
  },
  "language_info": {
   "codemirror_mode": {
    "name": "ipython",
    "version": 3
   },
   "file_extension": ".py",
   "mimetype": "text/x-python",
   "name": "python",
   "nbconvert_exporter": "python",
   "pygments_lexer": "ipython3",
   "version": "3.8.8"
  }
 },
 "nbformat": 4,
 "nbformat_minor": 5
}
