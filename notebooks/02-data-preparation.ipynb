{
 "cells": [
  {
   "cell_type": "code",
   "execution_count": 37,
   "id": "b5857225-d669-4d1f-9fb2-442962ee9899",
   "metadata": {},
   "outputs": [],
   "source": [
    "import pandas as pd\n",
    "import numpy as np\n",
    "from slugify import slugify\n",
    "pd.set_option('display.max_columns', None)\n",
    "pd. set_option(\"display.max_rows\", None)\n",
    "from Levenshtein import distance"
   ]
  },
  {
   "cell_type": "markdown",
   "id": "7a50d6a5-6022-4915-b9f1-8db473cb8d5d",
   "metadata": {},
   "source": [
    "## I. Selecionar os dados: determinar quais conjuntos de dados serão utilizados e documentar os motivos de inclusão/exclusão."
   ]
  },
  {
   "cell_type": "code",
   "execution_count": 38,
   "id": "ff569682-69b6-40a7-ae09-1acfa0991062",
   "metadata": {},
   "outputs": [],
   "source": [
    "df = pd.read_csv(\"../data/raw/iowa_liquor_train_test_split_sample.csv\",dtype={\n",
    "    'Invoice/Item Number': str,\n",
    "    'Date':str,\n",
    "    'Store Number': float,\n",
    "    'Store Name': str,\n",
    "    'Address': str,\n",
    "    'City': str,\n",
    "    'Zip Code': str,\n",
    "    'Store Location': str,\n",
    "    'County Number': float,\n",
    "    'County': str,\n",
    "    'Category': float,\n",
    "    'Category Name': str,\n",
    "    'Vendor Number': float,\n",
    "    'Vendor Name': str,\n",
    "    'Item Number': float,\n",
    "    'Item Description': str,\n",
    "    'Pack': float,\n",
    "    'Bottle Volume (ml)': int,\n",
    "    'State Bottle Cost': str,\n",
    "    'State Bottle Retail': str,\n",
    "    'Bottles Sold': int,\n",
    "    'Sale (Dollars)': str,\n",
    "    'Volume Sold (Liters)': float,\n",
    "    'Volume Sold (Gallons)': float\n",
    "} ,encoding = 'utf-8')"
   ]
  },
  {
   "cell_type": "code",
   "execution_count": 39,
   "id": "46280403-78da-400b-9834-0659f0ecc5dd",
   "metadata": {},
   "outputs": [
    {
     "data": {
      "text/plain": [
       "Index(['unnamed_0', 'invoice_item_number', 'date', 'store_number',\n",
       "       'store_name', 'address', 'city', 'zip_code', 'store_location',\n",
       "       'county_number', 'county', 'category', 'category_name', 'vendor_number',\n",
       "       'vendor_name', 'item_number', 'item_description', 'pack',\n",
       "       'bottle_volume_ml', 'state_bottle_cost', 'state_bottle_retail',\n",
       "       'bottles_sold', 'sale_dollars', 'volume_sold_liters',\n",
       "       'volume_sold_gallons'],\n",
       "      dtype='object')"
      ]
     },
     "execution_count": 39,
     "metadata": {},
     "output_type": "execute_result"
    }
   ],
   "source": [
    "df.columns = [slugify(col, lowercase=True, separator='_') for col in df.columns]\n",
    "df.columns"
   ]
  },
  {
   "cell_type": "markdown",
   "id": "97b5a34d-6305-49a8-bcff-6d79798fe2f7",
   "metadata": {},
   "source": [
    "df.head(1)"
   ]
  },
  {
   "cell_type": "markdown",
   "id": "8f18e48f-a9d6-4c2a-950a-4cf759390ff0",
   "metadata": {},
   "source": [
    "### Remoção das colunas as quais não iremos utilizar\n",
    "#### Vamos deixar somente as colunas data, store_location, state_bottle_retail, salle_dollars, volume_sold_liters, pois vamos realizar regressão linear em dados numéricos"
   ]
  },
  {
   "cell_type": "code",
   "execution_count": 40,
   "id": "713a8acb-7798-4bfc-8c54-e8839395cf71",
   "metadata": {},
   "outputs": [],
   "source": [
    "df = df.drop(columns=['unnamed_0', 'invoice_item_number','store_number','store_name','address','zip_code','county_number','category','vendor_number','vendor_name','item_number','pack','bottle_volume_ml','state_bottle_cost','bottles_sold','volume_sold_gallons','city','category_name','item_description','county'])"
   ]
  },
  {
   "cell_type": "code",
   "execution_count": 41,
   "id": "767ebdf8-9f99-444c-9533-dd23f2d624af",
   "metadata": {},
   "outputs": [
    {
     "name": "stdout",
     "output_type": "stream",
     "text": [
      "<class 'pandas.core.frame.DataFrame'>\n",
      "RangeIndex: 2518216 entries, 0 to 2518215\n",
      "Data columns (total 5 columns):\n",
      " #   Column               Dtype  \n",
      "---  ------               -----  \n",
      " 0   date                 object \n",
      " 1   store_location       object \n",
      " 2   state_bottle_retail  object \n",
      " 3   sale_dollars         object \n",
      " 4   volume_sold_liters   float64\n",
      "dtypes: float64(1), object(4)\n",
      "memory usage: 96.1+ MB\n"
     ]
    }
   ],
   "source": [
    "df.info()"
   ]
  },
  {
   "cell_type": "code",
   "execution_count": 42,
   "id": "970e0b32-a4b4-466d-ba60-ce878ef75380",
   "metadata": {},
   "outputs": [
    {
     "data": {
      "text/html": [
       "<div>\n",
       "<style scoped>\n",
       "    .dataframe tbody tr th:only-of-type {\n",
       "        vertical-align: middle;\n",
       "    }\n",
       "\n",
       "    .dataframe tbody tr th {\n",
       "        vertical-align: top;\n",
       "    }\n",
       "\n",
       "    .dataframe thead th {\n",
       "        text-align: right;\n",
       "    }\n",
       "</style>\n",
       "<table border=\"1\" class=\"dataframe\">\n",
       "  <thead>\n",
       "    <tr style=\"text-align: right;\">\n",
       "      <th></th>\n",
       "      <th>date</th>\n",
       "      <th>store_location</th>\n",
       "      <th>state_bottle_retail</th>\n",
       "      <th>sale_dollars</th>\n",
       "      <th>volume_sold_liters</th>\n",
       "    </tr>\n",
       "  </thead>\n",
       "  <tbody>\n",
       "    <tr>\n",
       "      <th>0</th>\n",
       "      <td>02/26/2013</td>\n",
       "      <td>102 W MAYNE\\nBLUE GRASS 52726\\n(41.509114, -90...</td>\n",
       "      <td>$8.99</td>\n",
       "      <td>$8.99</td>\n",
       "      <td>0.38</td>\n",
       "    </tr>\n",
       "    <tr>\n",
       "      <th>1</th>\n",
       "      <td>08/22/2017</td>\n",
       "      <td>1500 North Jefferson\\nIndianola 50125\\n</td>\n",
       "      <td>$47.99</td>\n",
       "      <td>$287.94</td>\n",
       "      <td>1.75</td>\n",
       "    </tr>\n",
       "    <tr>\n",
       "      <th>2</th>\n",
       "      <td>08/28/2013</td>\n",
       "      <td>1250 N LAKE ST\\nSTORM LAKE 50588\\n(42.653594, ...</td>\n",
       "      <td>$14.82</td>\n",
       "      <td>$29.64</td>\n",
       "      <td>1.50</td>\n",
       "    </tr>\n",
       "    <tr>\n",
       "      <th>3</th>\n",
       "      <td>03/26/2013</td>\n",
       "      <td>316 MAIN ST\\nMANNING 51455\\n(41.908573, -95.06...</td>\n",
       "      <td>$22.72</td>\n",
       "      <td>$22.72</td>\n",
       "      <td>1.00</td>\n",
       "    </tr>\n",
       "    <tr>\n",
       "      <th>4</th>\n",
       "      <td>08/17/2017</td>\n",
       "      <td>218, 6th Ave #101\\nDes Moines 50309\\n(41.58568...</td>\n",
       "      <td>$17.25</td>\n",
       "      <td>$17.25</td>\n",
       "      <td>0.50</td>\n",
       "    </tr>\n",
       "  </tbody>\n",
       "</table>\n",
       "</div>"
      ],
      "text/plain": [
       "         date                                     store_location  \\\n",
       "0  02/26/2013  102 W MAYNE\\nBLUE GRASS 52726\\n(41.509114, -90...   \n",
       "1  08/22/2017            1500 North Jefferson\\nIndianola 50125\\n   \n",
       "2  08/28/2013  1250 N LAKE ST\\nSTORM LAKE 50588\\n(42.653594, ...   \n",
       "3  03/26/2013  316 MAIN ST\\nMANNING 51455\\n(41.908573, -95.06...   \n",
       "4  08/17/2017  218, 6th Ave #101\\nDes Moines 50309\\n(41.58568...   \n",
       "\n",
       "  state_bottle_retail sale_dollars  volume_sold_liters  \n",
       "0               $8.99        $8.99                0.38  \n",
       "1              $47.99      $287.94                1.75  \n",
       "2              $14.82       $29.64                1.50  \n",
       "3              $22.72       $22.72                1.00  \n",
       "4              $17.25       $17.25                0.50  "
      ]
     },
     "execution_count": 42,
     "metadata": {},
     "output_type": "execute_result"
    }
   ],
   "source": [
    "df.head()"
   ]
  },
  {
   "cell_type": "code",
   "execution_count": 43,
   "id": "c241c702-4027-4db0-88bf-b6a2c1afc0c2",
   "metadata": {},
   "outputs": [
    {
     "data": {
      "text/plain": [
       "(2518216, 5)"
      ]
     },
     "execution_count": 43,
     "metadata": {},
     "output_type": "execute_result"
    }
   ],
   "source": [
    "df.shape"
   ]
  },
  {
   "cell_type": "code",
   "execution_count": 44,
   "id": "53ad7123-f705-42d6-911c-d3ca27448a6e",
   "metadata": {},
   "outputs": [
    {
     "data": {
      "text/html": [
       "<div>\n",
       "<style scoped>\n",
       "    .dataframe tbody tr th:only-of-type {\n",
       "        vertical-align: middle;\n",
       "    }\n",
       "\n",
       "    .dataframe tbody tr th {\n",
       "        vertical-align: top;\n",
       "    }\n",
       "\n",
       "    .dataframe thead th {\n",
       "        text-align: right;\n",
       "    }\n",
       "</style>\n",
       "<table border=\"1\" class=\"dataframe\">\n",
       "  <thead>\n",
       "    <tr style=\"text-align: right;\">\n",
       "      <th></th>\n",
       "      <th>date</th>\n",
       "      <th>store_location</th>\n",
       "      <th>state_bottle_retail</th>\n",
       "      <th>sale_dollars</th>\n",
       "      <th>volume_sold_liters</th>\n",
       "    </tr>\n",
       "  </thead>\n",
       "  <tbody>\n",
       "  </tbody>\n",
       "</table>\n",
       "</div>"
      ],
      "text/plain": [
       "Empty DataFrame\n",
       "Columns: [date, store_location, state_bottle_retail, sale_dollars, volume_sold_liters]\n",
       "Index: []"
      ]
     },
     "execution_count": 44,
     "metadata": {},
     "output_type": "execute_result"
    }
   ],
   "source": [
    "df[df['date'].isna()]"
   ]
  },
  {
   "cell_type": "markdown",
   "id": "10a4097d-01b8-4960-bab2-7ade0f5fc576",
   "metadata": {},
   "source": [
    "#### Procurando por mais inconsistências"
   ]
  },
  {
   "cell_type": "code",
   "execution_count": 45,
   "id": "96e9b103-171b-4bce-92b2-2a742c6cb42e",
   "metadata": {},
   "outputs": [
    {
     "data": {
      "text/plain": [
       "(467, 5)"
      ]
     },
     "execution_count": 45,
     "metadata": {},
     "output_type": "execute_result"
    }
   ],
   "source": [
    "df[df['store_location'].isna()].shape"
   ]
  },
  {
   "cell_type": "markdown",
   "id": "ca5e6e96-339d-4d1c-b13c-04a208988292",
   "metadata": {},
   "source": [
    "## II. Limpar dados: Corrigir, imputar ou remover valores erroneamente inseridos nos conjuntos de dados."
   ]
  },
  {
   "cell_type": "code",
   "execution_count": 46,
   "id": "c94c66d1-14a9-4a2d-a945-b0d5591df767",
   "metadata": {},
   "outputs": [],
   "source": [
    "df = df.dropna()"
   ]
  },
  {
   "cell_type": "markdown",
   "id": "964216b8-e878-4dd1-9991-1c4ff326006c",
   "metadata": {},
   "source": [
    "#### Transformando a coluna data para formato date"
   ]
  },
  {
   "cell_type": "code",
   "execution_count": 47,
   "id": "fa31437b-63b7-421d-a37c-2b7caf489342",
   "metadata": {},
   "outputs": [],
   "source": [
    "df['date'] = pd.to_datetime(df['date'])"
   ]
  },
  {
   "cell_type": "markdown",
   "id": "ee965690-84bc-49c3-8253-65f9b8fef249",
   "metadata": {},
   "source": [
    "pd. set_option(\"display.max_rows\", None)#### Padronizando valores"
   ]
  },
  {
   "cell_type": "code",
   "execution_count": 48,
   "id": "96a8dbfa-e594-44e7-84ee-f338a8309068",
   "metadata": {},
   "outputs": [
    {
     "data": {
      "text/html": [
       "<div>\n",
       "<style scoped>\n",
       "    .dataframe tbody tr th:only-of-type {\n",
       "        vertical-align: middle;\n",
       "    }\n",
       "\n",
       "    .dataframe tbody tr th {\n",
       "        vertical-align: top;\n",
       "    }\n",
       "\n",
       "    .dataframe thead th {\n",
       "        text-align: right;\n",
       "    }\n",
       "</style>\n",
       "<table border=\"1\" class=\"dataframe\">\n",
       "  <thead>\n",
       "    <tr style=\"text-align: right;\">\n",
       "      <th></th>\n",
       "      <th>date</th>\n",
       "      <th>store_location</th>\n",
       "      <th>state_bottle_retail</th>\n",
       "      <th>sale_dollars</th>\n",
       "      <th>volume_sold_liters</th>\n",
       "    </tr>\n",
       "  </thead>\n",
       "  <tbody>\n",
       "    <tr>\n",
       "      <th>0</th>\n",
       "      <td>2013-02-26</td>\n",
       "      <td>102 W MAYNE\\nBLUE GRASS 52726\\n(41.509114, -90...</td>\n",
       "      <td>$8.99</td>\n",
       "      <td>$8.99</td>\n",
       "      <td>0.38</td>\n",
       "    </tr>\n",
       "    <tr>\n",
       "      <th>1</th>\n",
       "      <td>2017-08-22</td>\n",
       "      <td>1500 North Jefferson\\nIndianola 50125\\n</td>\n",
       "      <td>$47.99</td>\n",
       "      <td>$287.94</td>\n",
       "      <td>1.75</td>\n",
       "    </tr>\n",
       "    <tr>\n",
       "      <th>2</th>\n",
       "      <td>2013-08-28</td>\n",
       "      <td>1250 N LAKE ST\\nSTORM LAKE 50588\\n(42.653594, ...</td>\n",
       "      <td>$14.82</td>\n",
       "      <td>$29.64</td>\n",
       "      <td>1.50</td>\n",
       "    </tr>\n",
       "    <tr>\n",
       "      <th>3</th>\n",
       "      <td>2013-03-26</td>\n",
       "      <td>316 MAIN ST\\nMANNING 51455\\n(41.908573, -95.06...</td>\n",
       "      <td>$22.72</td>\n",
       "      <td>$22.72</td>\n",
       "      <td>1.00</td>\n",
       "    </tr>\n",
       "    <tr>\n",
       "      <th>4</th>\n",
       "      <td>2017-08-17</td>\n",
       "      <td>218, 6th Ave #101\\nDes Moines 50309\\n(41.58568...</td>\n",
       "      <td>$17.25</td>\n",
       "      <td>$17.25</td>\n",
       "      <td>0.50</td>\n",
       "    </tr>\n",
       "  </tbody>\n",
       "</table>\n",
       "</div>"
      ],
      "text/plain": [
       "        date                                     store_location  \\\n",
       "0 2013-02-26  102 W MAYNE\\nBLUE GRASS 52726\\n(41.509114, -90...   \n",
       "1 2017-08-22            1500 North Jefferson\\nIndianola 50125\\n   \n",
       "2 2013-08-28  1250 N LAKE ST\\nSTORM LAKE 50588\\n(42.653594, ...   \n",
       "3 2013-03-26  316 MAIN ST\\nMANNING 51455\\n(41.908573, -95.06...   \n",
       "4 2017-08-17  218, 6th Ave #101\\nDes Moines 50309\\n(41.58568...   \n",
       "\n",
       "  state_bottle_retail sale_dollars  volume_sold_liters  \n",
       "0               $8.99        $8.99                0.38  \n",
       "1              $47.99      $287.94                1.75  \n",
       "2              $14.82       $29.64                1.50  \n",
       "3              $22.72       $22.72                1.00  \n",
       "4              $17.25       $17.25                0.50  "
      ]
     },
     "execution_count": 48,
     "metadata": {},
     "output_type": "execute_result"
    }
   ],
   "source": [
    "df.head()"
   ]
  },
  {
   "cell_type": "markdown",
   "id": "ff715b8f-1052-48c8-8889-15998ef0eda2",
   "metadata": {},
   "source": [
    "#### Procurando por mais inconsistências"
   ]
  },
  {
   "cell_type": "markdown",
   "id": "73a54e86-e8c1-48dc-af75-004c2c49a56b",
   "metadata": {},
   "source": [
    "##### cidades e condados com nome parecido"
   ]
  },
  {
   "cell_type": "code",
   "execution_count": 49,
   "id": "cf8562f5-12f2-4788-94e3-07b0089a0123",
   "metadata": {},
   "outputs": [],
   "source": [
    "df['state_bottle_retail'] = df['state_bottle_retail'].replace({'\\$':''}, regex = True).astype(float)"
   ]
  },
  {
   "cell_type": "code",
   "execution_count": 50,
   "id": "a0f61d88-f3c2-419b-9f9d-846b4267ab1c",
   "metadata": {},
   "outputs": [],
   "source": [
    "df['sale_dollars'] = df['sale_dollars'].replace({'\\$':''}, regex = True).astype(float)"
   ]
  },
  {
   "cell_type": "code",
   "execution_count": 51,
   "id": "af605e19-89dc-477c-850f-b041d4cd608a",
   "metadata": {},
   "outputs": [],
   "source": [
    "df['volume_sold_liters'] = df['volume_sold_liters'].astype(float)"
   ]
  },
  {
   "cell_type": "code",
   "execution_count": 52,
   "id": "1d42c4f2-7063-47b5-bfc2-0fc0b8d299d3",
   "metadata": {},
   "outputs": [
    {
     "data": {
      "text/html": [
       "<div>\n",
       "<style scoped>\n",
       "    .dataframe tbody tr th:only-of-type {\n",
       "        vertical-align: middle;\n",
       "    }\n",
       "\n",
       "    .dataframe tbody tr th {\n",
       "        vertical-align: top;\n",
       "    }\n",
       "\n",
       "    .dataframe thead th {\n",
       "        text-align: right;\n",
       "    }\n",
       "</style>\n",
       "<table border=\"1\" class=\"dataframe\">\n",
       "  <thead>\n",
       "    <tr style=\"text-align: right;\">\n",
       "      <th></th>\n",
       "      <th>date</th>\n",
       "      <th>store_location</th>\n",
       "      <th>state_bottle_retail</th>\n",
       "      <th>sale_dollars</th>\n",
       "      <th>volume_sold_liters</th>\n",
       "    </tr>\n",
       "  </thead>\n",
       "  <tbody>\n",
       "    <tr>\n",
       "      <th>0</th>\n",
       "      <td>2013-02-26</td>\n",
       "      <td>102 W MAYNE\\nBLUE GRASS 52726\\n(41.509114, -90...</td>\n",
       "      <td>8.99</td>\n",
       "      <td>8.99</td>\n",
       "      <td>0.38</td>\n",
       "    </tr>\n",
       "    <tr>\n",
       "      <th>1</th>\n",
       "      <td>2017-08-22</td>\n",
       "      <td>1500 North Jefferson\\nIndianola 50125\\n</td>\n",
       "      <td>47.99</td>\n",
       "      <td>287.94</td>\n",
       "      <td>1.75</td>\n",
       "    </tr>\n",
       "    <tr>\n",
       "      <th>2</th>\n",
       "      <td>2013-08-28</td>\n",
       "      <td>1250 N LAKE ST\\nSTORM LAKE 50588\\n(42.653594, ...</td>\n",
       "      <td>14.82</td>\n",
       "      <td>29.64</td>\n",
       "      <td>1.50</td>\n",
       "    </tr>\n",
       "    <tr>\n",
       "      <th>3</th>\n",
       "      <td>2013-03-26</td>\n",
       "      <td>316 MAIN ST\\nMANNING 51455\\n(41.908573, -95.06...</td>\n",
       "      <td>22.72</td>\n",
       "      <td>22.72</td>\n",
       "      <td>1.00</td>\n",
       "    </tr>\n",
       "    <tr>\n",
       "      <th>4</th>\n",
       "      <td>2017-08-17</td>\n",
       "      <td>218, 6th Ave #101\\nDes Moines 50309\\n(41.58568...</td>\n",
       "      <td>17.25</td>\n",
       "      <td>17.25</td>\n",
       "      <td>0.50</td>\n",
       "    </tr>\n",
       "  </tbody>\n",
       "</table>\n",
       "</div>"
      ],
      "text/plain": [
       "        date                                     store_location  \\\n",
       "0 2013-02-26  102 W MAYNE\\nBLUE GRASS 52726\\n(41.509114, -90...   \n",
       "1 2017-08-22            1500 North Jefferson\\nIndianola 50125\\n   \n",
       "2 2013-08-28  1250 N LAKE ST\\nSTORM LAKE 50588\\n(42.653594, ...   \n",
       "3 2013-03-26  316 MAIN ST\\nMANNING 51455\\n(41.908573, -95.06...   \n",
       "4 2017-08-17  218, 6th Ave #101\\nDes Moines 50309\\n(41.58568...   \n",
       "\n",
       "   state_bottle_retail  sale_dollars  volume_sold_liters  \n",
       "0                 8.99          8.99                0.38  \n",
       "1                47.99        287.94                1.75  \n",
       "2                14.82         29.64                1.50  \n",
       "3                22.72         22.72                1.00  \n",
       "4                17.25         17.25                0.50  "
      ]
     },
     "execution_count": 52,
     "metadata": {},
     "output_type": "execute_result"
    }
   ],
   "source": [
    "df.head()"
   ]
  },
  {
   "cell_type": "markdown",
   "id": "a0462025-74c0-4eca-8c6c-cbfa96756003",
   "metadata": {},
   "source": [
    "## III. Construir dados: derivar novos atributos que serão úteis. Por exemplo, derivar o IMC de alguém a partir da altura e peso."
   ]
  },
  {
   "cell_type": "code",
   "execution_count": 53,
   "id": "d5331fe8-e769-448c-a0e6-123c9e83d95f",
   "metadata": {},
   "outputs": [],
   "source": [
    "df.store_location = df.store_location.str[-22:-1]"
   ]
  },
  {
   "cell_type": "code",
   "execution_count": 54,
   "id": "b3200be2-69a0-4f82-8de5-fadeb4d35560",
   "metadata": {},
   "outputs": [],
   "source": [
    "df.rename(columns={'store_location':'coordinates'}, inplace=True)"
   ]
  },
  {
   "cell_type": "code",
   "execution_count": 55,
   "id": "a6891dae-f737-44b3-9c70-cc390d29e223",
   "metadata": {},
   "outputs": [
    {
     "data": {
      "text/html": [
       "<div>\n",
       "<style scoped>\n",
       "    .dataframe tbody tr th:only-of-type {\n",
       "        vertical-align: middle;\n",
       "    }\n",
       "\n",
       "    .dataframe tbody tr th {\n",
       "        vertical-align: top;\n",
       "    }\n",
       "\n",
       "    .dataframe thead th {\n",
       "        text-align: right;\n",
       "    }\n",
       "</style>\n",
       "<table border=\"1\" class=\"dataframe\">\n",
       "  <thead>\n",
       "    <tr style=\"text-align: right;\">\n",
       "      <th></th>\n",
       "      <th>date</th>\n",
       "      <th>coordinates</th>\n",
       "      <th>state_bottle_retail</th>\n",
       "      <th>sale_dollars</th>\n",
       "      <th>volume_sold_liters</th>\n",
       "    </tr>\n",
       "  </thead>\n",
       "  <tbody>\n",
       "    <tr>\n",
       "      <th>0</th>\n",
       "      <td>2013-02-26</td>\n",
       "      <td>41.509114, -90.765769</td>\n",
       "      <td>8.99</td>\n",
       "      <td>8.99</td>\n",
       "      <td>0.38</td>\n",
       "    </tr>\n",
       "    <tr>\n",
       "      <th>1</th>\n",
       "      <td>2017-08-22</td>\n",
       "      <td>erson\\nIndianola 50125</td>\n",
       "      <td>47.99</td>\n",
       "      <td>287.94</td>\n",
       "      <td>1.75</td>\n",
       "    </tr>\n",
       "    <tr>\n",
       "      <th>2</th>\n",
       "      <td>2013-08-28</td>\n",
       "      <td>42.653594, -95.200758</td>\n",
       "      <td>14.82</td>\n",
       "      <td>29.64</td>\n",
       "      <td>1.50</td>\n",
       "    </tr>\n",
       "    <tr>\n",
       "      <th>3</th>\n",
       "      <td>2013-03-26</td>\n",
       "      <td>41.908573, -95.065122</td>\n",
       "      <td>22.72</td>\n",
       "      <td>22.72</td>\n",
       "      <td>1.00</td>\n",
       "    </tr>\n",
       "    <tr>\n",
       "      <th>4</th>\n",
       "      <td>2017-08-17</td>\n",
       "      <td>41.585684, -93.624533</td>\n",
       "      <td>17.25</td>\n",
       "      <td>17.25</td>\n",
       "      <td>0.50</td>\n",
       "    </tr>\n",
       "  </tbody>\n",
       "</table>\n",
       "</div>"
      ],
      "text/plain": [
       "        date             coordinates  state_bottle_retail  sale_dollars  \\\n",
       "0 2013-02-26   41.509114, -90.765769                 8.99          8.99   \n",
       "1 2017-08-22  erson\\nIndianola 50125                47.99        287.94   \n",
       "2 2013-08-28   42.653594, -95.200758                14.82         29.64   \n",
       "3 2013-03-26   41.908573, -95.065122                22.72         22.72   \n",
       "4 2017-08-17   41.585684, -93.624533                17.25         17.25   \n",
       "\n",
       "   volume_sold_liters  \n",
       "0                0.38  \n",
       "1                1.75  \n",
       "2                1.50  \n",
       "3                1.00  \n",
       "4                0.50  "
      ]
     },
     "execution_count": 55,
     "metadata": {},
     "output_type": "execute_result"
    }
   ],
   "source": [
    "df.head()"
   ]
  },
  {
   "cell_type": "code",
   "execution_count": null,
   "id": "fc765e3a-ad0a-4425-b3a6-65b4c2c5d53c",
   "metadata": {},
   "outputs": [],
   "source": [
    "# coordenadas geográficas"
   ]
  },
  {
   "cell_type": "markdown",
   "id": "3526a2ce-3cae-490b-a0a8-5bd54f6a51c6",
   "metadata": {},
   "source": [
    "## IV. Integrar dados: criar novos conjuntos de dados combinando dados de várias fontes."
   ]
  },
  {
   "cell_type": "markdown",
   "id": "99b579c0-2d28-49db-ab51-c0ea3121e44b",
   "metadata": {},
   "source": [
    "## V.  Formatar dados: Formatar novamente os dados conforme as necessidades dos modelos."
   ]
  }
 ],
 "metadata": {
  "kernelspec": {
   "display_name": "Python 3",
   "language": "python",
   "name": "python3"
  },
  "language_info": {
   "codemirror_mode": {
    "name": "ipython",
    "version": 3
   },
   "file_extension": ".py",
   "mimetype": "text/x-python",
   "name": "python",
   "nbconvert_exporter": "python",
   "pygments_lexer": "ipython3",
   "version": "3.8.8"
  }
 },
 "nbformat": 4,
 "nbformat_minor": 5
}
