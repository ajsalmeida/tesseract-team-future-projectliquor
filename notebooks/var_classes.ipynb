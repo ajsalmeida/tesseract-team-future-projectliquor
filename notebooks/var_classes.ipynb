{
 "cells": [
  {
   "cell_type": "markdown",
   "id": "6c1f6733",
   "metadata": {},
   "source": [
    "# Classificando as variáveis"
   ]
  },
  {
   "cell_type": "code",
   "execution_count": 2,
   "id": "388133f3",
   "metadata": {},
   "outputs": [],
   "source": [
    "import pandas as pd"
   ]
  },
  {
   "cell_type": "code",
   "execution_count": 3,
   "id": "1760850a",
   "metadata": {},
   "outputs": [
    {
     "data": {
      "text/html": [
       "<div>\n",
       "<style scoped>\n",
       "    .dataframe tbody tr th:only-of-type {\n",
       "        vertical-align: middle;\n",
       "    }\n",
       "\n",
       "    .dataframe tbody tr th {\n",
       "        vertical-align: top;\n",
       "    }\n",
       "\n",
       "    .dataframe thead th {\n",
       "        text-align: right;\n",
       "    }\n",
       "</style>\n",
       "<table border=\"1\" class=\"dataframe\">\n",
       "  <thead>\n",
       "    <tr style=\"text-align: right;\">\n",
       "      <th></th>\n",
       "      <th>Invoice/Item Number</th>\n",
       "      <th>Date</th>\n",
       "      <th>Store Number</th>\n",
       "      <th>Store Name</th>\n",
       "      <th>Address</th>\n",
       "      <th>City</th>\n",
       "      <th>Zip Code</th>\n",
       "      <th>Store Location</th>\n",
       "      <th>County Number</th>\n",
       "      <th>County</th>\n",
       "      <th>...</th>\n",
       "      <th>Item Number</th>\n",
       "      <th>Item Description</th>\n",
       "      <th>Pack</th>\n",
       "      <th>Bottle Volume (ml)</th>\n",
       "      <th>State Bottle Cost</th>\n",
       "      <th>State Bottle Retail</th>\n",
       "      <th>Bottles Sold</th>\n",
       "      <th>Sale (Dollars)</th>\n",
       "      <th>Volume Sold (Liters)</th>\n",
       "      <th>Volume Sold (Gallons)</th>\n",
       "    </tr>\n",
       "  </thead>\n",
       "  <tbody>\n",
       "    <tr>\n",
       "      <th>0</th>\n",
       "      <td>S29198800001</td>\n",
       "      <td>11/20/2015</td>\n",
       "      <td>2191</td>\n",
       "      <td>Keokuk Spirits</td>\n",
       "      <td>1013 MAIN</td>\n",
       "      <td>KEOKUK</td>\n",
       "      <td>52632</td>\n",
       "      <td>1013 MAIN\\nKEOKUK 52632\\n(40.39978, -91.387531)</td>\n",
       "      <td>56</td>\n",
       "      <td>Lee</td>\n",
       "      <td>...</td>\n",
       "      <td>297</td>\n",
       "      <td>Templeton Rye w/Flask</td>\n",
       "      <td>6</td>\n",
       "      <td>750</td>\n",
       "      <td>$18.09</td>\n",
       "      <td>$27.14</td>\n",
       "      <td>6</td>\n",
       "      <td>$162.84</td>\n",
       "      <td>4.5</td>\n",
       "      <td>1.19</td>\n",
       "    </tr>\n",
       "  </tbody>\n",
       "</table>\n",
       "<p>1 rows × 24 columns</p>\n",
       "</div>"
      ],
      "text/plain": [
       "  Invoice/Item Number        Date  Store Number      Store Name    Address  \\\n",
       "0        S29198800001  11/20/2015          2191  Keokuk Spirits  1013 MAIN   \n",
       "\n",
       "     City  Zip Code                                   Store Location  \\\n",
       "0  KEOKUK     52632  1013 MAIN\\nKEOKUK 52632\\n(40.39978, -91.387531)   \n",
       "\n",
       "   County Number County  ...  Item Number       Item Description  Pack  \\\n",
       "0             56    Lee  ...          297  Templeton Rye w/Flask     6   \n",
       "\n",
       "  Bottle Volume (ml)  State Bottle Cost State Bottle Retail  Bottles Sold  \\\n",
       "0                750             $18.09              $27.14             6   \n",
       "\n",
       "   Sale (Dollars) Volume Sold (Liters) Volume Sold (Gallons)  \n",
       "0         $162.84                  4.5                  1.19  \n",
       "\n",
       "[1 rows x 24 columns]"
      ]
     },
     "execution_count": 3,
     "metadata": {},
     "output_type": "execute_result"
    }
   ],
   "source": [
    "df_firstn = pd.read_csv(\"../data/raw/Iowa_Liquor_Sales.csv\", nrows=1)\n",
    "df_firstn"
   ]
  },
  {
   "cell_type": "markdown",
   "id": "c113f447",
   "metadata": {},
   "source": [
    "## Quantitativas "
   ]
  },
  {
   "cell_type": "markdown",
   "id": "9eb8793b",
   "metadata": {},
   "source": [
    "### Contínuas\n",
    "- Bottle Volume(ml)\n",
    "- Volume Sold(Liters)\n",
    "- Volume Sold(Gallons)\n",
    "- State Bottle Cost\n",
    "- State Bottle Retail\n",
    "- Sale"
   ]
  },
  {
   "cell_type": "markdown",
   "id": "b727761a",
   "metadata": {},
   "source": [
    "### Discretas\n",
    "- Pack\n",
    "- Bottles Sold"
   ]
  },
  {
   "cell_type": "markdown",
   "id": "db2d9188",
   "metadata": {},
   "source": [
    "## Qualitativas"
   ]
  },
  {
   "cell_type": "markdown",
   "id": "c76861d6",
   "metadata": {},
   "source": [
    "### Nominais\n",
    "- Store Name\n",
    "- Address\n",
    "- City\n",
    "- Store Location\n",
    "- County Number\n",
    "- County\n",
    "- Item Description"
   ]
  },
  {
   "cell_type": "markdown",
   "id": "6a3f7dcd",
   "metadata": {},
   "source": [
    "### Ordinais\n",
    "- Date\n",
    "- Store Number\n",
    "- Zip Code\n",
    "- Item Number"
   ]
  }
 ],
 "metadata": {
  "kernelspec": {
   "display_name": "Python 3",
   "language": "python",
   "name": "python3"
  },
  "language_info": {
   "codemirror_mode": {
    "name": "ipython",
    "version": 3
   },
   "file_extension": ".py",
   "mimetype": "text/x-python",
   "name": "python",
   "nbconvert_exporter": "python",
   "pygments_lexer": "ipython3",
   "version": "3.8.8"
  }
 },
 "nbformat": 4,
 "nbformat_minor": 5
}
